{
 "cells": [
  {
   "cell_type": "markdown",
   "metadata": {},
   "source": [
    "# Recommendations with IBM\n",
    "\n",
    "In this notebook, we will be putting our recommendation skills to use on real data from the IBM Watson Studio platform. \n",
    "\n",
    "\n",
    "## Table of Contents\n",
    "\n",
    "I. [Exploratory Data Analysis](#Exploratory-Data-Analysis)<br>\n",
    "II. [Rank Based Recommendations](#Rank)<br>\n",
    "III. [User-User Based Collaborative Filtering](#User-User)<br>\n",
    "IV. [Content Based Recommendations (EXTRA - NOT REQUIRED)](#Content-Recs)<br>\n",
    "V. [Matrix Factorization](#Matrix-Fact)<br>\n",
    "VI. [Extras & Concluding](#conclusions)\n"
   ]
  },
  {
   "cell_type": "code",
   "execution_count": 1,
   "metadata": {},
   "outputs": [
    {
     "data": {
      "text/html": "        <script type=\"text/javascript\">\n        window.PlotlyConfig = {MathJaxConfig: 'local'};\n        if (window.MathJax) {MathJax.Hub.Config({SVG: {font: \"STIX-Web\"}});}\n        if (typeof require !== 'undefined') {\n        require.undef(\"plotly\");\n        requirejs.config({\n            paths: {\n                'plotly': ['https://cdn.plot.ly/plotly-latest.min']\n            }\n        });\n        require(['plotly'], function(Plotly) {\n            window._Plotly = Plotly;\n        });\n        }\n        </script>\n        "
     },
     "metadata": {},
     "output_type": "display_data"
    },
    {
     "data": {
      "text/html": "<div>\n<style scoped>\n    .dataframe tbody tr th:only-of-type {\n        vertical-align: middle;\n    }\n\n    .dataframe tbody tr th {\n        vertical-align: top;\n    }\n\n    .dataframe thead th {\n        text-align: right;\n    }\n</style>\n<table border=\"1\" class=\"dataframe\">\n  <thead>\n    <tr style=\"text-align: right;\">\n      <th></th>\n      <th>article_id</th>\n      <th>title</th>\n      <th>email</th>\n    </tr>\n  </thead>\n  <tbody>\n    <tr>\n      <th>0</th>\n      <td>1430.0</td>\n      <td>using pixiedust for fast, flexible, and easier...</td>\n      <td>ef5f11f77ba020cd36e1105a00ab868bbdbf7fe7</td>\n    </tr>\n    <tr>\n      <th>1</th>\n      <td>1314.0</td>\n      <td>healthcare python streaming application demo</td>\n      <td>083cbdfa93c8444beaa4c5f5e0f5f9198e4f9e0b</td>\n    </tr>\n    <tr>\n      <th>2</th>\n      <td>1429.0</td>\n      <td>use deep learning for image classification</td>\n      <td>b96a4f2e92d8572034b1e9b28f9ac673765cd074</td>\n    </tr>\n    <tr>\n      <th>3</th>\n      <td>1338.0</td>\n      <td>ml optimization using cognitive assistant</td>\n      <td>06485706b34a5c9bf2a0ecdac41daf7e7654ceb7</td>\n    </tr>\n    <tr>\n      <th>4</th>\n      <td>1276.0</td>\n      <td>deploy your python model as a restful api</td>\n      <td>f01220c46fc92c6e6b161b1849de11faacd7ccb2</td>\n    </tr>\n  </tbody>\n</table>\n</div>",
      "text/plain": "   article_id                                              title  \\\n0      1430.0  using pixiedust for fast, flexible, and easier...   \n1      1314.0       healthcare python streaming application demo   \n2      1429.0         use deep learning for image classification   \n3      1338.0          ml optimization using cognitive assistant   \n4      1276.0          deploy your python model as a restful api   \n\n                                      email  \n0  ef5f11f77ba020cd36e1105a00ab868bbdbf7fe7  \n1  083cbdfa93c8444beaa4c5f5e0f5f9198e4f9e0b  \n2  b96a4f2e92d8572034b1e9b28f9ac673765cd074  \n3  06485706b34a5c9bf2a0ecdac41daf7e7654ceb7  \n4  f01220c46fc92c6e6b161b1849de11faacd7ccb2  "
     },
     "execution_count": 1,
     "metadata": {},
     "output_type": "execute_result"
    }
   ],
   "source": [
    "# import libs\n",
    "\n",
    "import plotly\n",
    "# import plotly.express as px\n",
    "import plotly.graph_objs as go\n",
    "import plotly.offline as py\n",
    "py.init_notebook_mode(connected=True)\n",
    "\n",
    "import pandas as pd\n",
    "import numpy as np\n",
    "import matplotlib.pyplot as plt\n",
    "import project_tests as t\n",
    "import pickle\n",
    "\n",
    "%matplotlib inline\n",
    "\n",
    "df = pd.read_csv('data/user-item-interactions.csv')\n",
    "df_content = pd.read_csv('data/articles_community.csv')\n",
    "del df['Unnamed: 0']\n",
    "del df_content['Unnamed: 0']\n",
    "\n",
    "# Show df to get an idea of the data\n",
    "df.head()"
   ]
  },
  {
   "cell_type": "code",
   "execution_count": 2,
   "metadata": {},
   "outputs": [
    {
     "data": {
      "text/html": "<div>\n<style scoped>\n    .dataframe tbody tr th:only-of-type {\n        vertical-align: middle;\n    }\n\n    .dataframe tbody tr th {\n        vertical-align: top;\n    }\n\n    .dataframe thead th {\n        text-align: right;\n    }\n</style>\n<table border=\"1\" class=\"dataframe\">\n  <thead>\n    <tr style=\"text-align: right;\">\n      <th></th>\n      <th>doc_body</th>\n      <th>doc_description</th>\n      <th>doc_full_name</th>\n      <th>doc_status</th>\n      <th>article_id</th>\n    </tr>\n  </thead>\n  <tbody>\n    <tr>\n      <th>0</th>\n      <td>Skip navigation Sign in SearchLoading...\\r\\n\\r...</td>\n      <td>Detect bad readings in real time using Python ...</td>\n      <td>Detect Malfunctioning IoT Sensors with Streami...</td>\n      <td>Live</td>\n      <td>0</td>\n    </tr>\n    <tr>\n      <th>1</th>\n      <td>No Free Hunch Navigation * kaggle.com\\r\\n\\r\\n ...</td>\n      <td>See the forest, see the trees. Here lies the c...</td>\n      <td>Communicating data science: A guide to present...</td>\n      <td>Live</td>\n      <td>1</td>\n    </tr>\n    <tr>\n      <th>2</th>\n      <td>☰ * Login\\r\\n * Sign Up\\r\\n\\r\\n * Learning Pat...</td>\n      <td>Here’s this week’s news in Data Science and Bi...</td>\n      <td>This Week in Data Science (April 18, 2017)</td>\n      <td>Live</td>\n      <td>2</td>\n    </tr>\n    <tr>\n      <th>3</th>\n      <td>DATALAYER: HIGH THROUGHPUT, LOW LATENCY AT SCA...</td>\n      <td>Learn how distributed DBs solve the problem of...</td>\n      <td>DataLayer Conference: Boost the performance of...</td>\n      <td>Live</td>\n      <td>3</td>\n    </tr>\n    <tr>\n      <th>4</th>\n      <td>Skip navigation Sign in SearchLoading...\\r\\n\\r...</td>\n      <td>This video demonstrates the power of IBM DataS...</td>\n      <td>Analyze NY Restaurant data using Spark in DSX</td>\n      <td>Live</td>\n      <td>4</td>\n    </tr>\n  </tbody>\n</table>\n</div>",
      "text/plain": "                                            doc_body  \\\n0  Skip navigation Sign in SearchLoading...\\r\\n\\r...   \n1  No Free Hunch Navigation * kaggle.com\\r\\n\\r\\n ...   \n2  ☰ * Login\\r\\n * Sign Up\\r\\n\\r\\n * Learning Pat...   \n3  DATALAYER: HIGH THROUGHPUT, LOW LATENCY AT SCA...   \n4  Skip navigation Sign in SearchLoading...\\r\\n\\r...   \n\n                                     doc_description  \\\n0  Detect bad readings in real time using Python ...   \n1  See the forest, see the trees. Here lies the c...   \n2  Here’s this week’s news in Data Science and Bi...   \n3  Learn how distributed DBs solve the problem of...   \n4  This video demonstrates the power of IBM DataS...   \n\n                                       doc_full_name doc_status  article_id  \n0  Detect Malfunctioning IoT Sensors with Streami...       Live           0  \n1  Communicating data science: A guide to present...       Live           1  \n2         This Week in Data Science (April 18, 2017)       Live           2  \n3  DataLayer Conference: Boost the performance of...       Live           3  \n4      Analyze NY Restaurant data using Spark in DSX       Live           4  "
     },
     "execution_count": 2,
     "metadata": {},
     "output_type": "execute_result"
    }
   ],
   "source": [
    "# Show df_content to get an idea of the data\n",
    "df_content.head()"
   ]
  },
  {
   "cell_type": "code",
   "execution_count": 3,
   "metadata": {},
   "outputs": [
    {
     "data": {
      "text/plain": "'0.22.1'"
     },
     "execution_count": 3,
     "metadata": {},
     "output_type": "execute_result"
    }
   ],
   "source": [
    "import sklearn\n",
    "sklearn.__version__"
   ]
  },
  {
   "cell_type": "markdown",
   "metadata": {},
   "source": [
    "### <a class=\"anchor\" id=\"Exploratory-Data-Analysis\">Part I : Exploratory Data Analysis</a>\n",
    "\n",
    "`1.` What is the distribution of how many articles a user interacts with in the dataset?  Provide a visual and descriptive statistics to assist with giving a look at the number of times each user interacts with an article.  "
   ]
  },
  {
   "cell_type": "code",
   "execution_count": 4,
   "metadata": {},
   "outputs": [
    {
     "data": {
      "text/html": "<div>\n<style scoped>\n    .dataframe tbody tr th:only-of-type {\n        vertical-align: middle;\n    }\n\n    .dataframe tbody tr th {\n        vertical-align: top;\n    }\n\n    .dataframe thead th {\n        text-align: right;\n    }\n</style>\n<table border=\"1\" class=\"dataframe\">\n  <thead>\n    <tr style=\"text-align: right;\">\n      <th></th>\n      <th>email</th>\n      <th>num_interactions</th>\n    </tr>\n  </thead>\n  <tbody>\n    <tr>\n      <th>0</th>\n      <td>0000b6387a0366322d7fbfc6434af145adf7fed1</td>\n      <td>13</td>\n    </tr>\n    <tr>\n      <th>1</th>\n      <td>001055fc0bb67f71e8fa17002342b256a30254cd</td>\n      <td>4</td>\n    </tr>\n    <tr>\n      <th>2</th>\n      <td>00148e4911c7e04eeff8def7bbbdaf1c59c2c621</td>\n      <td>3</td>\n    </tr>\n    <tr>\n      <th>3</th>\n      <td>001a852ecbd6cc12ab77a785efa137b2646505fe</td>\n      <td>6</td>\n    </tr>\n    <tr>\n      <th>4</th>\n      <td>001fc95b90da5c3cb12c501d201a915e4f093290</td>\n      <td>2</td>\n    </tr>\n  </tbody>\n</table>\n</div>",
      "text/plain": "                                      email  num_interactions\n0  0000b6387a0366322d7fbfc6434af145adf7fed1                13\n1  001055fc0bb67f71e8fa17002342b256a30254cd                 4\n2  00148e4911c7e04eeff8def7bbbdaf1c59c2c621                 3\n3  001a852ecbd6cc12ab77a785efa137b2646505fe                 6\n4  001fc95b90da5c3cb12c501d201a915e4f093290                 2"
     },
     "execution_count": 4,
     "metadata": {},
     "output_type": "execute_result"
    }
   ],
   "source": [
    "# get the count of article interactions by email address\n",
    "\n",
    "email_interactions = df.groupby('email').size().reset_index()\n",
    "email_interactions.columns = ['email', 'num_interactions']\n",
    "email_interactions.head()"
   ]
  },
  {
   "cell_type": "code",
   "execution_count": 5,
   "metadata": {},
   "outputs": [
    {
     "data": {
      "application/vnd.plotly.v1+json": {
       "config": {
        "linkText": "Export to plot.ly",
        "plotlyServerURL": "https://plot.ly",
        "showLink": false
       },
       "data": [
        {
         "histnorm": "probability",
         "type": "histogram",
         "x": [
          13,
          4,
          3,
          6,
          2,
          2,
          3,
          10,
          1,
          13,
          1,
          4,
          3,
          4,
          3,
          11,
          3,
          1,
          2,
          4,
          9,
          1,
          35,
          11,
          15,
          3,
          7,
          2,
          1,
          11,
          101,
          20,
          2,
          2,
          10,
          4,
          3,
          1,
          1,
          14,
          40,
          3,
          13,
          7,
          4,
          11,
          1,
          9,
          3,
          5,
          1,
          10,
          2,
          3,
          8,
          83,
          18,
          6,
          3,
          5,
          2,
          1,
          6,
          1,
          1,
          1,
          3,
          1,
          1,
          5,
          11,
          3,
          8,
          3,
          6,
          2,
          5,
          3,
          9,
          1,
          6,
          40,
          26,
          2,
          1,
          1,
          2,
          24,
          3,
          8,
          2,
          1,
          2,
          25,
          1,
          3,
          12,
          1,
          3,
          6,
          1,
          6,
          4,
          1,
          4,
          3,
          9,
          35,
          7,
          6,
          4,
          1,
          2,
          33,
          3,
          29,
          4,
          7,
          1,
          9,
          4,
          1,
          9,
          12,
          5,
          4,
          1,
          1,
          19,
          5,
          2,
          3,
          3,
          45,
          2,
          2,
          12,
          1,
          16,
          1,
          5,
          1,
          2,
          1,
          2,
          8,
          5,
          4,
          26,
          26,
          2,
          1,
          2,
          1,
          15,
          3,
          14,
          3,
          4,
          49,
          4,
          3,
          13,
          3,
          1,
          1,
          3,
          24,
          1,
          4,
          1,
          5,
          5,
          1,
          14,
          11,
          3,
          2,
          26,
          7,
          18,
          2,
          3,
          3,
          1,
          1,
          41,
          1,
          2,
          6,
          1,
          9,
          29,
          11,
          1,
          17,
          10,
          12,
          12,
          1,
          1,
          2,
          3,
          6,
          1,
          1,
          1,
          1,
          12,
          7,
          1,
          10,
          48,
          9,
          1,
          2,
          3,
          1,
          4,
          1,
          1,
          5,
          1,
          3,
          1,
          1,
          1,
          1,
          5,
          1,
          5,
          1,
          1,
          17,
          3,
          1,
          1,
          12,
          4,
          2,
          1,
          20,
          11,
          2,
          4,
          3,
          13,
          5,
          20,
          9,
          14,
          29,
          3,
          6,
          39,
          2,
          3,
          1,
          8,
          8,
          5,
          4,
          6,
          13,
          3,
          6,
          7,
          1,
          2,
          6,
          1,
          66,
          1,
          1,
          16,
          1,
          1,
          6,
          2,
          2,
          1,
          3,
          2,
          102,
          4,
          8,
          6,
          6,
          41,
          23,
          7,
          2,
          4,
          17,
          2,
          8,
          4,
          5,
          1,
          3,
          1,
          9,
          1,
          79,
          33,
          1,
          1,
          1,
          2,
          72,
          2,
          5,
          1,
          14,
          2,
          3,
          6,
          5,
          2,
          1,
          1,
          1,
          1,
          15,
          1,
          5,
          1,
          25,
          1,
          5,
          24,
          2,
          31,
          1,
          1,
          16,
          4,
          8,
          1,
          1,
          15,
          17,
          3,
          1,
          2,
          1,
          10,
          1,
          1,
          1,
          5,
          8,
          1,
          4,
          64,
          3,
          1,
          4,
          2,
          7,
          10,
          4,
          4,
          4,
          48,
          41,
          14,
          4,
          2,
          91,
          17,
          19,
          4,
          1,
          1,
          4,
          1,
          6,
          1,
          2,
          62,
          1,
          4,
          3,
          1,
          4,
          1,
          24,
          2,
          2,
          14,
          1,
          2,
          6,
          32,
          1,
          5,
          9,
          75,
          4,
          7,
          104,
          6,
          14,
          15,
          3,
          2,
          5,
          1,
          25,
          6,
          1,
          1,
          3,
          2,
          2,
          1,
          30,
          2,
          2,
          7,
          2,
          2,
          6,
          2,
          3,
          3,
          36,
          1,
          1,
          31,
          66,
          3,
          32,
          1,
          1,
          1,
          3,
          18,
          14,
          1,
          11,
          4,
          1,
          3,
          12,
          4,
          2,
          1,
          8,
          1,
          1,
          1,
          84,
          1,
          79,
          11,
          1,
          22,
          19,
          20,
          1,
          2,
          2,
          3,
          1,
          1,
          1,
          1,
          4,
          3,
          10,
          1,
          11,
          2,
          2,
          9,
          2,
          18,
          1,
          1,
          2,
          11,
          1,
          3,
          9,
          1,
          10,
          2,
          1,
          7,
          18,
          46,
          1,
          1,
          6,
          37,
          1,
          2,
          1,
          2,
          17,
          5,
          1,
          4,
          3,
          11,
          28,
          11,
          11,
          11,
          6,
          1,
          2,
          1,
          1,
          8,
          1,
          2,
          11,
          2,
          2,
          1,
          1,
          4,
          147,
          1,
          1,
          1,
          6,
          24,
          1,
          8,
          23,
          38,
          1,
          5,
          1,
          14,
          1,
          1,
          1,
          89,
          1,
          53,
          1,
          1,
          1,
          7,
          1,
          1,
          1,
          2,
          6,
          1,
          5,
          1,
          1,
          1,
          3,
          1,
          2,
          1,
          38,
          4,
          1,
          5,
          1,
          2,
          1,
          2,
          5,
          6,
          23,
          13,
          5,
          2,
          6,
          10,
          10,
          1,
          1,
          4,
          2,
          1,
          7,
          4,
          2,
          5,
          2,
          2,
          1,
          8,
          1,
          4,
          1,
          2,
          5,
          1,
          1,
          2,
          1,
          2,
          13,
          1,
          2,
          11,
          1,
          33,
          10,
          21,
          1,
          58,
          4,
          11,
          1,
          1,
          22,
          3,
          14,
          3,
          22,
          1,
          1,
          1,
          2,
          7,
          2,
          30,
          21,
          1,
          4,
          4,
          1,
          7,
          3,
          4,
          12,
          3,
          4,
          2,
          2,
          17,
          8,
          1,
          1,
          18,
          7,
          2,
          48,
          5,
          1,
          5,
          2,
          3,
          1,
          2,
          32,
          3,
          23,
          1,
          1,
          16,
          1,
          13,
          1,
          26,
          1,
          1,
          1,
          7,
          2,
          3,
          4,
          3,
          9,
          6,
          17,
          1,
          25,
          4,
          19,
          9,
          3,
          5,
          1,
          2,
          13,
          67,
          1,
          8,
          1,
          1,
          10,
          47,
          1,
          5,
          2,
          1,
          4,
          2,
          2,
          2,
          4,
          1,
          4,
          1,
          19,
          5,
          1,
          5,
          15,
          17,
          4,
          43,
          6,
          14,
          1,
          59,
          2,
          1,
          3,
          1,
          1,
          1,
          18,
          7,
          26,
          8,
          5,
          1,
          7,
          17,
          1,
          3,
          3,
          1,
          11,
          4,
          1,
          1,
          5,
          1,
          20,
          13,
          10,
          34,
          1,
          1,
          6,
          21,
          45,
          3,
          2,
          8,
          1,
          3,
          1,
          9,
          38,
          19,
          1,
          4,
          12,
          16,
          2,
          1,
          1,
          9,
          1,
          4,
          2,
          1,
          1,
          5,
          24,
          2,
          1,
          1,
          1,
          2,
          1,
          2,
          7,
          13,
          8,
          3,
          12,
          19,
          2,
          2,
          4,
          38,
          1,
          3,
          1,
          27,
          1,
          2,
          1,
          1,
          31,
          3,
          5,
          1,
          3,
          1,
          6,
          1,
          8,
          29,
          34,
          1,
          11,
          22,
          1,
          1,
          7,
          12,
          1,
          1,
          1,
          76,
          10,
          1,
          4,
          8,
          1,
          1,
          16,
          54,
          10,
          145,
          11,
          6,
          3,
          3,
          4,
          15,
          3,
          2,
          35,
          3,
          5,
          11,
          2,
          1,
          1,
          2,
          1,
          7,
          148,
          40,
          7,
          1,
          8,
          3,
          3,
          6,
          1,
          1,
          1,
          1,
          1,
          4,
          1,
          2,
          7,
          1,
          7,
          8,
          2,
          7,
          1,
          8,
          7,
          2,
          1,
          8,
          1,
          2,
          5,
          1,
          3,
          2,
          4,
          1,
          1,
          10,
          1,
          2,
          3,
          10,
          1,
          50,
          1,
          2,
          10,
          4,
          3,
          14,
          4,
          7,
          1,
          6,
          3,
          25,
          1,
          21,
          1,
          364,
          5,
          3,
          1,
          51,
          1,
          2,
          1,
          2,
          2,
          4,
          3,
          21,
          11,
          8,
          1,
          15,
          11,
          33,
          1,
          2,
          1,
          1,
          10,
          8,
          1,
          1,
          6,
          14,
          2,
          5,
          1,
          2,
          2,
          34,
          1,
          82,
          5,
          29,
          4,
          5,
          1,
          2,
          1,
          3,
          1,
          9,
          15,
          26,
          96,
          1,
          5,
          6,
          6,
          15,
          27,
          7,
          2,
          1,
          3,
          4,
          4,
          22,
          7,
          2,
          1,
          4,
          27,
          1,
          3,
          1,
          2,
          6,
          10,
          2,
          170,
          2,
          1,
          64,
          15,
          5,
          8,
          2,
          4,
          10,
          1,
          1,
          10,
          60,
          6,
          11,
          1,
          5,
          2,
          7,
          17,
          2,
          1,
          4,
          2,
          42,
          12,
          4,
          2,
          1,
          1,
          11,
          1,
          3,
          1,
          2,
          2,
          1,
          12,
          7,
          1,
          5,
          1,
          1,
          3,
          1,
          11,
          2,
          1,
          1,
          25,
          12,
          1,
          6,
          3,
          19,
          6,
          2,
          1,
          8,
          5,
          1,
          11,
          1,
          8,
          6,
          14,
          1,
          7,
          1,
          1,
          5,
          50,
          4,
          1,
          6,
          7,
          3,
          2,
          4,
          9,
          1,
          7,
          2,
          16,
          5,
          2,
          1,
          3,
          1,
          1,
          1,
          2,
          13,
          1,
          103,
          1,
          6,
          1,
          5,
          4,
          6,
          1,
          2,
          4,
          2,
          31,
          3,
          50,
          28,
          2,
          5,
          3,
          2,
          4,
          27,
          1,
          2,
          4,
          3,
          4,
          4,
          2,
          3,
          2,
          3,
          2,
          22,
          30,
          2,
          5,
          5,
          18,
          2,
          2,
          9,
          78,
          13,
          9,
          5,
          5,
          4,
          1,
          3,
          1,
          4,
          3,
          1,
          3,
          6,
          34,
          5,
          3,
          25,
          3,
          1,
          1,
          16,
          1,
          1,
          3,
          2,
          11,
          6,
          3,
          3,
          32,
          5,
          1,
          1,
          4,
          2,
          1,
          6,
          2,
          1,
          1,
          5,
          3,
          4,
          24,
          1,
          5,
          37,
          1,
          31,
          4,
          1,
          10,
          3,
          33,
          63,
          1,
          3,
          1,
          1,
          1,
          1,
          3,
          2,
          5,
          6,
          1,
          1,
          1,
          13,
          8,
          12,
          3,
          5,
          45,
          1,
          41,
          21,
          16,
          3,
          6,
          2,
          1,
          7,
          7,
          41,
          1,
          5,
          5,
          18,
          1,
          1,
          4,
          8,
          1,
          30,
          1,
          1,
          76,
          1,
          42,
          3,
          21,
          2,
          1,
          11,
          4,
          7,
          1,
          82,
          1,
          6,
          2,
          3,
          2,
          9,
          9,
          32,
          5,
          16,
          8,
          1,
          4,
          13,
          22,
          4,
          7,
          18,
          1,
          19,
          1,
          4,
          4,
          1,
          1,
          6,
          1,
          1,
          2,
          1,
          1,
          21,
          19,
          6,
          1,
          7,
          4,
          28,
          1,
          18,
          12,
          2,
          10,
          39,
          40,
          7,
          4,
          18,
          8,
          6,
          1,
          1,
          1,
          1,
          7,
          1,
          32,
          1,
          4,
          2,
          10,
          1,
          18,
          1,
          39,
          5,
          2,
          4,
          4,
          5,
          2,
          18,
          5,
          5,
          8,
          3,
          5,
          3,
          8,
          3,
          26,
          8,
          2,
          10,
          7,
          19,
          19,
          3,
          5,
          4,
          1,
          5,
          69,
          7,
          1,
          42,
          1,
          13,
          1,
          5,
          10,
          10,
          3,
          5,
          7,
          2,
          1,
          44,
          6,
          1,
          19,
          4,
          2,
          4,
          2,
          6,
          39,
          2,
          20,
          5,
          1,
          1,
          4,
          95,
          2,
          20,
          82,
          11,
          3,
          60,
          13,
          4,
          21,
          12,
          24,
          1,
          3,
          3,
          12,
          4,
          7,
          25,
          1,
          1,
          21,
          2,
          3,
          5,
          2,
          58,
          3,
          1,
          2,
          3,
          3,
          37,
          4,
          2,
          2,
          1,
          1,
          11,
          2,
          7,
          3,
          5,
          2,
          12,
          4,
          1,
          6,
          2,
          5,
          1,
          5,
          3,
          1,
          24,
          27,
          1,
          1,
          25,
          4,
          1,
          8,
          16,
          1,
          1,
          1,
          17,
          2,
          7,
          3,
          2,
          5,
          3,
          32,
          19,
          3,
          4,
          14,
          5,
          2,
          4,
          1,
          1,
          8,
          5,
          15,
          1,
          1,
          4,
          2,
          1,
          24,
          6,
          2,
          37,
          5,
          7,
          1,
          3,
          7,
          1,
          3,
          3,
          94,
          15,
          5,
          2,
          2,
          1,
          10,
          1,
          12,
          1,
          1,
          2,
          1,
          2,
          2,
          26,
          16,
          1,
          14,
          2,
          25,
          10,
          33,
          3,
          16,
          3,
          4,
          3,
          8,
          1,
          13,
          3,
          1,
          3,
          1,
          2,
          7,
          1,
          5,
          1,
          20,
          30,
          20,
          16,
          8,
          1,
          10,
          2,
          25,
          58,
          3,
          13,
          1,
          2,
          18,
          1,
          35,
          1,
          1,
          4,
          13,
          1,
          1,
          2,
          2,
          1,
          4,
          3,
          4,
          3,
          23,
          3,
          2,
          7,
          102,
          2,
          2,
          8,
          8,
          1,
          1,
          3,
          1,
          2,
          1,
          1,
          2,
          10,
          14,
          6,
          1,
          19,
          1,
          3,
          1,
          1,
          1,
          1,
          8,
          1,
          2,
          4,
          5,
          1,
          7,
          38,
          40,
          1,
          11,
          1,
          1,
          1,
          14,
          1,
          1,
          40,
          2,
          4,
          1,
          1,
          7,
          1,
          6,
          1,
          4,
          9,
          8,
          1,
          4,
          1,
          1,
          38,
          1,
          2,
          6,
          5,
          4,
          1,
          2,
          10,
          1,
          9,
          16,
          24,
          3,
          21,
          3,
          9,
          1,
          7,
          11,
          5,
          10,
          28,
          6,
          1,
          1,
          1,
          1,
          2,
          2,
          1,
          8,
          1,
          75,
          4,
          28,
          1,
          32,
          1,
          9,
          7,
          3,
          11,
          10,
          7,
          7,
          3,
          1,
          1,
          2,
          1,
          1,
          1,
          12,
          4,
          16,
          5,
          6,
          1,
          18,
          2,
          5,
          2,
          1,
          13,
          11,
          2,
          4,
          29,
          5,
          6,
          11,
          1,
          1,
          2,
          29,
          3,
          1,
          9,
          4,
          20,
          2,
          1,
          1,
          1,
          59,
          8,
          3,
          1,
          2,
          4,
          2,
          1,
          3,
          11,
          10,
          5,
          30,
          1,
          13,
          6,
          15,
          5,
          53,
          1,
          2,
          9,
          9,
          9,
          3,
          50,
          3,
          1,
          5,
          2,
          1,
          2,
          46,
          10,
          3,
          1,
          1,
          3,
          3,
          38,
          1,
          4,
          3,
          13,
          1,
          20,
          2,
          1,
          7,
          3,
          14,
          2,
          19,
          14,
          4,
          14,
          2,
          3,
          1,
          1,
          132,
          34,
          1,
          15,
          2,
          4,
          3,
          9,
          3,
          5,
          1,
          11,
          23,
          4,
          2,
          28,
          5,
          3,
          11,
          6,
          27,
          11,
          1,
          30,
          33,
          3,
          7,
          25,
          2,
          5,
          32,
          6,
          4,
          18,
          2,
          3,
          2,
          4,
          2,
          3,
          26,
          2,
          2,
          2,
          6,
          62,
          1,
          1,
          57,
          2,
          14,
          2,
          1,
          4,
          1,
          65,
          2,
          1,
          1,
          144,
          4,
          1,
          3,
          8,
          3,
          6,
          6,
          1,
          6,
          8,
          8,
          1,
          35,
          1,
          1,
          2,
          1,
          33,
          5,
          2,
          76,
          12,
          1,
          4,
          1,
          18,
          14,
          3,
          5,
          1,
          1,
          3,
          2,
          11,
          3,
          4,
          10,
          6,
          1,
          5,
          14,
          10,
          1,
          3,
          3,
          2,
          10,
          3,
          1,
          5,
          3,
          1,
          1,
          3,
          10,
          2,
          3,
          5,
          23,
          2,
          52,
          1,
          2,
          2,
          6,
          1,
          9,
          2,
          3,
          28,
          2,
          2,
          2,
          1,
          8,
          4,
          1,
          1,
          22,
          7,
          16,
          1,
          36,
          4,
          8,
          52,
          1,
          1,
          12,
          1,
          3,
          10,
          1,
          6,
          2,
          2,
          6,
          2,
          11,
          2,
          6,
          17,
          2,
          2,
          6,
          3,
          1,
          13,
          8,
          3,
          1,
          3,
          16,
          2,
          4,
          32,
          2,
          1,
          17,
          4,
          2,
          5,
          2,
          2,
          1,
          5,
          4,
          13,
          1,
          17,
          7,
          3,
          1,
          1,
          2,
          10,
          4,
          29,
          1,
          36,
          4,
          16,
          4,
          23,
          1,
          21,
          16,
          1,
          4,
          2,
          14,
          13,
          15,
          3,
          7,
          4,
          21,
          7,
          1,
          8,
          3,
          3,
          2,
          2,
          15,
          10,
          1,
          1,
          1,
          6,
          59,
          37,
          1,
          3,
          1,
          3,
          1,
          4,
          1,
          2,
          6,
          7,
          2,
          2,
          5,
          1,
          1,
          1,
          5,
          1,
          7,
          1,
          7,
          2,
          1,
          13,
          2,
          2,
          4,
          3,
          11,
          3,
          9,
          16,
          27,
          2,
          9,
          20,
          11,
          3,
          28,
          4,
          11,
          1,
          1,
          3,
          7,
          1,
          14,
          4,
          7,
          2,
          5,
          5,
          14,
          9,
          1,
          11,
          4,
          9,
          14,
          11,
          9,
          6,
          1,
          41,
          2,
          3,
          13,
          9,
          2,
          5,
          12,
          3,
          2,
          39,
          1,
          52,
          12,
          2,
          1,
          24,
          1,
          20,
          3,
          5,
          3,
          2,
          2,
          7,
          2,
          4,
          1,
          10,
          3,
          7,
          15,
          2,
          4,
          3,
          14,
          11,
          1,
          5,
          24,
          7,
          1,
          20,
          8,
          2,
          11,
          5,
          6,
          26,
          4,
          58,
          1,
          1,
          1,
          2,
          1,
          1,
          16,
          6,
          1,
          1,
          20,
          2,
          2,
          1,
          1,
          9,
          5,
          5,
          1,
          4,
          89,
          8,
          2,
          2,
          4,
          15,
          84,
          2,
          4,
          45,
          13,
          69,
          1,
          4,
          9,
          10,
          1,
          1,
          2,
          10,
          2,
          3,
          30,
          1,
          10,
          1,
          6,
          1,
          4,
          15,
          8,
          35,
          67,
          1,
          1,
          5,
          4,
          13,
          53,
          1,
          24,
          5,
          4,
          1,
          7,
          1,
          3,
          1,
          11,
          8,
          1,
          50,
          48,
          1,
          1,
          4,
          4,
          7,
          5,
          16,
          3,
          1,
          43,
          40,
          1,
          1,
          5,
          2,
          2,
          15,
          1,
          1,
          4,
          4,
          3,
          6,
          1,
          2,
          12,
          3,
          2,
          8,
          5,
          3,
          9,
          1,
          8,
          3,
          131,
          3,
          2,
          7,
          1,
          1,
          20,
          9,
          5,
          4,
          8,
          1,
          13,
          1,
          3,
          17,
          3,
          72,
          2,
          1,
          11,
          28,
          26,
          1,
          3,
          2,
          83,
          23,
          4,
          4,
          22,
          1,
          1,
          1,
          4,
          2,
          1,
          2,
          1,
          2,
          2,
          1,
          3,
          11,
          2,
          19,
          34,
          1,
          2,
          42,
          3,
          32,
          2,
          1,
          2,
          92,
          1,
          1,
          11,
          20,
          5,
          10,
          2,
          1,
          4,
          9,
          3,
          3,
          4,
          8,
          10,
          3,
          60,
          1,
          1,
          6,
          2,
          3,
          1,
          5,
          1,
          24,
          1,
          2,
          1,
          4,
          1,
          1,
          7,
          2,
          3,
          28,
          2,
          1,
          1,
          2,
          2,
          1,
          1,
          6,
          1,
          1,
          3,
          1,
          2,
          10,
          10,
          1,
          1,
          3,
          1,
          1,
          13,
          6,
          4,
          12,
          1,
          1,
          2,
          3,
          11,
          1,
          10,
          3,
          1,
          21,
          6,
          14,
          6,
          1,
          8,
          1,
          1,
          4,
          6,
          3,
          16,
          1,
          1,
          2,
          1,
          1,
          4,
          1,
          10,
          20,
          4,
          3,
          8,
          2,
          11,
          1,
          4,
          6,
          1,
          1,
          3,
          1,
          1,
          1,
          3,
          6,
          2,
          8,
          2,
          1,
          2,
          10,
          33,
          9,
          2,
          5,
          9,
          2,
          16,
          4,
          1,
          7,
          2,
          1,
          1,
          4,
          1,
          2,
          5,
          3,
          10,
          1,
          3,
          2,
          34,
          17,
          9,
          2,
          16,
          15,
          58,
          1,
          1,
          1,
          5,
          4,
          5,
          26,
          3,
          5,
          9,
          16,
          7,
          3,
          10,
          3,
          25,
          2,
          3,
          3,
          25,
          4,
          1,
          8,
          27,
          8,
          5,
          1,
          6,
          1,
          3,
          7,
          1,
          1,
          8,
          8,
          1,
          3,
          4,
          1,
          1,
          3,
          4,
          363,
          2,
          4,
          4,
          5,
          4,
          19,
          23,
          21,
          1,
          1,
          10,
          3,
          6,
          1,
          1,
          18,
          7,
          8,
          2,
          2,
          4,
          9,
          5,
          2,
          3,
          35,
          15,
          1,
          18,
          2,
          3,
          13,
          2,
          11,
          1,
          4,
          7,
          5,
          25,
          5,
          3,
          10,
          51,
          5,
          3,
          3,
          50,
          8,
          7,
          8,
          2,
          3,
          4,
          6,
          1,
          8,
          1,
          5,
          13,
          2,
          11,
          4,
          7,
          25,
          12,
          23,
          3,
          91,
          7,
          7,
          2,
          5,
          1,
          4,
          3,
          35,
          2,
          1,
          1,
          9,
          1,
          2,
          2,
          32,
          2,
          10,
          1,
          16,
          10,
          7,
          4,
          13,
          6,
          1,
          9,
          26,
          11,
          2,
          22,
          1,
          1,
          28,
          5,
          13,
          3,
          1,
          1,
          1,
          2,
          5,
          1,
          1,
          18,
          6,
          97,
          24,
          6,
          3,
          1,
          2,
          1,
          20,
          1,
          1,
          4,
          1,
          6,
          1,
          9,
          2,
          3,
          3,
          1,
          10,
          5,
          33,
          18,
          1,
          1,
          5,
          2,
          1,
          1,
          1,
          81,
          1,
          3,
          2,
          3,
          1,
          9,
          7,
          7,
          3,
          25,
          1,
          7,
          1,
          1,
          8,
          36,
          40,
          1,
          4,
          1,
          1,
          3,
          6,
          3,
          3,
          50,
          4,
          6,
          12,
          60,
          2,
          5,
          35,
          1,
          4,
          1,
          4,
          1,
          1,
          1,
          2,
          1,
          14,
          1,
          5,
          10,
          2,
          6,
          9,
          4,
          2,
          1,
          17,
          1,
          4,
          5,
          8,
          2,
          5,
          2,
          1,
          1,
          6,
          1,
          8,
          6,
          51,
          10,
          2,
          2,
          7,
          1,
          1,
          1,
          1,
          8,
          1,
          13,
          3,
          1,
          1,
          7,
          1,
          2,
          84,
          22,
          4,
          11,
          2,
          1,
          1,
          1,
          9,
          1,
          10,
          3,
          1,
          3,
          10,
          3,
          1,
          21,
          22,
          1,
          1,
          2,
          18,
          10,
          160,
          5,
          52,
          3,
          2,
          12,
          1,
          3,
          55,
          7,
          7,
          4,
          80,
          4,
          6,
          2,
          11,
          1,
          4,
          6,
          4,
          2,
          1,
          4,
          3,
          3,
          7,
          1,
          1,
          2,
          2,
          4,
          5,
          2,
          3,
          1,
          11,
          8,
          5,
          2,
          3,
          1,
          19,
          13,
          1,
          4,
          3,
          79,
          2,
          1,
          1,
          3,
          1,
          2,
          23,
          9,
          3,
          3,
          1,
          2,
          22,
          3,
          9,
          3,
          2,
          8,
          7,
          6,
          3,
          3,
          18,
          3,
          2,
          3,
          1,
          1,
          1,
          6,
          2,
          18,
          3,
          1,
          5,
          4,
          1,
          8,
          1,
          4,
          29,
          5,
          1,
          29,
          1,
          9,
          1,
          4,
          9,
          15,
          1,
          80,
          1,
          11,
          5,
          15,
          1,
          7,
          12,
          29,
          2,
          1,
          4,
          1,
          51,
          55,
          7,
          8,
          2,
          6,
          1,
          18,
          1,
          4,
          5,
          2,
          9,
          3,
          3,
          1,
          2,
          2,
          33,
          7,
          4,
          9,
          12,
          6,
          1,
          16,
          3,
          5,
          1,
          32,
          8,
          3,
          3,
          19,
          1,
          1,
          3,
          20,
          12,
          1,
          1,
          8,
          1,
          6,
          1,
          1,
          3,
          1,
          9,
          7,
          2,
          7,
          7,
          1,
          12,
          1,
          1,
          3,
          2,
          1,
          3,
          1,
          2,
          18,
          2,
          7,
          1,
          2,
          2,
          2,
          10,
          1,
          1,
          3,
          39,
          137,
          14,
          2,
          6,
          2,
          1,
          9,
          14,
          1,
          20,
          2,
          4,
          5,
          1,
          3,
          6,
          3,
          5,
          2,
          7,
          2,
          1,
          2,
          6,
          1,
          11,
          3,
          34,
          1,
          1,
          1,
          17,
          20,
          4,
          6,
          1,
          10,
          1,
          8,
          29,
          31,
          5,
          1,
          13,
          2,
          4,
          3,
          1,
          2,
          1,
          2,
          1,
          1,
          5,
          4,
          1,
          1,
          1,
          3,
          1,
          9,
          20,
          1,
          18,
          9,
          1,
          8,
          2,
          1,
          4,
          3,
          10,
          4,
          2,
          1,
          3,
          1,
          2,
          5,
          2,
          9,
          4,
          4,
          4,
          4,
          2,
          2,
          4,
          4,
          2,
          1,
          4,
          12,
          4,
          2,
          6,
          1,
          2,
          7,
          1,
          1,
          44,
          7,
          1,
          1,
          2,
          1,
          2,
          3,
          8,
          15,
          5,
          4,
          1,
          8,
          8,
          12,
          3,
          2,
          4,
          1,
          1,
          4,
          3,
          7,
          30,
          6,
          2,
          1,
          4,
          3,
          6,
          1,
          1,
          19,
          10,
          4,
          2,
          7,
          7,
          6,
          1,
          1,
          1,
          21,
          3,
          5,
          5,
          2,
          2,
          3,
          3,
          10,
          49,
          6,
          2,
          2,
          5,
          15,
          1,
          2,
          9,
          3,
          15,
          16,
          49,
          51,
          4,
          1,
          1,
          1,
          1,
          8,
          5,
          1,
          2,
          4,
          6,
          9,
          2,
          2,
          4,
          2,
          2,
          3,
          3,
          2,
          12,
          26,
          3,
          45,
          6,
          10,
          4,
          5,
          19,
          3,
          3,
          19,
          32,
          12,
          1,
          10,
          3,
          6,
          1,
          4,
          4,
          1,
          3,
          16,
          8,
          1,
          2,
          19,
          38,
          3,
          1,
          1,
          1,
          2,
          5,
          2,
          7,
          2,
          3,
          6,
          2,
          2,
          5,
          14,
          1,
          2,
          57,
          7,
          1,
          2,
          1,
          2,
          2,
          30,
          1,
          14,
          2,
          39,
          1,
          2,
          2,
          2,
          1,
          1,
          3,
          2,
          8,
          1,
          4,
          5,
          3,
          3,
          5,
          9,
          3,
          3,
          3,
          8,
          1,
          2,
          1,
          10,
          6,
          9,
          2,
          1,
          3,
          38,
          2,
          9,
          3,
          3,
          9,
          13,
          3,
          1,
          9,
          2,
          6,
          1,
          2,
          1,
          3,
          4,
          8,
          14,
          1,
          3,
          27,
          5,
          7,
          1,
          1,
          11,
          28,
          1,
          1,
          1,
          3,
          1,
          8,
          1,
          1,
          1,
          18,
          6,
          4,
          2,
          6,
          1,
          3,
          20,
          5,
          16,
          7,
          2,
          4,
          2,
          2,
          1,
          3,
          12,
          8,
          6,
          6,
          19,
          11,
          34,
          8,
          16,
          1,
          12,
          46,
          1,
          2,
          2,
          16,
          33,
          1,
          10,
          11,
          11,
          6,
          6,
          6,
          1,
          5,
          35,
          21,
          2,
          11,
          1,
          42,
          1,
          10,
          1,
          1,
          1,
          1,
          10,
          17,
          2,
          16,
          10,
          1,
          3,
          4,
          1,
          6,
          24,
          1,
          1,
          3,
          24,
          6,
          18,
          2,
          2,
          30,
          1,
          16,
          61,
          10,
          3,
          1,
          1,
          3,
          3,
          2,
          7,
          5,
          1,
          2,
          2,
          5,
          25,
          4,
          1,
          6,
          1,
          3,
          7,
          2,
          6,
          13,
          1,
          5,
          49,
          1,
          9,
          1,
          1,
          3,
          1,
          2,
          4,
          8,
          6,
          1,
          16,
          3,
          14,
          33,
          2,
          1,
          9,
          55,
          6,
          6,
          2,
          5,
          4,
          1,
          6,
          4,
          1,
          20,
          7,
          169,
          4,
          8,
          3,
          12,
          15,
          1,
          45,
          4,
          34,
          26,
          2,
          3,
          1,
          2,
          23,
          4,
          4,
          1,
          22,
          23,
          13,
          28,
          9,
          5,
          2,
          9,
          1,
          25,
          2,
          8,
          8,
          1,
          5,
          3,
          7,
          1,
          1,
          3,
          13,
          6,
          5,
          2,
          36,
          1,
          12,
          5,
          12,
          56,
          1,
          3,
          22,
          63,
          1,
          22,
          38,
          3,
          14,
          1,
          2,
          1,
          1,
          12,
          5,
          4,
          4,
          1,
          2,
          1,
          3,
          3,
          1,
          1,
          1,
          3,
          16,
          10,
          1,
          4,
          5,
          1,
          4,
          8,
          1,
          2,
          4,
          49,
          79,
          6,
          1,
          3,
          2,
          7,
          26,
          2,
          35,
          1,
          10,
          3,
          2,
          4,
          1,
          16,
          1,
          1,
          2,
          12,
          1,
          1,
          2,
          8,
          5,
          1,
          2,
          1,
          1,
          1,
          3,
          3,
          1,
          4,
          1,
          1,
          1,
          7,
          3,
          6,
          8,
          2,
          1,
          6,
          7,
          5,
          4,
          1,
          1,
          5,
          13,
          2,
          2,
          35,
          11,
          7,
          1,
          10,
          19,
          29,
          1,
          1,
          1,
          6,
          2,
          3,
          1,
          4,
          20,
          1,
          1,
          7,
          2,
          56,
          1,
          2,
          16,
          10,
          32,
          34,
          1,
          25,
          2,
          1,
          1,
          1,
          1,
          1,
          4,
          10,
          2,
          5,
          1,
          12,
          3,
          1,
          46,
          1,
          1,
          1,
          7,
          3,
          3,
          2,
          1,
          2,
          30,
          4,
          6,
          1,
          10,
          2,
          2,
          1,
          3,
          1,
          3,
          2,
          1,
          9,
          13,
          2,
          2,
          6,
          5,
          2,
          1,
          3,
          4,
          23,
          14,
          1,
          6,
          35,
          3,
          20,
          1,
          1,
          11,
          59,
          1,
          8,
          10,
          28,
          7,
          2,
          7,
          1,
          48,
          9,
          15,
          2,
          5,
          2,
          8,
          5,
          3,
          2,
          5,
          31,
          1,
          61,
          3,
          5,
          2,
          59,
          7,
          4,
          1,
          1,
          9,
          11,
          1,
          7,
          17,
          25,
          3,
          1,
          1,
          1,
          22,
          3,
          10,
          21,
          1,
          1,
          11,
          2,
          1,
          20,
          1,
          12,
          1,
          2,
          1,
          2,
          1,
          7,
          3,
          1,
          3,
          29,
          5,
          1,
          4,
          6,
          1,
          1,
          95,
          4,
          1,
          2,
          29,
          67,
          20,
          1,
          5,
          2,
          2,
          142,
          2,
          1,
          2,
          2,
          3,
          2,
          4,
          2,
          19,
          20,
          3,
          44,
          23,
          3,
          6,
          37,
          24,
          11,
          1,
          1,
          5,
          1,
          9,
          2,
          1,
          7,
          1,
          1,
          11,
          21,
          2,
          1,
          16,
          9,
          6,
          1,
          3,
          2,
          12,
          7,
          18,
          1,
          1,
          2,
          3,
          7,
          9,
          3,
          17,
          3,
          1,
          5,
          8,
          10,
          2,
          1,
          5,
          4,
          28,
          19,
          1,
          27,
          7,
          1,
          4,
          2,
          3,
          22,
          1,
          37,
          2,
          34,
          21,
          1,
          10,
          1,
          3,
          1,
          1,
          5,
          5,
          1,
          1,
          37,
          6,
          12,
          1,
          1,
          9,
          3,
          1,
          1,
          1,
          24,
          1,
          3,
          1,
          3,
          10,
          14,
          1,
          8,
          10,
          37,
          20,
          5,
          6,
          3,
          3,
          1,
          18,
          1,
          1,
          2,
          1,
          1,
          1,
          5,
          1,
          11,
          5,
          15,
          1,
          1,
          8,
          1,
          1,
          13,
          8,
          6,
          1,
          9,
          1,
          9,
          4,
          3,
          39,
          1,
          2,
          4,
          1,
          82,
          3,
          2,
          11,
          1,
          1,
          52,
          2,
          3,
          1,
          1,
          2,
          5,
          5,
          15,
          30,
          3,
          31,
          8,
          6,
          2,
          5,
          57,
          29,
          4,
          4,
          30,
          11,
          1,
          9,
          8,
          7,
          6,
          21,
          1,
          6,
          1,
          1,
          1,
          14,
          2,
          1,
          7,
          52,
          6,
          8,
          1,
          1,
          10,
          21,
          14,
          68,
          1,
          7,
          1,
          7,
          4,
          6,
          9,
          4,
          1,
          30,
          16,
          5,
          11,
          6,
          58,
          1,
          23,
          51,
          3,
          1,
          10,
          2,
          8,
          1,
          2,
          1,
          1,
          12,
          1,
          8,
          1,
          5,
          2,
          1,
          12,
          1,
          8,
          14,
          3,
          1,
          1,
          1,
          2,
          6,
          1,
          8,
          1,
          2,
          18,
          1,
          6,
          1,
          5,
          1,
          17,
          1,
          1,
          3,
          5,
          77,
          17,
          68,
          12,
          4,
          2,
          3,
          21,
          2,
          11,
          12,
          10,
          1,
          1,
          2,
          1,
          1,
          7,
          1,
          1,
          31,
          1,
          1,
          1,
          20,
          5,
          1,
          7,
          1,
          15,
          8,
          3,
          9,
          4,
          21,
          4,
          3,
          1,
          29,
          2,
          2,
          1,
          1,
          8,
          2,
          10,
          3,
          10,
          6,
          4,
          5,
          1,
          1,
          1,
          3,
          25,
          2,
          5,
          1,
          1,
          2,
          1,
          2,
          3,
          5,
          2,
          22,
          1,
          2,
          70,
          2,
          1,
          49,
          4,
          1,
          24,
          1,
          4,
          1,
          14,
          4,
          5,
          8,
          1,
          2,
          31,
          2,
          1,
          17,
          7,
          1,
          8,
          1,
          10,
          1,
          2,
          9,
          2,
          1,
          4,
          2,
          2,
          2,
          2,
          2,
          1,
          15,
          5,
          9,
          11,
          1,
          11,
          2,
          3,
          1,
          7,
          1,
          8,
          11,
          1,
          7,
          114,
          2,
          1,
          3,
          1,
          6,
          3,
          1,
          1,
          12,
          5,
          1,
          11,
          3,
          12,
          3,
          1,
          1,
          34,
          3,
          5,
          1,
          1,
          3,
          7,
          2,
          8,
          6,
          1,
          1,
          1,
          6,
          2,
          12,
          22,
          4,
          1,
          28,
          1,
          11,
          145,
          27,
          1,
          3,
          39,
          12,
          6,
          1,
          17,
          10,
          1,
          5,
          6,
          3,
          1,
          2,
          2,
          7,
          28,
          1,
          11,
          1,
          20,
          1,
          28,
          1,
          10,
          36,
          24,
          2,
          6,
          23,
          2,
          2,
          9,
          6,
          1,
          1,
          6,
          7,
          9,
          22,
          1,
          6,
          35,
          1,
          2,
          1,
          80,
          1,
          6,
          11,
          1,
          9,
          1,
          5,
          85,
          10,
          3,
          7,
          1,
          2,
          2,
          1,
          7,
          4,
          1,
          3,
          1,
          1,
          17,
          3,
          7,
          1,
          12,
          1,
          2,
          6,
          2,
          4,
          3,
          1,
          1,
          3,
          1,
          3,
          3,
          1,
          10,
          2,
          1,
          4,
          3,
          1,
          2,
          1,
          3,
          1,
          1,
          1,
          5,
          1,
          8,
          10,
          2,
          8,
          8,
          5,
          16,
          5,
          1,
          20,
          6,
          4,
          8,
          14,
          23,
          21,
          1,
          26,
          9,
          8,
          2,
          3,
          8,
          2,
          13,
          37,
          5,
          16,
          2,
          1,
          7,
          9,
          1,
          1,
          4,
          3,
          1,
          6,
          1,
          9,
          1,
          1,
          2,
          6,
          10,
          4,
          1,
          13,
          4,
          5,
          15,
          1,
          1,
          16,
          1,
          6,
          5,
          15,
          1,
          1,
          3,
          1,
          1,
          2,
          140,
          33,
          1,
          6,
          4,
          3,
          2,
          8,
          1,
          2,
          3,
          14,
          1,
          1,
          1,
          1,
          8,
          14,
          13,
          8,
          39,
          5,
          1,
          5,
          1,
          37,
          4,
          6,
          4,
          1,
          10,
          4,
          40,
          1,
          10,
          5,
          1,
          1,
          19,
          2,
          1,
          11,
          1,
          14,
          1,
          2,
          2,
          1,
          11,
          1,
          14,
          1,
          7,
          9,
          6,
          9,
          3,
          47,
          4,
          1,
          2,
          4,
          4,
          4,
          5,
          5,
          47,
          2,
          17,
          2,
          7,
          1,
          2,
          1,
          4,
          3,
          4,
          7,
          8,
          8,
          3,
          6,
          2,
          1,
          27,
          1,
          12,
          1,
          78,
          1,
          12,
          2,
          2,
          1,
          2,
          3,
          6,
          2,
          6,
          1,
          9,
          18,
          39,
          3,
          1,
          2,
          10,
          17,
          11,
          3,
          1,
          22,
          1,
          5,
          2,
          3,
          2,
          3,
          13,
          12,
          4,
          2,
          2,
          1,
          2,
          10,
          4,
          20,
          10,
          5,
          19,
          12,
          2,
          4,
          73,
          10,
          2,
          6,
          18,
          1,
          2,
          2,
          1,
          1,
          26,
          1,
          3,
          8,
          1,
          3,
          3,
          1,
          1,
          1,
          2,
          3,
          3,
          1,
          9,
          10,
          4,
          3,
          4,
          1,
          1,
          2,
          1,
          6,
          2,
          6,
          8,
          4,
          2,
          4,
          5,
          12,
          2,
          9,
          2,
          3,
          8,
          1,
          7,
          12,
          2,
          1,
          3,
          15,
          22,
          6,
          13,
          1,
          1,
          1,
          1,
          2,
          1,
          2,
          3,
          7,
          1,
          3,
          17,
          147,
          1,
          1,
          13,
          2,
          6,
          4,
          11,
          13,
          3,
          1,
          12,
          22,
          23,
          12,
          2,
          9,
          26,
          1,
          1,
          3,
          5,
          31,
          23,
          1,
          6,
          11,
          1,
          1,
          2,
          3,
          9,
          1,
          1,
          30,
          4,
          98,
          2,
          8,
          4,
          1,
          7,
          1,
          1,
          1,
          2,
          2,
          7,
          5,
          1,
          1,
          2,
          30,
          4,
          4,
          5,
          1,
          2,
          4,
          62,
          19,
          22,
          2,
          3,
          9,
          2,
          2,
          8,
          1,
          2,
          23,
          1,
          2,
          1,
          1,
          13,
          5,
          10,
          15,
          2,
          32,
          4,
          3,
          2,
          9,
          6,
          5,
          12,
          1,
          1,
          18,
          2,
          6,
          3,
          6,
          8,
          5,
          5,
          13,
          15,
          7,
          1,
          2,
          18,
          1,
          2,
          7,
          8,
          1,
          1,
          20,
          5,
          4,
          3,
          2,
          42,
          5,
          2,
          12,
          53,
          11,
          3,
          1,
          6,
          7,
          45,
          1,
          1,
          6,
          57,
          3,
          1,
          4,
          1,
          6,
          1,
          2,
          1,
          31,
          3,
          3,
          12,
          18,
          1,
          6,
          1,
          4,
          38,
          26,
          9,
          14,
          1,
          3,
          6,
          7,
          2,
          8,
          1,
          1,
          1,
          30,
          20,
          3,
          2,
          2,
          4,
          14,
          2,
          22,
          5,
          4,
          4,
          39,
          1,
          1,
          15,
          67,
          1,
          12,
          13,
          29,
          3,
          5,
          2,
          1,
          2,
          1,
          3,
          1,
          8,
          6,
          6,
          24,
          7,
          2,
          136,
          48,
          28,
          7,
          5,
          11,
          7,
          1,
          19,
          6,
          1,
          2,
          1,
          1,
          11,
          3,
          30,
          24,
          3,
          2,
          7,
          20,
          5,
          2,
          10,
          23,
          1,
          74,
          2,
          1,
          4,
          2,
          1,
          4,
          1,
          3,
          4,
          13,
          2,
          3,
          2,
          2,
          1,
          11,
          3,
          6,
          2,
          4,
          1,
          3,
          7,
          7,
          2,
          2,
          1,
          11,
          1,
          14,
          1,
          1,
          1,
          1,
          68,
          5,
          2,
          57,
          4,
          2,
          22,
          1,
          1,
          7,
          3,
          4,
          12,
          1,
          5,
          3,
          1,
          1,
          1,
          53,
          1,
          1,
          2,
          5,
          5,
          1,
          1,
          2,
          2,
          3,
          14,
          1,
          18,
          5,
          11,
          10,
          4,
          1,
          15,
          1,
          2,
          1,
          1,
          1,
          2,
          6,
          41,
          1,
          5,
          5,
          1,
          7,
          50,
          2,
          8,
          1,
          6,
          4,
          1,
          2,
          26,
          101,
          34,
          1,
          5,
          6,
          2,
          4,
          2,
          1,
          5,
          47,
          1,
          13,
          6,
          6,
          1,
          10,
          23,
          1,
          5,
          2,
          6,
          2,
          6,
          1,
          2,
          2,
          6,
          2,
          1,
          14,
          33,
          4,
          16,
          4,
          2,
          6,
          6,
          2,
          16,
          12,
          21,
          3,
          4,
          7,
          1,
          20,
          1,
          13,
          1,
          7,
          1,
          23,
          17,
          46,
          2,
          3,
          1,
          1,
          12,
          8,
          38,
          21,
          48,
          1,
          43,
          2,
          5,
          2,
          28,
          5,
          1,
          1,
          1,
          1,
          2,
          28,
          3,
          53,
          1,
          11,
          2,
          1,
          25,
          1,
          2,
          17,
          5,
          1,
          2,
          25,
          1,
          3,
          1,
          8,
          28,
          1,
          1,
          2,
          38,
          8,
          6,
          1,
          1,
          2,
          6,
          12,
          1,
          1,
          1,
          1,
          5,
          7,
          10,
          52,
          1,
          1,
          9,
          2,
          1,
          5,
          12,
          21,
          2,
          1,
          47,
          2,
          1,
          17,
          3,
          7,
          2,
          1,
          12,
          3,
          7,
          5,
          6,
          1,
          1,
          1,
          1,
          4,
          2,
          5,
          11,
          2,
          1,
          7,
          36,
          2,
          1,
          9,
          2,
          3,
          1,
          1,
          4,
          7,
          3,
          10,
          9,
          5,
          2,
          11,
          1,
          1,
          4,
          26,
          1,
          2,
          1,
          94,
          3,
          1,
          4,
          6,
          3,
          1,
          15,
          4,
          25,
          4,
          8,
          1,
          1,
          5,
          3,
          1,
          2,
          2,
          33,
          7,
          8,
          25,
          2,
          3,
          8,
          2,
          7,
          1,
          11,
          14,
          1,
          1,
          1,
          18,
          2,
          4,
          9,
          2,
          1,
          10,
          2,
          6,
          11,
          28,
          7,
          9,
          1,
          13,
          20,
          3,
          1,
          2,
          2,
          3,
          1,
          1,
          1,
          3,
          2,
          14,
          2,
          1,
          10,
          3,
          1,
          13,
          30,
          1,
          43,
          8,
          1,
          8,
          3,
          4,
          13,
          17,
          6,
          1,
          8,
          3,
          7,
          8,
          2,
          2,
          6,
          1,
          1,
          6,
          3,
          5,
          8,
          10,
          1,
          6,
          6,
          2,
          1,
          3,
          10,
          1,
          13,
          16,
          1,
          42,
          5,
          13,
          1,
          2,
          42,
          15,
          36,
          11,
          1,
          158,
          1,
          12,
          5,
          2,
          2,
          11,
          4,
          6,
          25,
          4,
          1,
          4,
          12,
          3,
          1,
          5,
          1,
          44,
          1,
          12,
          5,
          2,
          4,
          5,
          19,
          19,
          9,
          2,
          2,
          4,
          3,
          3,
          1,
          3,
          4,
          1,
          1,
          5,
          1,
          1,
          2,
          13,
          1,
          15,
          1,
          1,
          1,
          2,
          27,
          1,
          13,
          18,
          6,
          3,
          35,
          21,
          1,
          1,
          5,
          2,
          5,
          1,
          82,
          1,
          18,
          5,
          2,
          29,
          4,
          4,
          1,
          28,
          1,
          2,
          35,
          8,
          2,
          6,
          1,
          2,
          38,
          1,
          7,
          1,
          1,
          5,
          1,
          1,
          1,
          9,
          2,
          13,
          7,
          3,
          33,
          116,
          1,
          7,
          1,
          1,
          1,
          1,
          3,
          3,
          13,
          4,
          8,
          20,
          10,
          30,
          5,
          1,
          1,
          1,
          15,
          3,
          3,
          2,
          4,
          1,
          3,
          1,
          1,
          4,
          13,
          3,
          4,
          1,
          1,
          2,
          3,
          1,
          14,
          7,
          9,
          38,
          1,
          2,
          4,
          32,
          10,
          13
         ]
        }
       ],
       "layout": {
        "template": {
         "data": {
          "bar": [
           {
            "error_x": {
             "color": "#2a3f5f"
            },
            "error_y": {
             "color": "#2a3f5f"
            },
            "marker": {
             "line": {
              "color": "#E5ECF6",
              "width": 0.5
             }
            },
            "type": "bar"
           }
          ],
          "barpolar": [
           {
            "marker": {
             "line": {
              "color": "#E5ECF6",
              "width": 0.5
             }
            },
            "type": "barpolar"
           }
          ],
          "carpet": [
           {
            "aaxis": {
             "endlinecolor": "#2a3f5f",
             "gridcolor": "white",
             "linecolor": "white",
             "minorgridcolor": "white",
             "startlinecolor": "#2a3f5f"
            },
            "baxis": {
             "endlinecolor": "#2a3f5f",
             "gridcolor": "white",
             "linecolor": "white",
             "minorgridcolor": "white",
             "startlinecolor": "#2a3f5f"
            },
            "type": "carpet"
           }
          ],
          "choropleth": [
           {
            "colorbar": {
             "outlinewidth": 0,
             "ticks": ""
            },
            "type": "choropleth"
           }
          ],
          "contour": [
           {
            "colorbar": {
             "outlinewidth": 0,
             "ticks": ""
            },
            "colorscale": [
             [
              0,
              "#0d0887"
             ],
             [
              0.1111111111111111,
              "#46039f"
             ],
             [
              0.2222222222222222,
              "#7201a8"
             ],
             [
              0.3333333333333333,
              "#9c179e"
             ],
             [
              0.4444444444444444,
              "#bd3786"
             ],
             [
              0.5555555555555556,
              "#d8576b"
             ],
             [
              0.6666666666666666,
              "#ed7953"
             ],
             [
              0.7777777777777778,
              "#fb9f3a"
             ],
             [
              0.8888888888888888,
              "#fdca26"
             ],
             [
              1,
              "#f0f921"
             ]
            ],
            "type": "contour"
           }
          ],
          "contourcarpet": [
           {
            "colorbar": {
             "outlinewidth": 0,
             "ticks": ""
            },
            "type": "contourcarpet"
           }
          ],
          "heatmap": [
           {
            "colorbar": {
             "outlinewidth": 0,
             "ticks": ""
            },
            "colorscale": [
             [
              0,
              "#0d0887"
             ],
             [
              0.1111111111111111,
              "#46039f"
             ],
             [
              0.2222222222222222,
              "#7201a8"
             ],
             [
              0.3333333333333333,
              "#9c179e"
             ],
             [
              0.4444444444444444,
              "#bd3786"
             ],
             [
              0.5555555555555556,
              "#d8576b"
             ],
             [
              0.6666666666666666,
              "#ed7953"
             ],
             [
              0.7777777777777778,
              "#fb9f3a"
             ],
             [
              0.8888888888888888,
              "#fdca26"
             ],
             [
              1,
              "#f0f921"
             ]
            ],
            "type": "heatmap"
           }
          ],
          "heatmapgl": [
           {
            "colorbar": {
             "outlinewidth": 0,
             "ticks": ""
            },
            "colorscale": [
             [
              0,
              "#0d0887"
             ],
             [
              0.1111111111111111,
              "#46039f"
             ],
             [
              0.2222222222222222,
              "#7201a8"
             ],
             [
              0.3333333333333333,
              "#9c179e"
             ],
             [
              0.4444444444444444,
              "#bd3786"
             ],
             [
              0.5555555555555556,
              "#d8576b"
             ],
             [
              0.6666666666666666,
              "#ed7953"
             ],
             [
              0.7777777777777778,
              "#fb9f3a"
             ],
             [
              0.8888888888888888,
              "#fdca26"
             ],
             [
              1,
              "#f0f921"
             ]
            ],
            "type": "heatmapgl"
           }
          ],
          "histogram": [
           {
            "marker": {
             "colorbar": {
              "outlinewidth": 0,
              "ticks": ""
             }
            },
            "type": "histogram"
           }
          ],
          "histogram2d": [
           {
            "colorbar": {
             "outlinewidth": 0,
             "ticks": ""
            },
            "colorscale": [
             [
              0,
              "#0d0887"
             ],
             [
              0.1111111111111111,
              "#46039f"
             ],
             [
              0.2222222222222222,
              "#7201a8"
             ],
             [
              0.3333333333333333,
              "#9c179e"
             ],
             [
              0.4444444444444444,
              "#bd3786"
             ],
             [
              0.5555555555555556,
              "#d8576b"
             ],
             [
              0.6666666666666666,
              "#ed7953"
             ],
             [
              0.7777777777777778,
              "#fb9f3a"
             ],
             [
              0.8888888888888888,
              "#fdca26"
             ],
             [
              1,
              "#f0f921"
             ]
            ],
            "type": "histogram2d"
           }
          ],
          "histogram2dcontour": [
           {
            "colorbar": {
             "outlinewidth": 0,
             "ticks": ""
            },
            "colorscale": [
             [
              0,
              "#0d0887"
             ],
             [
              0.1111111111111111,
              "#46039f"
             ],
             [
              0.2222222222222222,
              "#7201a8"
             ],
             [
              0.3333333333333333,
              "#9c179e"
             ],
             [
              0.4444444444444444,
              "#bd3786"
             ],
             [
              0.5555555555555556,
              "#d8576b"
             ],
             [
              0.6666666666666666,
              "#ed7953"
             ],
             [
              0.7777777777777778,
              "#fb9f3a"
             ],
             [
              0.8888888888888888,
              "#fdca26"
             ],
             [
              1,
              "#f0f921"
             ]
            ],
            "type": "histogram2dcontour"
           }
          ],
          "mesh3d": [
           {
            "colorbar": {
             "outlinewidth": 0,
             "ticks": ""
            },
            "type": "mesh3d"
           }
          ],
          "parcoords": [
           {
            "line": {
             "colorbar": {
              "outlinewidth": 0,
              "ticks": ""
             }
            },
            "type": "parcoords"
           }
          ],
          "pie": [
           {
            "automargin": true,
            "type": "pie"
           }
          ],
          "scatter": [
           {
            "marker": {
             "colorbar": {
              "outlinewidth": 0,
              "ticks": ""
             }
            },
            "type": "scatter"
           }
          ],
          "scatter3d": [
           {
            "line": {
             "colorbar": {
              "outlinewidth": 0,
              "ticks": ""
             }
            },
            "marker": {
             "colorbar": {
              "outlinewidth": 0,
              "ticks": ""
             }
            },
            "type": "scatter3d"
           }
          ],
          "scattercarpet": [
           {
            "marker": {
             "colorbar": {
              "outlinewidth": 0,
              "ticks": ""
             }
            },
            "type": "scattercarpet"
           }
          ],
          "scattergeo": [
           {
            "marker": {
             "colorbar": {
              "outlinewidth": 0,
              "ticks": ""
             }
            },
            "type": "scattergeo"
           }
          ],
          "scattergl": [
           {
            "marker": {
             "colorbar": {
              "outlinewidth": 0,
              "ticks": ""
             }
            },
            "type": "scattergl"
           }
          ],
          "scattermapbox": [
           {
            "marker": {
             "colorbar": {
              "outlinewidth": 0,
              "ticks": ""
             }
            },
            "type": "scattermapbox"
           }
          ],
          "scatterpolar": [
           {
            "marker": {
             "colorbar": {
              "outlinewidth": 0,
              "ticks": ""
             }
            },
            "type": "scatterpolar"
           }
          ],
          "scatterpolargl": [
           {
            "marker": {
             "colorbar": {
              "outlinewidth": 0,
              "ticks": ""
             }
            },
            "type": "scatterpolargl"
           }
          ],
          "scatterternary": [
           {
            "marker": {
             "colorbar": {
              "outlinewidth": 0,
              "ticks": ""
             }
            },
            "type": "scatterternary"
           }
          ],
          "surface": [
           {
            "colorbar": {
             "outlinewidth": 0,
             "ticks": ""
            },
            "colorscale": [
             [
              0,
              "#0d0887"
             ],
             [
              0.1111111111111111,
              "#46039f"
             ],
             [
              0.2222222222222222,
              "#7201a8"
             ],
             [
              0.3333333333333333,
              "#9c179e"
             ],
             [
              0.4444444444444444,
              "#bd3786"
             ],
             [
              0.5555555555555556,
              "#d8576b"
             ],
             [
              0.6666666666666666,
              "#ed7953"
             ],
             [
              0.7777777777777778,
              "#fb9f3a"
             ],
             [
              0.8888888888888888,
              "#fdca26"
             ],
             [
              1,
              "#f0f921"
             ]
            ],
            "type": "surface"
           }
          ],
          "table": [
           {
            "cells": {
             "fill": {
              "color": "#EBF0F8"
             },
             "line": {
              "color": "white"
             }
            },
            "header": {
             "fill": {
              "color": "#C8D4E3"
             },
             "line": {
              "color": "white"
             }
            },
            "type": "table"
           }
          ]
         },
         "layout": {
          "annotationdefaults": {
           "arrowcolor": "#2a3f5f",
           "arrowhead": 0,
           "arrowwidth": 1
          },
          "coloraxis": {
           "colorbar": {
            "outlinewidth": 0,
            "ticks": ""
           }
          },
          "colorscale": {
           "diverging": [
            [
             0,
             "#8e0152"
            ],
            [
             0.1,
             "#c51b7d"
            ],
            [
             0.2,
             "#de77ae"
            ],
            [
             0.3,
             "#f1b6da"
            ],
            [
             0.4,
             "#fde0ef"
            ],
            [
             0.5,
             "#f7f7f7"
            ],
            [
             0.6,
             "#e6f5d0"
            ],
            [
             0.7,
             "#b8e186"
            ],
            [
             0.8,
             "#7fbc41"
            ],
            [
             0.9,
             "#4d9221"
            ],
            [
             1,
             "#276419"
            ]
           ],
           "sequential": [
            [
             0,
             "#0d0887"
            ],
            [
             0.1111111111111111,
             "#46039f"
            ],
            [
             0.2222222222222222,
             "#7201a8"
            ],
            [
             0.3333333333333333,
             "#9c179e"
            ],
            [
             0.4444444444444444,
             "#bd3786"
            ],
            [
             0.5555555555555556,
             "#d8576b"
            ],
            [
             0.6666666666666666,
             "#ed7953"
            ],
            [
             0.7777777777777778,
             "#fb9f3a"
            ],
            [
             0.8888888888888888,
             "#fdca26"
            ],
            [
             1,
             "#f0f921"
            ]
           ],
           "sequentialminus": [
            [
             0,
             "#0d0887"
            ],
            [
             0.1111111111111111,
             "#46039f"
            ],
            [
             0.2222222222222222,
             "#7201a8"
            ],
            [
             0.3333333333333333,
             "#9c179e"
            ],
            [
             0.4444444444444444,
             "#bd3786"
            ],
            [
             0.5555555555555556,
             "#d8576b"
            ],
            [
             0.6666666666666666,
             "#ed7953"
            ],
            [
             0.7777777777777778,
             "#fb9f3a"
            ],
            [
             0.8888888888888888,
             "#fdca26"
            ],
            [
             1,
             "#f0f921"
            ]
           ]
          },
          "colorway": [
           "#636efa",
           "#EF553B",
           "#00cc96",
           "#ab63fa",
           "#FFA15A",
           "#19d3f3",
           "#FF6692",
           "#B6E880",
           "#FF97FF",
           "#FECB52"
          ],
          "font": {
           "color": "#2a3f5f"
          },
          "geo": {
           "bgcolor": "white",
           "lakecolor": "white",
           "landcolor": "#E5ECF6",
           "showlakes": true,
           "showland": true,
           "subunitcolor": "white"
          },
          "hoverlabel": {
           "align": "left"
          },
          "hovermode": "closest",
          "mapbox": {
           "style": "light"
          },
          "paper_bgcolor": "white",
          "plot_bgcolor": "#E5ECF6",
          "polar": {
           "angularaxis": {
            "gridcolor": "white",
            "linecolor": "white",
            "ticks": ""
           },
           "bgcolor": "#E5ECF6",
           "radialaxis": {
            "gridcolor": "white",
            "linecolor": "white",
            "ticks": ""
           }
          },
          "scene": {
           "xaxis": {
            "backgroundcolor": "#E5ECF6",
            "gridcolor": "white",
            "gridwidth": 2,
            "linecolor": "white",
            "showbackground": true,
            "ticks": "",
            "zerolinecolor": "white"
           },
           "yaxis": {
            "backgroundcolor": "#E5ECF6",
            "gridcolor": "white",
            "gridwidth": 2,
            "linecolor": "white",
            "showbackground": true,
            "ticks": "",
            "zerolinecolor": "white"
           },
           "zaxis": {
            "backgroundcolor": "#E5ECF6",
            "gridcolor": "white",
            "gridwidth": 2,
            "linecolor": "white",
            "showbackground": true,
            "ticks": "",
            "zerolinecolor": "white"
           }
          },
          "shapedefaults": {
           "line": {
            "color": "#2a3f5f"
           }
          },
          "ternary": {
           "aaxis": {
            "gridcolor": "white",
            "linecolor": "white",
            "ticks": ""
           },
           "baxis": {
            "gridcolor": "white",
            "linecolor": "white",
            "ticks": ""
           },
           "bgcolor": "#E5ECF6",
           "caxis": {
            "gridcolor": "white",
            "linecolor": "white",
            "ticks": ""
           }
          },
          "title": {
           "x": 0.05
          },
          "xaxis": {
           "automargin": true,
           "gridcolor": "white",
           "linecolor": "white",
           "ticks": "",
           "title": {
            "standoff": 15
           },
           "zerolinecolor": "white",
           "zerolinewidth": 2
          },
          "yaxis": {
           "automargin": true,
           "gridcolor": "white",
           "linecolor": "white",
           "ticks": "",
           "title": {
            "standoff": 15
           },
           "zerolinecolor": "white",
           "zerolinewidth": 2
          }
         }
        },
        "title": {
         "text": "Distribution of Num Article Interactions by Proportion of Users",
         "x": 0.5
        },
        "xaxis": {
         "title": {
          "text": "Number of Article Interactions"
         }
        },
        "yaxis": {
         "title": {
          "text": "Proportion of Users"
         }
        }
       }
      },
      "text/html": "<div>\n        \n        \n            <div id=\"0b4ec760-5af4-4180-acb3-4638dc84740d\" class=\"plotly-graph-div\" style=\"height:525px; width:100%;\"></div>\n            <script type=\"text/javascript\">\n                require([\"plotly\"], function(Plotly) {\n                    window.PLOTLYENV=window.PLOTLYENV || {};\n                    \n                if (document.getElementById(\"0b4ec760-5af4-4180-acb3-4638dc84740d\")) {\n                    Plotly.newPlot(\n                        '0b4ec760-5af4-4180-acb3-4638dc84740d',\n                        [{\"histnorm\": \"probability\", \"type\": \"histogram\", \"x\": [13, 4, 3, 6, 2, 2, 3, 10, 1, 13, 1, 4, 3, 4, 3, 11, 3, 1, 2, 4, 9, 1, 35, 11, 15, 3, 7, 2, 1, 11, 101, 20, 2, 2, 10, 4, 3, 1, 1, 14, 40, 3, 13, 7, 4, 11, 1, 9, 3, 5, 1, 10, 2, 3, 8, 83, 18, 6, 3, 5, 2, 1, 6, 1, 1, 1, 3, 1, 1, 5, 11, 3, 8, 3, 6, 2, 5, 3, 9, 1, 6, 40, 26, 2, 1, 1, 2, 24, 3, 8, 2, 1, 2, 25, 1, 3, 12, 1, 3, 6, 1, 6, 4, 1, 4, 3, 9, 35, 7, 6, 4, 1, 2, 33, 3, 29, 4, 7, 1, 9, 4, 1, 9, 12, 5, 4, 1, 1, 19, 5, 2, 3, 3, 45, 2, 2, 12, 1, 16, 1, 5, 1, 2, 1, 2, 8, 5, 4, 26, 26, 2, 1, 2, 1, 15, 3, 14, 3, 4, 49, 4, 3, 13, 3, 1, 1, 3, 24, 1, 4, 1, 5, 5, 1, 14, 11, 3, 2, 26, 7, 18, 2, 3, 3, 1, 1, 41, 1, 2, 6, 1, 9, 29, 11, 1, 17, 10, 12, 12, 1, 1, 2, 3, 6, 1, 1, 1, 1, 12, 7, 1, 10, 48, 9, 1, 2, 3, 1, 4, 1, 1, 5, 1, 3, 1, 1, 1, 1, 5, 1, 5, 1, 1, 17, 3, 1, 1, 12, 4, 2, 1, 20, 11, 2, 4, 3, 13, 5, 20, 9, 14, 29, 3, 6, 39, 2, 3, 1, 8, 8, 5, 4, 6, 13, 3, 6, 7, 1, 2, 6, 1, 66, 1, 1, 16, 1, 1, 6, 2, 2, 1, 3, 2, 102, 4, 8, 6, 6, 41, 23, 7, 2, 4, 17, 2, 8, 4, 5, 1, 3, 1, 9, 1, 79, 33, 1, 1, 1, 2, 72, 2, 5, 1, 14, 2, 3, 6, 5, 2, 1, 1, 1, 1, 15, 1, 5, 1, 25, 1, 5, 24, 2, 31, 1, 1, 16, 4, 8, 1, 1, 15, 17, 3, 1, 2, 1, 10, 1, 1, 1, 5, 8, 1, 4, 64, 3, 1, 4, 2, 7, 10, 4, 4, 4, 48, 41, 14, 4, 2, 91, 17, 19, 4, 1, 1, 4, 1, 6, 1, 2, 62, 1, 4, 3, 1, 4, 1, 24, 2, 2, 14, 1, 2, 6, 32, 1, 5, 9, 75, 4, 7, 104, 6, 14, 15, 3, 2, 5, 1, 25, 6, 1, 1, 3, 2, 2, 1, 30, 2, 2, 7, 2, 2, 6, 2, 3, 3, 36, 1, 1, 31, 66, 3, 32, 1, 1, 1, 3, 18, 14, 1, 11, 4, 1, 3, 12, 4, 2, 1, 8, 1, 1, 1, 84, 1, 79, 11, 1, 22, 19, 20, 1, 2, 2, 3, 1, 1, 1, 1, 4, 3, 10, 1, 11, 2, 2, 9, 2, 18, 1, 1, 2, 11, 1, 3, 9, 1, 10, 2, 1, 7, 18, 46, 1, 1, 6, 37, 1, 2, 1, 2, 17, 5, 1, 4, 3, 11, 28, 11, 11, 11, 6, 1, 2, 1, 1, 8, 1, 2, 11, 2, 2, 1, 1, 4, 147, 1, 1, 1, 6, 24, 1, 8, 23, 38, 1, 5, 1, 14, 1, 1, 1, 89, 1, 53, 1, 1, 1, 7, 1, 1, 1, 2, 6, 1, 5, 1, 1, 1, 3, 1, 2, 1, 38, 4, 1, 5, 1, 2, 1, 2, 5, 6, 23, 13, 5, 2, 6, 10, 10, 1, 1, 4, 2, 1, 7, 4, 2, 5, 2, 2, 1, 8, 1, 4, 1, 2, 5, 1, 1, 2, 1, 2, 13, 1, 2, 11, 1, 33, 10, 21, 1, 58, 4, 11, 1, 1, 22, 3, 14, 3, 22, 1, 1, 1, 2, 7, 2, 30, 21, 1, 4, 4, 1, 7, 3, 4, 12, 3, 4, 2, 2, 17, 8, 1, 1, 18, 7, 2, 48, 5, 1, 5, 2, 3, 1, 2, 32, 3, 23, 1, 1, 16, 1, 13, 1, 26, 1, 1, 1, 7, 2, 3, 4, 3, 9, 6, 17, 1, 25, 4, 19, 9, 3, 5, 1, 2, 13, 67, 1, 8, 1, 1, 10, 47, 1, 5, 2, 1, 4, 2, 2, 2, 4, 1, 4, 1, 19, 5, 1, 5, 15, 17, 4, 43, 6, 14, 1, 59, 2, 1, 3, 1, 1, 1, 18, 7, 26, 8, 5, 1, 7, 17, 1, 3, 3, 1, 11, 4, 1, 1, 5, 1, 20, 13, 10, 34, 1, 1, 6, 21, 45, 3, 2, 8, 1, 3, 1, 9, 38, 19, 1, 4, 12, 16, 2, 1, 1, 9, 1, 4, 2, 1, 1, 5, 24, 2, 1, 1, 1, 2, 1, 2, 7, 13, 8, 3, 12, 19, 2, 2, 4, 38, 1, 3, 1, 27, 1, 2, 1, 1, 31, 3, 5, 1, 3, 1, 6, 1, 8, 29, 34, 1, 11, 22, 1, 1, 7, 12, 1, 1, 1, 76, 10, 1, 4, 8, 1, 1, 16, 54, 10, 145, 11, 6, 3, 3, 4, 15, 3, 2, 35, 3, 5, 11, 2, 1, 1, 2, 1, 7, 148, 40, 7, 1, 8, 3, 3, 6, 1, 1, 1, 1, 1, 4, 1, 2, 7, 1, 7, 8, 2, 7, 1, 8, 7, 2, 1, 8, 1, 2, 5, 1, 3, 2, 4, 1, 1, 10, 1, 2, 3, 10, 1, 50, 1, 2, 10, 4, 3, 14, 4, 7, 1, 6, 3, 25, 1, 21, 1, 364, 5, 3, 1, 51, 1, 2, 1, 2, 2, 4, 3, 21, 11, 8, 1, 15, 11, 33, 1, 2, 1, 1, 10, 8, 1, 1, 6, 14, 2, 5, 1, 2, 2, 34, 1, 82, 5, 29, 4, 5, 1, 2, 1, 3, 1, 9, 15, 26, 96, 1, 5, 6, 6, 15, 27, 7, 2, 1, 3, 4, 4, 22, 7, 2, 1, 4, 27, 1, 3, 1, 2, 6, 10, 2, 170, 2, 1, 64, 15, 5, 8, 2, 4, 10, 1, 1, 10, 60, 6, 11, 1, 5, 2, 7, 17, 2, 1, 4, 2, 42, 12, 4, 2, 1, 1, 11, 1, 3, 1, 2, 2, 1, 12, 7, 1, 5, 1, 1, 3, 1, 11, 2, 1, 1, 25, 12, 1, 6, 3, 19, 6, 2, 1, 8, 5, 1, 11, 1, 8, 6, 14, 1, 7, 1, 1, 5, 50, 4, 1, 6, 7, 3, 2, 4, 9, 1, 7, 2, 16, 5, 2, 1, 3, 1, 1, 1, 2, 13, 1, 103, 1, 6, 1, 5, 4, 6, 1, 2, 4, 2, 31, 3, 50, 28, 2, 5, 3, 2, 4, 27, 1, 2, 4, 3, 4, 4, 2, 3, 2, 3, 2, 22, 30, 2, 5, 5, 18, 2, 2, 9, 78, 13, 9, 5, 5, 4, 1, 3, 1, 4, 3, 1, 3, 6, 34, 5, 3, 25, 3, 1, 1, 16, 1, 1, 3, 2, 11, 6, 3, 3, 32, 5, 1, 1, 4, 2, 1, 6, 2, 1, 1, 5, 3, 4, 24, 1, 5, 37, 1, 31, 4, 1, 10, 3, 33, 63, 1, 3, 1, 1, 1, 1, 3, 2, 5, 6, 1, 1, 1, 13, 8, 12, 3, 5, 45, 1, 41, 21, 16, 3, 6, 2, 1, 7, 7, 41, 1, 5, 5, 18, 1, 1, 4, 8, 1, 30, 1, 1, 76, 1, 42, 3, 21, 2, 1, 11, 4, 7, 1, 82, 1, 6, 2, 3, 2, 9, 9, 32, 5, 16, 8, 1, 4, 13, 22, 4, 7, 18, 1, 19, 1, 4, 4, 1, 1, 6, 1, 1, 2, 1, 1, 21, 19, 6, 1, 7, 4, 28, 1, 18, 12, 2, 10, 39, 40, 7, 4, 18, 8, 6, 1, 1, 1, 1, 7, 1, 32, 1, 4, 2, 10, 1, 18, 1, 39, 5, 2, 4, 4, 5, 2, 18, 5, 5, 8, 3, 5, 3, 8, 3, 26, 8, 2, 10, 7, 19, 19, 3, 5, 4, 1, 5, 69, 7, 1, 42, 1, 13, 1, 5, 10, 10, 3, 5, 7, 2, 1, 44, 6, 1, 19, 4, 2, 4, 2, 6, 39, 2, 20, 5, 1, 1, 4, 95, 2, 20, 82, 11, 3, 60, 13, 4, 21, 12, 24, 1, 3, 3, 12, 4, 7, 25, 1, 1, 21, 2, 3, 5, 2, 58, 3, 1, 2, 3, 3, 37, 4, 2, 2, 1, 1, 11, 2, 7, 3, 5, 2, 12, 4, 1, 6, 2, 5, 1, 5, 3, 1, 24, 27, 1, 1, 25, 4, 1, 8, 16, 1, 1, 1, 17, 2, 7, 3, 2, 5, 3, 32, 19, 3, 4, 14, 5, 2, 4, 1, 1, 8, 5, 15, 1, 1, 4, 2, 1, 24, 6, 2, 37, 5, 7, 1, 3, 7, 1, 3, 3, 94, 15, 5, 2, 2, 1, 10, 1, 12, 1, 1, 2, 1, 2, 2, 26, 16, 1, 14, 2, 25, 10, 33, 3, 16, 3, 4, 3, 8, 1, 13, 3, 1, 3, 1, 2, 7, 1, 5, 1, 20, 30, 20, 16, 8, 1, 10, 2, 25, 58, 3, 13, 1, 2, 18, 1, 35, 1, 1, 4, 13, 1, 1, 2, 2, 1, 4, 3, 4, 3, 23, 3, 2, 7, 102, 2, 2, 8, 8, 1, 1, 3, 1, 2, 1, 1, 2, 10, 14, 6, 1, 19, 1, 3, 1, 1, 1, 1, 8, 1, 2, 4, 5, 1, 7, 38, 40, 1, 11, 1, 1, 1, 14, 1, 1, 40, 2, 4, 1, 1, 7, 1, 6, 1, 4, 9, 8, 1, 4, 1, 1, 38, 1, 2, 6, 5, 4, 1, 2, 10, 1, 9, 16, 24, 3, 21, 3, 9, 1, 7, 11, 5, 10, 28, 6, 1, 1, 1, 1, 2, 2, 1, 8, 1, 75, 4, 28, 1, 32, 1, 9, 7, 3, 11, 10, 7, 7, 3, 1, 1, 2, 1, 1, 1, 12, 4, 16, 5, 6, 1, 18, 2, 5, 2, 1, 13, 11, 2, 4, 29, 5, 6, 11, 1, 1, 2, 29, 3, 1, 9, 4, 20, 2, 1, 1, 1, 59, 8, 3, 1, 2, 4, 2, 1, 3, 11, 10, 5, 30, 1, 13, 6, 15, 5, 53, 1, 2, 9, 9, 9, 3, 50, 3, 1, 5, 2, 1, 2, 46, 10, 3, 1, 1, 3, 3, 38, 1, 4, 3, 13, 1, 20, 2, 1, 7, 3, 14, 2, 19, 14, 4, 14, 2, 3, 1, 1, 132, 34, 1, 15, 2, 4, 3, 9, 3, 5, 1, 11, 23, 4, 2, 28, 5, 3, 11, 6, 27, 11, 1, 30, 33, 3, 7, 25, 2, 5, 32, 6, 4, 18, 2, 3, 2, 4, 2, 3, 26, 2, 2, 2, 6, 62, 1, 1, 57, 2, 14, 2, 1, 4, 1, 65, 2, 1, 1, 144, 4, 1, 3, 8, 3, 6, 6, 1, 6, 8, 8, 1, 35, 1, 1, 2, 1, 33, 5, 2, 76, 12, 1, 4, 1, 18, 14, 3, 5, 1, 1, 3, 2, 11, 3, 4, 10, 6, 1, 5, 14, 10, 1, 3, 3, 2, 10, 3, 1, 5, 3, 1, 1, 3, 10, 2, 3, 5, 23, 2, 52, 1, 2, 2, 6, 1, 9, 2, 3, 28, 2, 2, 2, 1, 8, 4, 1, 1, 22, 7, 16, 1, 36, 4, 8, 52, 1, 1, 12, 1, 3, 10, 1, 6, 2, 2, 6, 2, 11, 2, 6, 17, 2, 2, 6, 3, 1, 13, 8, 3, 1, 3, 16, 2, 4, 32, 2, 1, 17, 4, 2, 5, 2, 2, 1, 5, 4, 13, 1, 17, 7, 3, 1, 1, 2, 10, 4, 29, 1, 36, 4, 16, 4, 23, 1, 21, 16, 1, 4, 2, 14, 13, 15, 3, 7, 4, 21, 7, 1, 8, 3, 3, 2, 2, 15, 10, 1, 1, 1, 6, 59, 37, 1, 3, 1, 3, 1, 4, 1, 2, 6, 7, 2, 2, 5, 1, 1, 1, 5, 1, 7, 1, 7, 2, 1, 13, 2, 2, 4, 3, 11, 3, 9, 16, 27, 2, 9, 20, 11, 3, 28, 4, 11, 1, 1, 3, 7, 1, 14, 4, 7, 2, 5, 5, 14, 9, 1, 11, 4, 9, 14, 11, 9, 6, 1, 41, 2, 3, 13, 9, 2, 5, 12, 3, 2, 39, 1, 52, 12, 2, 1, 24, 1, 20, 3, 5, 3, 2, 2, 7, 2, 4, 1, 10, 3, 7, 15, 2, 4, 3, 14, 11, 1, 5, 24, 7, 1, 20, 8, 2, 11, 5, 6, 26, 4, 58, 1, 1, 1, 2, 1, 1, 16, 6, 1, 1, 20, 2, 2, 1, 1, 9, 5, 5, 1, 4, 89, 8, 2, 2, 4, 15, 84, 2, 4, 45, 13, 69, 1, 4, 9, 10, 1, 1, 2, 10, 2, 3, 30, 1, 10, 1, 6, 1, 4, 15, 8, 35, 67, 1, 1, 5, 4, 13, 53, 1, 24, 5, 4, 1, 7, 1, 3, 1, 11, 8, 1, 50, 48, 1, 1, 4, 4, 7, 5, 16, 3, 1, 43, 40, 1, 1, 5, 2, 2, 15, 1, 1, 4, 4, 3, 6, 1, 2, 12, 3, 2, 8, 5, 3, 9, 1, 8, 3, 131, 3, 2, 7, 1, 1, 20, 9, 5, 4, 8, 1, 13, 1, 3, 17, 3, 72, 2, 1, 11, 28, 26, 1, 3, 2, 83, 23, 4, 4, 22, 1, 1, 1, 4, 2, 1, 2, 1, 2, 2, 1, 3, 11, 2, 19, 34, 1, 2, 42, 3, 32, 2, 1, 2, 92, 1, 1, 11, 20, 5, 10, 2, 1, 4, 9, 3, 3, 4, 8, 10, 3, 60, 1, 1, 6, 2, 3, 1, 5, 1, 24, 1, 2, 1, 4, 1, 1, 7, 2, 3, 28, 2, 1, 1, 2, 2, 1, 1, 6, 1, 1, 3, 1, 2, 10, 10, 1, 1, 3, 1, 1, 13, 6, 4, 12, 1, 1, 2, 3, 11, 1, 10, 3, 1, 21, 6, 14, 6, 1, 8, 1, 1, 4, 6, 3, 16, 1, 1, 2, 1, 1, 4, 1, 10, 20, 4, 3, 8, 2, 11, 1, 4, 6, 1, 1, 3, 1, 1, 1, 3, 6, 2, 8, 2, 1, 2, 10, 33, 9, 2, 5, 9, 2, 16, 4, 1, 7, 2, 1, 1, 4, 1, 2, 5, 3, 10, 1, 3, 2, 34, 17, 9, 2, 16, 15, 58, 1, 1, 1, 5, 4, 5, 26, 3, 5, 9, 16, 7, 3, 10, 3, 25, 2, 3, 3, 25, 4, 1, 8, 27, 8, 5, 1, 6, 1, 3, 7, 1, 1, 8, 8, 1, 3, 4, 1, 1, 3, 4, 363, 2, 4, 4, 5, 4, 19, 23, 21, 1, 1, 10, 3, 6, 1, 1, 18, 7, 8, 2, 2, 4, 9, 5, 2, 3, 35, 15, 1, 18, 2, 3, 13, 2, 11, 1, 4, 7, 5, 25, 5, 3, 10, 51, 5, 3, 3, 50, 8, 7, 8, 2, 3, 4, 6, 1, 8, 1, 5, 13, 2, 11, 4, 7, 25, 12, 23, 3, 91, 7, 7, 2, 5, 1, 4, 3, 35, 2, 1, 1, 9, 1, 2, 2, 32, 2, 10, 1, 16, 10, 7, 4, 13, 6, 1, 9, 26, 11, 2, 22, 1, 1, 28, 5, 13, 3, 1, 1, 1, 2, 5, 1, 1, 18, 6, 97, 24, 6, 3, 1, 2, 1, 20, 1, 1, 4, 1, 6, 1, 9, 2, 3, 3, 1, 10, 5, 33, 18, 1, 1, 5, 2, 1, 1, 1, 81, 1, 3, 2, 3, 1, 9, 7, 7, 3, 25, 1, 7, 1, 1, 8, 36, 40, 1, 4, 1, 1, 3, 6, 3, 3, 50, 4, 6, 12, 60, 2, 5, 35, 1, 4, 1, 4, 1, 1, 1, 2, 1, 14, 1, 5, 10, 2, 6, 9, 4, 2, 1, 17, 1, 4, 5, 8, 2, 5, 2, 1, 1, 6, 1, 8, 6, 51, 10, 2, 2, 7, 1, 1, 1, 1, 8, 1, 13, 3, 1, 1, 7, 1, 2, 84, 22, 4, 11, 2, 1, 1, 1, 9, 1, 10, 3, 1, 3, 10, 3, 1, 21, 22, 1, 1, 2, 18, 10, 160, 5, 52, 3, 2, 12, 1, 3, 55, 7, 7, 4, 80, 4, 6, 2, 11, 1, 4, 6, 4, 2, 1, 4, 3, 3, 7, 1, 1, 2, 2, 4, 5, 2, 3, 1, 11, 8, 5, 2, 3, 1, 19, 13, 1, 4, 3, 79, 2, 1, 1, 3, 1, 2, 23, 9, 3, 3, 1, 2, 22, 3, 9, 3, 2, 8, 7, 6, 3, 3, 18, 3, 2, 3, 1, 1, 1, 6, 2, 18, 3, 1, 5, 4, 1, 8, 1, 4, 29, 5, 1, 29, 1, 9, 1, 4, 9, 15, 1, 80, 1, 11, 5, 15, 1, 7, 12, 29, 2, 1, 4, 1, 51, 55, 7, 8, 2, 6, 1, 18, 1, 4, 5, 2, 9, 3, 3, 1, 2, 2, 33, 7, 4, 9, 12, 6, 1, 16, 3, 5, 1, 32, 8, 3, 3, 19, 1, 1, 3, 20, 12, 1, 1, 8, 1, 6, 1, 1, 3, 1, 9, 7, 2, 7, 7, 1, 12, 1, 1, 3, 2, 1, 3, 1, 2, 18, 2, 7, 1, 2, 2, 2, 10, 1, 1, 3, 39, 137, 14, 2, 6, 2, 1, 9, 14, 1, 20, 2, 4, 5, 1, 3, 6, 3, 5, 2, 7, 2, 1, 2, 6, 1, 11, 3, 34, 1, 1, 1, 17, 20, 4, 6, 1, 10, 1, 8, 29, 31, 5, 1, 13, 2, 4, 3, 1, 2, 1, 2, 1, 1, 5, 4, 1, 1, 1, 3, 1, 9, 20, 1, 18, 9, 1, 8, 2, 1, 4, 3, 10, 4, 2, 1, 3, 1, 2, 5, 2, 9, 4, 4, 4, 4, 2, 2, 4, 4, 2, 1, 4, 12, 4, 2, 6, 1, 2, 7, 1, 1, 44, 7, 1, 1, 2, 1, 2, 3, 8, 15, 5, 4, 1, 8, 8, 12, 3, 2, 4, 1, 1, 4, 3, 7, 30, 6, 2, 1, 4, 3, 6, 1, 1, 19, 10, 4, 2, 7, 7, 6, 1, 1, 1, 21, 3, 5, 5, 2, 2, 3, 3, 10, 49, 6, 2, 2, 5, 15, 1, 2, 9, 3, 15, 16, 49, 51, 4, 1, 1, 1, 1, 8, 5, 1, 2, 4, 6, 9, 2, 2, 4, 2, 2, 3, 3, 2, 12, 26, 3, 45, 6, 10, 4, 5, 19, 3, 3, 19, 32, 12, 1, 10, 3, 6, 1, 4, 4, 1, 3, 16, 8, 1, 2, 19, 38, 3, 1, 1, 1, 2, 5, 2, 7, 2, 3, 6, 2, 2, 5, 14, 1, 2, 57, 7, 1, 2, 1, 2, 2, 30, 1, 14, 2, 39, 1, 2, 2, 2, 1, 1, 3, 2, 8, 1, 4, 5, 3, 3, 5, 9, 3, 3, 3, 8, 1, 2, 1, 10, 6, 9, 2, 1, 3, 38, 2, 9, 3, 3, 9, 13, 3, 1, 9, 2, 6, 1, 2, 1, 3, 4, 8, 14, 1, 3, 27, 5, 7, 1, 1, 11, 28, 1, 1, 1, 3, 1, 8, 1, 1, 1, 18, 6, 4, 2, 6, 1, 3, 20, 5, 16, 7, 2, 4, 2, 2, 1, 3, 12, 8, 6, 6, 19, 11, 34, 8, 16, 1, 12, 46, 1, 2, 2, 16, 33, 1, 10, 11, 11, 6, 6, 6, 1, 5, 35, 21, 2, 11, 1, 42, 1, 10, 1, 1, 1, 1, 10, 17, 2, 16, 10, 1, 3, 4, 1, 6, 24, 1, 1, 3, 24, 6, 18, 2, 2, 30, 1, 16, 61, 10, 3, 1, 1, 3, 3, 2, 7, 5, 1, 2, 2, 5, 25, 4, 1, 6, 1, 3, 7, 2, 6, 13, 1, 5, 49, 1, 9, 1, 1, 3, 1, 2, 4, 8, 6, 1, 16, 3, 14, 33, 2, 1, 9, 55, 6, 6, 2, 5, 4, 1, 6, 4, 1, 20, 7, 169, 4, 8, 3, 12, 15, 1, 45, 4, 34, 26, 2, 3, 1, 2, 23, 4, 4, 1, 22, 23, 13, 28, 9, 5, 2, 9, 1, 25, 2, 8, 8, 1, 5, 3, 7, 1, 1, 3, 13, 6, 5, 2, 36, 1, 12, 5, 12, 56, 1, 3, 22, 63, 1, 22, 38, 3, 14, 1, 2, 1, 1, 12, 5, 4, 4, 1, 2, 1, 3, 3, 1, 1, 1, 3, 16, 10, 1, 4, 5, 1, 4, 8, 1, 2, 4, 49, 79, 6, 1, 3, 2, 7, 26, 2, 35, 1, 10, 3, 2, 4, 1, 16, 1, 1, 2, 12, 1, 1, 2, 8, 5, 1, 2, 1, 1, 1, 3, 3, 1, 4, 1, 1, 1, 7, 3, 6, 8, 2, 1, 6, 7, 5, 4, 1, 1, 5, 13, 2, 2, 35, 11, 7, 1, 10, 19, 29, 1, 1, 1, 6, 2, 3, 1, 4, 20, 1, 1, 7, 2, 56, 1, 2, 16, 10, 32, 34, 1, 25, 2, 1, 1, 1, 1, 1, 4, 10, 2, 5, 1, 12, 3, 1, 46, 1, 1, 1, 7, 3, 3, 2, 1, 2, 30, 4, 6, 1, 10, 2, 2, 1, 3, 1, 3, 2, 1, 9, 13, 2, 2, 6, 5, 2, 1, 3, 4, 23, 14, 1, 6, 35, 3, 20, 1, 1, 11, 59, 1, 8, 10, 28, 7, 2, 7, 1, 48, 9, 15, 2, 5, 2, 8, 5, 3, 2, 5, 31, 1, 61, 3, 5, 2, 59, 7, 4, 1, 1, 9, 11, 1, 7, 17, 25, 3, 1, 1, 1, 22, 3, 10, 21, 1, 1, 11, 2, 1, 20, 1, 12, 1, 2, 1, 2, 1, 7, 3, 1, 3, 29, 5, 1, 4, 6, 1, 1, 95, 4, 1, 2, 29, 67, 20, 1, 5, 2, 2, 142, 2, 1, 2, 2, 3, 2, 4, 2, 19, 20, 3, 44, 23, 3, 6, 37, 24, 11, 1, 1, 5, 1, 9, 2, 1, 7, 1, 1, 11, 21, 2, 1, 16, 9, 6, 1, 3, 2, 12, 7, 18, 1, 1, 2, 3, 7, 9, 3, 17, 3, 1, 5, 8, 10, 2, 1, 5, 4, 28, 19, 1, 27, 7, 1, 4, 2, 3, 22, 1, 37, 2, 34, 21, 1, 10, 1, 3, 1, 1, 5, 5, 1, 1, 37, 6, 12, 1, 1, 9, 3, 1, 1, 1, 24, 1, 3, 1, 3, 10, 14, 1, 8, 10, 37, 20, 5, 6, 3, 3, 1, 18, 1, 1, 2, 1, 1, 1, 5, 1, 11, 5, 15, 1, 1, 8, 1, 1, 13, 8, 6, 1, 9, 1, 9, 4, 3, 39, 1, 2, 4, 1, 82, 3, 2, 11, 1, 1, 52, 2, 3, 1, 1, 2, 5, 5, 15, 30, 3, 31, 8, 6, 2, 5, 57, 29, 4, 4, 30, 11, 1, 9, 8, 7, 6, 21, 1, 6, 1, 1, 1, 14, 2, 1, 7, 52, 6, 8, 1, 1, 10, 21, 14, 68, 1, 7, 1, 7, 4, 6, 9, 4, 1, 30, 16, 5, 11, 6, 58, 1, 23, 51, 3, 1, 10, 2, 8, 1, 2, 1, 1, 12, 1, 8, 1, 5, 2, 1, 12, 1, 8, 14, 3, 1, 1, 1, 2, 6, 1, 8, 1, 2, 18, 1, 6, 1, 5, 1, 17, 1, 1, 3, 5, 77, 17, 68, 12, 4, 2, 3, 21, 2, 11, 12, 10, 1, 1, 2, 1, 1, 7, 1, 1, 31, 1, 1, 1, 20, 5, 1, 7, 1, 15, 8, 3, 9, 4, 21, 4, 3, 1, 29, 2, 2, 1, 1, 8, 2, 10, 3, 10, 6, 4, 5, 1, 1, 1, 3, 25, 2, 5, 1, 1, 2, 1, 2, 3, 5, 2, 22, 1, 2, 70, 2, 1, 49, 4, 1, 24, 1, 4, 1, 14, 4, 5, 8, 1, 2, 31, 2, 1, 17, 7, 1, 8, 1, 10, 1, 2, 9, 2, 1, 4, 2, 2, 2, 2, 2, 1, 15, 5, 9, 11, 1, 11, 2, 3, 1, 7, 1, 8, 11, 1, 7, 114, 2, 1, 3, 1, 6, 3, 1, 1, 12, 5, 1, 11, 3, 12, 3, 1, 1, 34, 3, 5, 1, 1, 3, 7, 2, 8, 6, 1, 1, 1, 6, 2, 12, 22, 4, 1, 28, 1, 11, 145, 27, 1, 3, 39, 12, 6, 1, 17, 10, 1, 5, 6, 3, 1, 2, 2, 7, 28, 1, 11, 1, 20, 1, 28, 1, 10, 36, 24, 2, 6, 23, 2, 2, 9, 6, 1, 1, 6, 7, 9, 22, 1, 6, 35, 1, 2, 1, 80, 1, 6, 11, 1, 9, 1, 5, 85, 10, 3, 7, 1, 2, 2, 1, 7, 4, 1, 3, 1, 1, 17, 3, 7, 1, 12, 1, 2, 6, 2, 4, 3, 1, 1, 3, 1, 3, 3, 1, 10, 2, 1, 4, 3, 1, 2, 1, 3, 1, 1, 1, 5, 1, 8, 10, 2, 8, 8, 5, 16, 5, 1, 20, 6, 4, 8, 14, 23, 21, 1, 26, 9, 8, 2, 3, 8, 2, 13, 37, 5, 16, 2, 1, 7, 9, 1, 1, 4, 3, 1, 6, 1, 9, 1, 1, 2, 6, 10, 4, 1, 13, 4, 5, 15, 1, 1, 16, 1, 6, 5, 15, 1, 1, 3, 1, 1, 2, 140, 33, 1, 6, 4, 3, 2, 8, 1, 2, 3, 14, 1, 1, 1, 1, 8, 14, 13, 8, 39, 5, 1, 5, 1, 37, 4, 6, 4, 1, 10, 4, 40, 1, 10, 5, 1, 1, 19, 2, 1, 11, 1, 14, 1, 2, 2, 1, 11, 1, 14, 1, 7, 9, 6, 9, 3, 47, 4, 1, 2, 4, 4, 4, 5, 5, 47, 2, 17, 2, 7, 1, 2, 1, 4, 3, 4, 7, 8, 8, 3, 6, 2, 1, 27, 1, 12, 1, 78, 1, 12, 2, 2, 1, 2, 3, 6, 2, 6, 1, 9, 18, 39, 3, 1, 2, 10, 17, 11, 3, 1, 22, 1, 5, 2, 3, 2, 3, 13, 12, 4, 2, 2, 1, 2, 10, 4, 20, 10, 5, 19, 12, 2, 4, 73, 10, 2, 6, 18, 1, 2, 2, 1, 1, 26, 1, 3, 8, 1, 3, 3, 1, 1, 1, 2, 3, 3, 1, 9, 10, 4, 3, 4, 1, 1, 2, 1, 6, 2, 6, 8, 4, 2, 4, 5, 12, 2, 9, 2, 3, 8, 1, 7, 12, 2, 1, 3, 15, 22, 6, 13, 1, 1, 1, 1, 2, 1, 2, 3, 7, 1, 3, 17, 147, 1, 1, 13, 2, 6, 4, 11, 13, 3, 1, 12, 22, 23, 12, 2, 9, 26, 1, 1, 3, 5, 31, 23, 1, 6, 11, 1, 1, 2, 3, 9, 1, 1, 30, 4, 98, 2, 8, 4, 1, 7, 1, 1, 1, 2, 2, 7, 5, 1, 1, 2, 30, 4, 4, 5, 1, 2, 4, 62, 19, 22, 2, 3, 9, 2, 2, 8, 1, 2, 23, 1, 2, 1, 1, 13, 5, 10, 15, 2, 32, 4, 3, 2, 9, 6, 5, 12, 1, 1, 18, 2, 6, 3, 6, 8, 5, 5, 13, 15, 7, 1, 2, 18, 1, 2, 7, 8, 1, 1, 20, 5, 4, 3, 2, 42, 5, 2, 12, 53, 11, 3, 1, 6, 7, 45, 1, 1, 6, 57, 3, 1, 4, 1, 6, 1, 2, 1, 31, 3, 3, 12, 18, 1, 6, 1, 4, 38, 26, 9, 14, 1, 3, 6, 7, 2, 8, 1, 1, 1, 30, 20, 3, 2, 2, 4, 14, 2, 22, 5, 4, 4, 39, 1, 1, 15, 67, 1, 12, 13, 29, 3, 5, 2, 1, 2, 1, 3, 1, 8, 6, 6, 24, 7, 2, 136, 48, 28, 7, 5, 11, 7, 1, 19, 6, 1, 2, 1, 1, 11, 3, 30, 24, 3, 2, 7, 20, 5, 2, 10, 23, 1, 74, 2, 1, 4, 2, 1, 4, 1, 3, 4, 13, 2, 3, 2, 2, 1, 11, 3, 6, 2, 4, 1, 3, 7, 7, 2, 2, 1, 11, 1, 14, 1, 1, 1, 1, 68, 5, 2, 57, 4, 2, 22, 1, 1, 7, 3, 4, 12, 1, 5, 3, 1, 1, 1, 53, 1, 1, 2, 5, 5, 1, 1, 2, 2, 3, 14, 1, 18, 5, 11, 10, 4, 1, 15, 1, 2, 1, 1, 1, 2, 6, 41, 1, 5, 5, 1, 7, 50, 2, 8, 1, 6, 4, 1, 2, 26, 101, 34, 1, 5, 6, 2, 4, 2, 1, 5, 47, 1, 13, 6, 6, 1, 10, 23, 1, 5, 2, 6, 2, 6, 1, 2, 2, 6, 2, 1, 14, 33, 4, 16, 4, 2, 6, 6, 2, 16, 12, 21, 3, 4, 7, 1, 20, 1, 13, 1, 7, 1, 23, 17, 46, 2, 3, 1, 1, 12, 8, 38, 21, 48, 1, 43, 2, 5, 2, 28, 5, 1, 1, 1, 1, 2, 28, 3, 53, 1, 11, 2, 1, 25, 1, 2, 17, 5, 1, 2, 25, 1, 3, 1, 8, 28, 1, 1, 2, 38, 8, 6, 1, 1, 2, 6, 12, 1, 1, 1, 1, 5, 7, 10, 52, 1, 1, 9, 2, 1, 5, 12, 21, 2, 1, 47, 2, 1, 17, 3, 7, 2, 1, 12, 3, 7, 5, 6, 1, 1, 1, 1, 4, 2, 5, 11, 2, 1, 7, 36, 2, 1, 9, 2, 3, 1, 1, 4, 7, 3, 10, 9, 5, 2, 11, 1, 1, 4, 26, 1, 2, 1, 94, 3, 1, 4, 6, 3, 1, 15, 4, 25, 4, 8, 1, 1, 5, 3, 1, 2, 2, 33, 7, 8, 25, 2, 3, 8, 2, 7, 1, 11, 14, 1, 1, 1, 18, 2, 4, 9, 2, 1, 10, 2, 6, 11, 28, 7, 9, 1, 13, 20, 3, 1, 2, 2, 3, 1, 1, 1, 3, 2, 14, 2, 1, 10, 3, 1, 13, 30, 1, 43, 8, 1, 8, 3, 4, 13, 17, 6, 1, 8, 3, 7, 8, 2, 2, 6, 1, 1, 6, 3, 5, 8, 10, 1, 6, 6, 2, 1, 3, 10, 1, 13, 16, 1, 42, 5, 13, 1, 2, 42, 15, 36, 11, 1, 158, 1, 12, 5, 2, 2, 11, 4, 6, 25, 4, 1, 4, 12, 3, 1, 5, 1, 44, 1, 12, 5, 2, 4, 5, 19, 19, 9, 2, 2, 4, 3, 3, 1, 3, 4, 1, 1, 5, 1, 1, 2, 13, 1, 15, 1, 1, 1, 2, 27, 1, 13, 18, 6, 3, 35, 21, 1, 1, 5, 2, 5, 1, 82, 1, 18, 5, 2, 29, 4, 4, 1, 28, 1, 2, 35, 8, 2, 6, 1, 2, 38, 1, 7, 1, 1, 5, 1, 1, 1, 9, 2, 13, 7, 3, 33, 116, 1, 7, 1, 1, 1, 1, 3, 3, 13, 4, 8, 20, 10, 30, 5, 1, 1, 1, 15, 3, 3, 2, 4, 1, 3, 1, 1, 4, 13, 3, 4, 1, 1, 2, 3, 1, 14, 7, 9, 38, 1, 2, 4, 32, 10, 13]}],\n                        {\"template\": {\"data\": {\"bar\": [{\"error_x\": {\"color\": \"#2a3f5f\"}, \"error_y\": {\"color\": \"#2a3f5f\"}, \"marker\": {\"line\": {\"color\": \"#E5ECF6\", \"width\": 0.5}}, \"type\": \"bar\"}], \"barpolar\": [{\"marker\": {\"line\": {\"color\": \"#E5ECF6\", \"width\": 0.5}}, \"type\": \"barpolar\"}], \"carpet\": [{\"aaxis\": {\"endlinecolor\": \"#2a3f5f\", \"gridcolor\": \"white\", \"linecolor\": \"white\", \"minorgridcolor\": \"white\", \"startlinecolor\": \"#2a3f5f\"}, \"baxis\": {\"endlinecolor\": \"#2a3f5f\", \"gridcolor\": \"white\", \"linecolor\": \"white\", \"minorgridcolor\": \"white\", \"startlinecolor\": \"#2a3f5f\"}, \"type\": \"carpet\"}], \"choropleth\": [{\"colorbar\": {\"outlinewidth\": 0, \"ticks\": \"\"}, \"type\": \"choropleth\"}], \"contour\": [{\"colorbar\": {\"outlinewidth\": 0, \"ticks\": \"\"}, \"colorscale\": [[0.0, \"#0d0887\"], [0.1111111111111111, \"#46039f\"], [0.2222222222222222, \"#7201a8\"], [0.3333333333333333, \"#9c179e\"], [0.4444444444444444, \"#bd3786\"], [0.5555555555555556, \"#d8576b\"], [0.6666666666666666, \"#ed7953\"], [0.7777777777777778, \"#fb9f3a\"], [0.8888888888888888, \"#fdca26\"], [1.0, \"#f0f921\"]], \"type\": \"contour\"}], \"contourcarpet\": [{\"colorbar\": {\"outlinewidth\": 0, \"ticks\": \"\"}, \"type\": \"contourcarpet\"}], \"heatmap\": [{\"colorbar\": {\"outlinewidth\": 0, \"ticks\": \"\"}, \"colorscale\": [[0.0, \"#0d0887\"], [0.1111111111111111, \"#46039f\"], [0.2222222222222222, \"#7201a8\"], [0.3333333333333333, \"#9c179e\"], [0.4444444444444444, \"#bd3786\"], [0.5555555555555556, \"#d8576b\"], [0.6666666666666666, \"#ed7953\"], [0.7777777777777778, \"#fb9f3a\"], [0.8888888888888888, \"#fdca26\"], [1.0, \"#f0f921\"]], \"type\": \"heatmap\"}], \"heatmapgl\": [{\"colorbar\": {\"outlinewidth\": 0, \"ticks\": \"\"}, \"colorscale\": [[0.0, \"#0d0887\"], [0.1111111111111111, \"#46039f\"], [0.2222222222222222, \"#7201a8\"], [0.3333333333333333, \"#9c179e\"], [0.4444444444444444, \"#bd3786\"], [0.5555555555555556, \"#d8576b\"], [0.6666666666666666, \"#ed7953\"], [0.7777777777777778, \"#fb9f3a\"], [0.8888888888888888, \"#fdca26\"], [1.0, \"#f0f921\"]], \"type\": \"heatmapgl\"}], \"histogram\": [{\"marker\": {\"colorbar\": {\"outlinewidth\": 0, \"ticks\": \"\"}}, \"type\": \"histogram\"}], \"histogram2d\": [{\"colorbar\": {\"outlinewidth\": 0, \"ticks\": \"\"}, \"colorscale\": [[0.0, \"#0d0887\"], [0.1111111111111111, \"#46039f\"], [0.2222222222222222, \"#7201a8\"], [0.3333333333333333, \"#9c179e\"], [0.4444444444444444, \"#bd3786\"], [0.5555555555555556, \"#d8576b\"], [0.6666666666666666, \"#ed7953\"], [0.7777777777777778, \"#fb9f3a\"], [0.8888888888888888, \"#fdca26\"], [1.0, \"#f0f921\"]], \"type\": \"histogram2d\"}], \"histogram2dcontour\": [{\"colorbar\": {\"outlinewidth\": 0, \"ticks\": \"\"}, \"colorscale\": [[0.0, \"#0d0887\"], [0.1111111111111111, \"#46039f\"], [0.2222222222222222, \"#7201a8\"], [0.3333333333333333, \"#9c179e\"], [0.4444444444444444, \"#bd3786\"], [0.5555555555555556, \"#d8576b\"], [0.6666666666666666, \"#ed7953\"], [0.7777777777777778, \"#fb9f3a\"], [0.8888888888888888, \"#fdca26\"], [1.0, \"#f0f921\"]], \"type\": \"histogram2dcontour\"}], \"mesh3d\": [{\"colorbar\": {\"outlinewidth\": 0, \"ticks\": \"\"}, \"type\": \"mesh3d\"}], \"parcoords\": [{\"line\": {\"colorbar\": {\"outlinewidth\": 0, \"ticks\": \"\"}}, \"type\": \"parcoords\"}], \"pie\": [{\"automargin\": true, \"type\": \"pie\"}], \"scatter\": [{\"marker\": {\"colorbar\": {\"outlinewidth\": 0, \"ticks\": \"\"}}, \"type\": \"scatter\"}], \"scatter3d\": [{\"line\": {\"colorbar\": {\"outlinewidth\": 0, \"ticks\": \"\"}}, \"marker\": {\"colorbar\": {\"outlinewidth\": 0, \"ticks\": \"\"}}, \"type\": \"scatter3d\"}], \"scattercarpet\": [{\"marker\": {\"colorbar\": {\"outlinewidth\": 0, \"ticks\": \"\"}}, \"type\": \"scattercarpet\"}], \"scattergeo\": [{\"marker\": {\"colorbar\": {\"outlinewidth\": 0, \"ticks\": \"\"}}, \"type\": \"scattergeo\"}], \"scattergl\": [{\"marker\": {\"colorbar\": {\"outlinewidth\": 0, \"ticks\": \"\"}}, \"type\": \"scattergl\"}], \"scattermapbox\": [{\"marker\": {\"colorbar\": {\"outlinewidth\": 0, \"ticks\": \"\"}}, \"type\": \"scattermapbox\"}], \"scatterpolar\": [{\"marker\": {\"colorbar\": {\"outlinewidth\": 0, \"ticks\": \"\"}}, \"type\": \"scatterpolar\"}], \"scatterpolargl\": [{\"marker\": {\"colorbar\": {\"outlinewidth\": 0, \"ticks\": \"\"}}, \"type\": \"scatterpolargl\"}], \"scatterternary\": [{\"marker\": {\"colorbar\": {\"outlinewidth\": 0, \"ticks\": \"\"}}, \"type\": \"scatterternary\"}], \"surface\": [{\"colorbar\": {\"outlinewidth\": 0, \"ticks\": \"\"}, \"colorscale\": [[0.0, \"#0d0887\"], [0.1111111111111111, \"#46039f\"], [0.2222222222222222, \"#7201a8\"], [0.3333333333333333, \"#9c179e\"], [0.4444444444444444, \"#bd3786\"], [0.5555555555555556, \"#d8576b\"], [0.6666666666666666, \"#ed7953\"], [0.7777777777777778, \"#fb9f3a\"], [0.8888888888888888, \"#fdca26\"], [1.0, \"#f0f921\"]], \"type\": \"surface\"}], \"table\": [{\"cells\": {\"fill\": {\"color\": \"#EBF0F8\"}, \"line\": {\"color\": \"white\"}}, \"header\": {\"fill\": {\"color\": \"#C8D4E3\"}, \"line\": {\"color\": \"white\"}}, \"type\": \"table\"}]}, \"layout\": {\"annotationdefaults\": {\"arrowcolor\": \"#2a3f5f\", \"arrowhead\": 0, \"arrowwidth\": 1}, \"coloraxis\": {\"colorbar\": {\"outlinewidth\": 0, \"ticks\": \"\"}}, \"colorscale\": {\"diverging\": [[0, \"#8e0152\"], [0.1, \"#c51b7d\"], [0.2, \"#de77ae\"], [0.3, \"#f1b6da\"], [0.4, \"#fde0ef\"], [0.5, \"#f7f7f7\"], [0.6, \"#e6f5d0\"], [0.7, \"#b8e186\"], [0.8, \"#7fbc41\"], [0.9, \"#4d9221\"], [1, \"#276419\"]], \"sequential\": [[0.0, \"#0d0887\"], [0.1111111111111111, \"#46039f\"], [0.2222222222222222, \"#7201a8\"], [0.3333333333333333, \"#9c179e\"], [0.4444444444444444, \"#bd3786\"], [0.5555555555555556, \"#d8576b\"], [0.6666666666666666, \"#ed7953\"], [0.7777777777777778, \"#fb9f3a\"], [0.8888888888888888, \"#fdca26\"], [1.0, \"#f0f921\"]], \"sequentialminus\": [[0.0, \"#0d0887\"], [0.1111111111111111, \"#46039f\"], [0.2222222222222222, \"#7201a8\"], [0.3333333333333333, \"#9c179e\"], [0.4444444444444444, \"#bd3786\"], [0.5555555555555556, \"#d8576b\"], [0.6666666666666666, \"#ed7953\"], [0.7777777777777778, \"#fb9f3a\"], [0.8888888888888888, \"#fdca26\"], [1.0, \"#f0f921\"]]}, \"colorway\": [\"#636efa\", \"#EF553B\", \"#00cc96\", \"#ab63fa\", \"#FFA15A\", \"#19d3f3\", \"#FF6692\", \"#B6E880\", \"#FF97FF\", \"#FECB52\"], \"font\": {\"color\": \"#2a3f5f\"}, \"geo\": {\"bgcolor\": \"white\", \"lakecolor\": \"white\", \"landcolor\": \"#E5ECF6\", \"showlakes\": true, \"showland\": true, \"subunitcolor\": \"white\"}, \"hoverlabel\": {\"align\": \"left\"}, \"hovermode\": \"closest\", \"mapbox\": {\"style\": \"light\"}, \"paper_bgcolor\": \"white\", \"plot_bgcolor\": \"#E5ECF6\", \"polar\": {\"angularaxis\": {\"gridcolor\": \"white\", \"linecolor\": \"white\", \"ticks\": \"\"}, \"bgcolor\": \"#E5ECF6\", \"radialaxis\": {\"gridcolor\": \"white\", \"linecolor\": \"white\", \"ticks\": \"\"}}, \"scene\": {\"xaxis\": {\"backgroundcolor\": \"#E5ECF6\", \"gridcolor\": \"white\", \"gridwidth\": 2, \"linecolor\": \"white\", \"showbackground\": true, \"ticks\": \"\", \"zerolinecolor\": \"white\"}, \"yaxis\": {\"backgroundcolor\": \"#E5ECF6\", \"gridcolor\": \"white\", \"gridwidth\": 2, \"linecolor\": \"white\", \"showbackground\": true, \"ticks\": \"\", \"zerolinecolor\": \"white\"}, \"zaxis\": {\"backgroundcolor\": \"#E5ECF6\", \"gridcolor\": \"white\", \"gridwidth\": 2, \"linecolor\": \"white\", \"showbackground\": true, \"ticks\": \"\", \"zerolinecolor\": \"white\"}}, \"shapedefaults\": {\"line\": {\"color\": \"#2a3f5f\"}}, \"ternary\": {\"aaxis\": {\"gridcolor\": \"white\", \"linecolor\": \"white\", \"ticks\": \"\"}, \"baxis\": {\"gridcolor\": \"white\", \"linecolor\": \"white\", \"ticks\": \"\"}, \"bgcolor\": \"#E5ECF6\", \"caxis\": {\"gridcolor\": \"white\", \"linecolor\": \"white\", \"ticks\": \"\"}}, \"title\": {\"x\": 0.05}, \"xaxis\": {\"automargin\": true, \"gridcolor\": \"white\", \"linecolor\": \"white\", \"ticks\": \"\", \"title\": {\"standoff\": 15}, \"zerolinecolor\": \"white\", \"zerolinewidth\": 2}, \"yaxis\": {\"automargin\": true, \"gridcolor\": \"white\", \"linecolor\": \"white\", \"ticks\": \"\", \"title\": {\"standoff\": 15}, \"zerolinecolor\": \"white\", \"zerolinewidth\": 2}}}, \"title\": {\"text\": \"Distribution of Num Article Interactions by Proportion of Users\", \"x\": 0.5}, \"xaxis\": {\"title\": {\"text\": \"Number of Article Interactions\"}}, \"yaxis\": {\"title\": {\"text\": \"Proportion of Users\"}}},\n                        {\"responsive\": true}\n                    ).then(function(){\n                            \nvar gd = document.getElementById('0b4ec760-5af4-4180-acb3-4638dc84740d');\nvar x = new MutationObserver(function (mutations, observer) {{\n        var display = window.getComputedStyle(gd).display;\n        if (!display || display === 'none') {{\n            console.log([gd, 'removed!']);\n            Plotly.purge(gd);\n            observer.disconnect();\n        }}\n}});\n\n// Listen for the removal of the full notebook cells\nvar notebookContainer = gd.closest('#notebook-container');\nif (notebookContainer) {{\n    x.observe(notebookContainer, {childList: true});\n}}\n\n// Listen for the clearing of the current output cell\nvar outputEl = gd.closest('.output');\nif (outputEl) {{\n    x.observe(outputEl, {childList: true});\n}}\n\n                        })\n                };\n                });\n            </script>\n        </div>"
     },
     "metadata": {},
     "output_type": "display_data"
    }
   ],
   "source": [
    "# plot histogram of num article interactions\n",
    "\n",
    "hist_data = go.Histogram(x=email_interactions.num_interactions, histnorm='probability')\n",
    "hist_layout = go.Layout(\n",
    "    title=dict(\n",
    "        text='Distribution of Num Article Interactions by Proportion of Users',\n",
    "        x=0.5\n",
    "        ),\n",
    "    xaxis=dict(title=\"Number of Article Interactions\"),\n",
    "    yaxis=dict(title=\"Proportion of Users\"),\n",
    "    )\n",
    "fig = go.Figure(data=[hist_data], layout=hist_layout)\n",
    "py.iplot(fig)"
   ]
  },
  {
   "cell_type": "markdown",
   "metadata": {},
   "source": [
    "Most users read only a handful of articles."
   ]
  },
  {
   "cell_type": "code",
   "execution_count": 6,
   "metadata": {},
   "outputs": [
    {
     "data": {
      "text/html": "<div>\n<style scoped>\n    .dataframe tbody tr th:only-of-type {\n        vertical-align: middle;\n    }\n\n    .dataframe tbody tr th {\n        vertical-align: top;\n    }\n\n    .dataframe thead th {\n        text-align: right;\n    }\n</style>\n<table border=\"1\" class=\"dataframe\">\n  <thead>\n    <tr style=\"text-align: right;\">\n      <th></th>\n      <th>num_interactions</th>\n      <th>num_users</th>\n      <th>cum_users</th>\n      <th>prop</th>\n      <th>cum_prop</th>\n    </tr>\n  </thead>\n  <tbody>\n    <tr>\n      <th>0</th>\n      <td>1</td>\n      <td>1416</td>\n      <td>1416</td>\n      <td>0.275058</td>\n      <td>0.275058</td>\n    </tr>\n    <tr>\n      <th>1</th>\n      <td>2</td>\n      <td>694</td>\n      <td>2110</td>\n      <td>0.134810</td>\n      <td>0.409868</td>\n    </tr>\n    <tr>\n      <th>2</th>\n      <td>3</td>\n      <td>485</td>\n      <td>2595</td>\n      <td>0.094211</td>\n      <td>0.504079</td>\n    </tr>\n    <tr>\n      <th>3</th>\n      <td>4</td>\n      <td>351</td>\n      <td>2946</td>\n      <td>0.068182</td>\n      <td>0.572261</td>\n    </tr>\n    <tr>\n      <th>4</th>\n      <td>5</td>\n      <td>277</td>\n      <td>3223</td>\n      <td>0.053807</td>\n      <td>0.626068</td>\n    </tr>\n  </tbody>\n</table>\n</div>",
      "text/plain": "   num_interactions  num_users  cum_users      prop  cum_prop\n0                 1       1416       1416  0.275058  0.275058\n1                 2        694       2110  0.134810  0.409868\n2                 3        485       2595  0.094211  0.504079\n3                 4        351       2946  0.068182  0.572261\n4                 5        277       3223  0.053807  0.626068"
     },
     "execution_count": 6,
     "metadata": {},
     "output_type": "execute_result"
    }
   ],
   "source": [
    "# wrangle data for a cumulative histogram plot\n",
    "\n",
    "grped_interactions = pd.DataFrame(email_interactions \\\n",
    "                                  .groupby('num_interactions') \\\n",
    "                                  .size(),\n",
    "                                  columns=['num_users']) \\\n",
    "                                  .reset_index()\n",
    "grped_interactions['cum_users'] = grped_interactions.num_users.cumsum()\n",
    "grped_interactions['prop'] = grped_interactions.num_users / grped_interactions.num_users.sum()\n",
    "grped_interactions['cum_prop'] = grped_interactions.prop.cumsum()\n",
    "grped_interactions.head()"
   ]
  },
  {
   "cell_type": "code",
   "execution_count": 7,
   "metadata": {},
   "outputs": [],
   "source": [
    "# continue wrangling\n",
    "continuous_range = pd.DataFrame(\n",
    "    data=np.arange(1, grped_interactions.num_interactions.max() + 1),\n",
    "    columns=['num_interactions']\n",
    ")\n",
    "\n",
    "filled = continuous_range.merge(grped_interactions, how='left', on='num_interactions')\n",
    "filled['cum_prop'] = filled.cum_prop.ffill()"
   ]
  },
  {
   "cell_type": "code",
   "execution_count": 8,
   "metadata": {},
   "outputs": [
    {
     "data": {
      "application/vnd.plotly.v1+json": {
       "config": {
        "linkText": "Export to plot.ly",
        "plotlyServerURL": "https://plot.ly",
        "showLink": false
       },
       "data": [
        {
         "type": "bar",
         "x": [
          1,
          2,
          3,
          4,
          5,
          6,
          7,
          8,
          9,
          10,
          11,
          12,
          13,
          14,
          15,
          16,
          17,
          18,
          19,
          20,
          21,
          22,
          23,
          24,
          25,
          26,
          27,
          28,
          29,
          30,
          31,
          32,
          33,
          34,
          35,
          36,
          37,
          38,
          39,
          40,
          41,
          42,
          43,
          44,
          45,
          46,
          47,
          48,
          49,
          50,
          51,
          52,
          53,
          54,
          55,
          56,
          57,
          58,
          59,
          60,
          61,
          62,
          63,
          64,
          65,
          66,
          67,
          68,
          69,
          70,
          71,
          72,
          73,
          74,
          75,
          76,
          77,
          78,
          79,
          80,
          81,
          82,
          83,
          84,
          85,
          86,
          87,
          88,
          89,
          90,
          91,
          92,
          93,
          94,
          95,
          96,
          97,
          98,
          99,
          100,
          101,
          102,
          103,
          104,
          105,
          106,
          107,
          108,
          109,
          110,
          111,
          112,
          113,
          114,
          115,
          116,
          117,
          118,
          119,
          120,
          121,
          122,
          123,
          124,
          125,
          126,
          127,
          128,
          129,
          130,
          131,
          132,
          133,
          134,
          135,
          136,
          137,
          138,
          139,
          140,
          141,
          142,
          143,
          144,
          145,
          146,
          147,
          148,
          149,
          150,
          151,
          152,
          153,
          154,
          155,
          156,
          157,
          158,
          159,
          160,
          161,
          162,
          163,
          164,
          165,
          166,
          167,
          168,
          169,
          170,
          171,
          172,
          173,
          174,
          175,
          176,
          177,
          178,
          179,
          180,
          181,
          182,
          183,
          184,
          185,
          186,
          187,
          188,
          189,
          190,
          191,
          192,
          193,
          194,
          195,
          196,
          197,
          198,
          199,
          200,
          201,
          202,
          203,
          204,
          205,
          206,
          207,
          208,
          209,
          210,
          211,
          212,
          213,
          214,
          215,
          216,
          217,
          218,
          219,
          220,
          221,
          222,
          223,
          224,
          225,
          226,
          227,
          228,
          229,
          230,
          231,
          232,
          233,
          234,
          235,
          236,
          237,
          238,
          239,
          240,
          241,
          242,
          243,
          244,
          245,
          246,
          247,
          248,
          249,
          250,
          251,
          252,
          253,
          254,
          255,
          256,
          257,
          258,
          259,
          260,
          261,
          262,
          263,
          264,
          265,
          266,
          267,
          268,
          269,
          270,
          271,
          272,
          273,
          274,
          275,
          276,
          277,
          278,
          279,
          280,
          281,
          282,
          283,
          284,
          285,
          286,
          287,
          288,
          289,
          290,
          291,
          292,
          293,
          294,
          295,
          296,
          297,
          298,
          299,
          300,
          301,
          302,
          303,
          304,
          305,
          306,
          307,
          308,
          309,
          310,
          311,
          312,
          313,
          314,
          315,
          316,
          317,
          318,
          319,
          320,
          321,
          322,
          323,
          324,
          325,
          326,
          327,
          328,
          329,
          330,
          331,
          332,
          333,
          334,
          335,
          336,
          337,
          338,
          339,
          340,
          341,
          342,
          343,
          344,
          345,
          346,
          347,
          348,
          349,
          350,
          351,
          352,
          353,
          354,
          355,
          356,
          357,
          358,
          359,
          360,
          361,
          362,
          363,
          364
         ],
         "y": [
          0.27505827505827507,
          0.4098679098679099,
          0.5040792540792541,
          0.5722610722610724,
          0.6260683760683762,
          0.6703574203574205,
          0.7057109557109559,
          0.7360139860139862,
          0.7583527583527585,
          0.7824397824397826,
          0.8030303030303032,
          0.8185703185703187,
          0.8323620823620825,
          0.8436285936285938,
          0.8523698523698525,
          0.8616938616938619,
          0.8682983682983685,
          0.8764568764568766,
          0.8830613830613833,
          0.8910256410256412,
          0.896853146853147,
          0.9020979020979022,
          0.906954156954157,
          0.9116161616161617,
          0.9168609168609169,
          0.9213286713286714,
          0.9238539238539238,
          0.9285159285159285,
          0.9322066822066821,
          0.9362859362859361,
          0.9386169386169385,
          0.9419191919191918,
          0.9452214452214451,
          0.9479409479409479,
          0.9510489510489509,
          0.9526029526029525,
          0.9547397047397046,
          0.9576534576534576,
          0.9599844599844599,
          0.9617327117327117,
          0.963092463092463,
          0.9646464646464645,
          0.9654234654234654,
          0.9662004662004662,
          0.9675602175602175,
          0.9685314685314684,
          0.9695027195027194,
          0.9708624708624707,
          0.9720279720279719,
          0.9735819735819734,
          0.9747474747474746,
          0.9761072261072259,
          0.9772727272727271,
          0.9774669774669773,
          0.9780497280497279,
          0.9784382284382283,
          0.9794094794094792,
          0.9805749805749804,
          0.9815462315462313,
          0.9823232323232322,
          0.9827117327117325,
          0.9832944832944831,
          0.9836829836829835,
          0.9840714840714838,
          0.984265734265734,
          0.9846542346542344,
          0.9854312354312352,
          0.9860139860139858,
          0.9864024864024862,
          0.9865967365967364,
          0.9865967365967364,
          0.9869852369852368,
          0.987179487179487,
          0.9873737373737372,
          0.9877622377622376,
          0.9883449883449882,
          0.9885392385392384,
          0.9889277389277388,
          0.9897047397047396,
          0.9902874902874902,
          0.9904817404817404,
          0.9914529914529914,
          0.9918414918414917,
          0.9924242424242423,
          0.9926184926184926,
          0.9926184926184926,
          0.9926184926184926,
          0.9926184926184926,
          0.9930069930069929,
          0.9930069930069929,
          0.9933954933954933,
          0.9935897435897435,
          0.9935897435897435,
          0.9939782439782439,
          0.9943667443667442,
          0.9945609945609944,
          0.9947552447552447,
          0.9949494949494949,
          0.9949494949494949,
          0.9949494949494949,
          0.9953379953379953,
          0.9957264957264956,
          0.9959207459207459,
          0.9961149961149961,
          0.9961149961149961,
          0.9961149961149961,
          0.9961149961149961,
          0.9961149961149961,
          0.9961149961149961,
          0.9961149961149961,
          0.9961149961149961,
          0.9961149961149961,
          0.9961149961149961,
          0.9963092463092463,
          0.9963092463092463,
          0.9965034965034966,
          0.9965034965034966,
          0.9965034965034966,
          0.9965034965034966,
          0.9965034965034966,
          0.9965034965034966,
          0.9965034965034966,
          0.9965034965034966,
          0.9965034965034966,
          0.9965034965034966,
          0.9965034965034966,
          0.9965034965034966,
          0.9965034965034966,
          0.9965034965034966,
          0.9965034965034966,
          0.9966977466977468,
          0.996891996891997,
          0.996891996891997,
          0.996891996891997,
          0.996891996891997,
          0.9970862470862473,
          0.9972804972804975,
          0.9972804972804975,
          0.9972804972804975,
          0.9974747474747477,
          0.9974747474747477,
          0.997668997668998,
          0.997668997668998,
          0.9978632478632482,
          0.9982517482517486,
          0.9982517482517486,
          0.9986402486402489,
          0.9988344988344992,
          0.9988344988344992,
          0.9988344988344992,
          0.9988344988344992,
          0.9988344988344992,
          0.9988344988344992,
          0.9988344988344992,
          0.9988344988344992,
          0.9988344988344992,
          0.9988344988344992,
          0.9990287490287494,
          0.9990287490287494,
          0.9992229992229996,
          0.9992229992229996,
          0.9992229992229996,
          0.9992229992229996,
          0.9992229992229996,
          0.9992229992229996,
          0.9992229992229996,
          0.9992229992229996,
          0.9992229992229996,
          0.9994172494172499,
          0.9996114996115001,
          0.9996114996115001,
          0.9996114996115001,
          0.9996114996115001,
          0.9996114996115001,
          0.9996114996115001,
          0.9996114996115001,
          0.9996114996115001,
          0.9996114996115001,
          0.9996114996115001,
          0.9996114996115001,
          0.9996114996115001,
          0.9996114996115001,
          0.9996114996115001,
          0.9996114996115001,
          0.9996114996115001,
          0.9996114996115001,
          0.9996114996115001,
          0.9996114996115001,
          0.9996114996115001,
          0.9996114996115001,
          0.9996114996115001,
          0.9996114996115001,
          0.9996114996115001,
          0.9996114996115001,
          0.9996114996115001,
          0.9996114996115001,
          0.9996114996115001,
          0.9996114996115001,
          0.9996114996115001,
          0.9996114996115001,
          0.9996114996115001,
          0.9996114996115001,
          0.9996114996115001,
          0.9996114996115001,
          0.9996114996115001,
          0.9996114996115001,
          0.9996114996115001,
          0.9996114996115001,
          0.9996114996115001,
          0.9996114996115001,
          0.9996114996115001,
          0.9996114996115001,
          0.9996114996115001,
          0.9996114996115001,
          0.9996114996115001,
          0.9996114996115001,
          0.9996114996115001,
          0.9996114996115001,
          0.9996114996115001,
          0.9996114996115001,
          0.9996114996115001,
          0.9996114996115001,
          0.9996114996115001,
          0.9996114996115001,
          0.9996114996115001,
          0.9996114996115001,
          0.9996114996115001,
          0.9996114996115001,
          0.9996114996115001,
          0.9996114996115001,
          0.9996114996115001,
          0.9996114996115001,
          0.9996114996115001,
          0.9996114996115001,
          0.9996114996115001,
          0.9996114996115001,
          0.9996114996115001,
          0.9996114996115001,
          0.9996114996115001,
          0.9996114996115001,
          0.9996114996115001,
          0.9996114996115001,
          0.9996114996115001,
          0.9996114996115001,
          0.9996114996115001,
          0.9996114996115001,
          0.9996114996115001,
          0.9996114996115001,
          0.9996114996115001,
          0.9996114996115001,
          0.9996114996115001,
          0.9996114996115001,
          0.9996114996115001,
          0.9996114996115001,
          0.9996114996115001,
          0.9996114996115001,
          0.9996114996115001,
          0.9996114996115001,
          0.9996114996115001,
          0.9996114996115001,
          0.9996114996115001,
          0.9996114996115001,
          0.9996114996115001,
          0.9996114996115001,
          0.9996114996115001,
          0.9996114996115001,
          0.9996114996115001,
          0.9996114996115001,
          0.9996114996115001,
          0.9996114996115001,
          0.9996114996115001,
          0.9996114996115001,
          0.9996114996115001,
          0.9996114996115001,
          0.9996114996115001,
          0.9996114996115001,
          0.9996114996115001,
          0.9996114996115001,
          0.9996114996115001,
          0.9996114996115001,
          0.9996114996115001,
          0.9996114996115001,
          0.9996114996115001,
          0.9996114996115001,
          0.9996114996115001,
          0.9996114996115001,
          0.9996114996115001,
          0.9996114996115001,
          0.9996114996115001,
          0.9996114996115001,
          0.9996114996115001,
          0.9996114996115001,
          0.9996114996115001,
          0.9996114996115001,
          0.9996114996115001,
          0.9996114996115001,
          0.9996114996115001,
          0.9996114996115001,
          0.9996114996115001,
          0.9996114996115001,
          0.9996114996115001,
          0.9996114996115001,
          0.9996114996115001,
          0.9996114996115001,
          0.9996114996115001,
          0.9996114996115001,
          0.9996114996115001,
          0.9996114996115001,
          0.9996114996115001,
          0.9996114996115001,
          0.9996114996115001,
          0.9996114996115001,
          0.9996114996115001,
          0.9996114996115001,
          0.9996114996115001,
          0.9996114996115001,
          0.9996114996115001,
          0.9996114996115001,
          0.9996114996115001,
          0.9996114996115001,
          0.9996114996115001,
          0.9996114996115001,
          0.9996114996115001,
          0.9996114996115001,
          0.9996114996115001,
          0.9996114996115001,
          0.9996114996115001,
          0.9996114996115001,
          0.9996114996115001,
          0.9996114996115001,
          0.9996114996115001,
          0.9996114996115001,
          0.9996114996115001,
          0.9996114996115001,
          0.9996114996115001,
          0.9996114996115001,
          0.9996114996115001,
          0.9996114996115001,
          0.9996114996115001,
          0.9996114996115001,
          0.9996114996115001,
          0.9996114996115001,
          0.9996114996115001,
          0.9996114996115001,
          0.9996114996115001,
          0.9996114996115001,
          0.9996114996115001,
          0.9996114996115001,
          0.9996114996115001,
          0.9996114996115001,
          0.9996114996115001,
          0.9996114996115001,
          0.9996114996115001,
          0.9996114996115001,
          0.9996114996115001,
          0.9996114996115001,
          0.9996114996115001,
          0.9996114996115001,
          0.9996114996115001,
          0.9996114996115001,
          0.9996114996115001,
          0.9996114996115001,
          0.9998057498057503,
          1.0000000000000004
         ]
        }
       ],
       "layout": {
        "template": {
         "data": {
          "bar": [
           {
            "error_x": {
             "color": "#2a3f5f"
            },
            "error_y": {
             "color": "#2a3f5f"
            },
            "marker": {
             "line": {
              "color": "#E5ECF6",
              "width": 0.5
             }
            },
            "type": "bar"
           }
          ],
          "barpolar": [
           {
            "marker": {
             "line": {
              "color": "#E5ECF6",
              "width": 0.5
             }
            },
            "type": "barpolar"
           }
          ],
          "carpet": [
           {
            "aaxis": {
             "endlinecolor": "#2a3f5f",
             "gridcolor": "white",
             "linecolor": "white",
             "minorgridcolor": "white",
             "startlinecolor": "#2a3f5f"
            },
            "baxis": {
             "endlinecolor": "#2a3f5f",
             "gridcolor": "white",
             "linecolor": "white",
             "minorgridcolor": "white",
             "startlinecolor": "#2a3f5f"
            },
            "type": "carpet"
           }
          ],
          "choropleth": [
           {
            "colorbar": {
             "outlinewidth": 0,
             "ticks": ""
            },
            "type": "choropleth"
           }
          ],
          "contour": [
           {
            "colorbar": {
             "outlinewidth": 0,
             "ticks": ""
            },
            "colorscale": [
             [
              0,
              "#0d0887"
             ],
             [
              0.1111111111111111,
              "#46039f"
             ],
             [
              0.2222222222222222,
              "#7201a8"
             ],
             [
              0.3333333333333333,
              "#9c179e"
             ],
             [
              0.4444444444444444,
              "#bd3786"
             ],
             [
              0.5555555555555556,
              "#d8576b"
             ],
             [
              0.6666666666666666,
              "#ed7953"
             ],
             [
              0.7777777777777778,
              "#fb9f3a"
             ],
             [
              0.8888888888888888,
              "#fdca26"
             ],
             [
              1,
              "#f0f921"
             ]
            ],
            "type": "contour"
           }
          ],
          "contourcarpet": [
           {
            "colorbar": {
             "outlinewidth": 0,
             "ticks": ""
            },
            "type": "contourcarpet"
           }
          ],
          "heatmap": [
           {
            "colorbar": {
             "outlinewidth": 0,
             "ticks": ""
            },
            "colorscale": [
             [
              0,
              "#0d0887"
             ],
             [
              0.1111111111111111,
              "#46039f"
             ],
             [
              0.2222222222222222,
              "#7201a8"
             ],
             [
              0.3333333333333333,
              "#9c179e"
             ],
             [
              0.4444444444444444,
              "#bd3786"
             ],
             [
              0.5555555555555556,
              "#d8576b"
             ],
             [
              0.6666666666666666,
              "#ed7953"
             ],
             [
              0.7777777777777778,
              "#fb9f3a"
             ],
             [
              0.8888888888888888,
              "#fdca26"
             ],
             [
              1,
              "#f0f921"
             ]
            ],
            "type": "heatmap"
           }
          ],
          "heatmapgl": [
           {
            "colorbar": {
             "outlinewidth": 0,
             "ticks": ""
            },
            "colorscale": [
             [
              0,
              "#0d0887"
             ],
             [
              0.1111111111111111,
              "#46039f"
             ],
             [
              0.2222222222222222,
              "#7201a8"
             ],
             [
              0.3333333333333333,
              "#9c179e"
             ],
             [
              0.4444444444444444,
              "#bd3786"
             ],
             [
              0.5555555555555556,
              "#d8576b"
             ],
             [
              0.6666666666666666,
              "#ed7953"
             ],
             [
              0.7777777777777778,
              "#fb9f3a"
             ],
             [
              0.8888888888888888,
              "#fdca26"
             ],
             [
              1,
              "#f0f921"
             ]
            ],
            "type": "heatmapgl"
           }
          ],
          "histogram": [
           {
            "marker": {
             "colorbar": {
              "outlinewidth": 0,
              "ticks": ""
             }
            },
            "type": "histogram"
           }
          ],
          "histogram2d": [
           {
            "colorbar": {
             "outlinewidth": 0,
             "ticks": ""
            },
            "colorscale": [
             [
              0,
              "#0d0887"
             ],
             [
              0.1111111111111111,
              "#46039f"
             ],
             [
              0.2222222222222222,
              "#7201a8"
             ],
             [
              0.3333333333333333,
              "#9c179e"
             ],
             [
              0.4444444444444444,
              "#bd3786"
             ],
             [
              0.5555555555555556,
              "#d8576b"
             ],
             [
              0.6666666666666666,
              "#ed7953"
             ],
             [
              0.7777777777777778,
              "#fb9f3a"
             ],
             [
              0.8888888888888888,
              "#fdca26"
             ],
             [
              1,
              "#f0f921"
             ]
            ],
            "type": "histogram2d"
           }
          ],
          "histogram2dcontour": [
           {
            "colorbar": {
             "outlinewidth": 0,
             "ticks": ""
            },
            "colorscale": [
             [
              0,
              "#0d0887"
             ],
             [
              0.1111111111111111,
              "#46039f"
             ],
             [
              0.2222222222222222,
              "#7201a8"
             ],
             [
              0.3333333333333333,
              "#9c179e"
             ],
             [
              0.4444444444444444,
              "#bd3786"
             ],
             [
              0.5555555555555556,
              "#d8576b"
             ],
             [
              0.6666666666666666,
              "#ed7953"
             ],
             [
              0.7777777777777778,
              "#fb9f3a"
             ],
             [
              0.8888888888888888,
              "#fdca26"
             ],
             [
              1,
              "#f0f921"
             ]
            ],
            "type": "histogram2dcontour"
           }
          ],
          "mesh3d": [
           {
            "colorbar": {
             "outlinewidth": 0,
             "ticks": ""
            },
            "type": "mesh3d"
           }
          ],
          "parcoords": [
           {
            "line": {
             "colorbar": {
              "outlinewidth": 0,
              "ticks": ""
             }
            },
            "type": "parcoords"
           }
          ],
          "pie": [
           {
            "automargin": true,
            "type": "pie"
           }
          ],
          "scatter": [
           {
            "marker": {
             "colorbar": {
              "outlinewidth": 0,
              "ticks": ""
             }
            },
            "type": "scatter"
           }
          ],
          "scatter3d": [
           {
            "line": {
             "colorbar": {
              "outlinewidth": 0,
              "ticks": ""
             }
            },
            "marker": {
             "colorbar": {
              "outlinewidth": 0,
              "ticks": ""
             }
            },
            "type": "scatter3d"
           }
          ],
          "scattercarpet": [
           {
            "marker": {
             "colorbar": {
              "outlinewidth": 0,
              "ticks": ""
             }
            },
            "type": "scattercarpet"
           }
          ],
          "scattergeo": [
           {
            "marker": {
             "colorbar": {
              "outlinewidth": 0,
              "ticks": ""
             }
            },
            "type": "scattergeo"
           }
          ],
          "scattergl": [
           {
            "marker": {
             "colorbar": {
              "outlinewidth": 0,
              "ticks": ""
             }
            },
            "type": "scattergl"
           }
          ],
          "scattermapbox": [
           {
            "marker": {
             "colorbar": {
              "outlinewidth": 0,
              "ticks": ""
             }
            },
            "type": "scattermapbox"
           }
          ],
          "scatterpolar": [
           {
            "marker": {
             "colorbar": {
              "outlinewidth": 0,
              "ticks": ""
             }
            },
            "type": "scatterpolar"
           }
          ],
          "scatterpolargl": [
           {
            "marker": {
             "colorbar": {
              "outlinewidth": 0,
              "ticks": ""
             }
            },
            "type": "scatterpolargl"
           }
          ],
          "scatterternary": [
           {
            "marker": {
             "colorbar": {
              "outlinewidth": 0,
              "ticks": ""
             }
            },
            "type": "scatterternary"
           }
          ],
          "surface": [
           {
            "colorbar": {
             "outlinewidth": 0,
             "ticks": ""
            },
            "colorscale": [
             [
              0,
              "#0d0887"
             ],
             [
              0.1111111111111111,
              "#46039f"
             ],
             [
              0.2222222222222222,
              "#7201a8"
             ],
             [
              0.3333333333333333,
              "#9c179e"
             ],
             [
              0.4444444444444444,
              "#bd3786"
             ],
             [
              0.5555555555555556,
              "#d8576b"
             ],
             [
              0.6666666666666666,
              "#ed7953"
             ],
             [
              0.7777777777777778,
              "#fb9f3a"
             ],
             [
              0.8888888888888888,
              "#fdca26"
             ],
             [
              1,
              "#f0f921"
             ]
            ],
            "type": "surface"
           }
          ],
          "table": [
           {
            "cells": {
             "fill": {
              "color": "#EBF0F8"
             },
             "line": {
              "color": "white"
             }
            },
            "header": {
             "fill": {
              "color": "#C8D4E3"
             },
             "line": {
              "color": "white"
             }
            },
            "type": "table"
           }
          ]
         },
         "layout": {
          "annotationdefaults": {
           "arrowcolor": "#2a3f5f",
           "arrowhead": 0,
           "arrowwidth": 1
          },
          "coloraxis": {
           "colorbar": {
            "outlinewidth": 0,
            "ticks": ""
           }
          },
          "colorscale": {
           "diverging": [
            [
             0,
             "#8e0152"
            ],
            [
             0.1,
             "#c51b7d"
            ],
            [
             0.2,
             "#de77ae"
            ],
            [
             0.3,
             "#f1b6da"
            ],
            [
             0.4,
             "#fde0ef"
            ],
            [
             0.5,
             "#f7f7f7"
            ],
            [
             0.6,
             "#e6f5d0"
            ],
            [
             0.7,
             "#b8e186"
            ],
            [
             0.8,
             "#7fbc41"
            ],
            [
             0.9,
             "#4d9221"
            ],
            [
             1,
             "#276419"
            ]
           ],
           "sequential": [
            [
             0,
             "#0d0887"
            ],
            [
             0.1111111111111111,
             "#46039f"
            ],
            [
             0.2222222222222222,
             "#7201a8"
            ],
            [
             0.3333333333333333,
             "#9c179e"
            ],
            [
             0.4444444444444444,
             "#bd3786"
            ],
            [
             0.5555555555555556,
             "#d8576b"
            ],
            [
             0.6666666666666666,
             "#ed7953"
            ],
            [
             0.7777777777777778,
             "#fb9f3a"
            ],
            [
             0.8888888888888888,
             "#fdca26"
            ],
            [
             1,
             "#f0f921"
            ]
           ],
           "sequentialminus": [
            [
             0,
             "#0d0887"
            ],
            [
             0.1111111111111111,
             "#46039f"
            ],
            [
             0.2222222222222222,
             "#7201a8"
            ],
            [
             0.3333333333333333,
             "#9c179e"
            ],
            [
             0.4444444444444444,
             "#bd3786"
            ],
            [
             0.5555555555555556,
             "#d8576b"
            ],
            [
             0.6666666666666666,
             "#ed7953"
            ],
            [
             0.7777777777777778,
             "#fb9f3a"
            ],
            [
             0.8888888888888888,
             "#fdca26"
            ],
            [
             1,
             "#f0f921"
            ]
           ]
          },
          "colorway": [
           "#636efa",
           "#EF553B",
           "#00cc96",
           "#ab63fa",
           "#FFA15A",
           "#19d3f3",
           "#FF6692",
           "#B6E880",
           "#FF97FF",
           "#FECB52"
          ],
          "font": {
           "color": "#2a3f5f"
          },
          "geo": {
           "bgcolor": "white",
           "lakecolor": "white",
           "landcolor": "#E5ECF6",
           "showlakes": true,
           "showland": true,
           "subunitcolor": "white"
          },
          "hoverlabel": {
           "align": "left"
          },
          "hovermode": "closest",
          "mapbox": {
           "style": "light"
          },
          "paper_bgcolor": "white",
          "plot_bgcolor": "#E5ECF6",
          "polar": {
           "angularaxis": {
            "gridcolor": "white",
            "linecolor": "white",
            "ticks": ""
           },
           "bgcolor": "#E5ECF6",
           "radialaxis": {
            "gridcolor": "white",
            "linecolor": "white",
            "ticks": ""
           }
          },
          "scene": {
           "xaxis": {
            "backgroundcolor": "#E5ECF6",
            "gridcolor": "white",
            "gridwidth": 2,
            "linecolor": "white",
            "showbackground": true,
            "ticks": "",
            "zerolinecolor": "white"
           },
           "yaxis": {
            "backgroundcolor": "#E5ECF6",
            "gridcolor": "white",
            "gridwidth": 2,
            "linecolor": "white",
            "showbackground": true,
            "ticks": "",
            "zerolinecolor": "white"
           },
           "zaxis": {
            "backgroundcolor": "#E5ECF6",
            "gridcolor": "white",
            "gridwidth": 2,
            "linecolor": "white",
            "showbackground": true,
            "ticks": "",
            "zerolinecolor": "white"
           }
          },
          "shapedefaults": {
           "line": {
            "color": "#2a3f5f"
           }
          },
          "ternary": {
           "aaxis": {
            "gridcolor": "white",
            "linecolor": "white",
            "ticks": ""
           },
           "baxis": {
            "gridcolor": "white",
            "linecolor": "white",
            "ticks": ""
           },
           "bgcolor": "#E5ECF6",
           "caxis": {
            "gridcolor": "white",
            "linecolor": "white",
            "ticks": ""
           }
          },
          "title": {
           "x": 0.05
          },
          "xaxis": {
           "automargin": true,
           "gridcolor": "white",
           "linecolor": "white",
           "ticks": "",
           "title": {
            "standoff": 15
           },
           "zerolinecolor": "white",
           "zerolinewidth": 2
          },
          "yaxis": {
           "automargin": true,
           "gridcolor": "white",
           "linecolor": "white",
           "ticks": "",
           "title": {
            "standoff": 15
           },
           "zerolinecolor": "white",
           "zerolinewidth": 2
          }
         }
        },
        "title": {
         "text": "Cumulative Distribution of Num Article Interactions by Proportion of Users",
         "x": 0.5
        },
        "xaxis": {
         "title": {
          "text": "Number of Article Interactions"
         }
        },
        "yaxis": {
         "title": {
          "text": "Proportion of Users"
         }
        }
       }
      },
      "text/html": "<div>\n        \n        \n            <div id=\"3ea9b9ea-13e3-434b-8530-8bd6fad53c92\" class=\"plotly-graph-div\" style=\"height:525px; width:100%;\"></div>\n            <script type=\"text/javascript\">\n                require([\"plotly\"], function(Plotly) {\n                    window.PLOTLYENV=window.PLOTLYENV || {};\n                    \n                if (document.getElementById(\"3ea9b9ea-13e3-434b-8530-8bd6fad53c92\")) {\n                    Plotly.newPlot(\n                        '3ea9b9ea-13e3-434b-8530-8bd6fad53c92',\n                        [{\"type\": \"bar\", \"x\": [1, 2, 3, 4, 5, 6, 7, 8, 9, 10, 11, 12, 13, 14, 15, 16, 17, 18, 19, 20, 21, 22, 23, 24, 25, 26, 27, 28, 29, 30, 31, 32, 33, 34, 35, 36, 37, 38, 39, 40, 41, 42, 43, 44, 45, 46, 47, 48, 49, 50, 51, 52, 53, 54, 55, 56, 57, 58, 59, 60, 61, 62, 63, 64, 65, 66, 67, 68, 69, 70, 71, 72, 73, 74, 75, 76, 77, 78, 79, 80, 81, 82, 83, 84, 85, 86, 87, 88, 89, 90, 91, 92, 93, 94, 95, 96, 97, 98, 99, 100, 101, 102, 103, 104, 105, 106, 107, 108, 109, 110, 111, 112, 113, 114, 115, 116, 117, 118, 119, 120, 121, 122, 123, 124, 125, 126, 127, 128, 129, 130, 131, 132, 133, 134, 135, 136, 137, 138, 139, 140, 141, 142, 143, 144, 145, 146, 147, 148, 149, 150, 151, 152, 153, 154, 155, 156, 157, 158, 159, 160, 161, 162, 163, 164, 165, 166, 167, 168, 169, 170, 171, 172, 173, 174, 175, 176, 177, 178, 179, 180, 181, 182, 183, 184, 185, 186, 187, 188, 189, 190, 191, 192, 193, 194, 195, 196, 197, 198, 199, 200, 201, 202, 203, 204, 205, 206, 207, 208, 209, 210, 211, 212, 213, 214, 215, 216, 217, 218, 219, 220, 221, 222, 223, 224, 225, 226, 227, 228, 229, 230, 231, 232, 233, 234, 235, 236, 237, 238, 239, 240, 241, 242, 243, 244, 245, 246, 247, 248, 249, 250, 251, 252, 253, 254, 255, 256, 257, 258, 259, 260, 261, 262, 263, 264, 265, 266, 267, 268, 269, 270, 271, 272, 273, 274, 275, 276, 277, 278, 279, 280, 281, 282, 283, 284, 285, 286, 287, 288, 289, 290, 291, 292, 293, 294, 295, 296, 297, 298, 299, 300, 301, 302, 303, 304, 305, 306, 307, 308, 309, 310, 311, 312, 313, 314, 315, 316, 317, 318, 319, 320, 321, 322, 323, 324, 325, 326, 327, 328, 329, 330, 331, 332, 333, 334, 335, 336, 337, 338, 339, 340, 341, 342, 343, 344, 345, 346, 347, 348, 349, 350, 351, 352, 353, 354, 355, 356, 357, 358, 359, 360, 361, 362, 363, 364], \"y\": [0.27505827505827507, 0.4098679098679099, 0.5040792540792541, 0.5722610722610724, 0.6260683760683762, 0.6703574203574205, 0.7057109557109559, 0.7360139860139862, 0.7583527583527585, 0.7824397824397826, 0.8030303030303032, 0.8185703185703187, 0.8323620823620825, 0.8436285936285938, 0.8523698523698525, 0.8616938616938619, 0.8682983682983685, 0.8764568764568766, 0.8830613830613833, 0.8910256410256412, 0.896853146853147, 0.9020979020979022, 0.906954156954157, 0.9116161616161617, 0.9168609168609169, 0.9213286713286714, 0.9238539238539238, 0.9285159285159285, 0.9322066822066821, 0.9362859362859361, 0.9386169386169385, 0.9419191919191918, 0.9452214452214451, 0.9479409479409479, 0.9510489510489509, 0.9526029526029525, 0.9547397047397046, 0.9576534576534576, 0.9599844599844599, 0.9617327117327117, 0.963092463092463, 0.9646464646464645, 0.9654234654234654, 0.9662004662004662, 0.9675602175602175, 0.9685314685314684, 0.9695027195027194, 0.9708624708624707, 0.9720279720279719, 0.9735819735819734, 0.9747474747474746, 0.9761072261072259, 0.9772727272727271, 0.9774669774669773, 0.9780497280497279, 0.9784382284382283, 0.9794094794094792, 0.9805749805749804, 0.9815462315462313, 0.9823232323232322, 0.9827117327117325, 0.9832944832944831, 0.9836829836829835, 0.9840714840714838, 0.984265734265734, 0.9846542346542344, 0.9854312354312352, 0.9860139860139858, 0.9864024864024862, 0.9865967365967364, 0.9865967365967364, 0.9869852369852368, 0.987179487179487, 0.9873737373737372, 0.9877622377622376, 0.9883449883449882, 0.9885392385392384, 0.9889277389277388, 0.9897047397047396, 0.9902874902874902, 0.9904817404817404, 0.9914529914529914, 0.9918414918414917, 0.9924242424242423, 0.9926184926184926, 0.9926184926184926, 0.9926184926184926, 0.9926184926184926, 0.9930069930069929, 0.9930069930069929, 0.9933954933954933, 0.9935897435897435, 0.9935897435897435, 0.9939782439782439, 0.9943667443667442, 0.9945609945609944, 0.9947552447552447, 0.9949494949494949, 0.9949494949494949, 0.9949494949494949, 0.9953379953379953, 0.9957264957264956, 0.9959207459207459, 0.9961149961149961, 0.9961149961149961, 0.9961149961149961, 0.9961149961149961, 0.9961149961149961, 0.9961149961149961, 0.9961149961149961, 0.9961149961149961, 0.9961149961149961, 0.9961149961149961, 0.9963092463092463, 0.9963092463092463, 0.9965034965034966, 0.9965034965034966, 0.9965034965034966, 0.9965034965034966, 0.9965034965034966, 0.9965034965034966, 0.9965034965034966, 0.9965034965034966, 0.9965034965034966, 0.9965034965034966, 0.9965034965034966, 0.9965034965034966, 0.9965034965034966, 0.9965034965034966, 0.9965034965034966, 0.9966977466977468, 0.996891996891997, 0.996891996891997, 0.996891996891997, 0.996891996891997, 0.9970862470862473, 0.9972804972804975, 0.9972804972804975, 0.9972804972804975, 0.9974747474747477, 0.9974747474747477, 0.997668997668998, 0.997668997668998, 0.9978632478632482, 0.9982517482517486, 0.9982517482517486, 0.9986402486402489, 0.9988344988344992, 0.9988344988344992, 0.9988344988344992, 0.9988344988344992, 0.9988344988344992, 0.9988344988344992, 0.9988344988344992, 0.9988344988344992, 0.9988344988344992, 0.9988344988344992, 0.9990287490287494, 0.9990287490287494, 0.9992229992229996, 0.9992229992229996, 0.9992229992229996, 0.9992229992229996, 0.9992229992229996, 0.9992229992229996, 0.9992229992229996, 0.9992229992229996, 0.9992229992229996, 0.9994172494172499, 0.9996114996115001, 0.9996114996115001, 0.9996114996115001, 0.9996114996115001, 0.9996114996115001, 0.9996114996115001, 0.9996114996115001, 0.9996114996115001, 0.9996114996115001, 0.9996114996115001, 0.9996114996115001, 0.9996114996115001, 0.9996114996115001, 0.9996114996115001, 0.9996114996115001, 0.9996114996115001, 0.9996114996115001, 0.9996114996115001, 0.9996114996115001, 0.9996114996115001, 0.9996114996115001, 0.9996114996115001, 0.9996114996115001, 0.9996114996115001, 0.9996114996115001, 0.9996114996115001, 0.9996114996115001, 0.9996114996115001, 0.9996114996115001, 0.9996114996115001, 0.9996114996115001, 0.9996114996115001, 0.9996114996115001, 0.9996114996115001, 0.9996114996115001, 0.9996114996115001, 0.9996114996115001, 0.9996114996115001, 0.9996114996115001, 0.9996114996115001, 0.9996114996115001, 0.9996114996115001, 0.9996114996115001, 0.9996114996115001, 0.9996114996115001, 0.9996114996115001, 0.9996114996115001, 0.9996114996115001, 0.9996114996115001, 0.9996114996115001, 0.9996114996115001, 0.9996114996115001, 0.9996114996115001, 0.9996114996115001, 0.9996114996115001, 0.9996114996115001, 0.9996114996115001, 0.9996114996115001, 0.9996114996115001, 0.9996114996115001, 0.9996114996115001, 0.9996114996115001, 0.9996114996115001, 0.9996114996115001, 0.9996114996115001, 0.9996114996115001, 0.9996114996115001, 0.9996114996115001, 0.9996114996115001, 0.9996114996115001, 0.9996114996115001, 0.9996114996115001, 0.9996114996115001, 0.9996114996115001, 0.9996114996115001, 0.9996114996115001, 0.9996114996115001, 0.9996114996115001, 0.9996114996115001, 0.9996114996115001, 0.9996114996115001, 0.9996114996115001, 0.9996114996115001, 0.9996114996115001, 0.9996114996115001, 0.9996114996115001, 0.9996114996115001, 0.9996114996115001, 0.9996114996115001, 0.9996114996115001, 0.9996114996115001, 0.9996114996115001, 0.9996114996115001, 0.9996114996115001, 0.9996114996115001, 0.9996114996115001, 0.9996114996115001, 0.9996114996115001, 0.9996114996115001, 0.9996114996115001, 0.9996114996115001, 0.9996114996115001, 0.9996114996115001, 0.9996114996115001, 0.9996114996115001, 0.9996114996115001, 0.9996114996115001, 0.9996114996115001, 0.9996114996115001, 0.9996114996115001, 0.9996114996115001, 0.9996114996115001, 0.9996114996115001, 0.9996114996115001, 0.9996114996115001, 0.9996114996115001, 0.9996114996115001, 0.9996114996115001, 0.9996114996115001, 0.9996114996115001, 0.9996114996115001, 0.9996114996115001, 0.9996114996115001, 0.9996114996115001, 0.9996114996115001, 0.9996114996115001, 0.9996114996115001, 0.9996114996115001, 0.9996114996115001, 0.9996114996115001, 0.9996114996115001, 0.9996114996115001, 0.9996114996115001, 0.9996114996115001, 0.9996114996115001, 0.9996114996115001, 0.9996114996115001, 0.9996114996115001, 0.9996114996115001, 0.9996114996115001, 0.9996114996115001, 0.9996114996115001, 0.9996114996115001, 0.9996114996115001, 0.9996114996115001, 0.9996114996115001, 0.9996114996115001, 0.9996114996115001, 0.9996114996115001, 0.9996114996115001, 0.9996114996115001, 0.9996114996115001, 0.9996114996115001, 0.9996114996115001, 0.9996114996115001, 0.9996114996115001, 0.9996114996115001, 0.9996114996115001, 0.9996114996115001, 0.9996114996115001, 0.9996114996115001, 0.9996114996115001, 0.9996114996115001, 0.9996114996115001, 0.9996114996115001, 0.9996114996115001, 0.9996114996115001, 0.9996114996115001, 0.9996114996115001, 0.9996114996115001, 0.9996114996115001, 0.9996114996115001, 0.9996114996115001, 0.9996114996115001, 0.9996114996115001, 0.9996114996115001, 0.9996114996115001, 0.9996114996115001, 0.9996114996115001, 0.9996114996115001, 0.9996114996115001, 0.9996114996115001, 0.9996114996115001, 0.9996114996115001, 0.9996114996115001, 0.9996114996115001, 0.9996114996115001, 0.9996114996115001, 0.9996114996115001, 0.9996114996115001, 0.9996114996115001, 0.9996114996115001, 0.9996114996115001, 0.9998057498057503, 1.0000000000000004]}],\n                        {\"template\": {\"data\": {\"bar\": [{\"error_x\": {\"color\": \"#2a3f5f\"}, \"error_y\": {\"color\": \"#2a3f5f\"}, \"marker\": {\"line\": {\"color\": \"#E5ECF6\", \"width\": 0.5}}, \"type\": \"bar\"}], \"barpolar\": [{\"marker\": {\"line\": {\"color\": \"#E5ECF6\", \"width\": 0.5}}, \"type\": \"barpolar\"}], \"carpet\": [{\"aaxis\": {\"endlinecolor\": \"#2a3f5f\", \"gridcolor\": \"white\", \"linecolor\": \"white\", \"minorgridcolor\": \"white\", \"startlinecolor\": \"#2a3f5f\"}, \"baxis\": {\"endlinecolor\": \"#2a3f5f\", \"gridcolor\": \"white\", \"linecolor\": \"white\", \"minorgridcolor\": \"white\", \"startlinecolor\": \"#2a3f5f\"}, \"type\": \"carpet\"}], \"choropleth\": [{\"colorbar\": {\"outlinewidth\": 0, \"ticks\": \"\"}, \"type\": \"choropleth\"}], \"contour\": [{\"colorbar\": {\"outlinewidth\": 0, \"ticks\": \"\"}, \"colorscale\": [[0.0, \"#0d0887\"], [0.1111111111111111, \"#46039f\"], [0.2222222222222222, \"#7201a8\"], [0.3333333333333333, \"#9c179e\"], [0.4444444444444444, \"#bd3786\"], [0.5555555555555556, \"#d8576b\"], [0.6666666666666666, \"#ed7953\"], [0.7777777777777778, \"#fb9f3a\"], [0.8888888888888888, \"#fdca26\"], [1.0, \"#f0f921\"]], \"type\": \"contour\"}], \"contourcarpet\": [{\"colorbar\": {\"outlinewidth\": 0, \"ticks\": \"\"}, \"type\": \"contourcarpet\"}], \"heatmap\": [{\"colorbar\": {\"outlinewidth\": 0, \"ticks\": \"\"}, \"colorscale\": [[0.0, \"#0d0887\"], [0.1111111111111111, \"#46039f\"], [0.2222222222222222, \"#7201a8\"], [0.3333333333333333, \"#9c179e\"], [0.4444444444444444, \"#bd3786\"], [0.5555555555555556, \"#d8576b\"], [0.6666666666666666, \"#ed7953\"], [0.7777777777777778, \"#fb9f3a\"], [0.8888888888888888, \"#fdca26\"], [1.0, \"#f0f921\"]], \"type\": \"heatmap\"}], \"heatmapgl\": [{\"colorbar\": {\"outlinewidth\": 0, \"ticks\": \"\"}, \"colorscale\": [[0.0, \"#0d0887\"], [0.1111111111111111, \"#46039f\"], [0.2222222222222222, \"#7201a8\"], [0.3333333333333333, \"#9c179e\"], [0.4444444444444444, \"#bd3786\"], [0.5555555555555556, \"#d8576b\"], [0.6666666666666666, \"#ed7953\"], [0.7777777777777778, \"#fb9f3a\"], [0.8888888888888888, \"#fdca26\"], [1.0, \"#f0f921\"]], \"type\": \"heatmapgl\"}], \"histogram\": [{\"marker\": {\"colorbar\": {\"outlinewidth\": 0, \"ticks\": \"\"}}, \"type\": \"histogram\"}], \"histogram2d\": [{\"colorbar\": {\"outlinewidth\": 0, \"ticks\": \"\"}, \"colorscale\": [[0.0, \"#0d0887\"], [0.1111111111111111, \"#46039f\"], [0.2222222222222222, \"#7201a8\"], [0.3333333333333333, \"#9c179e\"], [0.4444444444444444, \"#bd3786\"], [0.5555555555555556, \"#d8576b\"], [0.6666666666666666, \"#ed7953\"], [0.7777777777777778, \"#fb9f3a\"], [0.8888888888888888, \"#fdca26\"], [1.0, \"#f0f921\"]], \"type\": \"histogram2d\"}], \"histogram2dcontour\": [{\"colorbar\": {\"outlinewidth\": 0, \"ticks\": \"\"}, \"colorscale\": [[0.0, \"#0d0887\"], [0.1111111111111111, \"#46039f\"], [0.2222222222222222, \"#7201a8\"], [0.3333333333333333, \"#9c179e\"], [0.4444444444444444, \"#bd3786\"], [0.5555555555555556, \"#d8576b\"], [0.6666666666666666, \"#ed7953\"], [0.7777777777777778, \"#fb9f3a\"], [0.8888888888888888, \"#fdca26\"], [1.0, \"#f0f921\"]], \"type\": \"histogram2dcontour\"}], \"mesh3d\": [{\"colorbar\": {\"outlinewidth\": 0, \"ticks\": \"\"}, \"type\": \"mesh3d\"}], \"parcoords\": [{\"line\": {\"colorbar\": {\"outlinewidth\": 0, \"ticks\": \"\"}}, \"type\": \"parcoords\"}], \"pie\": [{\"automargin\": true, \"type\": \"pie\"}], \"scatter\": [{\"marker\": {\"colorbar\": {\"outlinewidth\": 0, \"ticks\": \"\"}}, \"type\": \"scatter\"}], \"scatter3d\": [{\"line\": {\"colorbar\": {\"outlinewidth\": 0, \"ticks\": \"\"}}, \"marker\": {\"colorbar\": {\"outlinewidth\": 0, \"ticks\": \"\"}}, \"type\": \"scatter3d\"}], \"scattercarpet\": [{\"marker\": {\"colorbar\": {\"outlinewidth\": 0, \"ticks\": \"\"}}, \"type\": \"scattercarpet\"}], \"scattergeo\": [{\"marker\": {\"colorbar\": {\"outlinewidth\": 0, \"ticks\": \"\"}}, \"type\": \"scattergeo\"}], \"scattergl\": [{\"marker\": {\"colorbar\": {\"outlinewidth\": 0, \"ticks\": \"\"}}, \"type\": \"scattergl\"}], \"scattermapbox\": [{\"marker\": {\"colorbar\": {\"outlinewidth\": 0, \"ticks\": \"\"}}, \"type\": \"scattermapbox\"}], \"scatterpolar\": [{\"marker\": {\"colorbar\": {\"outlinewidth\": 0, \"ticks\": \"\"}}, \"type\": \"scatterpolar\"}], \"scatterpolargl\": [{\"marker\": {\"colorbar\": {\"outlinewidth\": 0, \"ticks\": \"\"}}, \"type\": \"scatterpolargl\"}], \"scatterternary\": [{\"marker\": {\"colorbar\": {\"outlinewidth\": 0, \"ticks\": \"\"}}, \"type\": \"scatterternary\"}], \"surface\": [{\"colorbar\": {\"outlinewidth\": 0, \"ticks\": \"\"}, \"colorscale\": [[0.0, \"#0d0887\"], [0.1111111111111111, \"#46039f\"], [0.2222222222222222, \"#7201a8\"], [0.3333333333333333, \"#9c179e\"], [0.4444444444444444, \"#bd3786\"], [0.5555555555555556, \"#d8576b\"], [0.6666666666666666, \"#ed7953\"], [0.7777777777777778, \"#fb9f3a\"], [0.8888888888888888, \"#fdca26\"], [1.0, \"#f0f921\"]], \"type\": \"surface\"}], \"table\": [{\"cells\": {\"fill\": {\"color\": \"#EBF0F8\"}, \"line\": {\"color\": \"white\"}}, \"header\": {\"fill\": {\"color\": \"#C8D4E3\"}, \"line\": {\"color\": \"white\"}}, \"type\": \"table\"}]}, \"layout\": {\"annotationdefaults\": {\"arrowcolor\": \"#2a3f5f\", \"arrowhead\": 0, \"arrowwidth\": 1}, \"coloraxis\": {\"colorbar\": {\"outlinewidth\": 0, \"ticks\": \"\"}}, \"colorscale\": {\"diverging\": [[0, \"#8e0152\"], [0.1, \"#c51b7d\"], [0.2, \"#de77ae\"], [0.3, \"#f1b6da\"], [0.4, \"#fde0ef\"], [0.5, \"#f7f7f7\"], [0.6, \"#e6f5d0\"], [0.7, \"#b8e186\"], [0.8, \"#7fbc41\"], [0.9, \"#4d9221\"], [1, \"#276419\"]], \"sequential\": [[0.0, \"#0d0887\"], [0.1111111111111111, \"#46039f\"], [0.2222222222222222, \"#7201a8\"], [0.3333333333333333, \"#9c179e\"], [0.4444444444444444, \"#bd3786\"], [0.5555555555555556, \"#d8576b\"], [0.6666666666666666, \"#ed7953\"], [0.7777777777777778, \"#fb9f3a\"], [0.8888888888888888, \"#fdca26\"], [1.0, \"#f0f921\"]], \"sequentialminus\": [[0.0, \"#0d0887\"], [0.1111111111111111, \"#46039f\"], [0.2222222222222222, \"#7201a8\"], [0.3333333333333333, \"#9c179e\"], [0.4444444444444444, \"#bd3786\"], [0.5555555555555556, \"#d8576b\"], [0.6666666666666666, \"#ed7953\"], [0.7777777777777778, \"#fb9f3a\"], [0.8888888888888888, \"#fdca26\"], [1.0, \"#f0f921\"]]}, \"colorway\": [\"#636efa\", \"#EF553B\", \"#00cc96\", \"#ab63fa\", \"#FFA15A\", \"#19d3f3\", \"#FF6692\", \"#B6E880\", \"#FF97FF\", \"#FECB52\"], \"font\": {\"color\": \"#2a3f5f\"}, \"geo\": {\"bgcolor\": \"white\", \"lakecolor\": \"white\", \"landcolor\": \"#E5ECF6\", \"showlakes\": true, \"showland\": true, \"subunitcolor\": \"white\"}, \"hoverlabel\": {\"align\": \"left\"}, \"hovermode\": \"closest\", \"mapbox\": {\"style\": \"light\"}, \"paper_bgcolor\": \"white\", \"plot_bgcolor\": \"#E5ECF6\", \"polar\": {\"angularaxis\": {\"gridcolor\": \"white\", \"linecolor\": \"white\", \"ticks\": \"\"}, \"bgcolor\": \"#E5ECF6\", \"radialaxis\": {\"gridcolor\": \"white\", \"linecolor\": \"white\", \"ticks\": \"\"}}, \"scene\": {\"xaxis\": {\"backgroundcolor\": \"#E5ECF6\", \"gridcolor\": \"white\", \"gridwidth\": 2, \"linecolor\": \"white\", \"showbackground\": true, \"ticks\": \"\", \"zerolinecolor\": \"white\"}, \"yaxis\": {\"backgroundcolor\": \"#E5ECF6\", \"gridcolor\": \"white\", \"gridwidth\": 2, \"linecolor\": \"white\", \"showbackground\": true, \"ticks\": \"\", \"zerolinecolor\": \"white\"}, \"zaxis\": {\"backgroundcolor\": \"#E5ECF6\", \"gridcolor\": \"white\", \"gridwidth\": 2, \"linecolor\": \"white\", \"showbackground\": true, \"ticks\": \"\", \"zerolinecolor\": \"white\"}}, \"shapedefaults\": {\"line\": {\"color\": \"#2a3f5f\"}}, \"ternary\": {\"aaxis\": {\"gridcolor\": \"white\", \"linecolor\": \"white\", \"ticks\": \"\"}, \"baxis\": {\"gridcolor\": \"white\", \"linecolor\": \"white\", \"ticks\": \"\"}, \"bgcolor\": \"#E5ECF6\", \"caxis\": {\"gridcolor\": \"white\", \"linecolor\": \"white\", \"ticks\": \"\"}}, \"title\": {\"x\": 0.05}, \"xaxis\": {\"automargin\": true, \"gridcolor\": \"white\", \"linecolor\": \"white\", \"ticks\": \"\", \"title\": {\"standoff\": 15}, \"zerolinecolor\": \"white\", \"zerolinewidth\": 2}, \"yaxis\": {\"automargin\": true, \"gridcolor\": \"white\", \"linecolor\": \"white\", \"ticks\": \"\", \"title\": {\"standoff\": 15}, \"zerolinecolor\": \"white\", \"zerolinewidth\": 2}}}, \"title\": {\"text\": \"Cumulative Distribution of Num Article Interactions by Proportion of Users\", \"x\": 0.5}, \"xaxis\": {\"title\": {\"text\": \"Number of Article Interactions\"}}, \"yaxis\": {\"title\": {\"text\": \"Proportion of Users\"}}},\n                        {\"responsive\": true}\n                    ).then(function(){\n                            \nvar gd = document.getElementById('3ea9b9ea-13e3-434b-8530-8bd6fad53c92');\nvar x = new MutationObserver(function (mutations, observer) {{\n        var display = window.getComputedStyle(gd).display;\n        if (!display || display === 'none') {{\n            console.log([gd, 'removed!']);\n            Plotly.purge(gd);\n            observer.disconnect();\n        }}\n}});\n\n// Listen for the removal of the full notebook cells\nvar notebookContainer = gd.closest('#notebook-container');\nif (notebookContainer) {{\n    x.observe(notebookContainer, {childList: true});\n}}\n\n// Listen for the clearing of the current output cell\nvar outputEl = gd.closest('.output');\nif (outputEl) {{\n    x.observe(outputEl, {childList: true});\n}}\n\n                        })\n                };\n                });\n            </script>\n        </div>"
     },
     "metadata": {},
     "output_type": "display_data"
    }
   ],
   "source": [
    "cum_hist_data = go.Bar(x=filled.num_interactions, y=filled.cum_prop)\n",
    "cum_hist_layout = go.Layout(\n",
    "    title=dict(\n",
    "        text='Cumulative Distribution of Num Article Interactions by Proportion of Users',\n",
    "        x=0.5\n",
    "        ),\n",
    "    xaxis=dict(title=\"Number of Article Interactions\"),\n",
    "    yaxis=dict(title=\"Proportion of Users\"),\n",
    "    )\n",
    "fig = go.Figure(data=[cum_hist_data], layout=cum_hist_layout)\n",
    "py.iplot(fig)"
   ]
  },
  {
   "cell_type": "code",
   "execution_count": 9,
   "metadata": {},
   "outputs": [
    {
     "data": {
      "text/plain": "count    5148.000000\nmean        8.930847\nstd        16.802267\nmin         1.000000\n25%         1.000000\n50%         3.000000\n75%         9.000000\nmax       364.000000\nName: num_interactions, dtype: float64"
     },
     "execution_count": 9,
     "metadata": {},
     "output_type": "execute_result"
    }
   ],
   "source": [
    "# get descriptive statistics for the number of interactions per user distro\n",
    "email_interactions.num_interactions.describe()"
   ]
  },
  {
   "cell_type": "code",
   "execution_count": 10,
   "metadata": {},
   "outputs": [],
   "source": [
    "# Fill in the median and maximum number of user_article interactions below\n",
    "\n",
    "median_val = 3 \n",
    "max_views_by_user = 364"
   ]
  },
  {
   "cell_type": "code",
   "execution_count": 11,
   "metadata": {},
   "outputs": [
    {
     "data": {
      "text/html": "<div>\n<style scoped>\n    .dataframe tbody tr th:only-of-type {\n        vertical-align: middle;\n    }\n\n    .dataframe tbody tr th {\n        vertical-align: top;\n    }\n\n    .dataframe thead th {\n        text-align: right;\n    }\n</style>\n<table border=\"1\" class=\"dataframe\">\n  <thead>\n    <tr style=\"text-align: right;\">\n      <th></th>\n      <th>article_id</th>\n      <th>num_users</th>\n    </tr>\n  </thead>\n  <tbody>\n    <tr>\n      <th>0</th>\n      <td>0.0</td>\n      <td>14</td>\n    </tr>\n    <tr>\n      <th>1</th>\n      <td>2.0</td>\n      <td>58</td>\n    </tr>\n    <tr>\n      <th>2</th>\n      <td>4.0</td>\n      <td>13</td>\n    </tr>\n    <tr>\n      <th>3</th>\n      <td>8.0</td>\n      <td>85</td>\n    </tr>\n    <tr>\n      <th>4</th>\n      <td>9.0</td>\n      <td>10</td>\n    </tr>\n  </tbody>\n</table>\n</div>",
      "text/plain": "   article_id  num_users\n0         0.0         14\n1         2.0         58\n2         4.0         13\n3         8.0         85\n4         9.0         10"
     },
     "execution_count": 11,
     "metadata": {},
     "output_type": "execute_result"
    }
   ],
   "source": [
    "article_interactions = df.groupby('article_id').email.size().reset_index()\n",
    "article_interactions.columns=['article_id', 'num_users']\n",
    "article_interactions.head()"
   ]
  },
  {
   "cell_type": "code",
   "execution_count": 12,
   "metadata": {},
   "outputs": [
    {
     "data": {
      "application/vnd.plotly.v1+json": {
       "config": {
        "linkText": "Export to plot.ly",
        "plotlyServerURL": "https://plot.ly",
        "showLink": false
       },
       "data": [
        {
         "histnorm": "probability",
         "nbinsx": 100,
         "type": "histogram",
         "x": [
          14,
          58,
          13,
          85,
          10,
          157,
          89,
          26,
          61,
          78,
          249,
          15,
          89,
          42,
          75,
          17,
          64,
          141,
          93,
          18,
          68,
          70,
          460,
          11,
          89,
          124,
          115,
          20,
          140,
          11,
          13,
          16,
          21,
          55,
          29,
          57,
          69,
          57,
          11,
          57,
          19,
          24,
          12,
          18,
          24,
          38,
          7,
          152,
          9,
          89,
          29,
          78,
          28,
          189,
          198,
          64,
          68,
          20,
          28,
          16,
          160,
          10,
          130,
          110,
          325,
          127,
          54,
          75,
          44,
          10,
          37,
          75,
          42,
          26,
          22,
          33,
          352,
          59,
          85,
          13,
          38,
          150,
          222,
          91,
          12,
          16,
          9,
          40,
          7,
          78,
          33,
          124,
          115,
          21,
          89,
          63,
          53,
          113,
          21,
          113,
          85,
          42,
          31,
          33,
          68,
          16,
          20,
          41,
          198,
          33,
          48,
          169,
          37,
          155,
          42,
          23,
          46,
          59,
          10,
          15,
          222,
          44,
          20,
          151,
          16,
          24,
          14,
          60,
          45,
          24,
          38,
          18,
          41,
          28,
          18,
          23,
          34,
          10,
          84,
          34,
          15,
          51,
          60,
          90,
          15,
          18,
          18,
          65,
          9,
          85,
          34,
          19,
          25,
          22,
          23,
          85,
          43,
          6,
          19,
          67,
          5,
          13,
          33,
          80,
          3,
          2,
          11,
          24,
          93,
          11,
          9,
          2,
          73,
          29,
          44,
          10,
          2,
          4,
          270,
          3,
          21,
          12,
          10,
          7,
          134,
          35,
          13,
          152,
          2,
          1,
          4,
          47,
          15,
          32,
          10,
          4,
          2,
          10,
          40,
          2,
          54,
          8,
          49,
          23,
          20,
          98,
          11,
          56,
          48,
          22,
          60,
          9,
          5,
          19,
          91,
          17,
          16,
          160,
          50,
          77,
          48,
          12,
          48,
          68,
          2,
          12,
          6,
          2,
          60,
          113,
          8,
          8,
          4,
          17,
          22,
          85,
          32,
          10,
          8,
          179,
          14,
          54,
          4,
          4,
          14,
          56,
          30,
          5,
          42,
          8,
          18,
          2,
          23,
          26,
          2,
          6,
          128,
          21,
          209,
          32,
          46,
          43,
          4,
          21,
          64,
          20,
          21,
          10,
          3,
          18,
          38,
          2,
          124,
          2,
          102,
          55,
          108,
          1,
          9,
          19,
          83,
          22,
          1,
          39,
          28,
          12,
          84,
          16,
          107,
          1,
          2,
          13,
          6,
          18,
          220,
          73,
          107,
          18,
          67,
          36,
          58,
          4,
          32,
          2,
          6,
          12,
          18,
          31,
          21,
          95,
          1,
          41,
          32,
          121,
          143,
          239,
          25,
          4,
          46,
          52,
          10,
          2,
          2,
          12,
          7,
          56,
          6,
          46,
          64,
          28,
          2,
          10,
          29,
          25,
          18,
          68,
          37,
          111,
          4,
          5,
          108,
          151,
          40,
          84,
          41,
          101,
          44,
          99,
          35,
          15,
          35,
          8,
          29,
          27,
          12,
          36,
          123,
          32,
          2,
          38,
          19,
          41,
          104,
          11,
          18,
          4,
          45,
          34,
          23,
          10,
          63,
          54,
          24,
          7,
          125,
          52,
          10,
          10,
          26,
          44,
          11,
          105,
          14,
          30,
          135,
          2,
          6,
          126,
          2,
          10,
          11,
          28,
          25,
          35,
          100,
          83,
          65,
          3,
          51,
          28,
          45,
          26,
          139,
          2,
          9,
          1,
          74,
          36,
          130,
          1,
          4,
          13,
          26,
          19,
          62,
          4,
          16,
          7,
          14,
          17,
          116,
          5,
          81,
          234,
          66,
          74,
          182,
          51,
          8,
          18,
          8,
          45,
          4,
          52,
          137,
          108,
          87,
          42,
          330,
          215,
          219,
          103,
          58,
          79,
          22,
          66,
          57,
          22,
          8,
          6,
          3,
          9,
          5,
          2,
          4,
          2,
          6,
          4,
          1,
          5,
          9,
          2,
          9,
          3,
          8,
          5,
          2,
          4,
          5,
          2,
          2,
          2,
          1,
          8,
          2,
          3,
          3,
          2,
          1,
          8,
          4,
          1,
          8,
          2,
          2,
          6,
          9,
          8,
          1,
          3,
          2,
          2,
          2,
          2,
          26,
          6,
          6,
          11,
          9,
          12,
          2,
          12,
          8,
          4,
          8,
          14,
          23,
          8,
          16,
          10,
          14,
          26,
          2,
          42,
          55,
          37,
          433,
          24,
          512,
          290,
          253,
          372,
          192,
          2,
          28,
          57,
          565,
          213,
          363,
          32,
          213,
          55,
          171,
          21,
          38,
          6,
          78,
          116,
          168,
          73,
          442,
          145,
          6,
          2,
          32,
          16,
          10,
          8,
          2,
          2,
          2,
          23,
          5,
          1,
          1,
          2,
          3,
          2,
          2,
          23,
          8,
          30,
          2,
          2,
          5,
          2,
          12,
          1,
          4,
          2,
          1,
          2,
          4,
          2,
          5,
          7,
          6,
          6,
          8,
          12,
          32,
          1,
          4,
          473,
          24,
          204,
          347,
          74,
          104,
          30,
          25,
          18,
          191,
          2,
          3,
          30,
          13,
          39,
          7,
          15,
          572,
          4,
          10,
          193,
          4,
          61,
          40,
          2,
          483,
          413,
          8,
          4,
          4,
          47,
          614,
          4,
          95,
          6,
          6,
          160,
          58,
          183,
          2,
          148,
          40,
          927,
          29,
          206,
          8,
          2,
          2,
          379,
          37,
          382,
          2,
          293,
          1,
          2,
          7,
          24,
          43,
          457,
          426,
          3,
          41,
          123,
          19,
          13,
          214,
          12,
          16,
          22,
          627,
          2,
          69,
          185,
          418,
          10,
          4,
          2,
          11,
          2,
          189,
          26,
          2,
          191,
          455,
          182,
          122,
          206,
          24,
          465,
          279,
          7,
          52,
          69,
          50,
          136,
          58,
          22,
          16,
          54,
          109,
          42,
          25,
          4,
          11,
          102,
          43,
          6,
          113,
          3,
          163,
          155,
          131,
          71,
          138,
          643,
          120,
          937,
          336,
          671,
          340,
          108,
          42,
          120,
          481,
          218,
          59,
          10,
          8,
          4,
          22,
          5
         ]
        }
       ],
       "layout": {
        "template": {
         "data": {
          "bar": [
           {
            "error_x": {
             "color": "#2a3f5f"
            },
            "error_y": {
             "color": "#2a3f5f"
            },
            "marker": {
             "line": {
              "color": "#E5ECF6",
              "width": 0.5
             }
            },
            "type": "bar"
           }
          ],
          "barpolar": [
           {
            "marker": {
             "line": {
              "color": "#E5ECF6",
              "width": 0.5
             }
            },
            "type": "barpolar"
           }
          ],
          "carpet": [
           {
            "aaxis": {
             "endlinecolor": "#2a3f5f",
             "gridcolor": "white",
             "linecolor": "white",
             "minorgridcolor": "white",
             "startlinecolor": "#2a3f5f"
            },
            "baxis": {
             "endlinecolor": "#2a3f5f",
             "gridcolor": "white",
             "linecolor": "white",
             "minorgridcolor": "white",
             "startlinecolor": "#2a3f5f"
            },
            "type": "carpet"
           }
          ],
          "choropleth": [
           {
            "colorbar": {
             "outlinewidth": 0,
             "ticks": ""
            },
            "type": "choropleth"
           }
          ],
          "contour": [
           {
            "colorbar": {
             "outlinewidth": 0,
             "ticks": ""
            },
            "colorscale": [
             [
              0,
              "#0d0887"
             ],
             [
              0.1111111111111111,
              "#46039f"
             ],
             [
              0.2222222222222222,
              "#7201a8"
             ],
             [
              0.3333333333333333,
              "#9c179e"
             ],
             [
              0.4444444444444444,
              "#bd3786"
             ],
             [
              0.5555555555555556,
              "#d8576b"
             ],
             [
              0.6666666666666666,
              "#ed7953"
             ],
             [
              0.7777777777777778,
              "#fb9f3a"
             ],
             [
              0.8888888888888888,
              "#fdca26"
             ],
             [
              1,
              "#f0f921"
             ]
            ],
            "type": "contour"
           }
          ],
          "contourcarpet": [
           {
            "colorbar": {
             "outlinewidth": 0,
             "ticks": ""
            },
            "type": "contourcarpet"
           }
          ],
          "heatmap": [
           {
            "colorbar": {
             "outlinewidth": 0,
             "ticks": ""
            },
            "colorscale": [
             [
              0,
              "#0d0887"
             ],
             [
              0.1111111111111111,
              "#46039f"
             ],
             [
              0.2222222222222222,
              "#7201a8"
             ],
             [
              0.3333333333333333,
              "#9c179e"
             ],
             [
              0.4444444444444444,
              "#bd3786"
             ],
             [
              0.5555555555555556,
              "#d8576b"
             ],
             [
              0.6666666666666666,
              "#ed7953"
             ],
             [
              0.7777777777777778,
              "#fb9f3a"
             ],
             [
              0.8888888888888888,
              "#fdca26"
             ],
             [
              1,
              "#f0f921"
             ]
            ],
            "type": "heatmap"
           }
          ],
          "heatmapgl": [
           {
            "colorbar": {
             "outlinewidth": 0,
             "ticks": ""
            },
            "colorscale": [
             [
              0,
              "#0d0887"
             ],
             [
              0.1111111111111111,
              "#46039f"
             ],
             [
              0.2222222222222222,
              "#7201a8"
             ],
             [
              0.3333333333333333,
              "#9c179e"
             ],
             [
              0.4444444444444444,
              "#bd3786"
             ],
             [
              0.5555555555555556,
              "#d8576b"
             ],
             [
              0.6666666666666666,
              "#ed7953"
             ],
             [
              0.7777777777777778,
              "#fb9f3a"
             ],
             [
              0.8888888888888888,
              "#fdca26"
             ],
             [
              1,
              "#f0f921"
             ]
            ],
            "type": "heatmapgl"
           }
          ],
          "histogram": [
           {
            "marker": {
             "colorbar": {
              "outlinewidth": 0,
              "ticks": ""
             }
            },
            "type": "histogram"
           }
          ],
          "histogram2d": [
           {
            "colorbar": {
             "outlinewidth": 0,
             "ticks": ""
            },
            "colorscale": [
             [
              0,
              "#0d0887"
             ],
             [
              0.1111111111111111,
              "#46039f"
             ],
             [
              0.2222222222222222,
              "#7201a8"
             ],
             [
              0.3333333333333333,
              "#9c179e"
             ],
             [
              0.4444444444444444,
              "#bd3786"
             ],
             [
              0.5555555555555556,
              "#d8576b"
             ],
             [
              0.6666666666666666,
              "#ed7953"
             ],
             [
              0.7777777777777778,
              "#fb9f3a"
             ],
             [
              0.8888888888888888,
              "#fdca26"
             ],
             [
              1,
              "#f0f921"
             ]
            ],
            "type": "histogram2d"
           }
          ],
          "histogram2dcontour": [
           {
            "colorbar": {
             "outlinewidth": 0,
             "ticks": ""
            },
            "colorscale": [
             [
              0,
              "#0d0887"
             ],
             [
              0.1111111111111111,
              "#46039f"
             ],
             [
              0.2222222222222222,
              "#7201a8"
             ],
             [
              0.3333333333333333,
              "#9c179e"
             ],
             [
              0.4444444444444444,
              "#bd3786"
             ],
             [
              0.5555555555555556,
              "#d8576b"
             ],
             [
              0.6666666666666666,
              "#ed7953"
             ],
             [
              0.7777777777777778,
              "#fb9f3a"
             ],
             [
              0.8888888888888888,
              "#fdca26"
             ],
             [
              1,
              "#f0f921"
             ]
            ],
            "type": "histogram2dcontour"
           }
          ],
          "mesh3d": [
           {
            "colorbar": {
             "outlinewidth": 0,
             "ticks": ""
            },
            "type": "mesh3d"
           }
          ],
          "parcoords": [
           {
            "line": {
             "colorbar": {
              "outlinewidth": 0,
              "ticks": ""
             }
            },
            "type": "parcoords"
           }
          ],
          "pie": [
           {
            "automargin": true,
            "type": "pie"
           }
          ],
          "scatter": [
           {
            "marker": {
             "colorbar": {
              "outlinewidth": 0,
              "ticks": ""
             }
            },
            "type": "scatter"
           }
          ],
          "scatter3d": [
           {
            "line": {
             "colorbar": {
              "outlinewidth": 0,
              "ticks": ""
             }
            },
            "marker": {
             "colorbar": {
              "outlinewidth": 0,
              "ticks": ""
             }
            },
            "type": "scatter3d"
           }
          ],
          "scattercarpet": [
           {
            "marker": {
             "colorbar": {
              "outlinewidth": 0,
              "ticks": ""
             }
            },
            "type": "scattercarpet"
           }
          ],
          "scattergeo": [
           {
            "marker": {
             "colorbar": {
              "outlinewidth": 0,
              "ticks": ""
             }
            },
            "type": "scattergeo"
           }
          ],
          "scattergl": [
           {
            "marker": {
             "colorbar": {
              "outlinewidth": 0,
              "ticks": ""
             }
            },
            "type": "scattergl"
           }
          ],
          "scattermapbox": [
           {
            "marker": {
             "colorbar": {
              "outlinewidth": 0,
              "ticks": ""
             }
            },
            "type": "scattermapbox"
           }
          ],
          "scatterpolar": [
           {
            "marker": {
             "colorbar": {
              "outlinewidth": 0,
              "ticks": ""
             }
            },
            "type": "scatterpolar"
           }
          ],
          "scatterpolargl": [
           {
            "marker": {
             "colorbar": {
              "outlinewidth": 0,
              "ticks": ""
             }
            },
            "type": "scatterpolargl"
           }
          ],
          "scatterternary": [
           {
            "marker": {
             "colorbar": {
              "outlinewidth": 0,
              "ticks": ""
             }
            },
            "type": "scatterternary"
           }
          ],
          "surface": [
           {
            "colorbar": {
             "outlinewidth": 0,
             "ticks": ""
            },
            "colorscale": [
             [
              0,
              "#0d0887"
             ],
             [
              0.1111111111111111,
              "#46039f"
             ],
             [
              0.2222222222222222,
              "#7201a8"
             ],
             [
              0.3333333333333333,
              "#9c179e"
             ],
             [
              0.4444444444444444,
              "#bd3786"
             ],
             [
              0.5555555555555556,
              "#d8576b"
             ],
             [
              0.6666666666666666,
              "#ed7953"
             ],
             [
              0.7777777777777778,
              "#fb9f3a"
             ],
             [
              0.8888888888888888,
              "#fdca26"
             ],
             [
              1,
              "#f0f921"
             ]
            ],
            "type": "surface"
           }
          ],
          "table": [
           {
            "cells": {
             "fill": {
              "color": "#EBF0F8"
             },
             "line": {
              "color": "white"
             }
            },
            "header": {
             "fill": {
              "color": "#C8D4E3"
             },
             "line": {
              "color": "white"
             }
            },
            "type": "table"
           }
          ]
         },
         "layout": {
          "annotationdefaults": {
           "arrowcolor": "#2a3f5f",
           "arrowhead": 0,
           "arrowwidth": 1
          },
          "coloraxis": {
           "colorbar": {
            "outlinewidth": 0,
            "ticks": ""
           }
          },
          "colorscale": {
           "diverging": [
            [
             0,
             "#8e0152"
            ],
            [
             0.1,
             "#c51b7d"
            ],
            [
             0.2,
             "#de77ae"
            ],
            [
             0.3,
             "#f1b6da"
            ],
            [
             0.4,
             "#fde0ef"
            ],
            [
             0.5,
             "#f7f7f7"
            ],
            [
             0.6,
             "#e6f5d0"
            ],
            [
             0.7,
             "#b8e186"
            ],
            [
             0.8,
             "#7fbc41"
            ],
            [
             0.9,
             "#4d9221"
            ],
            [
             1,
             "#276419"
            ]
           ],
           "sequential": [
            [
             0,
             "#0d0887"
            ],
            [
             0.1111111111111111,
             "#46039f"
            ],
            [
             0.2222222222222222,
             "#7201a8"
            ],
            [
             0.3333333333333333,
             "#9c179e"
            ],
            [
             0.4444444444444444,
             "#bd3786"
            ],
            [
             0.5555555555555556,
             "#d8576b"
            ],
            [
             0.6666666666666666,
             "#ed7953"
            ],
            [
             0.7777777777777778,
             "#fb9f3a"
            ],
            [
             0.8888888888888888,
             "#fdca26"
            ],
            [
             1,
             "#f0f921"
            ]
           ],
           "sequentialminus": [
            [
             0,
             "#0d0887"
            ],
            [
             0.1111111111111111,
             "#46039f"
            ],
            [
             0.2222222222222222,
             "#7201a8"
            ],
            [
             0.3333333333333333,
             "#9c179e"
            ],
            [
             0.4444444444444444,
             "#bd3786"
            ],
            [
             0.5555555555555556,
             "#d8576b"
            ],
            [
             0.6666666666666666,
             "#ed7953"
            ],
            [
             0.7777777777777778,
             "#fb9f3a"
            ],
            [
             0.8888888888888888,
             "#fdca26"
            ],
            [
             1,
             "#f0f921"
            ]
           ]
          },
          "colorway": [
           "#636efa",
           "#EF553B",
           "#00cc96",
           "#ab63fa",
           "#FFA15A",
           "#19d3f3",
           "#FF6692",
           "#B6E880",
           "#FF97FF",
           "#FECB52"
          ],
          "font": {
           "color": "#2a3f5f"
          },
          "geo": {
           "bgcolor": "white",
           "lakecolor": "white",
           "landcolor": "#E5ECF6",
           "showlakes": true,
           "showland": true,
           "subunitcolor": "white"
          },
          "hoverlabel": {
           "align": "left"
          },
          "hovermode": "closest",
          "mapbox": {
           "style": "light"
          },
          "paper_bgcolor": "white",
          "plot_bgcolor": "#E5ECF6",
          "polar": {
           "angularaxis": {
            "gridcolor": "white",
            "linecolor": "white",
            "ticks": ""
           },
           "bgcolor": "#E5ECF6",
           "radialaxis": {
            "gridcolor": "white",
            "linecolor": "white",
            "ticks": ""
           }
          },
          "scene": {
           "xaxis": {
            "backgroundcolor": "#E5ECF6",
            "gridcolor": "white",
            "gridwidth": 2,
            "linecolor": "white",
            "showbackground": true,
            "ticks": "",
            "zerolinecolor": "white"
           },
           "yaxis": {
            "backgroundcolor": "#E5ECF6",
            "gridcolor": "white",
            "gridwidth": 2,
            "linecolor": "white",
            "showbackground": true,
            "ticks": "",
            "zerolinecolor": "white"
           },
           "zaxis": {
            "backgroundcolor": "#E5ECF6",
            "gridcolor": "white",
            "gridwidth": 2,
            "linecolor": "white",
            "showbackground": true,
            "ticks": "",
            "zerolinecolor": "white"
           }
          },
          "shapedefaults": {
           "line": {
            "color": "#2a3f5f"
           }
          },
          "ternary": {
           "aaxis": {
            "gridcolor": "white",
            "linecolor": "white",
            "ticks": ""
           },
           "baxis": {
            "gridcolor": "white",
            "linecolor": "white",
            "ticks": ""
           },
           "bgcolor": "#E5ECF6",
           "caxis": {
            "gridcolor": "white",
            "linecolor": "white",
            "ticks": ""
           }
          },
          "title": {
           "x": 0.05
          },
          "xaxis": {
           "automargin": true,
           "gridcolor": "white",
           "linecolor": "white",
           "ticks": "",
           "title": {
            "standoff": 15
           },
           "zerolinecolor": "white",
           "zerolinewidth": 2
          },
          "yaxis": {
           "automargin": true,
           "gridcolor": "white",
           "linecolor": "white",
           "ticks": "",
           "title": {
            "standoff": 15
           },
           "zerolinecolor": "white",
           "zerolinewidth": 2
          }
         }
        },
        "title": {
         "text": "Distribution of Num User Interactions by Proportion of Articles",
         "x": 0.5
        },
        "xaxis": {
         "title": {
          "text": "Number of User Interactions"
         }
        },
        "yaxis": {
         "title": {
          "text": "Proportion of Articles"
         }
        }
       }
      },
      "text/html": "<div>\n        \n        \n            <div id=\"12c966ba-f000-432a-b1a4-c915c10f951b\" class=\"plotly-graph-div\" style=\"height:525px; width:100%;\"></div>\n            <script type=\"text/javascript\">\n                require([\"plotly\"], function(Plotly) {\n                    window.PLOTLYENV=window.PLOTLYENV || {};\n                    \n                if (document.getElementById(\"12c966ba-f000-432a-b1a4-c915c10f951b\")) {\n                    Plotly.newPlot(\n                        '12c966ba-f000-432a-b1a4-c915c10f951b',\n                        [{\"histnorm\": \"probability\", \"nbinsx\": 100, \"type\": \"histogram\", \"x\": [14, 58, 13, 85, 10, 157, 89, 26, 61, 78, 249, 15, 89, 42, 75, 17, 64, 141, 93, 18, 68, 70, 460, 11, 89, 124, 115, 20, 140, 11, 13, 16, 21, 55, 29, 57, 69, 57, 11, 57, 19, 24, 12, 18, 24, 38, 7, 152, 9, 89, 29, 78, 28, 189, 198, 64, 68, 20, 28, 16, 160, 10, 130, 110, 325, 127, 54, 75, 44, 10, 37, 75, 42, 26, 22, 33, 352, 59, 85, 13, 38, 150, 222, 91, 12, 16, 9, 40, 7, 78, 33, 124, 115, 21, 89, 63, 53, 113, 21, 113, 85, 42, 31, 33, 68, 16, 20, 41, 198, 33, 48, 169, 37, 155, 42, 23, 46, 59, 10, 15, 222, 44, 20, 151, 16, 24, 14, 60, 45, 24, 38, 18, 41, 28, 18, 23, 34, 10, 84, 34, 15, 51, 60, 90, 15, 18, 18, 65, 9, 85, 34, 19, 25, 22, 23, 85, 43, 6, 19, 67, 5, 13, 33, 80, 3, 2, 11, 24, 93, 11, 9, 2, 73, 29, 44, 10, 2, 4, 270, 3, 21, 12, 10, 7, 134, 35, 13, 152, 2, 1, 4, 47, 15, 32, 10, 4, 2, 10, 40, 2, 54, 8, 49, 23, 20, 98, 11, 56, 48, 22, 60, 9, 5, 19, 91, 17, 16, 160, 50, 77, 48, 12, 48, 68, 2, 12, 6, 2, 60, 113, 8, 8, 4, 17, 22, 85, 32, 10, 8, 179, 14, 54, 4, 4, 14, 56, 30, 5, 42, 8, 18, 2, 23, 26, 2, 6, 128, 21, 209, 32, 46, 43, 4, 21, 64, 20, 21, 10, 3, 18, 38, 2, 124, 2, 102, 55, 108, 1, 9, 19, 83, 22, 1, 39, 28, 12, 84, 16, 107, 1, 2, 13, 6, 18, 220, 73, 107, 18, 67, 36, 58, 4, 32, 2, 6, 12, 18, 31, 21, 95, 1, 41, 32, 121, 143, 239, 25, 4, 46, 52, 10, 2, 2, 12, 7, 56, 6, 46, 64, 28, 2, 10, 29, 25, 18, 68, 37, 111, 4, 5, 108, 151, 40, 84, 41, 101, 44, 99, 35, 15, 35, 8, 29, 27, 12, 36, 123, 32, 2, 38, 19, 41, 104, 11, 18, 4, 45, 34, 23, 10, 63, 54, 24, 7, 125, 52, 10, 10, 26, 44, 11, 105, 14, 30, 135, 2, 6, 126, 2, 10, 11, 28, 25, 35, 100, 83, 65, 3, 51, 28, 45, 26, 139, 2, 9, 1, 74, 36, 130, 1, 4, 13, 26, 19, 62, 4, 16, 7, 14, 17, 116, 5, 81, 234, 66, 74, 182, 51, 8, 18, 8, 45, 4, 52, 137, 108, 87, 42, 330, 215, 219, 103, 58, 79, 22, 66, 57, 22, 8, 6, 3, 9, 5, 2, 4, 2, 6, 4, 1, 5, 9, 2, 9, 3, 8, 5, 2, 4, 5, 2, 2, 2, 1, 8, 2, 3, 3, 2, 1, 8, 4, 1, 8, 2, 2, 6, 9, 8, 1, 3, 2, 2, 2, 2, 26, 6, 6, 11, 9, 12, 2, 12, 8, 4, 8, 14, 23, 8, 16, 10, 14, 26, 2, 42, 55, 37, 433, 24, 512, 290, 253, 372, 192, 2, 28, 57, 565, 213, 363, 32, 213, 55, 171, 21, 38, 6, 78, 116, 168, 73, 442, 145, 6, 2, 32, 16, 10, 8, 2, 2, 2, 23, 5, 1, 1, 2, 3, 2, 2, 23, 8, 30, 2, 2, 5, 2, 12, 1, 4, 2, 1, 2, 4, 2, 5, 7, 6, 6, 8, 12, 32, 1, 4, 473, 24, 204, 347, 74, 104, 30, 25, 18, 191, 2, 3, 30, 13, 39, 7, 15, 572, 4, 10, 193, 4, 61, 40, 2, 483, 413, 8, 4, 4, 47, 614, 4, 95, 6, 6, 160, 58, 183, 2, 148, 40, 927, 29, 206, 8, 2, 2, 379, 37, 382, 2, 293, 1, 2, 7, 24, 43, 457, 426, 3, 41, 123, 19, 13, 214, 12, 16, 22, 627, 2, 69, 185, 418, 10, 4, 2, 11, 2, 189, 26, 2, 191, 455, 182, 122, 206, 24, 465, 279, 7, 52, 69, 50, 136, 58, 22, 16, 54, 109, 42, 25, 4, 11, 102, 43, 6, 113, 3, 163, 155, 131, 71, 138, 643, 120, 937, 336, 671, 340, 108, 42, 120, 481, 218, 59, 10, 8, 4, 22, 5]}],\n                        {\"template\": {\"data\": {\"bar\": [{\"error_x\": {\"color\": \"#2a3f5f\"}, \"error_y\": {\"color\": \"#2a3f5f\"}, \"marker\": {\"line\": {\"color\": \"#E5ECF6\", \"width\": 0.5}}, \"type\": \"bar\"}], \"barpolar\": [{\"marker\": {\"line\": {\"color\": \"#E5ECF6\", \"width\": 0.5}}, \"type\": \"barpolar\"}], \"carpet\": [{\"aaxis\": {\"endlinecolor\": \"#2a3f5f\", \"gridcolor\": \"white\", \"linecolor\": \"white\", \"minorgridcolor\": \"white\", \"startlinecolor\": \"#2a3f5f\"}, \"baxis\": {\"endlinecolor\": \"#2a3f5f\", \"gridcolor\": \"white\", \"linecolor\": \"white\", \"minorgridcolor\": \"white\", \"startlinecolor\": \"#2a3f5f\"}, \"type\": \"carpet\"}], \"choropleth\": [{\"colorbar\": {\"outlinewidth\": 0, \"ticks\": \"\"}, \"type\": \"choropleth\"}], \"contour\": [{\"colorbar\": {\"outlinewidth\": 0, \"ticks\": \"\"}, \"colorscale\": [[0.0, \"#0d0887\"], [0.1111111111111111, \"#46039f\"], [0.2222222222222222, \"#7201a8\"], [0.3333333333333333, \"#9c179e\"], [0.4444444444444444, \"#bd3786\"], [0.5555555555555556, \"#d8576b\"], [0.6666666666666666, \"#ed7953\"], [0.7777777777777778, \"#fb9f3a\"], [0.8888888888888888, \"#fdca26\"], [1.0, \"#f0f921\"]], \"type\": \"contour\"}], \"contourcarpet\": [{\"colorbar\": {\"outlinewidth\": 0, \"ticks\": \"\"}, \"type\": \"contourcarpet\"}], \"heatmap\": [{\"colorbar\": {\"outlinewidth\": 0, \"ticks\": \"\"}, \"colorscale\": [[0.0, \"#0d0887\"], [0.1111111111111111, \"#46039f\"], [0.2222222222222222, \"#7201a8\"], [0.3333333333333333, \"#9c179e\"], [0.4444444444444444, \"#bd3786\"], [0.5555555555555556, \"#d8576b\"], [0.6666666666666666, \"#ed7953\"], [0.7777777777777778, \"#fb9f3a\"], [0.8888888888888888, \"#fdca26\"], [1.0, \"#f0f921\"]], \"type\": \"heatmap\"}], \"heatmapgl\": [{\"colorbar\": {\"outlinewidth\": 0, \"ticks\": \"\"}, \"colorscale\": [[0.0, \"#0d0887\"], [0.1111111111111111, \"#46039f\"], [0.2222222222222222, \"#7201a8\"], [0.3333333333333333, \"#9c179e\"], [0.4444444444444444, \"#bd3786\"], [0.5555555555555556, \"#d8576b\"], [0.6666666666666666, \"#ed7953\"], [0.7777777777777778, \"#fb9f3a\"], [0.8888888888888888, \"#fdca26\"], [1.0, \"#f0f921\"]], \"type\": \"heatmapgl\"}], \"histogram\": [{\"marker\": {\"colorbar\": {\"outlinewidth\": 0, \"ticks\": \"\"}}, \"type\": \"histogram\"}], \"histogram2d\": [{\"colorbar\": {\"outlinewidth\": 0, \"ticks\": \"\"}, \"colorscale\": [[0.0, \"#0d0887\"], [0.1111111111111111, \"#46039f\"], [0.2222222222222222, \"#7201a8\"], [0.3333333333333333, \"#9c179e\"], [0.4444444444444444, \"#bd3786\"], [0.5555555555555556, \"#d8576b\"], [0.6666666666666666, \"#ed7953\"], [0.7777777777777778, \"#fb9f3a\"], [0.8888888888888888, \"#fdca26\"], [1.0, \"#f0f921\"]], \"type\": \"histogram2d\"}], \"histogram2dcontour\": [{\"colorbar\": {\"outlinewidth\": 0, \"ticks\": \"\"}, \"colorscale\": [[0.0, \"#0d0887\"], [0.1111111111111111, \"#46039f\"], [0.2222222222222222, \"#7201a8\"], [0.3333333333333333, \"#9c179e\"], [0.4444444444444444, \"#bd3786\"], [0.5555555555555556, \"#d8576b\"], [0.6666666666666666, \"#ed7953\"], [0.7777777777777778, \"#fb9f3a\"], [0.8888888888888888, \"#fdca26\"], [1.0, \"#f0f921\"]], \"type\": \"histogram2dcontour\"}], \"mesh3d\": [{\"colorbar\": {\"outlinewidth\": 0, \"ticks\": \"\"}, \"type\": \"mesh3d\"}], \"parcoords\": [{\"line\": {\"colorbar\": {\"outlinewidth\": 0, \"ticks\": \"\"}}, \"type\": \"parcoords\"}], \"pie\": [{\"automargin\": true, \"type\": \"pie\"}], \"scatter\": [{\"marker\": {\"colorbar\": {\"outlinewidth\": 0, \"ticks\": \"\"}}, \"type\": \"scatter\"}], \"scatter3d\": [{\"line\": {\"colorbar\": {\"outlinewidth\": 0, \"ticks\": \"\"}}, \"marker\": {\"colorbar\": {\"outlinewidth\": 0, \"ticks\": \"\"}}, \"type\": \"scatter3d\"}], \"scattercarpet\": [{\"marker\": {\"colorbar\": {\"outlinewidth\": 0, \"ticks\": \"\"}}, \"type\": \"scattercarpet\"}], \"scattergeo\": [{\"marker\": {\"colorbar\": {\"outlinewidth\": 0, \"ticks\": \"\"}}, \"type\": \"scattergeo\"}], \"scattergl\": [{\"marker\": {\"colorbar\": {\"outlinewidth\": 0, \"ticks\": \"\"}}, \"type\": \"scattergl\"}], \"scattermapbox\": [{\"marker\": {\"colorbar\": {\"outlinewidth\": 0, \"ticks\": \"\"}}, \"type\": \"scattermapbox\"}], \"scatterpolar\": [{\"marker\": {\"colorbar\": {\"outlinewidth\": 0, \"ticks\": \"\"}}, \"type\": \"scatterpolar\"}], \"scatterpolargl\": [{\"marker\": {\"colorbar\": {\"outlinewidth\": 0, \"ticks\": \"\"}}, \"type\": \"scatterpolargl\"}], \"scatterternary\": [{\"marker\": {\"colorbar\": {\"outlinewidth\": 0, \"ticks\": \"\"}}, \"type\": \"scatterternary\"}], \"surface\": [{\"colorbar\": {\"outlinewidth\": 0, \"ticks\": \"\"}, \"colorscale\": [[0.0, \"#0d0887\"], [0.1111111111111111, \"#46039f\"], [0.2222222222222222, \"#7201a8\"], [0.3333333333333333, \"#9c179e\"], [0.4444444444444444, \"#bd3786\"], [0.5555555555555556, \"#d8576b\"], [0.6666666666666666, \"#ed7953\"], [0.7777777777777778, \"#fb9f3a\"], [0.8888888888888888, \"#fdca26\"], [1.0, \"#f0f921\"]], \"type\": \"surface\"}], \"table\": [{\"cells\": {\"fill\": {\"color\": \"#EBF0F8\"}, \"line\": {\"color\": \"white\"}}, \"header\": {\"fill\": {\"color\": \"#C8D4E3\"}, \"line\": {\"color\": \"white\"}}, \"type\": \"table\"}]}, \"layout\": {\"annotationdefaults\": {\"arrowcolor\": \"#2a3f5f\", \"arrowhead\": 0, \"arrowwidth\": 1}, \"coloraxis\": {\"colorbar\": {\"outlinewidth\": 0, \"ticks\": \"\"}}, \"colorscale\": {\"diverging\": [[0, \"#8e0152\"], [0.1, \"#c51b7d\"], [0.2, \"#de77ae\"], [0.3, \"#f1b6da\"], [0.4, \"#fde0ef\"], [0.5, \"#f7f7f7\"], [0.6, \"#e6f5d0\"], [0.7, \"#b8e186\"], [0.8, \"#7fbc41\"], [0.9, \"#4d9221\"], [1, \"#276419\"]], \"sequential\": [[0.0, \"#0d0887\"], [0.1111111111111111, \"#46039f\"], [0.2222222222222222, \"#7201a8\"], [0.3333333333333333, \"#9c179e\"], [0.4444444444444444, \"#bd3786\"], [0.5555555555555556, \"#d8576b\"], [0.6666666666666666, \"#ed7953\"], [0.7777777777777778, \"#fb9f3a\"], [0.8888888888888888, \"#fdca26\"], [1.0, \"#f0f921\"]], \"sequentialminus\": [[0.0, \"#0d0887\"], [0.1111111111111111, \"#46039f\"], [0.2222222222222222, \"#7201a8\"], [0.3333333333333333, \"#9c179e\"], [0.4444444444444444, \"#bd3786\"], [0.5555555555555556, \"#d8576b\"], [0.6666666666666666, \"#ed7953\"], [0.7777777777777778, \"#fb9f3a\"], [0.8888888888888888, \"#fdca26\"], [1.0, \"#f0f921\"]]}, \"colorway\": [\"#636efa\", \"#EF553B\", \"#00cc96\", \"#ab63fa\", \"#FFA15A\", \"#19d3f3\", \"#FF6692\", \"#B6E880\", \"#FF97FF\", \"#FECB52\"], \"font\": {\"color\": \"#2a3f5f\"}, \"geo\": {\"bgcolor\": \"white\", \"lakecolor\": \"white\", \"landcolor\": \"#E5ECF6\", \"showlakes\": true, \"showland\": true, \"subunitcolor\": \"white\"}, \"hoverlabel\": {\"align\": \"left\"}, \"hovermode\": \"closest\", \"mapbox\": {\"style\": \"light\"}, \"paper_bgcolor\": \"white\", \"plot_bgcolor\": \"#E5ECF6\", \"polar\": {\"angularaxis\": {\"gridcolor\": \"white\", \"linecolor\": \"white\", \"ticks\": \"\"}, \"bgcolor\": \"#E5ECF6\", \"radialaxis\": {\"gridcolor\": \"white\", \"linecolor\": \"white\", \"ticks\": \"\"}}, \"scene\": {\"xaxis\": {\"backgroundcolor\": \"#E5ECF6\", \"gridcolor\": \"white\", \"gridwidth\": 2, \"linecolor\": \"white\", \"showbackground\": true, \"ticks\": \"\", \"zerolinecolor\": \"white\"}, \"yaxis\": {\"backgroundcolor\": \"#E5ECF6\", \"gridcolor\": \"white\", \"gridwidth\": 2, \"linecolor\": \"white\", \"showbackground\": true, \"ticks\": \"\", \"zerolinecolor\": \"white\"}, \"zaxis\": {\"backgroundcolor\": \"#E5ECF6\", \"gridcolor\": \"white\", \"gridwidth\": 2, \"linecolor\": \"white\", \"showbackground\": true, \"ticks\": \"\", \"zerolinecolor\": \"white\"}}, \"shapedefaults\": {\"line\": {\"color\": \"#2a3f5f\"}}, \"ternary\": {\"aaxis\": {\"gridcolor\": \"white\", \"linecolor\": \"white\", \"ticks\": \"\"}, \"baxis\": {\"gridcolor\": \"white\", \"linecolor\": \"white\", \"ticks\": \"\"}, \"bgcolor\": \"#E5ECF6\", \"caxis\": {\"gridcolor\": \"white\", \"linecolor\": \"white\", \"ticks\": \"\"}}, \"title\": {\"x\": 0.05}, \"xaxis\": {\"automargin\": true, \"gridcolor\": \"white\", \"linecolor\": \"white\", \"ticks\": \"\", \"title\": {\"standoff\": 15}, \"zerolinecolor\": \"white\", \"zerolinewidth\": 2}, \"yaxis\": {\"automargin\": true, \"gridcolor\": \"white\", \"linecolor\": \"white\", \"ticks\": \"\", \"title\": {\"standoff\": 15}, \"zerolinecolor\": \"white\", \"zerolinewidth\": 2}}}, \"title\": {\"text\": \"Distribution of Num User Interactions by Proportion of Articles\", \"x\": 0.5}, \"xaxis\": {\"title\": {\"text\": \"Number of User Interactions\"}}, \"yaxis\": {\"title\": {\"text\": \"Proportion of Articles\"}}},\n                        {\"responsive\": true}\n                    ).then(function(){\n                            \nvar gd = document.getElementById('12c966ba-f000-432a-b1a4-c915c10f951b');\nvar x = new MutationObserver(function (mutations, observer) {{\n        var display = window.getComputedStyle(gd).display;\n        if (!display || display === 'none') {{\n            console.log([gd, 'removed!']);\n            Plotly.purge(gd);\n            observer.disconnect();\n        }}\n}});\n\n// Listen for the removal of the full notebook cells\nvar notebookContainer = gd.closest('#notebook-container');\nif (notebookContainer) {{\n    x.observe(notebookContainer, {childList: true});\n}}\n\n// Listen for the clearing of the current output cell\nvar outputEl = gd.closest('.output');\nif (outputEl) {{\n    x.observe(outputEl, {childList: true});\n}}\n\n                        })\n                };\n                });\n            </script>\n        </div>"
     },
     "metadata": {},
     "output_type": "display_data"
    }
   ],
   "source": [
    "# plot histogram of num user interactions per article\n",
    "\n",
    "hist_data = go.Histogram(x=article_interactions.num_users, histnorm='probability', nbinsx=100)\n",
    "hist_layout = go.Layout(\n",
    "    title=dict(\n",
    "        text='Distribution of Num User Interactions by Proportion of Articles',\n",
    "        x=0.5\n",
    "        ),\n",
    "    xaxis=dict(title=\"Number of User Interactions\"),\n",
    "    yaxis=dict(title=\"Proportion of Articles\"),\n",
    "    )\n",
    "fig = go.Figure(data=[hist_data], layout=hist_layout)\n",
    "py.iplot(fig)"
   ]
  },
  {
   "cell_type": "markdown",
   "metadata": {},
   "source": [
    "Most articles are read by < 100 users."
   ]
  },
  {
   "cell_type": "markdown",
   "metadata": {},
   "source": [
    "`2.` Explore and remove duplicate articles from the **df_content** dataframe.  "
   ]
  },
  {
   "cell_type": "code",
   "execution_count": 13,
   "metadata": {},
   "outputs": [
    {
     "data": {
      "text/html": "<div>\n<style scoped>\n    .dataframe tbody tr th:only-of-type {\n        vertical-align: middle;\n    }\n\n    .dataframe tbody tr th {\n        vertical-align: top;\n    }\n\n    .dataframe thead th {\n        text-align: right;\n    }\n</style>\n<table border=\"1\" class=\"dataframe\">\n  <thead>\n    <tr style=\"text-align: right;\">\n      <th></th>\n      <th>doc_body</th>\n      <th>doc_description</th>\n      <th>doc_full_name</th>\n      <th>doc_status</th>\n      <th>article_id</th>\n    </tr>\n  </thead>\n  <tbody>\n    <tr>\n      <th>0</th>\n      <td>Skip navigation Sign in SearchLoading...\\r\\n\\r...</td>\n      <td>Detect bad readings in real time using Python ...</td>\n      <td>Detect Malfunctioning IoT Sensors with Streami...</td>\n      <td>Live</td>\n      <td>0</td>\n    </tr>\n    <tr>\n      <th>1</th>\n      <td>No Free Hunch Navigation * kaggle.com\\r\\n\\r\\n ...</td>\n      <td>See the forest, see the trees. Here lies the c...</td>\n      <td>Communicating data science: A guide to present...</td>\n      <td>Live</td>\n      <td>1</td>\n    </tr>\n    <tr>\n      <th>2</th>\n      <td>☰ * Login\\r\\n * Sign Up\\r\\n\\r\\n * Learning Pat...</td>\n      <td>Here’s this week’s news in Data Science and Bi...</td>\n      <td>This Week in Data Science (April 18, 2017)</td>\n      <td>Live</td>\n      <td>2</td>\n    </tr>\n    <tr>\n      <th>3</th>\n      <td>DATALAYER: HIGH THROUGHPUT, LOW LATENCY AT SCA...</td>\n      <td>Learn how distributed DBs solve the problem of...</td>\n      <td>DataLayer Conference: Boost the performance of...</td>\n      <td>Live</td>\n      <td>3</td>\n    </tr>\n    <tr>\n      <th>4</th>\n      <td>Skip navigation Sign in SearchLoading...\\r\\n\\r...</td>\n      <td>This video demonstrates the power of IBM DataS...</td>\n      <td>Analyze NY Restaurant data using Spark in DSX</td>\n      <td>Live</td>\n      <td>4</td>\n    </tr>\n  </tbody>\n</table>\n</div>",
      "text/plain": "                                            doc_body  \\\n0  Skip navigation Sign in SearchLoading...\\r\\n\\r...   \n1  No Free Hunch Navigation * kaggle.com\\r\\n\\r\\n ...   \n2  ☰ * Login\\r\\n * Sign Up\\r\\n\\r\\n * Learning Pat...   \n3  DATALAYER: HIGH THROUGHPUT, LOW LATENCY AT SCA...   \n4  Skip navigation Sign in SearchLoading...\\r\\n\\r...   \n\n                                     doc_description  \\\n0  Detect bad readings in real time using Python ...   \n1  See the forest, see the trees. Here lies the c...   \n2  Here’s this week’s news in Data Science and Bi...   \n3  Learn how distributed DBs solve the problem of...   \n4  This video demonstrates the power of IBM DataS...   \n\n                                       doc_full_name doc_status  article_id  \n0  Detect Malfunctioning IoT Sensors with Streami...       Live           0  \n1  Communicating data science: A guide to present...       Live           1  \n2         This Week in Data Science (April 18, 2017)       Live           2  \n3  DataLayer Conference: Boost the performance of...       Live           3  \n4      Analyze NY Restaurant data using Spark in DSX       Live           4  "
     },
     "execution_count": 13,
     "metadata": {},
     "output_type": "execute_result"
    }
   ],
   "source": [
    "# Find and explore duplicate articles\n",
    "df_content.head()"
   ]
  },
  {
   "cell_type": "code",
   "execution_count": 14,
   "metadata": {},
   "outputs": [
    {
     "data": {
      "text/plain": "article_id\n1050    1\n360     1\n358     1\n357     1\n356     1\n355     1\n354     1\n353     1\n352     1\n351     1\ndtype: int64"
     },
     "execution_count": 14,
     "metadata": {},
     "output_type": "execute_result"
    }
   ],
   "source": [
    "# drop duplicated article ids - take the first row\n",
    "df_content = df_content.groupby('article_id').head(1)\n",
    "# confirm no dupes on article id\n",
    "df_content.groupby('article_id').size().sort_values(ascending=False).head(10)"
   ]
  },
  {
   "cell_type": "markdown",
   "metadata": {},
   "source": [
    "Look for document duplicates by document name"
   ]
  },
  {
   "cell_type": "code",
   "execution_count": 15,
   "metadata": {},
   "outputs": [
    {
     "data": {
      "text/plain": "doc_clean_name\nsimple data pipe connectors                                          2\nmachine learning for the enterprise                                  2\nzero to kubernetes on the ibm bluemix container service              1\nexecute common http api commands                                     1\nessentials of machine learning algorithms with python and r codes    1\netcd 2 to 3 new apis and new possibilities                           1\neverything in the radius with postgis                                1\nexample chrome extensions using pouchdb                              1\nexcel files loading from object storage python                       1\nexport cloudant json as csv rss or ical                              1\nexperience iot with coursera                                         1\nensemble learning to improve machine learning results                1\nextract and export dashdb data to a csv file                         1\neye candy for cloudant ibm watson data lab medium                    1\nfaster operations with the jsonb data type in postgresql             1\ndtype: int64"
     },
     "execution_count": 15,
     "metadata": {},
     "output_type": "execute_result"
    }
   ],
   "source": [
    "df_content['doc_clean_name'] = df_content.doc_full_name\\\n",
    "    .str.lower()\\\n",
    "    .str.strip()\\\n",
    "    .str.replace(r'[^a-zA-Z0-9\\s]', '')\\\n",
    "    .str.replace(r'\\s\\s', ' ')\n",
    "\n",
    "df_content.groupby('doc_clean_name').size().sort_values(ascending=False).head(15)"
   ]
  },
  {
   "cell_type": "code",
   "execution_count": 16,
   "metadata": {},
   "outputs": [
    {
     "data": {
      "text/html": "<div>\n<style scoped>\n    .dataframe tbody tr th:only-of-type {\n        vertical-align: middle;\n    }\n\n    .dataframe tbody tr th {\n        vertical-align: top;\n    }\n\n    .dataframe thead th {\n        text-align: right;\n    }\n</style>\n<table border=\"1\" class=\"dataframe\">\n  <thead>\n    <tr style=\"text-align: right;\">\n      <th></th>\n      <th>doc_body</th>\n      <th>doc_description</th>\n      <th>doc_full_name</th>\n      <th>doc_status</th>\n      <th>article_id</th>\n      <th>doc_clean_name</th>\n    </tr>\n  </thead>\n  <tbody>\n    <tr>\n      <th>172</th>\n      <td>Skip to main content IBM developerWorks / Deve...</td>\n      <td>Import from the cloud data source of your choi...</td>\n      <td>Simple Data Pipe Connectors</td>\n      <td>Live</td>\n      <td>172</td>\n      <td>simple data pipe connectors</td>\n    </tr>\n    <tr>\n      <th>956</th>\n      <td>Skip to main content IBM developerWorks / Deve...</td>\n      <td>How connectors let you load data from a variet...</td>\n      <td>Simple Data Pipe connectors</td>\n      <td>Live</td>\n      <td>953</td>\n      <td>simple data pipe connectors</td>\n    </tr>\n  </tbody>\n</table>\n</div>",
      "text/plain": "                                              doc_body  \\\n172  Skip to main content IBM developerWorks / Deve...   \n956  Skip to main content IBM developerWorks / Deve...   \n\n                                       doc_description  \\\n172  Import from the cloud data source of your choi...   \n956  How connectors let you load data from a variet...   \n\n                   doc_full_name doc_status  article_id  \\\n172  Simple Data Pipe Connectors       Live         172   \n956  Simple Data Pipe connectors       Live         953   \n\n                  doc_clean_name  \n172  simple data pipe connectors  \n956  simple data pipe connectors  "
     },
     "execution_count": 16,
     "metadata": {},
     "output_type": "execute_result"
    }
   ],
   "source": [
    "# check out dupe articles\n",
    "df_content[df_content.doc_clean_name == 'simple data pipe connectors']"
   ]
  },
  {
   "cell_type": "code",
   "execution_count": 17,
   "metadata": {},
   "outputs": [
    {
     "data": {
      "text/html": "<div>\n<style scoped>\n    .dataframe tbody tr th:only-of-type {\n        vertical-align: middle;\n    }\n\n    .dataframe tbody tr th {\n        vertical-align: top;\n    }\n\n    .dataframe thead th {\n        text-align: right;\n    }\n</style>\n<table border=\"1\" class=\"dataframe\">\n  <thead>\n    <tr style=\"text-align: right;\">\n      <th></th>\n      <th>doc_body</th>\n      <th>doc_description</th>\n      <th>doc_full_name</th>\n      <th>doc_status</th>\n      <th>article_id</th>\n      <th>doc_clean_name</th>\n    </tr>\n  </thead>\n  <tbody>\n    <tr>\n      <th>803</th>\n      <td>Skip to contentDinesh Nirmal's Blog\\r\\n\\r\\nA b...</td>\n      <td>In my last blog “Business differentiation thro...</td>\n      <td>Machine Learning for the Enterprise</td>\n      <td>Live</td>\n      <td>800</td>\n      <td>machine learning for the enterprise</td>\n    </tr>\n    <tr>\n      <th>1040</th>\n      <td>Skip to contentDinesh Nirmal's Blog\\r\\n\\r\\nA b...</td>\n      <td>In my last blog “Business differentiation thro...</td>\n      <td>Machine Learning for the Enterprise.</td>\n      <td>Live</td>\n      <td>1035</td>\n      <td>machine learning for the enterprise</td>\n    </tr>\n  </tbody>\n</table>\n</div>",
      "text/plain": "                                               doc_body  \\\n803   Skip to contentDinesh Nirmal's Blog\\r\\n\\r\\nA b...   \n1040  Skip to contentDinesh Nirmal's Blog\\r\\n\\r\\nA b...   \n\n                                        doc_description  \\\n803   In my last blog “Business differentiation thro...   \n1040  In my last blog “Business differentiation thro...   \n\n                             doc_full_name doc_status  article_id  \\\n803    Machine Learning for the Enterprise       Live         800   \n1040  Machine Learning for the Enterprise.       Live        1035   \n\n                           doc_clean_name  \n803   machine learning for the enterprise  \n1040  machine learning for the enterprise  "
     },
     "execution_count": 17,
     "metadata": {},
     "output_type": "execute_result"
    }
   ],
   "source": [
    "# check out dupe articles\n",
    "df_content[df_content.doc_clean_name == 'machine learning for the enterprise']"
   ]
  },
  {
   "cell_type": "code",
   "execution_count": 18,
   "metadata": {},
   "outputs": [],
   "source": [
    "# the articles both titled 'Machine Learning for the Enterprise' appear to be duplicates.\n",
    "# However, we will not remove them because we were not asked to - it will throw off \n",
    "# counts of unique users/articles in the below questions.\n",
    "\n",
    "# remove dupes on doc clean name\n",
    "# df_content = df_content.groupby('doc_clean_name').head(1)\n",
    "# confirm no dupes remain\n",
    "# df_content.groupby('doc_clean_name').size().sort_values(ascending=False).head(15)"
   ]
  },
  {
   "cell_type": "markdown",
   "metadata": {},
   "source": [
    "`3.` Use the cells below to find:\n",
    "\n",
    "**a.** The number of unique articles that have an interaction with a user.  \n",
    "**b.** The number of unique articles in the dataset (whether they have any interactions or not).<br>\n",
    "**c.** The number of unique users in the dataset. (excluding null values) <br>\n",
    "**d.** The number of user-article interactions in the dataset."
   ]
  },
  {
   "cell_type": "code",
   "execution_count": 19,
   "metadata": {},
   "outputs": [
    {
     "name": "stdout",
     "output_type": "stream",
     "text": "Number of unique articles with user interactions: 714\n"
    }
   ],
   "source": [
    "# number of unique articles that have a user interaction\n",
    "num_with_interactions = len(df.article_id.unique())\n",
    "print(f'Number of unique articles with user interactions: {num_with_interactions}')"
   ]
  },
  {
   "cell_type": "code",
   "execution_count": 20,
   "metadata": {},
   "outputs": [
    {
     "name": "stdout",
     "output_type": "stream",
     "text": "Number of unique articles in the dataset: 1051\n"
    }
   ],
   "source": [
    "# num unique articles - we already dropped dupes\n",
    "num_articles = df_content.shape[0]\n",
    "print(f'Number of unique articles in the dataset: {num_articles}')"
   ]
  },
  {
   "cell_type": "code",
   "execution_count": 21,
   "metadata": {},
   "outputs": [
    {
     "name": "stdout",
     "output_type": "stream",
     "text": "Number of unique users in the dataset: 5148\n"
    }
   ],
   "source": [
    "num_unique_users = len(df.email[df.email.notna()].unique())\n",
    "print(f'Number of unique users in the dataset: {num_unique_users}')"
   ]
  },
  {
   "cell_type": "code",
   "execution_count": 22,
   "metadata": {},
   "outputs": [
    {
     "name": "stdout",
     "output_type": "stream",
     "text": "Number of interactions in the dataset: 45993\n"
    }
   ],
   "source": [
    "num_interactions = df.shape[0]\n",
    "print(f'Number of interactions in the dataset: {num_interactions}')"
   ]
  },
  {
   "cell_type": "code",
   "execution_count": 23,
   "metadata": {},
   "outputs": [],
   "source": [
    "unique_articles = num_with_interactions\n",
    "total_articles = num_articles\n",
    "unique_users = num_unique_users\n",
    "user_article_interactions = num_interactions"
   ]
  },
  {
   "cell_type": "markdown",
   "metadata": {},
   "source": [
    "`4.` Use the cells below to find the most viewed **article_id**, as well as how often it was viewed.  After talking to the company leaders, the `email_mapper` function was deemed a reasonable way to map users to ids.  There were a small number of null values, and it was found that all of these null values likely belonged to a single user (which is how they are stored using the function below)."
   ]
  },
  {
   "cell_type": "code",
   "execution_count": 24,
   "metadata": {},
   "outputs": [
    {
     "data": {
      "text/html": "<div>\n<style scoped>\n    .dataframe tbody tr th:only-of-type {\n        vertical-align: middle;\n    }\n\n    .dataframe tbody tr th {\n        vertical-align: top;\n    }\n\n    .dataframe thead th {\n        text-align: right;\n    }\n</style>\n<table border=\"1\" class=\"dataframe\">\n  <thead>\n    <tr style=\"text-align: right;\">\n      <th></th>\n      <th>article_id</th>\n      <th>title</th>\n      <th>user_id</th>\n    </tr>\n  </thead>\n  <tbody>\n    <tr>\n      <th>0</th>\n      <td>1430.0</td>\n      <td>using pixiedust for fast, flexible, and easier...</td>\n      <td>1</td>\n    </tr>\n    <tr>\n      <th>1</th>\n      <td>1314.0</td>\n      <td>healthcare python streaming application demo</td>\n      <td>2</td>\n    </tr>\n    <tr>\n      <th>2</th>\n      <td>1429.0</td>\n      <td>use deep learning for image classification</td>\n      <td>3</td>\n    </tr>\n    <tr>\n      <th>3</th>\n      <td>1338.0</td>\n      <td>ml optimization using cognitive assistant</td>\n      <td>4</td>\n    </tr>\n    <tr>\n      <th>4</th>\n      <td>1276.0</td>\n      <td>deploy your python model as a restful api</td>\n      <td>5</td>\n    </tr>\n  </tbody>\n</table>\n</div>",
      "text/plain": "   article_id                                              title  user_id\n0      1430.0  using pixiedust for fast, flexible, and easier...        1\n1      1314.0       healthcare python streaming application demo        2\n2      1429.0         use deep learning for image classification        3\n3      1338.0          ml optimization using cognitive assistant        4\n4      1276.0          deploy your python model as a restful api        5"
     },
     "execution_count": 24,
     "metadata": {},
     "output_type": "execute_result"
    }
   ],
   "source": [
    "## No need to change the code here - this will be helpful for later parts of the notebook\n",
    "# Run this cell to map the user email to a user_id column and remove the email column\n",
    "\n",
    "def email_mapper():\n",
    "    coded_dict = dict()\n",
    "    cter = 1\n",
    "    email_encoded = []\n",
    "    \n",
    "    for val in df['email']:\n",
    "        if val not in coded_dict:\n",
    "            coded_dict[val] = cter\n",
    "            cter+=1\n",
    "        \n",
    "        email_encoded.append(coded_dict[val])\n",
    "    return email_encoded\n",
    "\n",
    "email_encoded = email_mapper()\n",
    "del df['email']\n",
    "df['user_id'] = email_encoded\n",
    "\n",
    "# show header\n",
    "df.head()"
   ]
  },
  {
   "cell_type": "code",
   "execution_count": 25,
   "metadata": {},
   "outputs": [
    {
     "data": {
      "text/plain": "(5149, 714)"
     },
     "execution_count": 25,
     "metadata": {},
     "output_type": "execute_result"
    }
   ],
   "source": [
    "len(df.user_id.unique()), len(df.article_id.unique())\n",
    "# (5149, 714)"
   ]
  },
  {
   "cell_type": "code",
   "execution_count": 26,
   "metadata": {},
   "outputs": [
    {
     "data": {
      "text/plain": "article_id\n1429.0    937\n1330.0    927\n1431.0    671\n1427.0    643\n1364.0    627\n1314.0    614\n1293.0    572\n1170.0    565\n1162.0    512\n1304.0    483\ndtype: int64"
     },
     "execution_count": 26,
     "metadata": {},
     "output_type": "execute_result"
    }
   ],
   "source": [
    "# most commonly viewed\n",
    "df.groupby('article_id').size().sort_values(ascending=False).head(10)"
   ]
  },
  {
   "cell_type": "code",
   "execution_count": 27,
   "metadata": {},
   "outputs": [],
   "source": [
    "most_viewed_article_id = '1429.0'\n",
    "max_views = 937"
   ]
  },
  {
   "cell_type": "code",
   "execution_count": 28,
   "metadata": {},
   "outputs": [
    {
     "name": "stdout",
     "output_type": "stream",
     "text": "It looks like you have everything right here! Nice job!\n"
    }
   ],
   "source": [
    "## If you stored all your results in the variable names above, \n",
    "## you shouldn't need to change anything in this cell\n",
    "\n",
    "sol_1_dict = {\n",
    "    '`50% of individuals have _____ or fewer interactions.`': median_val,\n",
    "    '`The total number of user-article interactions in the dataset is ______.`': user_article_interactions,\n",
    "    '`The maximum number of user-article interactions by any 1 user is ______.`': max_views_by_user,\n",
    "    '`The most viewed article in the dataset was viewed _____ times.`': max_views,\n",
    "    '`The article_id of the most viewed article is ______.`': most_viewed_article_id,\n",
    "    '`The number of unique articles that have at least 1 rating ______.`': unique_articles,\n",
    "    '`The number of unique users in the dataset is ______`': unique_users,\n",
    "    '`The number of unique articles on the IBM platform`': total_articles\n",
    "}\n",
    "\n",
    "# Test your dictionary against the solution\n",
    "t.sol_1_test(sol_1_dict)"
   ]
  },
  {
   "cell_type": "markdown",
   "metadata": {},
   "source": [
    "### <a class=\"anchor\" id=\"Rank\">Part II: Rank-Based Recommendations</a>\n",
    "\n",
    "Unlike in the earlier lessons, we don't actually have ratings for whether a user liked an article or not.  We only know that a user has interacted with an article.  In these cases, the popularity of an article can really only be based on how often an article was interacted with.\n",
    "\n",
    "`1.` Fill in the function below to return the **n** top articles ordered with most interactions as the top. Test your function using the tests below."
   ]
  },
  {
   "cell_type": "code",
   "execution_count": 29,
   "metadata": {},
   "outputs": [
    {
     "data": {
      "text/html": "<div>\n<style scoped>\n    .dataframe tbody tr th:only-of-type {\n        vertical-align: middle;\n    }\n\n    .dataframe tbody tr th {\n        vertical-align: top;\n    }\n\n    .dataframe thead th {\n        text-align: right;\n    }\n</style>\n<table border=\"1\" class=\"dataframe\">\n  <thead>\n    <tr style=\"text-align: right;\">\n      <th></th>\n      <th>article_id</th>\n      <th>title</th>\n      <th>user_id</th>\n    </tr>\n  </thead>\n  <tbody>\n    <tr>\n      <th>0</th>\n      <td>1430.0</td>\n      <td>using pixiedust for fast, flexible, and easier...</td>\n      <td>1</td>\n    </tr>\n    <tr>\n      <th>1</th>\n      <td>1314.0</td>\n      <td>healthcare python streaming application demo</td>\n      <td>2</td>\n    </tr>\n    <tr>\n      <th>2</th>\n      <td>1429.0</td>\n      <td>use deep learning for image classification</td>\n      <td>3</td>\n    </tr>\n    <tr>\n      <th>3</th>\n      <td>1338.0</td>\n      <td>ml optimization using cognitive assistant</td>\n      <td>4</td>\n    </tr>\n    <tr>\n      <th>4</th>\n      <td>1276.0</td>\n      <td>deploy your python model as a restful api</td>\n      <td>5</td>\n    </tr>\n  </tbody>\n</table>\n</div>",
      "text/plain": "   article_id                                              title  user_id\n0      1430.0  using pixiedust for fast, flexible, and easier...        1\n1      1314.0       healthcare python streaming application demo        2\n2      1429.0         use deep learning for image classification        3\n3      1338.0          ml optimization using cognitive assistant        4\n4      1276.0          deploy your python model as a restful api        5"
     },
     "execution_count": 29,
     "metadata": {},
     "output_type": "execute_result"
    }
   ],
   "source": [
    "# re-examine the data\n",
    "df.head()"
   ]
  },
  {
   "cell_type": "code",
   "execution_count": 30,
   "metadata": {},
   "outputs": [],
   "source": [
    "def get_top_articles(n, df=df):\n",
    "    '''\n",
    "    INPUT:\n",
    "    n - (int) the number of top articles to return\n",
    "    df - (pandas dataframe) df as defined at the top of the notebook \n",
    "    \n",
    "    OUTPUT:\n",
    "    top_articles - (list) A list of the top 'n' article titles \n",
    "    \n",
    "    '''\n",
    "    cnt = df.groupby(['article_id', 'title'])\\\n",
    "        .size()\\\n",
    "        .sort_values(ascending=False)\\\n",
    "        .head(n)\\\n",
    "        .reset_index()\n",
    "    top_articles = list(cnt.title)\n",
    "    \n",
    "    return top_articles # Return the top article titles\n",
    "\n",
    "def get_top_article_ids(n, df=df):\n",
    "    '''\n",
    "    INPUT:\n",
    "    n - (int) the number of top articles to return\n",
    "    df - (pandas dataframe) df as defined at the top of the notebook \n",
    "    \n",
    "    OUTPUT:\n",
    "    top_articles - (list) A list of the top 'n' article titles \n",
    "    \n",
    "    '''\n",
    "    cnt = df.groupby(['article_id', 'title'])\\\n",
    "        .size()\\\n",
    "        .sort_values(ascending=False)\\\n",
    "        .head(n)\\\n",
    "        .reset_index()\n",
    "    top_articles = list(cnt.article_id)\n",
    "    \n",
    "    return [str(art_id) for art_id in top_articles] # Return the top article ids"
   ]
  },
  {
   "cell_type": "code",
   "execution_count": 31,
   "metadata": {},
   "outputs": [
    {
     "name": "stdout",
     "output_type": "stream",
     "text": "['use deep learning for image classification', 'insights from new york car accident reports', 'visualize car data with brunel', 'use xgboost, scikit-learn & ibm watson machine learning apis', 'predicting churn with the spss random tree algorithm', 'healthcare python streaming application demo', 'finding optimal locations of new store using decision optimization', 'apache spark lab, part 1: basic concepts', 'analyze energy consumption in buildings', 'gosales transactions for logistic regression model']\n['1429.0', '1330.0', '1431.0', '1427.0', '1364.0', '1314.0', '1293.0', '1170.0', '1162.0', '1304.0']\n"
    }
   ],
   "source": [
    "print(get_top_articles(10))\n",
    "print(get_top_article_ids(10))"
   ]
  },
  {
   "cell_type": "code",
   "execution_count": 32,
   "metadata": {},
   "outputs": [
    {
     "name": "stdout",
     "output_type": "stream",
     "text": "Your top_5 looks like the solution list! Nice job.\nYour top_10 looks like the solution list! Nice job.\nYour top_20 looks like the solution list! Nice job.\n"
    }
   ],
   "source": [
    "# Test your function by returning the top 5, 10, and 20 articles\n",
    "top_5 = get_top_articles(5)\n",
    "top_10 = get_top_articles(10)\n",
    "top_20 = get_top_articles(20)\n",
    "\n",
    "# Test each of your three lists from above\n",
    "t.sol_2_test(get_top_articles)"
   ]
  },
  {
   "cell_type": "markdown",
   "metadata": {},
   "source": [
    "### <a class=\"anchor\" id=\"User-User\">Part III: User-User Based Collaborative Filtering</a>\n",
    "\n",
    "\n",
    "`1.` Use the function below to reformat the **df** dataframe to be shaped with users as the rows and articles as the columns.  \n",
    "\n",
    "* Each **user** should only appear in each **row** once.\n",
    "\n",
    "\n",
    "* Each **article** should only show up in one **column**.  \n",
    "\n",
    "\n",
    "* **If a user has interacted with an article, then place a 1 where the user-row meets for that article-column**.  It does not matter how many times a user has interacted with the article, all entries where a user has interacted with an article should be a 1.  \n",
    "\n",
    "\n",
    "* **If a user has not interacted with an item, then place a zero where the user-row meets for that article-column**. \n",
    "\n",
    "Use the tests to make sure the basic structure of your matrix matches what is expected by the solution."
   ]
  },
  {
   "cell_type": "code",
   "execution_count": 33,
   "metadata": {},
   "outputs": [],
   "source": [
    "# create the user-article matrix with 1's and 0's\n",
    "\n",
    "def create_user_item_matrix(df):\n",
    "    '''\n",
    "    INPUT:\n",
    "    df - pandas dataframe with article_id, title, user_id columns\n",
    "    \n",
    "    OUTPUT:\n",
    "    user_item - user item matrix \n",
    "    \n",
    "    Description:\n",
    "    Return a matrix with user ids as rows and article ids on the columns with 1 values where a user interacted with \n",
    "    an article and a 0 otherwise\n",
    "    '''\n",
    "    \n",
    "    # create a throwaway flag column to indicate that a user has seen an article\n",
    "    # group by user id, article_id to get every existing combination,\n",
    "    # then unstack (pivot articleid to columns) to get the crosstab. \n",
    "    # for combinations that do not yet exist (na), fill with 0. Indicates user has not seen article.\n",
    "    \n",
    "    user_item = df.assign(flag = 1)\\\n",
    "        .groupby(['user_id', 'article_id'])\\\n",
    "        .flag\\\n",
    "        .max()\\\n",
    "        .unstack()\\\n",
    "        .fillna(0)\n",
    "\n",
    "    return user_item # return the user_item matrix \n",
    "\n",
    "user_item = create_user_item_matrix(df)"
   ]
  },
  {
   "cell_type": "code",
   "execution_count": 34,
   "metadata": {},
   "outputs": [
    {
     "data": {
      "text/plain": "(5149, 714)"
     },
     "execution_count": 34,
     "metadata": {},
     "output_type": "execute_result"
    }
   ],
   "source": [
    "user_item.shape"
   ]
  },
  {
   "cell_type": "code",
   "execution_count": 35,
   "metadata": {},
   "outputs": [
    {
     "name": "stdout",
     "output_type": "stream",
     "text": "You have passed our quick tests!  Please proceed!\n"
    }
   ],
   "source": [
    "## Tests: You should just need to run this cell.  Don't change the code.\n",
    "assert user_item.shape[0] == 5149, \"Oops!  The number of users in the user-article matrix doesn't look right.\"\n",
    "assert user_item.shape[1] == 714, \"Oops!  The number of articles in the user-article matrix doesn't look right.\"\n",
    "assert user_item.sum(axis=1)[1] == 36, \"Oops!  The number of articles seen by user 1 doesn't look right.\"\n",
    "print(\"You have passed our quick tests!  Please proceed!\")"
   ]
  },
  {
   "cell_type": "markdown",
   "metadata": {},
   "source": [
    "`2.` Complete the function below which should take a user_id and provide an ordered list of the most similar users to that user (from most similar to least similar).  The returned result should not contain the provided user_id, as we know that each user is similar to him/herself. Because the results for each user here are binary, it (perhaps) makes sense to compute similarity as the dot product of two users. \n",
    "\n",
    "Use the tests to test your function."
   ]
  },
  {
   "cell_type": "code",
   "execution_count": 36,
   "metadata": {},
   "outputs": [],
   "source": [
    "def find_similar_users(user_id, user_item=user_item):\n",
    "    '''\n",
    "    INPUT:\n",
    "    user_id - (int) a user_id\n",
    "    user_item - (pandas dataframe) matrix of users by articles: \n",
    "                1's when a user has interacted with an article, 0 otherwise\n",
    "    \n",
    "    OUTPUT:\n",
    "    similar_users - (list) an ordered list where the closest users (largest dot product users)\n",
    "                    are listed first\n",
    "    \n",
    "    Description:\n",
    "    Computes the similarity of every pair of users based on the dot product\n",
    "    Returns an ordered\n",
    "    \n",
    "    '''\n",
    "    # get the user's values as a vector\n",
    "    user_vec = user_item[user_item.index == user_id].values\n",
    "    # all other users' values as a matrix\n",
    "    other_users = user_item[user_item.index != user_id]\n",
    "    \n",
    "    # dot product of user vec with all other users' matrix\n",
    "    similarity = pd.DataFrame(\n",
    "            data=np.dot(user_vec, other_users.T),\n",
    "            columns=other_users.T.columns)\\\n",
    "        .T\\\n",
    "        .reset_index()\n",
    "    similarity.columns=['user_id', 'similarity']\n",
    "   \n",
    "    return similarity.sort_values('similarity', ascending=False).user_id.tolist()\n",
    "        "
   ]
  },
  {
   "cell_type": "code",
   "execution_count": 37,
   "metadata": {},
   "outputs": [
    {
     "name": "stdout",
     "output_type": "stream",
     "text": "The 10 most similar users to user 1 are: [3933, 23, 3782, 203, 4459, 3870, 131, 46, 4201, 395]\nThe 5 most similar users to user 3933 are: [1, 23, 3782, 4459, 203]\nThe 3 most similar users to user 46 are: [4201, 23, 3782]\n"
    }
   ],
   "source": [
    "# Do a spot check of your function\n",
    "print(\"The 10 most similar users to user 1 are: {}\".format(find_similar_users(1)[:10]))\n",
    "print(\"The 5 most similar users to user 3933 are: {}\".format(find_similar_users(3933)[:5]))\n",
    "print(\"The 3 most similar users to user 46 are: {}\".format(find_similar_users(46)[:3]))"
   ]
  },
  {
   "cell_type": "markdown",
   "metadata": {},
   "source": [
    "`3.` Now that you have a function that provides the most similar users to each user, you will want to use these users to find articles you can recommend.  Complete the functions below to return the articles you would recommend to each user. "
   ]
  },
  {
   "cell_type": "code",
   "execution_count": 38,
   "metadata": {},
   "outputs": [],
   "source": [
    "def get_article_names(article_ids, df=df):\n",
    "    '''\n",
    "    INPUT:\n",
    "    article_ids - (list) a list of article ids\n",
    "    df - (pandas dataframe) df as defined at the top of the notebook\n",
    "    \n",
    "    OUTPUT:\n",
    "    article_names - (list) a list of article names associated with the list of article ids \n",
    "                    (this is identified by the title column)\n",
    "    '''\n",
    "    \n",
    "    # create a temporary dataframe so that we can maintain the order of article ids submitted\n",
    "    temp_df = pd.DataFrame(data=article_ids, columns=['article_id']).astype(float)\n",
    "\n",
    "    # get article names associated by joining on df and converting 'title' column to list\n",
    "    article_names = temp_df\\\n",
    "        .merge(\n",
    "            df[['article_id', 'title']].astype({'article_id': float}),\n",
    "            how='inner', \n",
    "            on='article_id')\\\n",
    "        .drop_duplicates()\\\n",
    "        .title\\\n",
    "        .tolist()\n",
    "    \n",
    "    return article_names\n",
    "\n",
    "\n",
    "def get_user_articles(user_id, user_item=user_item, df=df):\n",
    "    '''\n",
    "    INPUT:\n",
    "    user_id - (int) a user id\n",
    "    user_item - (pandas dataframe) matrix of users by articles: \n",
    "                1's when a user has interacted with an article, 0 otherwise\n",
    "    df - (pandas dataframe) df as defined at the top of the notebook\n",
    "    \n",
    "    OUTPUT:\n",
    "    article_ids - (list) a list of the article ids seen by the user\n",
    "    article_names - (list) a list of article names associated with the list of article ids \n",
    "                    (this is identified by the doc_full_name column in df_content)\n",
    "    \n",
    "    Description:\n",
    "    Provides a list of the article_ids and article titles that have been seen by a user\n",
    "    '''\n",
    "    # find all the articles the user has seen\n",
    "    # the mask is a bool array of len(num_columns) with True where user has seen article\n",
    "    user_col_mask = (user_item.loc[user_item.index == user_id] > 0.0).values.reshape(-1,)\n",
    "    # use column mask to find the columns with 1's for this user - user has seen article\n",
    "    article_ids = list(user_item.columns[user_col_mask])\n",
    "    article_ids = [str(art_id) for art_id in article_ids]\n",
    "    \n",
    "    article_names = get_article_names(article_ids, df=df)\n",
    "    \n",
    "    return article_ids, article_names \n",
    "\n",
    "\n",
    "def user_user_recs(user_id, m=10, user_item=user_item):\n",
    "    '''\n",
    "    INPUT:\n",
    "    user_id - (int) a user id\n",
    "    m - (int) the number of recommendations you want for the user\n",
    "    \n",
    "    OUTPUT:\n",
    "    recs - (list) a list of recommendations for the user\n",
    "    \n",
    "    Description:\n",
    "    Loops through the users based on closeness to the input user_id\n",
    "    For each user - finds articles the user hasn't seen before and provides them as recs\n",
    "    Does this until m recommendations are found\n",
    "    \n",
    "    Notes:\n",
    "    Users who are the same closeness are chosen arbitrarily as the 'next' user\n",
    "    \n",
    "    For the user where the number of recommended articles starts below m \n",
    "    and ends exceeding m, the last items are chosen arbitrarily\n",
    "    \n",
    "    '''\n",
    "    # get similar users\n",
    "    other_users = find_similar_users(user_id, user_item=user_item)\n",
    "    # articles this user has already seen\n",
    "    has_seen_ids, has_seen_names = get_user_articles(user_id)\n",
    "    \n",
    "    # set up loop to fill recommendations\n",
    "    recs = []\n",
    "    i = 0\n",
    "    while len(recs) < m and i < len(other_users):\n",
    "        other_user_ids, other_user_names = get_user_articles(other_users[i])\n",
    "        for article_id in other_user_ids:\n",
    "            if len(recs) < m and article_id not in has_seen_ids:\n",
    "                recs.append(article_id)\n",
    "        i += 1\n",
    "    \n",
    "    return recs  "
   ]
  },
  {
   "cell_type": "code",
   "execution_count": 39,
   "metadata": {},
   "outputs": [
    {
     "name": "stdout",
     "output_type": "stream",
     "text": "If this is all you see, you passed all of our tests!  Nice job!\n"
    }
   ],
   "source": [
    "# Test your functions here - No need to change this code - just run this cell\n",
    "assert set(get_article_names(['1024.0', '1176.0', '1305.0', '1314.0', '1422.0', '1427.0'])) == set(['using deep learning to reconstruct high-resolution audio', 'build a python app on the streaming analytics service', 'gosales transactions for naive bayes model', 'healthcare python streaming application demo', 'use r dataframes & ibm watson natural language understanding', 'use xgboost, scikit-learn & ibm watson machine learning apis']), \"Oops! Your the get_article_names function doesn't work quite how we expect.\"\n",
    "assert set(get_article_names(['1320.0', '232.0', '844.0'])) == set(['housing (2015): united states demographic measures','self-service data preparation with ibm data refinery','use the cloudant-spark connector in python notebook']), \"Oops! Your the get_article_names function doesn't work quite how we expect.\"\n",
    "assert set(get_user_articles(20)[0]) == set(['1320.0', '232.0', '844.0'])\n",
    "assert set(get_user_articles(20)[1]) == set(['housing (2015): united states demographic measures', 'self-service data preparation with ibm data refinery','use the cloudant-spark connector in python notebook'])\n",
    "assert set(get_user_articles(2)[0]) == set(['1024.0', '1176.0', '1305.0', '1314.0', '1422.0', '1427.0'])\n",
    "assert set(get_user_articles(2)[1]) == set(['using deep learning to reconstruct high-resolution audio', 'build a python app on the streaming analytics service', 'gosales transactions for naive bayes model', 'healthcare python streaming application demo', 'use r dataframes & ibm watson natural language understanding', 'use xgboost, scikit-learn & ibm watson machine learning apis'])\n",
    "print(\"If this is all you see, you passed all of our tests!  Nice job!\")"
   ]
  },
  {
   "cell_type": "markdown",
   "metadata": {},
   "source": [
    "`4.` Now we are going to improve the consistency of the **user_user_recs** function from above.  \n",
    "\n",
    "* Instead of arbitrarily choosing when we obtain users who are all the same closeness to a given user - choose the users that have the most total article interactions before choosing those with fewer article interactions.\n",
    "\n",
    "\n",
    "* Instead of arbitrarily choosing articles from the user where the number of recommended articles starts below m and ends exceeding m, choose articles with the articles with the most total interactions before choosing those with fewer total interactions. This ranking should be  what would be obtained from the **top_articles** function you wrote earlier."
   ]
  },
  {
   "cell_type": "code",
   "execution_count": 40,
   "metadata": {},
   "outputs": [],
   "source": [
    "def get_top_sorted_users(user_id, df=df, user_item=user_item):\n",
    "    '''\n",
    "    INPUT:\n",
    "    user_id - (int)\n",
    "    df - (pandas dataframe) df as defined at the top of the notebook \n",
    "    user_item - (pandas dataframe) matrix of users by articles: \n",
    "            1's when a user has interacted with an article, 0 otherwise\n",
    "    \n",
    "            \n",
    "    OUTPUT:\n",
    "    neighbors_df - (pandas dataframe) a dataframe with:\n",
    "                    neighbor_id - is a neighbor user_id\n",
    "                    similarity - measure of the similarity of each user to the provided user_id\n",
    "                    num_interactions - the number of articles viewed by the user - if a u\n",
    "                    \n",
    "    Other Details - sort the neighbors_df by the similarity and then by number of interactions where \n",
    "                    highest of each is higher in the dataframe\n",
    "     \n",
    "    '''\n",
    "    # find similar users\n",
    "    user_vec = user_item[user_item.index == user_id].values\n",
    "    other_users = user_item[user_item.index != user_id]\n",
    "    \n",
    "    # dot product of user with all other users\n",
    "    similarity = pd.DataFrame(\n",
    "            data=np.dot(user_vec, other_users.T),\n",
    "            columns=other_users.T.columns)\\\n",
    "        .T\\\n",
    "        .reset_index()\n",
    "    similarity.columns=['user_id', 'similarity']\n",
    "   \n",
    "    similarity = similarity.\\\n",
    "        merge(\n",
    "            df.groupby('user_id')\\\n",
    "                .article_id\\\n",
    "                .count()\\\n",
    "                .reset_index(), \n",
    "            how='left', on='user_id')\n",
    "    similarity = similarity.rename(columns={'article_id': 'num_interactions', 'user_id': 'neighbor_id'})\n",
    "    \n",
    "    return similarity.sort_values(['similarity', 'num_interactions'], ascending=False)\n",
    "\n",
    "\n",
    "def user_user_recs_part2(user_id, m=10):\n",
    "    '''\n",
    "    INPUT:\n",
    "    user_id - (int) a user id\n",
    "    m - (int) the number of recommendations you want for the user\n",
    "    \n",
    "    OUTPUT:\n",
    "    recs - (list) a list of recommendations for the user by article id\n",
    "    rec_names - (list) a list of recommendations for the user by article title\n",
    "    \n",
    "    Description:\n",
    "    Loops through the users based on closeness to the input user_id\n",
    "    For each user - finds articles the user hasn't seen before and provides them as recs\n",
    "    Does this until m recommendations are found\n",
    "    \n",
    "    Notes:\n",
    "    * Choose the users that have the most total article interactions \n",
    "    before choosing those with fewer article interactions.\n",
    "\n",
    "    * Choose articles with the articles with the most total interactions \n",
    "    before choosing those with fewer total interactions. \n",
    "   \n",
    "    '''\n",
    "    # get the top articles in the dataset by number of user interactions\n",
    "    top_articles = df.groupby(['article_id', 'title']).size().sort_values(ascending=False).reset_index()\n",
    "    top_articles.columns = ['article_id', 'title', 'count']\n",
    "    \n",
    "    # find similar users - sorted by similarity desc, num article interactions desc\n",
    "    other_users = get_top_sorted_users(user_id)['neighbor_id'].tolist()\n",
    "    \n",
    "    # has already seen these articles, don't want to recommend them again\n",
    "    has_seen_ids, has_seen_names = get_user_articles(user_id)\n",
    "    \n",
    "    # loop \n",
    "    recs = []\n",
    "    i = 0\n",
    "    while len(recs) < m and i < len(other_users):\n",
    "        other_user_ids, other_user_names = get_user_articles(other_users[i])\n",
    "        # top articles is already sorted - filter to where the article_id is in the list of articles\n",
    "        # that other_user has seen\n",
    "        sorted_other_ids = top_articles.loc[top_articles.article_id.isin(other_user_ids), 'article_id'].tolist()\n",
    "        for article_id in sorted_other_ids:\n",
    "            if len(recs) < m and str(article_id) not in has_seen_ids:\n",
    "                recs.append(str(article_id))\n",
    "        i += 1\n",
    "    \n",
    "    rec_names = get_article_names(recs)\n",
    "    \n",
    "    return recs, rec_names"
   ]
  },
  {
   "cell_type": "code",
   "execution_count": 41,
   "metadata": {},
   "outputs": [
    {
     "data": {
      "text/plain": "(['1330.0',\n  '1364.0',\n  '1314.0',\n  '1162.0',\n  '1304.0',\n  '1351.0',\n  '1393.0',\n  '1160.0',\n  '1354.0',\n  '1338.0'],\n ['insights from new york car accident reports',\n  'predicting churn with the spss random tree algorithm',\n  'healthcare python streaming application demo',\n  'analyze energy consumption in buildings',\n  'gosales transactions for logistic regression model',\n  'model bike sharing data with spss',\n  'the nurse assignment problem',\n  'analyze accident reports on amazon emr spark',\n  'movie recommender system with spark machine learning',\n  'ml optimization using cognitive assistant'])"
     },
     "execution_count": 41,
     "metadata": {},
     "output_type": "execute_result"
    }
   ],
   "source": [
    "user_user_recs_part2(1)"
   ]
  },
  {
   "cell_type": "code",
   "execution_count": 42,
   "metadata": {},
   "outputs": [
    {
     "name": "stdout",
     "output_type": "stream",
     "text": "The top 10 recommendations for user 20 are the following article ids:\n['1330.0', '1427.0', '1364.0', '1170.0', '1162.0', '1304.0', '1351.0', '1160.0', '1354.0', '1368.0']\n\nThe top 10 recommendations for user 20 are the following article names:\n['insights from new york car accident reports', 'use xgboost, scikit-learn & ibm watson machine learning apis', 'predicting churn with the spss random tree algorithm', 'apache spark lab, part 1: basic concepts', 'analyze energy consumption in buildings', 'gosales transactions for logistic regression model', 'model bike sharing data with spss', 'analyze accident reports on amazon emr spark', 'movie recommender system with spark machine learning', 'putting a human face on machine learning']\n"
    }
   ],
   "source": [
    "# Quick spot check - don't change this code - just use it to test your functions\n",
    "rec_ids, rec_names = user_user_recs_part2(20, 10)\n",
    "print(\"The top 10 recommendations for user 20 are the following article ids:\")\n",
    "print(rec_ids)\n",
    "print()\n",
    "print(\"The top 10 recommendations for user 20 are the following article names:\")\n",
    "print(rec_names)"
   ]
  },
  {
   "cell_type": "code",
   "execution_count": 43,
   "metadata": {},
   "outputs": [
    {
     "data": {
      "text/plain": "(['232.0', '844.0', '1320.0'],\n ['self-service data preparation with ibm data refinery',\n  'use the cloudant-spark connector in python notebook',\n  'housing (2015): united states demographic measures'])"
     },
     "execution_count": 43,
     "metadata": {},
     "output_type": "execute_result"
    }
   ],
   "source": [
    "# check the articles that user 20 has already seen for comparison\n",
    "get_user_articles(20)"
   ]
  },
  {
   "cell_type": "markdown",
   "metadata": {},
   "source": [
    "`5.` Use your functions from above to correctly fill in the solutions to the dictionary below.  Then test your dictionary against the solution.  Provide the code you need to answer each following the comments below."
   ]
  },
  {
   "cell_type": "code",
   "execution_count": 44,
   "metadata": {},
   "outputs": [
    {
     "data": {
      "text/html": "<div>\n<style scoped>\n    .dataframe tbody tr th:only-of-type {\n        vertical-align: middle;\n    }\n\n    .dataframe tbody tr th {\n        vertical-align: top;\n    }\n\n    .dataframe thead th {\n        text-align: right;\n    }\n</style>\n<table border=\"1\" class=\"dataframe\">\n  <thead>\n    <tr style=\"text-align: right;\">\n      <th></th>\n      <th>neighbor_id</th>\n      <th>similarity</th>\n      <th>num_interactions</th>\n    </tr>\n  </thead>\n  <tbody>\n    <tr>\n      <th>3931</th>\n      <td>3933</td>\n      <td>35.0</td>\n      <td>45</td>\n    </tr>\n    <tr>\n      <th>21</th>\n      <td>23</td>\n      <td>17.0</td>\n      <td>364</td>\n    </tr>\n    <tr>\n      <th>3780</th>\n      <td>3782</td>\n      <td>17.0</td>\n      <td>363</td>\n    </tr>\n    <tr>\n      <th>201</th>\n      <td>203</td>\n      <td>15.0</td>\n      <td>160</td>\n    </tr>\n    <tr>\n      <th>4457</th>\n      <td>4459</td>\n      <td>15.0</td>\n      <td>158</td>\n    </tr>\n  </tbody>\n</table>\n</div>",
      "text/plain": "      neighbor_id  similarity  num_interactions\n3931         3933        35.0                45\n21             23        17.0               364\n3780         3782        17.0               363\n201           203        15.0               160\n4457         4459        15.0               158"
     },
     "execution_count": 44,
     "metadata": {},
     "output_type": "execute_result"
    }
   ],
   "source": [
    "# most similar users to user 1\n",
    "get_top_sorted_users(1).head()"
   ]
  },
  {
   "cell_type": "code",
   "execution_count": 45,
   "metadata": {},
   "outputs": [
    {
     "data": {
      "text/plain": "neighbor_id         242.0\nsimilarity           25.0\nnum_interactions    148.0\nName: 240, dtype: float64"
     },
     "execution_count": 45,
     "metadata": {},
     "output_type": "execute_result"
    }
   ],
   "source": [
    "# 10th most similar to user 131\n",
    "get_top_sorted_users(131).iloc[9]"
   ]
  },
  {
   "cell_type": "code",
   "execution_count": 46,
   "metadata": {},
   "outputs": [],
   "source": [
    "### Tests with a dictionary of results\n",
    "\n",
    "user1_most_sim = 3933\n",
    "user131_10th_sim = 242"
   ]
  },
  {
   "cell_type": "code",
   "execution_count": 47,
   "metadata": {},
   "outputs": [
    {
     "name": "stdout",
     "output_type": "stream",
     "text": "This all looks good!  Nice job!\n"
    }
   ],
   "source": [
    "## Dictionary Test Here\n",
    "sol_5_dict = {\n",
    "    'The user that is most similar to user 1.': user1_most_sim, \n",
    "    'The user that is the 10th most similar to user 131': user131_10th_sim,\n",
    "}\n",
    "\n",
    "t.sol_5_test(sol_5_dict)"
   ]
  },
  {
   "cell_type": "markdown",
   "metadata": {},
   "source": [
    "`6.` If we were given a new user, which of the above functions would you be able to use to make recommendations?  Explain.  Can you think of a better way we might make recommendations?  Use the cell below to explain a better method for new users."
   ]
  },
  {
   "cell_type": "markdown",
   "metadata": {},
   "source": [
    "For brand new users we could easily recommend the top `n` most popular articles available. To accomplish this we could execute `get_top_article_ids(n)` where `n` is the number of recommendations we wish to make. <br> \n",
    "A better way to make recommendations might be to take user demographic information (Age, location, device, browser, etc) into account when making recommendations if that information is exposed to us in the browser or in the sign-up process.\n"
   ]
  },
  {
   "cell_type": "markdown",
   "metadata": {},
   "source": [
    "`7.` Using your existing functions, provide the top 10 recommended articles you would provide for the a new user below.  You can test your function against our thoughts to make sure we are all on the same page with how we might make a recommendation."
   ]
  },
  {
   "cell_type": "code",
   "execution_count": 48,
   "metadata": {},
   "outputs": [
    {
     "data": {
      "text/plain": "['1429.0',\n '1330.0',\n '1431.0',\n '1427.0',\n '1364.0',\n '1314.0',\n '1293.0',\n '1170.0',\n '1162.0',\n '1304.0']"
     },
     "execution_count": 48,
     "metadata": {},
     "output_type": "execute_result"
    }
   ],
   "source": [
    "get_top_article_ids(10)"
   ]
  },
  {
   "cell_type": "code",
   "execution_count": 49,
   "metadata": {},
   "outputs": [],
   "source": [
    "new_user = '0.0'\n",
    "\n",
    "# What would your recommendations be for this new user '0.0'?  As a new user, they have no observed articles.\n",
    "# Provide a list of the top 10 article ids you would give to \n",
    "new_user_recs = get_top_article_ids(10)\n",
    "\n"
   ]
  },
  {
   "cell_type": "code",
   "execution_count": 50,
   "metadata": {},
   "outputs": [
    {
     "name": "stdout",
     "output_type": "stream",
     "text": "That's right!  Nice job!\n"
    }
   ],
   "source": [
    "assert set(new_user_recs) == set(['1314.0','1429.0','1293.0','1427.0','1162.0','1364.0','1304.0','1170.0','1431.0','1330.0']), \"Oops!  It makes sense that in this case we would want to recommend the most popular articles, because we don't know anything about these users.\"\n",
    "\n",
    "print(\"That's right!  Nice job!\")"
   ]
  },
  {
   "cell_type": "markdown",
   "metadata": {},
   "source": [
    "### <a class=\"anchor\" id=\"Content-Recs\">Part IV: Content Based Recommendations</a>\n",
    "\n",
    "Another method we might use to make recommendations is to perform a ranking of the highest ranked articles associated with some term.  You might consider content to be the **doc_body**, **doc_description**, or **doc_full_name**.  There isn't one way to create a content based recommendation, especially considering that each of these columns hold content related information.  \n",
    "\n",
    "`1.` Use the function body below to create a content based recommender.  Since there isn't one right answer for this recommendation tactic, no test functions are provided.  Feel free to change the function inputs if you decide you want to try a method that requires more input values.  The input values are currently set with one idea in mind that you may use to make content based recommendations.  One additional idea is that you might want to choose the most popular recommendations that meet your 'content criteria', but again, there is a lot of flexibility in how you might make these recommendations.\n"
   ]
  },
  {
   "cell_type": "markdown",
   "metadata": {},
   "source": [
    "## Content Based Recommendations - A Multi-Armed Bandit Approach\n",
    "\n",
    "The basic approach that am I going to follow will be: <p> \n",
    "<i> Preprocessing </i>\n",
    "1. Merge `df` and `df_content` and fill in missing values appropriately.\n",
    "2. Clean and perform text feature extraction on `doc_body`, `doc_description`, and `doc_full_name` separately.\n",
    "3. Run `KMeans` clustering on articles based on text features This will group/cluster articles that are similar. Assign cluster id to articles.\n",
    "\n",
    "<i> Recommendation </i>\n",
    "1. For supplied user, compute the parameters of a beta distribution per article cluster.\n",
    "  1. Choose uniform prior distribution to represent equal probability of user choosing from any of the article clusters. <br> `alpha_prior` = 1 and `beta_prior` = 1.\n",
    "  2. Compute `alpha` parameter of user-cluster beta distribution as number of articles user has read from that cluster plus `alpha_prior`. The `alpha` parameter can be intuitively thought of as the number of successes per cluster for this user.\n",
    "  3. Compute `beta` parameter of user-cluster beta distribution as total number of articles read by user minus number of articles user has read in that cluster plus `beta_prior`. The `beta` parameter can be intuitively thought of as the number of failures per cluster for this user.\n",
    "2. Recommend articles to user in loop up to `num_recommendations` requested\n",
    "  1. For each recommendation for this user, take a sample from each cluster's beta distribution. Clusters that have a higher empirical success rate for this user have a higher likelihood of generating a larger sample number. Users that have not read many (or any) articles have a higher likelihood of generating similar sample numbers across all clusters. This is where the uniform prior distribution comes into play - these are our starting numbers.\n",
    "  2. Merge cluster scores onto all articles with `cluster` as key (results in cartesian product).\n",
    "  3. Filter all articles to articles user has not already seen and has not already been recommended in this session.\n",
    "  4. Of the remaining available articles, take the most popular article per cluster. Popularity is indicated by the number of user interactions with the article.\n",
    "  5. Take the `argmax()` (in this case we will use pandas' `idxmax()`) of the sample number to return the top article of the cluster whose beta distribution generated the highest sample number.\n",
    "  6. Add this article id to the list of recommendations for the user. Add this article id to the list of articles the user has seen or been recommended.\n",
    "  7. Loop until we have `num_recommendations`.\n",
    "\n",
    "\n",
    "This recommendation approach is in essence a version of a Multi-Armed Bandit using Thompson's sampling as the arm selection algorithm, article clusters as the arms of the bandit (possible courses of action), and article popularity as the method used to reduced each arm to a single article. <br>\n",
    "The advantages of the MAB approach are that we \"automatically\" explore article clusters for users that have not read many or any articles. As the user generates more data, we \"automatically\" exploit the article clusters that the user has shown a preference for, and preferentially select from these clusters when recommending content to the user. This tackles the cold-start problem for us with ease.\n",
    "<br>\n",
    "An additional benefit to the above outlined approach is that (assuming your article clustering is accurate) you can easily overcome the cold-start problem for new templates as well by performing the feature extraction and clustering on new articles. These articles would then be available with other articles in the cluster when recommending. <br>\n",
    "A final note would be that here we choose the top article per cluster as the article that is most popular in that cluster. A revision of this approach would be to instead sort by recency of publication or trending popularity.<br>\n",
    "\n",
    "Some resources on MABs and Thompson's sampling can be found below.\n",
    "\n",
    "https://conductrics.com/lets-play-roulette-using-machine-learning-and-thompson-sampling-for-digital-optimization/ <br>\n",
    "https://www.retentionscience.com/blog/multi-armed-bandit/ <br>\n",
    "https://en.wikipedia.org/wiki/Beta_distribution#Bayesian_inference <br>\n",
    "https://www.chrisstucchio.com/blog/2013/bayesian_analysis_conversion_rates.html <br>\n",
    "https://www.chrisstucchio.com/blog/2013/bayesian_bandit.html <br>\n",
    "https://papers.nips.cc/paper/4321-an-empirical-evaluation-of-thompson-sampling.pdf\n",
    "\n",
    "\n"
   ]
  },
  {
   "cell_type": "markdown",
   "metadata": {},
   "source": [
    "Import all required libraries."
   ]
  },
  {
   "cell_type": "code",
   "execution_count": 51,
   "metadata": {},
   "outputs": [
    {
     "name": "stderr",
     "output_type": "stream",
     "text": "[nltk_data] Downloading package stopwords to\n[nltk_data]     C:\\Users\\jwilliams1\\AppData\\Roaming\\nltk_data...\n[nltk_data]   Package stopwords is already up-to-date!\n[nltk_data] Downloading package punkt to\n[nltk_data]     C:\\Users\\jwilliams1\\AppData\\Roaming\\nltk_data...\n[nltk_data]   Package punkt is already up-to-date!\n[nltk_data] Downloading package averaged_perceptron_tagger to\n[nltk_data]     C:\\Users\\jwilliams1\\AppData\\Roaming\\nltk_data...\n[nltk_data]   Package averaged_perceptron_tagger is already up-to-\n[nltk_data]       date!\n[nltk_data] Downloading package wordnet to\n[nltk_data]     C:\\Users\\jwilliams1\\AppData\\Roaming\\nltk_data...\n[nltk_data]   Package wordnet is already up-to-date!\n"
    }
   ],
   "source": [
    "from sklearn.pipeline import Pipeline, FeatureUnion\n",
    "from sklearn.feature_extraction.text import CountVectorizer, TfidfTransformer\n",
    "from sklearn.compose import ColumnTransformer\n",
    "from sklearn.cluster import KMeans\n",
    "\n",
    "import nltk\n",
    "nltk.download('stopwords')\n",
    "nltk.download('punkt')\n",
    "nltk.download('averaged_perceptron_tagger')\n",
    "nltk.download('wordnet')\n",
    "\n",
    "from nltk.corpus import stopwords\n",
    "stop_words = set(stopwords.words('english'))\n",
    "from nltk.corpus import wordnet\n",
    "from nltk.stem.wordnet import WordNetLemmatizer\n",
    "from nltk import pos_tag\n",
    "from nltk.tokenize import word_tokenize\n",
    "\n",
    "import re\n",
    "\n",
    "from numpy.random import beta"
   ]
  },
  {
   "cell_type": "code",
   "execution_count": 52,
   "metadata": {},
   "outputs": [],
   "source": [
    "# define a function that will allow a treebank POS tag to be converted into a WordNet\n",
    "# POS Tag so the lemmatizer will understand it\n",
    "def get_wordnet_pos(treebank_tag):\n",
    "    \"\"\"Convert a TreeBank POS tag into a WordNet POS tag.\n",
    "    Args:\n",
    "        treebank_tag (TreeBank POS tag): TreeBank Part of Speech tag\n",
    "    \n",
    "    Returns:\n",
    "        wordnet tag (WordNet POS tag): WordNet Part of Speech tag\n",
    "    \"\"\"\n",
    "    if treebank_tag.startswith('J'):\n",
    "        return wordnet.ADJ\n",
    "    elif treebank_tag.startswith('V'):\n",
    "        return wordnet.VERB\n",
    "    elif treebank_tag.startswith('N'):\n",
    "        return wordnet.NOUN\n",
    "    elif treebank_tag.startswith('R'):\n",
    "        return wordnet.ADV\n",
    "    # default to Noun \n",
    "    else:\n",
    "        return wordnet.NOUN"
   ]
  },
  {
   "cell_type": "code",
   "execution_count": 53,
   "metadata": {},
   "outputs": [],
   "source": [
    "# fxn to tokenize and lemmatize text\n",
    "\n",
    "def tokenize(text, lemmatize=True, remove_stops=False):\n",
    "    \"\"\"Clean and tokenize messages. Optionally remove stop words and lemmatize\n",
    "    if self.remove_stops=True or self.lemmatize=True.\n",
    "    Args:\n",
    "        text (str): text to clean\n",
    "        \n",
    "    Returns:\n",
    "        text (str): cleaned text\n",
    "    \"\"\" \n",
    "    # iterate over supplied messages \n",
    "    # sub out any urls \n",
    "    text = re.sub(r'^https?:\\/\\/.*[\\r\\n]*', '', text, flags=re.MULTILINE)\n",
    "            \n",
    "    # remove all non-alphanumeric characters\n",
    "    text = re.sub(r'[^a-zA-Z0-9]', ' ', text)\n",
    "              \n",
    "    # lower text and strip whitespace\n",
    "    text = text.lower().strip()\n",
    "    \n",
    "    # tokenize words - nltk.tokenize.word_tokenize\n",
    "    words = word_tokenize(text)\n",
    "            \n",
    "    if lemmatize:\n",
    "        # tag words with Part of Speech - list of (word, POS) tuples \n",
    "        # nltk.pos_tag()\n",
    "        words_with_pos_tag = pos_tag(words)\n",
    "                \n",
    "        if remove_stops:\n",
    "            # remove stop words\n",
    "            # stop_words = nlt.corpus.stopwords of 'english' language\n",
    "            words_with_pos_tag = [word for word in words_with_pos_tag if word[0] not in stop_words]\n",
    "                \n",
    "        # change pos tags to wordnet pos tags for lemmatizer\n",
    "        words_with_wordnet_tag = []\n",
    "    \n",
    "        for word_with_tag in words_with_pos_tag:\n",
    "            word, tag = word_with_tag\n",
    "            tag = get_wordnet_pos(tag)\n",
    "            words_with_wordnet_tag.append((word, tag))\n",
    "\n",
    "        # lemmatize\n",
    "        lemm = WordNetLemmatizer()\n",
    "        # unpack the (word, pos) tuple into the Lemmatizer to give better lemmatization \n",
    "        # lemmatization is more effective when it knows the correct part of speech\n",
    "        words = [lemm.lemmatize(*w) for w in words_with_wordnet_tag]\n",
    "                \n",
    "    else:\n",
    "        if remove_stops:\n",
    "            words = [word for word in words if word not in stop_words]\n",
    "     \n",
    "    return ' '.join(words)"
   ]
  },
  {
   "cell_type": "markdown",
   "metadata": {},
   "source": [
    "### Data Preprocessing"
   ]
  },
  {
   "cell_type": "code",
   "execution_count": 54,
   "metadata": {},
   "outputs": [],
   "source": [
    "# merge data and clean up to fit clusters\n",
    "merged = df_content.merge(df, how='outer', on='article_id')\n",
    "merged['clean_title'] = merged.title\\\n",
    "    .str.lower()\\\n",
    "    .str.strip()\\\n",
    "    .str.replace(r'[^a-zA-Z0-9\\s]', '')\\\n",
    "    .str.replace(r'\\s\\s', ' ')"
   ]
  },
  {
   "cell_type": "code",
   "execution_count": 55,
   "metadata": {},
   "outputs": [],
   "source": [
    "# some articles present in user behavior are missing in df_content - fill nans with user behavior article title\n",
    "merged.loc[merged.doc_body.isna(), 'doc_body'] = merged.clean_title\n",
    "merged.loc[merged.doc_description.isna(), 'doc_description'] = merged.clean_title\n",
    "merged.loc[merged.doc_full_name.isna(), 'doc_full_name'] = merged.clean_title\n",
    "merged.loc[merged.doc_status.isna(), 'doc_status'] = 'Live'\n",
    "\n",
    "# fill body and description nans with clean title. \n",
    "merged.loc[merged.doc_body.isna(), 'doc_body'] = merged.doc_full_name\n",
    "merged.loc[merged.doc_description.isna(), 'doc_description'] = merged.doc_full_name\n",
    "\n",
    "# fill body and description filler text with clean title\n",
    "merged.loc[merged.doc_body == 'body', 'doc_body'] = merged.doc_full_name\n",
    "merged.loc[merged.doc_description == 'description', 'doc_description'] = merged.doc_full_name"
   ]
  },
  {
   "cell_type": "code",
   "execution_count": 56,
   "metadata": {},
   "outputs": [
    {
     "name": "stdout",
     "output_type": "stream",
     "text": "<class 'pandas.core.frame.DataFrame'>\nInt64Index: 46607 entries, 0 to 46606\nData columns (total 9 columns):\ndoc_body           46607 non-null object\ndoc_description    46607 non-null object\ndoc_full_name      46607 non-null object\ndoc_status         46607 non-null object\narticle_id         46607 non-null int64\ndoc_clean_name     22068 non-null object\ntitle              45993 non-null object\nuser_id            45993 non-null float64\nclean_title        45993 non-null object\ndtypes: float64(1), int64(1), object(7)\nmemory usage: 4.8+ MB\n"
    }
   ],
   "source": [
    "# check for nulls\n",
    "merged.info()"
   ]
  },
  {
   "cell_type": "code",
   "execution_count": 57,
   "metadata": {},
   "outputs": [
    {
     "data": {
      "text/html": "<div>\n<style scoped>\n    .dataframe tbody tr th:only-of-type {\n        vertical-align: middle;\n    }\n\n    .dataframe tbody tr th {\n        vertical-align: top;\n    }\n\n    .dataframe thead th {\n        text-align: right;\n    }\n</style>\n<table border=\"1\" class=\"dataframe\">\n  <thead>\n    <tr style=\"text-align: right;\">\n      <th></th>\n      <th>doc_body</th>\n      <th>doc_description</th>\n      <th>doc_full_name</th>\n      <th>article_id</th>\n    </tr>\n  </thead>\n  <tbody>\n    <tr>\n      <th>0</th>\n      <td>Skip navigation Sign in SearchLoading...\\r\\n\\r...</td>\n      <td>Detect bad readings in real time using Python ...</td>\n      <td>Detect Malfunctioning IoT Sensors with Streami...</td>\n      <td>0</td>\n    </tr>\n    <tr>\n      <th>14</th>\n      <td>No Free Hunch Navigation * kaggle.com\\r\\n\\r\\n ...</td>\n      <td>See the forest, see the trees. Here lies the c...</td>\n      <td>Communicating data science: A guide to present...</td>\n      <td>1</td>\n    </tr>\n    <tr>\n      <th>15</th>\n      <td>☰ * Login\\r\\n * Sign Up\\r\\n\\r\\n * Learning Pat...</td>\n      <td>Here’s this week’s news in Data Science and Bi...</td>\n      <td>This Week in Data Science (April 18, 2017)</td>\n      <td>2</td>\n    </tr>\n    <tr>\n      <th>73</th>\n      <td>DATALAYER: HIGH THROUGHPUT, LOW LATENCY AT SCA...</td>\n      <td>Learn how distributed DBs solve the problem of...</td>\n      <td>DataLayer Conference: Boost the performance of...</td>\n      <td>3</td>\n    </tr>\n    <tr>\n      <th>74</th>\n      <td>Skip navigation Sign in SearchLoading...\\r\\n\\r...</td>\n      <td>This video demonstrates the power of IBM DataS...</td>\n      <td>Analyze NY Restaurant data using Spark in DSX</td>\n      <td>4</td>\n    </tr>\n  </tbody>\n</table>\n</div>",
      "text/plain": "                                             doc_body  \\\n0   Skip navigation Sign in SearchLoading...\\r\\n\\r...   \n14  No Free Hunch Navigation * kaggle.com\\r\\n\\r\\n ...   \n15  ☰ * Login\\r\\n * Sign Up\\r\\n\\r\\n * Learning Pat...   \n73  DATALAYER: HIGH THROUGHPUT, LOW LATENCY AT SCA...   \n74  Skip navigation Sign in SearchLoading...\\r\\n\\r...   \n\n                                      doc_description  \\\n0   Detect bad readings in real time using Python ...   \n14  See the forest, see the trees. Here lies the c...   \n15  Here’s this week’s news in Data Science and Bi...   \n73  Learn how distributed DBs solve the problem of...   \n74  This video demonstrates the power of IBM DataS...   \n\n                                        doc_full_name  article_id  \n0   Detect Malfunctioning IoT Sensors with Streami...           0  \n14  Communicating data science: A guide to present...           1  \n15         This Week in Data Science (April 18, 2017)           2  \n73  DataLayer Conference: Boost the performance of...           3  \n74      Analyze NY Restaurant data using Spark in DSX           4  "
     },
     "execution_count": 57,
     "metadata": {},
     "output_type": "execute_result"
    }
   ],
   "source": [
    "# prep final df for cluster fitting\n",
    "cluster_fit = merged[['doc_body', 'doc_description', 'doc_full_name', 'article_id']].drop_duplicates()\n",
    "cluster_fit.head()"
   ]
  },
  {
   "cell_type": "code",
   "execution_count": 58,
   "metadata": {},
   "outputs": [
    {
     "name": "stdout",
     "output_type": "stream",
     "text": "<class 'pandas.core.frame.DataFrame'>\nInt64Index: 1328 entries, 0 to 46605\nData columns (total 4 columns):\ndoc_body           1328 non-null object\ndoc_description    1328 non-null object\ndoc_full_name      1328 non-null object\narticle_id         1328 non-null int64\ndtypes: int64(1), object(3)\nmemory usage: 51.9+ KB\n"
    }
   ],
   "source": [
    "cluster_fit.info()"
   ]
  },
  {
   "cell_type": "code",
   "execution_count": 59,
   "metadata": {},
   "outputs": [
    {
     "data": {
      "text/plain": "Pipeline(memory=None,\n         steps=[('feat_engineering',\n                 ColumnTransformer(n_jobs=None, remainder='drop',\n                                   sparse_threshold=0.3,\n                                   transformer_weights={'doc_body': 0.65,\n                                                        'doc_description': 0.2,\n                                                        'doc_full_name': 0.15},\n                                   transformers=[('body_feat',\n                                                  Pipeline(memory=None,\n                                                           steps=[('count_vec',\n                                                                   CountVectorizer(analyzer='word',\n                                                                                   binary=False,\n                                                                                   decode_error='strict',\n                                                                                   dtype=<class 'numpy...\n                                                                                   vocabulary=None)),\n                                                                  ('tfidf',\n                                                                   TfidfTransformer(norm='l2',\n                                                                                    smooth_idf=True,\n                                                                                    sublinear_tf=False,\n                                                                                    use_idf=True))],\n                                                           verbose=False),\n                                                  'doc_full_name')],\n                                   verbose=False)),\n                ('cluster',\n                 KMeans(algorithm='auto', copy_x=True, init='k-means++',\n                        max_iter=300, n_clusters=15, n_init=10, n_jobs=None,\n                        precompute_distances='auto', random_state=None,\n                        tol=0.0001, verbose=0))],\n         verbose=False)"
     },
     "execution_count": 59,
     "metadata": {},
     "output_type": "execute_result"
    }
   ],
   "source": [
    "# create a pipeline that performs text feature extraction on document body, document description and document\n",
    "# title separately, then concatenates results. The most weighting is placed on the document body, then description\n",
    "# and then title.\n",
    "\n",
    "# ColumnTransformer acts as a column selector to perform feature extraction separately on each column.\n",
    "# final step is to fit a KMeans model with 15 clusters\n",
    "\n",
    "doc_cluster_pipe = Pipeline([\n",
    "        ('feat_engineering', ColumnTransformer([\n",
    "            ('body_feat', Pipeline([\n",
    "                ('count_vec', CountVectorizer(tokenizer=tokenize)),\n",
    "                ('tfidf', TfidfTransformer())\n",
    "            ]), 'doc_body'),\n",
    "            ('descr_feat', Pipeline([\n",
    "                ('count_vec', CountVectorizer(tokenizer=tokenize)),\n",
    "                ('tfidf', TfidfTransformer())\n",
    "            ]), 'doc_description'),\n",
    "            ('name_feat', Pipeline([\n",
    "                ('count_vec', CountVectorizer(tokenizer=tokenize)),\n",
    "                ('tfidf', TfidfTransformer())\n",
    "            ]), 'doc_full_name')\n",
    "        ], transformer_weights={'doc_body': 0.65, 'doc_description': 0.20, 'doc_full_name': 0.15})),\n",
    "        ('cluster', KMeans(n_clusters=15))\n",
    "    ])\n",
    "\n",
    "doc_cluster_pipe.fit(cluster_fit)"
   ]
  },
  {
   "cell_type": "code",
   "execution_count": 60,
   "metadata": {},
   "outputs": [],
   "source": [
    "# assign labels back to docs\n",
    "cluster_fit['cluster'] = doc_cluster_pipe['cluster'].labels_"
   ]
  },
  {
   "cell_type": "code",
   "execution_count": 61,
   "metadata": {},
   "outputs": [
    {
     "data": {
      "text/plain": "cluster\n0     110\n1     193\n2     115\n3     119\n4      88\n5      82\n6      23\n7      29\n8     158\n9      70\n10    177\n11     38\n12     83\n13     15\n14     28\ndtype: int64"
     },
     "execution_count": 61,
     "metadata": {},
     "output_type": "execute_result"
    }
   ],
   "source": [
    "# check cluster sizes\n",
    "cluster_fit.groupby('cluster').size()"
   ]
  },
  {
   "cell_type": "code",
   "execution_count": 62,
   "metadata": {},
   "outputs": [
    {
     "data": {
      "text/html": "<div>\n<style scoped>\n    .dataframe tbody tr th:only-of-type {\n        vertical-align: middle;\n    }\n\n    .dataframe tbody tr th {\n        vertical-align: top;\n    }\n\n    .dataframe thead th {\n        text-align: right;\n    }\n</style>\n<table border=\"1\" class=\"dataframe\">\n  <thead>\n    <tr style=\"text-align: right;\">\n      <th></th>\n      <th>doc_body</th>\n      <th>doc_description</th>\n      <th>doc_full_name</th>\n      <th>article_id</th>\n      <th>cluster</th>\n    </tr>\n  </thead>\n  <tbody>\n    <tr>\n      <th>18842</th>\n      <td>OPEN CRIME DATA, FREE FOR ALL\\r\\n\\r\\n---------...</td>\n      <td>Learn how to use the open crime data we've sou...</td>\n      <td>Open Crime Data, Free for All</td>\n      <td>902</td>\n      <td>0</td>\n    </tr>\n    <tr>\n      <th>18840</th>\n      <td>INTRODUCING THE SIMPLE NOTIFICATION SERVICE\\r\\...</td>\n      <td>Build complex real-time features for your app ...</td>\n      <td>Introducing the Simple Notification Service</td>\n      <td>900</td>\n      <td>0</td>\n    </tr>\n    <tr>\n      <th>41274</th>\n      <td>uci forest fires</td>\n      <td>uci forest fires</td>\n      <td>uci forest fires</td>\n      <td>1404</td>\n      <td>0</td>\n    </tr>\n    <tr>\n      <th>4921</th>\n      <td>Inside every Cloudant account is a world-class...</td>\n      <td>Cloudant Search is based on Apache Lucene whic...</td>\n      <td>Search Faceting from Scratch [Tutorial]</td>\n      <td>128</td>\n      <td>0</td>\n    </tr>\n    <tr>\n      <th>19132</th>\n      <td>ACCESS DENIED\\r\\nSadly, your client does not s...</td>\n      <td>The largely dominant meritocratic paradigm of ...</td>\n      <td>Talent vs Luck: the role of randomness in succ...</td>\n      <td>926</td>\n      <td>0</td>\n    </tr>\n    <tr>\n      <th>21601</th>\n      <td>Skip to contentDinesh Nirmal's Blog\\r\\n\\r\\nA b...</td>\n      <td>In my last blog “Business differentiation thro...</td>\n      <td>Machine Learning for the Enterprise.</td>\n      <td>1035</td>\n      <td>1</td>\n    </tr>\n    <tr>\n      <th>21600</th>\n      <td>Skip to main content IBM developerWorks / Deve...</td>\n      <td>Building your first data warehouse doesn’t hav...</td>\n      <td>Your First Data Warehouse Is Easy. Meet the ODS.</td>\n      <td>1034</td>\n      <td>1</td>\n    </tr>\n    <tr>\n      <th>16665</th>\n      <td>Homepage Follow Sign in / Sign up Homepage * H...</td>\n      <td>It is always amazing when someone is able to t...</td>\n      <td>Spark-based machine learning tools for capturi...</td>\n      <td>744</td>\n      <td>1</td>\n    </tr>\n    <tr>\n      <th>21588</th>\n      <td>DATALAYER: MANAGING (OR NOT) THE DATA IN IMMUT...</td>\n      <td>Adron Hall of Thrashing Code and Home Depot, t...</td>\n      <td>DataLayer Conference: Managing (or not) the Da...</td>\n      <td>1029</td>\n      <td>1</td>\n    </tr>\n    <tr>\n      <th>16714</th>\n      <td>GEOFILE: SPATIAL REFERENCE SYSTEMS AND DATABAS...</td>\n      <td>GeoFile is a series dedicated to looking at ge...</td>\n      <td>GeoFile: Spatial Reference Systems and Databases</td>\n      <td>748</td>\n      <td>1</td>\n    </tr>\n    <tr>\n      <th>21278</th>\n      <td>Compose The Compose logo Articles Sign in Free...</td>\n      <td>With the latest 0.2.1 version of Transporter, ...</td>\n      <td>How to move data with Compose Transporter - Fr...</td>\n      <td>1023</td>\n      <td>2</td>\n    </tr>\n    <tr>\n      <th>2118</th>\n      <td>* Free 7-Day Crash Course\\r\\n * Blog\\r\\n * Mas...</td>\n      <td>Get to know the ML landscape through this prac...</td>\n      <td>Modern Machine Learning Algorithms</td>\n      <td>51</td>\n      <td>2</td>\n    </tr>\n    <tr>\n      <th>10735</th>\n      <td>This is the first of a three part blog series ...</td>\n      <td>In part one, we introduce the concept of a doc...</td>\n      <td>Introduction to document conflicts – Part One</td>\n      <td>386</td>\n      <td>2</td>\n    </tr>\n    <tr>\n      <th>44279</th>\n      <td>households by type of household age and sex of...</td>\n      <td>households by type of household age and sex of...</td>\n      <td>households by type of household age and sex of...</td>\n      <td>1319</td>\n      <td>2</td>\n    </tr>\n    <tr>\n      <th>11538</th>\n      <td>Compose Menu Databases * MongoDB\\r\\n * Elastic...</td>\n      <td>The power of software to help us understand th...</td>\n      <td>Making the Most of Compose - Customer DroneDeploy</td>\n      <td>431</td>\n      <td>2</td>\n    </tr>\n    <tr>\n      <th>44822</th>\n      <td>country populations 15 years of age and over b...</td>\n      <td>country populations 15 years of age and over b...</td>\n      <td>country populations 15 years of age and over b...</td>\n      <td>1267</td>\n      <td>3</td>\n    </tr>\n    <tr>\n      <th>12581</th>\n      <td>* Blog\\r\\n * About Me // Contact\\r\\n * Downloa...</td>\n      <td>Python for loops are for iterating through seq...</td>\n      <td>Python For Loops Explained (Python for Data Sc...</td>\n      <td>494</td>\n      <td>3</td>\n    </tr>\n    <tr>\n      <th>3069</th>\n      <td>Homepage IBM Watson Data Lab Follow Sign in / ...</td>\n      <td>Read how to take a standard PHP application an...</td>\n      <td>Deploy Your PHP Application to Bluemix</td>\n      <td>93</td>\n      <td>3</td>\n    </tr>\n    <tr>\n      <th>18146</th>\n      <td>Skip to content * United States\\r\\n\\r\\nIBM® de...</td>\n      <td>A journey to help developers find interesting ...</td>\n      <td>Analyze Starcraft II replays with Jupyter Note...</td>\n      <td>858</td>\n      <td>3</td>\n    </tr>\n    <tr>\n      <th>18932</th>\n      <td>Homepage Follow Sign in Get started * Home\\r\\n...</td>\n      <td>Working with Data Science Experience comes wit...</td>\n      <td>Working With IBM Cloud Object Storage In Python</td>\n      <td>910</td>\n      <td>3</td>\n    </tr>\n    <tr>\n      <th>17898</th>\n      <td>acurl is a handy alias we use here at Cloudant...</td>\n      <td>At Cloudant, we use curl a lot to interact wit...</td>\n      <td>Authorized curl, a.k.a acurl</td>\n      <td>840</td>\n      <td>4</td>\n    </tr>\n    <tr>\n      <th>15817</th>\n      <td>This tutorial is for web application developer...</td>\n      <td>Create a contact management app that's stored ...</td>\n      <td>Building CouchApps</td>\n      <td>703</td>\n      <td>4</td>\n    </tr>\n    <tr>\n      <th>15811</th>\n      <td>Compose The Compose logo Articles Sign in Free...</td>\n      <td>Graph 101 is an article series on graph databa...</td>\n      <td>Magical Markov Chains</td>\n      <td>700</td>\n      <td>4</td>\n    </tr>\n    <tr>\n      <th>44818</th>\n      <td>marital status of men and women</td>\n      <td>marital status of men and women</td>\n      <td>marital status of men and women</td>\n      <td>1340</td>\n      <td>4</td>\n    </tr>\n    <tr>\n      <th>13770</th>\n      <td>Compose Menu Databases * MongoDB * Elasticsear...</td>\n      <td>We're going to be talking about how you can ru...</td>\n      <td>Kibana and Compose Elasticsearch</td>\n      <td>598</td>\n      <td>4</td>\n    </tr>\n    <tr>\n      <th>43566</th>\n      <td>airbnb data for analytics portland listings</td>\n      <td>airbnb data for analytics portland listings</td>\n      <td>airbnb data for analytics portland listings</td>\n      <td>1124</td>\n      <td>5</td>\n    </tr>\n    <tr>\n      <th>45967</th>\n      <td>airbnb data for analytics san diego listings</td>\n      <td>airbnb data for analytics san diego listings</td>\n      <td>airbnb data for analytics san diego listings</td>\n      <td>1127</td>\n      <td>5</td>\n    </tr>\n    <tr>\n      <th>41894</th>\n      <td>times world university ranking analysis</td>\n      <td>times world university ranking analysis</td>\n      <td>times world university ranking analysis</td>\n      <td>1396</td>\n      <td>5</td>\n    </tr>\n    <tr>\n      <th>44828</th>\n      <td>airbnb data for analytics san diego reviews</td>\n      <td>airbnb data for analytics san diego reviews</td>\n      <td>airbnb data for analytics san diego reviews</td>\n      <td>1128</td>\n      <td>5</td>\n    </tr>\n    <tr>\n      <th>46249</th>\n      <td>airbnb data for analytics chicago calendar</td>\n      <td>airbnb data for analytics chicago calendar</td>\n      <td>airbnb data for analytics chicago calendar</td>\n      <td>1084</td>\n      <td>5</td>\n    </tr>\n    <tr>\n      <th>...</th>\n      <td>...</td>\n      <td>...</td>\n      <td>...</td>\n      <td>...</td>\n      <td>...</td>\n    </tr>\n    <tr>\n      <th>16089</th>\n      <td>No Free Hunch Navigation * kaggle.com\\r\\n\\r\\n ...</td>\n      <td>With several new datasets uploaded to Datasets...</td>\n      <td>May 2016: Scripts of the Week</td>\n      <td>726</td>\n      <td>9</td>\n    </tr>\n    <tr>\n      <th>20145</th>\n      <td>RStudio Blog * Home\\r\\n\\r\\n * Subscribe to fee...</td>\n      <td>Shiny 0.13.0 is now available on CRAN! This re...</td>\n      <td>Shiny 0.13.0</td>\n      <td>968</td>\n      <td>9</td>\n    </tr>\n    <tr>\n      <th>11042</th>\n      <td>Probabilistic World\\r\\n\\r\\nHome 2016 US Presid...</td>\n      <td>In the first 10 posts I mostly concentrated on...</td>\n      <td>Predicting The 2016 US Presidential Election</td>\n      <td>399</td>\n      <td>9</td>\n    </tr>\n    <tr>\n      <th>19675</th>\n      <td>RStudio Blog * Home\\r\\n\\r\\n * Subscribe to fee...</td>\n      <td>Shiny 0.12 has been released to CRAN! Compared...</td>\n      <td>Shiny 0.12: Interactive Plots with ggplot2</td>\n      <td>951</td>\n      <td>9</td>\n    </tr>\n    <tr>\n      <th>16047</th>\n      <td>Follow Sign in / Sign up Home About Insight Da...</td>\n      <td>Along with the currently rapid growing interes...</td>\n      <td>NIPS 2016 — Day 2 Highlights</td>\n      <td>724</td>\n      <td>9</td>\n    </tr>\n    <tr>\n      <th>10056</th>\n      <td>* United States\\r\\n\\r\\nIBM® * Site map\\r\\n\\r\\n...</td>\n      <td>This white paper introduces SparkR, a package ...</td>\n      <td>IBM Data Science Experience White paper - Spar...</td>\n      <td>349</td>\n      <td>10</td>\n    </tr>\n    <tr>\n      <th>185</th>\n      <td>OFFLINE-FIRST IOS APPS WITH SWIFT &amp; PART 1: TH...</td>\n      <td>Apple's sample app, Food Tracker, taught you i...</td>\n      <td>Offline-First iOS Apps with Swift &amp; Cloudant S...</td>\n      <td>10</td>\n      <td>10</td>\n    </tr>\n    <tr>\n      <th>9961</th>\n      <td>Skip to content * United States\\r\\n\\r\\nIBM® de...</td>\n      <td>This post has a series of videos and articles ...</td>\n      <td>Get started with Streams Designer by following...</td>\n      <td>339</td>\n      <td>10</td>\n    </tr>\n    <tr>\n      <th>9720</th>\n      <td>GETTING STARTED WITH ELASTICSEARCH AND NODE.JS...</td>\n      <td>We'll be exploring mappings and data types som...</td>\n      <td>Getting started with Elasticsearch and Node.js...</td>\n      <td>321</td>\n      <td>10</td>\n    </tr>\n    <tr>\n      <th>9704</th>\n      <td>Homepage IBM Watson Follow Sign in Get started...</td>\n      <td>IBM Watson offers a collection of REST APIs fo...</td>\n      <td>Using shell scripts to control data flows crea...</td>\n      <td>319</td>\n      <td>10</td>\n    </tr>\n    <tr>\n      <th>44634</th>\n      <td>country statistics telephones fixed lines</td>\n      <td>country statistics telephones fixed lines</td>\n      <td>country statistics telephones fixed lines</td>\n      <td>1260</td>\n      <td>11</td>\n    </tr>\n    <tr>\n      <th>44586</th>\n      <td>country statistics electricity from fossil fuels</td>\n      <td>country statistics electricity from fossil fuels</td>\n      <td>country statistics electricity from fossil fuels</td>\n      <td>1210</td>\n      <td>11</td>\n    </tr>\n    <tr>\n      <th>45442</th>\n      <td>country statistics budget surplus or deficit</td>\n      <td>country statistics budget surplus or deficit</td>\n      <td>country statistics budget surplus or deficit</td>\n      <td>1195</td>\n      <td>11</td>\n    </tr>\n    <tr>\n      <th>43833</th>\n      <td>country statistics crude oil exports</td>\n      <td>country statistics crude oil exports</td>\n      <td>country statistics crude oil exports</td>\n      <td>1199</td>\n      <td>11</td>\n    </tr>\n    <tr>\n      <th>44845</th>\n      <td>international liquidity</td>\n      <td>international liquidity</td>\n      <td>international liquidity</td>\n      <td>1334</td>\n      <td>11</td>\n    </tr>\n    <tr>\n      <th>17015</th>\n      <td>POSTGRAPHQL: POSTGRESQL MEETS GRAPHQL\\r\\nShare...</td>\n      <td>In this article, we'll be looking at PostGraph...</td>\n      <td>PostGraphQL: PostgreSQL meets GraphQL</td>\n      <td>775</td>\n      <td>12</td>\n    </tr>\n    <tr>\n      <th>11074</th>\n      <td>Enterprise Pricing Articles Sign in Free 30-Da...</td>\n      <td>In our last article, we learned about using wi...</td>\n      <td>Window Frames in PostgreSQL</td>\n      <td>405</td>\n      <td>12</td>\n    </tr>\n    <tr>\n      <th>17012</th>\n      <td>Skip to main content IBM developerWorks / Deve...</td>\n      <td>To help you hit the ground running, we’ve prov...</td>\n      <td>BigInsights Sample Scripts</td>\n      <td>772</td>\n      <td>12</td>\n    </tr>\n    <tr>\n      <th>17022</th>\n      <td>THE FILE DRAWER\\r\\nMy name is Chris Said and I...</td>\n      <td>A look at Empirical Bayes methods for multiple...</td>\n      <td>Empirical Bayes for multiple sample sizes</td>\n      <td>781</td>\n      <td>12</td>\n    </tr>\n    <tr>\n      <th>14349</th>\n      <td>ROW LEVEL SECURITY WITH POSTGRESQL 9.5Share on...</td>\n      <td>RLS does just what it says: it secures a row i...</td>\n      <td>Row Level Security with PostgreSQL 9.5</td>\n      <td>640</td>\n      <td>12</td>\n    </tr>\n    <tr>\n      <th>44841</th>\n      <td>worldwide county and region national accounts ...</td>\n      <td>worldwide county and region national accounts ...</td>\n      <td>worldwide county and region national accounts ...</td>\n      <td>1442</td>\n      <td>13</td>\n    </tr>\n    <tr>\n      <th>39969</th>\n      <td>adolescent fertility rate births per 1000 wome...</td>\n      <td>adolescent fertility rate births per 1000 wome...</td>\n      <td>adolescent fertility rate births per 1000 wome...</td>\n      <td>1057</td>\n      <td>13</td>\n    </tr>\n    <tr>\n      <th>46108</th>\n      <td>cifar10 python version</td>\n      <td>cifar10 python version</td>\n      <td>cifar10 python version</td>\n      <td>1177</td>\n      <td>13</td>\n    </tr>\n    <tr>\n      <th>38335</th>\n      <td>fortune 100 companies</td>\n      <td>fortune 100 companies</td>\n      <td>fortune 100 companies</td>\n      <td>1296</td>\n      <td>13</td>\n    </tr>\n    <tr>\n      <th>38306</th>\n      <td>intentional homicide number and rate per 10000...</td>\n      <td>intentional homicide number and rate per 10000...</td>\n      <td>intentional homicide number and rate per 10000...</td>\n      <td>1331</td>\n      <td>13</td>\n    </tr>\n    <tr>\n      <th>41529</th>\n      <td>uci adult predict income</td>\n      <td>uci adult predict income</td>\n      <td>uci adult predict income</td>\n      <td>1402</td>\n      <td>14</td>\n    </tr>\n    <tr>\n      <th>42844</th>\n      <td>government consumption expenditure</td>\n      <td>government consumption expenditure</td>\n      <td>government consumption expenditure</td>\n      <td>1306</td>\n      <td>14</td>\n    </tr>\n    <tr>\n      <th>46360</th>\n      <td>from scikitlearn model to cloud with wml client</td>\n      <td>from scikitlearn model to cloud with wml client</td>\n      <td>from scikitlearn model to cloud with wml client</td>\n      <td>1298</td>\n      <td>14</td>\n    </tr>\n    <tr>\n      <th>41334</th>\n      <td>programmatic evaluation using watson conversation</td>\n      <td>programmatic evaluation using watson conversation</td>\n      <td>programmatic evaluation using watson conversation</td>\n      <td>1367</td>\n      <td>14</td>\n    </tr>\n    <tr>\n      <th>46587</th>\n      <td>use pmml to predict iris species</td>\n      <td>use pmml to predict iris species</td>\n      <td>use pmml to predict iris species</td>\n      <td>1421</td>\n      <td>14</td>\n    </tr>\n  </tbody>\n</table>\n<p>75 rows × 5 columns</p>\n</div>",
      "text/plain": "                                                doc_body  \\\n18842  OPEN CRIME DATA, FREE FOR ALL\\r\\n\\r\\n---------...   \n18840  INTRODUCING THE SIMPLE NOTIFICATION SERVICE\\r\\...   \n41274                                   uci forest fires   \n4921   Inside every Cloudant account is a world-class...   \n19132  ACCESS DENIED\\r\\nSadly, your client does not s...   \n21601  Skip to contentDinesh Nirmal's Blog\\r\\n\\r\\nA b...   \n21600  Skip to main content IBM developerWorks / Deve...   \n16665  Homepage Follow Sign in / Sign up Homepage * H...   \n21588  DATALAYER: MANAGING (OR NOT) THE DATA IN IMMUT...   \n16714  GEOFILE: SPATIAL REFERENCE SYSTEMS AND DATABAS...   \n21278  Compose The Compose logo Articles Sign in Free...   \n2118   * Free 7-Day Crash Course\\r\\n * Blog\\r\\n * Mas...   \n10735  This is the first of a three part blog series ...   \n44279  households by type of household age and sex of...   \n11538  Compose Menu Databases * MongoDB\\r\\n * Elastic...   \n44822  country populations 15 years of age and over b...   \n12581  * Blog\\r\\n * About Me // Contact\\r\\n * Downloa...   \n3069   Homepage IBM Watson Data Lab Follow Sign in / ...   \n18146  Skip to content * United States\\r\\n\\r\\nIBM® de...   \n18932  Homepage Follow Sign in Get started * Home\\r\\n...   \n17898  acurl is a handy alias we use here at Cloudant...   \n15817  This tutorial is for web application developer...   \n15811  Compose The Compose logo Articles Sign in Free...   \n44818                    marital status of men and women   \n13770  Compose Menu Databases * MongoDB * Elasticsear...   \n43566        airbnb data for analytics portland listings   \n45967       airbnb data for analytics san diego listings   \n41894            times world university ranking analysis   \n44828        airbnb data for analytics san diego reviews   \n46249         airbnb data for analytics chicago calendar   \n...                                                  ...   \n16089  No Free Hunch Navigation * kaggle.com\\r\\n\\r\\n ...   \n20145  RStudio Blog * Home\\r\\n\\r\\n * Subscribe to fee...   \n11042  Probabilistic World\\r\\n\\r\\nHome 2016 US Presid...   \n19675  RStudio Blog * Home\\r\\n\\r\\n * Subscribe to fee...   \n16047  Follow Sign in / Sign up Home About Insight Da...   \n10056  * United States\\r\\n\\r\\nIBM® * Site map\\r\\n\\r\\n...   \n185    OFFLINE-FIRST IOS APPS WITH SWIFT & PART 1: TH...   \n9961   Skip to content * United States\\r\\n\\r\\nIBM® de...   \n9720   GETTING STARTED WITH ELASTICSEARCH AND NODE.JS...   \n9704   Homepage IBM Watson Follow Sign in Get started...   \n44634          country statistics telephones fixed lines   \n44586   country statistics electricity from fossil fuels   \n45442       country statistics budget surplus or deficit   \n43833               country statistics crude oil exports   \n44845                            international liquidity   \n17015  POSTGRAPHQL: POSTGRESQL MEETS GRAPHQL\\r\\nShare...   \n11074  Enterprise Pricing Articles Sign in Free 30-Da...   \n17012  Skip to main content IBM developerWorks / Deve...   \n17022  THE FILE DRAWER\\r\\nMy name is Chris Said and I...   \n14349  ROW LEVEL SECURITY WITH POSTGRESQL 9.5Share on...   \n44841  worldwide county and region national accounts ...   \n39969  adolescent fertility rate births per 1000 wome...   \n46108                             cifar10 python version   \n38335                              fortune 100 companies   \n38306  intentional homicide number and rate per 10000...   \n41529                           uci adult predict income   \n42844                 government consumption expenditure   \n46360    from scikitlearn model to cloud with wml client   \n41334  programmatic evaluation using watson conversation   \n46587                   use pmml to predict iris species   \n\n                                         doc_description  \\\n18842  Learn how to use the open crime data we've sou...   \n18840  Build complex real-time features for your app ...   \n41274                                   uci forest fires   \n4921   Cloudant Search is based on Apache Lucene whic...   \n19132  The largely dominant meritocratic paradigm of ...   \n21601  In my last blog “Business differentiation thro...   \n21600  Building your first data warehouse doesn’t hav...   \n16665  It is always amazing when someone is able to t...   \n21588  Adron Hall of Thrashing Code and Home Depot, t...   \n16714  GeoFile is a series dedicated to looking at ge...   \n21278  With the latest 0.2.1 version of Transporter, ...   \n2118   Get to know the ML landscape through this prac...   \n10735  In part one, we introduce the concept of a doc...   \n44279  households by type of household age and sex of...   \n11538  The power of software to help us understand th...   \n44822  country populations 15 years of age and over b...   \n12581  Python for loops are for iterating through seq...   \n3069   Read how to take a standard PHP application an...   \n18146  A journey to help developers find interesting ...   \n18932  Working with Data Science Experience comes wit...   \n17898  At Cloudant, we use curl a lot to interact wit...   \n15817  Create a contact management app that's stored ...   \n15811  Graph 101 is an article series on graph databa...   \n44818                    marital status of men and women   \n13770  We're going to be talking about how you can ru...   \n43566        airbnb data for analytics portland listings   \n45967       airbnb data for analytics san diego listings   \n41894            times world university ranking analysis   \n44828        airbnb data for analytics san diego reviews   \n46249         airbnb data for analytics chicago calendar   \n...                                                  ...   \n16089  With several new datasets uploaded to Datasets...   \n20145  Shiny 0.13.0 is now available on CRAN! This re...   \n11042  In the first 10 posts I mostly concentrated on...   \n19675  Shiny 0.12 has been released to CRAN! Compared...   \n16047  Along with the currently rapid growing interes...   \n10056  This white paper introduces SparkR, a package ...   \n185    Apple's sample app, Food Tracker, taught you i...   \n9961   This post has a series of videos and articles ...   \n9720   We'll be exploring mappings and data types som...   \n9704   IBM Watson offers a collection of REST APIs fo...   \n44634          country statistics telephones fixed lines   \n44586   country statistics electricity from fossil fuels   \n45442       country statistics budget surplus or deficit   \n43833               country statistics crude oil exports   \n44845                            international liquidity   \n17015  In this article, we'll be looking at PostGraph...   \n11074  In our last article, we learned about using wi...   \n17012  To help you hit the ground running, we’ve prov...   \n17022  A look at Empirical Bayes methods for multiple...   \n14349  RLS does just what it says: it secures a row i...   \n44841  worldwide county and region national accounts ...   \n39969  adolescent fertility rate births per 1000 wome...   \n46108                             cifar10 python version   \n38335                              fortune 100 companies   \n38306  intentional homicide number and rate per 10000...   \n41529                           uci adult predict income   \n42844                 government consumption expenditure   \n46360    from scikitlearn model to cloud with wml client   \n41334  programmatic evaluation using watson conversation   \n46587                   use pmml to predict iris species   \n\n                                           doc_full_name  article_id  cluster  \n18842                      Open Crime Data, Free for All         902        0  \n18840        Introducing the Simple Notification Service         900        0  \n41274                                   uci forest fires        1404        0  \n4921             Search Faceting from Scratch [Tutorial]         128        0  \n19132  Talent vs Luck: the role of randomness in succ...         926        0  \n21601               Machine Learning for the Enterprise.        1035        1  \n21600   Your First Data Warehouse Is Easy. Meet the ODS.        1034        1  \n16665  Spark-based machine learning tools for capturi...         744        1  \n21588  DataLayer Conference: Managing (or not) the Da...        1029        1  \n16714   GeoFile: Spatial Reference Systems and Databases         748        1  \n21278  How to move data with Compose Transporter - Fr...        1023        2  \n2118                  Modern Machine Learning Algorithms          51        2  \n10735      Introduction to document conflicts – Part One         386        2  \n44279  households by type of household age and sex of...        1319        2  \n11538  Making the Most of Compose - Customer DroneDeploy         431        2  \n44822  country populations 15 years of age and over b...        1267        3  \n12581  Python For Loops Explained (Python for Data Sc...         494        3  \n3069              Deploy Your PHP Application to Bluemix          93        3  \n18146  Analyze Starcraft II replays with Jupyter Note...         858        3  \n18932    Working With IBM Cloud Object Storage In Python         910        3  \n17898                       Authorized curl, a.k.a acurl         840        4  \n15817                                 Building CouchApps         703        4  \n15811                              Magical Markov Chains         700        4  \n44818                    marital status of men and women        1340        4  \n13770                   Kibana and Compose Elasticsearch         598        4  \n43566        airbnb data for analytics portland listings        1124        5  \n45967       airbnb data for analytics san diego listings        1127        5  \n41894            times world university ranking analysis        1396        5  \n44828        airbnb data for analytics san diego reviews        1128        5  \n46249         airbnb data for analytics chicago calendar        1084        5  \n...                                                  ...         ...      ...  \n16089                      May 2016: Scripts of the Week         726        9  \n20145                                       Shiny 0.13.0         968        9  \n11042       Predicting The 2016 US Presidential Election         399        9  \n19675         Shiny 0.12: Interactive Plots with ggplot2         951        9  \n16047                       NIPS 2016 — Day 2 Highlights         724        9  \n10056  IBM Data Science Experience White paper - Spar...         349       10  \n185    Offline-First iOS Apps with Swift & Cloudant S...          10       10  \n9961   Get started with Streams Designer by following...         339       10  \n9720   Getting started with Elasticsearch and Node.js...         321       10  \n9704   Using shell scripts to control data flows crea...         319       10  \n44634          country statistics telephones fixed lines        1260       11  \n44586   country statistics electricity from fossil fuels        1210       11  \n45442       country statistics budget surplus or deficit        1195       11  \n43833               country statistics crude oil exports        1199       11  \n44845                            international liquidity        1334       11  \n17015              PostGraphQL: PostgreSQL meets GraphQL         775       12  \n11074                        Window Frames in PostgreSQL         405       12  \n17012                         BigInsights Sample Scripts         772       12  \n17022          Empirical Bayes for multiple sample sizes         781       12  \n14349             Row Level Security with PostgreSQL 9.5         640       12  \n44841  worldwide county and region national accounts ...        1442       13  \n39969  adolescent fertility rate births per 1000 wome...        1057       13  \n46108                             cifar10 python version        1177       13  \n38335                              fortune 100 companies        1296       13  \n38306  intentional homicide number and rate per 10000...        1331       13  \n41529                           uci adult predict income        1402       14  \n42844                 government consumption expenditure        1306       14  \n46360    from scikitlearn model to cloud with wml client        1298       14  \n41334  programmatic evaluation using watson conversation        1367       14  \n46587                   use pmml to predict iris species        1421       14  \n\n[75 rows x 5 columns]"
     },
     "execution_count": 62,
     "metadata": {},
     "output_type": "execute_result"
    }
   ],
   "source": [
    "# examine 5 docs per cluster\n",
    "cluster_fit.sort_values('cluster').groupby('cluster').head(5)"
   ]
  },
  {
   "cell_type": "code",
   "execution_count": 63,
   "metadata": {},
   "outputs": [],
   "source": [
    "# add cluster to user behavior data frame - keep original index\n",
    "df = df\\\n",
    "    .reset_index()\\\n",
    "    .merge(cluster_fit[['article_id', 'cluster']], on='article_id')\\\n",
    "    .set_index('index')\\\n",
    "    .sort_index()"
   ]
  },
  {
   "cell_type": "code",
   "execution_count": 64,
   "metadata": {},
   "outputs": [
    {
     "data": {
      "text/html": "<div>\n<style scoped>\n    .dataframe tbody tr th:only-of-type {\n        vertical-align: middle;\n    }\n\n    .dataframe tbody tr th {\n        vertical-align: top;\n    }\n\n    .dataframe thead th {\n        text-align: right;\n    }\n</style>\n<table border=\"1\" class=\"dataframe\">\n  <thead>\n    <tr style=\"text-align: right;\">\n      <th></th>\n      <th>article_id</th>\n      <th>title</th>\n      <th>user_id</th>\n      <th>cluster</th>\n    </tr>\n    <tr>\n      <th>index</th>\n      <th></th>\n      <th></th>\n      <th></th>\n      <th></th>\n    </tr>\n  </thead>\n  <tbody>\n    <tr>\n      <th>0</th>\n      <td>1430.0</td>\n      <td>using pixiedust for fast, flexible, and easier...</td>\n      <td>1</td>\n      <td>4</td>\n    </tr>\n    <tr>\n      <th>1</th>\n      <td>1314.0</td>\n      <td>healthcare python streaming application demo</td>\n      <td>2</td>\n      <td>4</td>\n    </tr>\n    <tr>\n      <th>2</th>\n      <td>1429.0</td>\n      <td>use deep learning for image classification</td>\n      <td>3</td>\n      <td>6</td>\n    </tr>\n    <tr>\n      <th>3</th>\n      <td>1338.0</td>\n      <td>ml optimization using cognitive assistant</td>\n      <td>4</td>\n      <td>11</td>\n    </tr>\n    <tr>\n      <th>4</th>\n      <td>1276.0</td>\n      <td>deploy your python model as a restful api</td>\n      <td>5</td>\n      <td>3</td>\n    </tr>\n  </tbody>\n</table>\n</div>",
      "text/plain": "       article_id                                              title  user_id  \\\nindex                                                                           \n0          1430.0  using pixiedust for fast, flexible, and easier...        1   \n1          1314.0       healthcare python streaming application demo        2   \n2          1429.0         use deep learning for image classification        3   \n3          1338.0          ml optimization using cognitive assistant        4   \n4          1276.0          deploy your python model as a restful api        5   \n\n       cluster  \nindex           \n0            4  \n1            4  \n2            6  \n3           11  \n4            3  "
     },
     "execution_count": 64,
     "metadata": {},
     "output_type": "execute_result"
    }
   ],
   "source": [
    "# check it\n",
    "df.head()"
   ]
  },
  {
   "cell_type": "code",
   "execution_count": 65,
   "metadata": {},
   "outputs": [
    {
     "data": {
      "text/plain": "array(['gosales transactions for naive bayes model',\n       'gosales transactions for logistic regression model',\n       'leverage python, scikit, and text classification for behavioral profiling',\n       'insights from new york car accident reports',\n       'excel files: loading from object storage — python',\n       'percentage of internet users by country',\n       'imitation learning in tensorflow (hopper from openai gym)',\n       '502    forgetting the past to learn the future: long ...\\nName: title, dtype: object',\n       'how to perform a logistic regression in r',\n       'deep learning with tensorflow course by big data university',\n       'analyze traffic data from the city of san francisco',\n       'transfer learning for flight delay prediction via variational autoencoders',\n       '1448    i ranked every intro to data science course on...\\nName: title, dtype: object',\n       'uci: forest fires', 'persistent changes to spark config in dsx',\n       'variational auto-encoder for \"frey faces\" using keras',\n       '10 powerful features on watson data platform, no coding necessary',\n       '3992    using apache spark to predict attack vectors a...\\nName: title, dtype: object',\n       'a comparison of logistic regression and naive bayes ',\n       'using machine learning to predict value of homes on airbnb',\n       'pixiedust gets its first community-driven feature in 1.0.4',\n       'adoption of machine learning to software failure prediction',\n       'practical tutorial on random forest and parameter tuning in r',\n       'country statistics: crude oil - proved reserves',\n       'predicting gentrification using longitudinal census data',\n       'using deep learning to reconstruct high-resolution audio',\n       'r for data science',\n       'using machine learning to predict parking difficulty',\n       'improving the roi of big data and analytics through leveraging new sources of data',\n       'country statistics: reserves of foreign exchange and gold',\n       'brunel: imitation is a sincere form of flattery',\n       'bayesian regularization for #neuralnetworks – autonomous agents\\u200a—\\u200a#ai',\n       'a classification problem',\n       'twelve\\xa0ways to color a map of africa using brunel',\n       'random forest interpretation – conditional feature contributions',\n       'improving quality of life with spark-empowered machine learning',\n       'laplace noising versus simulated out of sample methods (cross frames)',\n       'foundational methodology for data science',\n       'a fast on-disk format for data frames for r and python, powered by apache arrow',\n       'a new version of dt (0.2) on cran',\n       'unmet need for family planning, spacing, percentage, worldwide, by country',\n       'foreign direct investment, net inflows (bop, current us$) by country',\n       '3 scenarios for machine learning on multicloud',\n       'governance overview for ibm data catalog',\n       'perform sentiment analysis with lstms, using tensorflow',\n       'visual information theory ',\n       'join and enrich data from multiple sources',\n       'transform anything into a vector',\n       'building your first machine learning system ',\n       'a guide to convolution arithmetic for deep learning',\n       'a guide to receptive field arithmetic for convolutional neural networks',\n       'effectively using\\xa0matplotlib',\n       'customers of a telco including services used',\n       'talent vs luck: the role of randomness in success and failure',\n       'use iot data in streams designer for billing and alerts',\n       'best practices for custom models in watson visual recognition',\n       'a tensorflow regression model to predict house values'],\n      dtype=object)"
     },
     "execution_count": 65,
     "metadata": {},
     "output_type": "execute_result"
    }
   ],
   "source": [
    "# examine all the titles in cluster 0, for fun\n",
    "df[df.cluster == 0].title.unique()"
   ]
  },
  {
   "cell_type": "markdown",
   "metadata": {},
   "source": [
    "OK, now our articles are grouped into clusters. "
   ]
  },
  {
   "cell_type": "markdown",
   "metadata": {},
   "source": [
    "### Recommendations"
   ]
  },
  {
   "cell_type": "code",
   "execution_count": 66,
   "metadata": {},
   "outputs": [],
   "source": [
    "# define a new fxn that will allow us to get article popularity and cluster\n",
    "def get_top_articles_cluster(df=df):\n",
    "    \"\"\"Calculate the popularity of an article by number of user interactions.\n",
    "    \n",
    "    Args:\n",
    "        df (pandas DataFrame): dataframe containing user behavior per article and cluster id.\n",
    "        \n",
    "    Returns:\n",
    "        popularity (pandas DataFrame): dataframe containing cluster, articleid, and article popularity, \n",
    "        sorted desc by article popularity.\n",
    "    \"\"\"\n",
    "    \n",
    "    popularity = df.groupby(['cluster', 'article_id'])\\\n",
    "        .user_id\\\n",
    "        .count()\\\n",
    "        .sort_values(ascending=False)\\\n",
    "        .reset_index()\n",
    "    popularity.columns = ['cluster', 'article_id', 'size']\n",
    "    \n",
    "    return popularity"
   ]
  },
  {
   "cell_type": "code",
   "execution_count": 67,
   "metadata": {},
   "outputs": [],
   "source": [
    "def make_cluster_rec(n_recs, user_id, alpha_prior=1, beta_prior=1, df=df):\n",
    "    \"\"\"Use a Thompson's sampling Multi-Armed Bandit to select article clusters from which to \n",
    "    recommend articles to user. Per cluster choose the most popular article that the user\n",
    "    has not seen or been recommended. Choose one cluster based on clusters' beta distributions\n",
    "    sample scores.\n",
    "    \n",
    "    Args:\n",
    "        n_recs (int): number of recommendations to return.\n",
    "        user_id (int): the user for which to make recommendations.\n",
    "        alpha_prior (int): alpha parameter of prior beta distribution. Default 1.\n",
    "        beta_prior (int): beta parameter of prior beta distribution. Default 1.\n",
    "        df (pandas DataFrame): dataframe containing user_id, article_id, cluster\n",
    "        \n",
    "    Returns:\n",
    "        rec (list): list of article_ids to recommend to user_id. len(recs) == n_recs.\n",
    "        rec_names (list): list of article names to recommend to user_id\n",
    "    \"\"\"\n",
    "    \n",
    "    # create user-cluster matrix and fill nans with 0 (no interaction)\n",
    "    # our user-item matrix was created with 'article_id', not 'cluster'\n",
    "    \n",
    "    # alpha param of cluster beta distribution is the number of interactions \n",
    "    # each user has had with articles in that cluster. We achieve this by summing the number of \n",
    "    # interactions each user had with that cluster.\n",
    "    user_all_clust = df\\\n",
    "        .assign(flag=1)\\\n",
    "        .groupby(['user_id', 'cluster'])\\\n",
    "        .flag\\\n",
    "        .sum()\\\n",
    "        .unstack()\\\n",
    "        .fillna(0)\\\n",
    "        .stack()\\\n",
    "        .reset_index()\n",
    "\n",
    "    # filter interactions to user_id in question\n",
    "    user_all_clust = user_all_clust\\\n",
    "        .loc[user_all_clust.user_id == user_id]\\\n",
    "        .reset_index(drop=True)\n",
    "\n",
    "    user_all_clust.columns = ['user_id', 'cluster', 'alpha']\n",
    "\n",
    "    # if we've never seen this user before, new user, then fill in placeholder values.\n",
    "    if user_all_clust.empty:\n",
    "        user_all_clust = pd.DataFrame(\n",
    "            data={\n",
    "                'user_id': user_id,\n",
    "                'cluster': sorted(df.cluster.unique()),\n",
    "                'alpha': 0\n",
    "            })\n",
    "    \n",
    "    # beta param of cluster beta distribution is the total number of interactions \n",
    "    # by customer minus number of interactions in that cluster (ie number of failures per cluster)\n",
    "    user_all_clust['beta'] = user_all_clust.groupby('user_id').alpha.transform('sum') - user_all_clust.alpha\n",
    "    \n",
    "    # alpha and beta += priors. No 0s allowed in beta distro params.\n",
    "    user_all_clust['alpha'] += alpha_prior\n",
    "    user_all_clust['beta'] += beta_prior\n",
    "    \n",
    "    # get articles the user has already seen so we don't re-recommend\n",
    "    has_seen_ids, _ = get_user_articles(user_id)\n",
    "    \n",
    "    # get all articles with num interactions and cluster value\n",
    "    popularity = get_top_articles_cluster()\n",
    "\n",
    "    # initiate our loop variables\n",
    "    recs = []\n",
    "    i = 0\n",
    "    while i <= n_recs:\n",
    "        # take a sample from each cluster's success beta distribution and add to df\n",
    "        user_all_clust['samplescore'] = beta(user_all_clust.alpha, user_all_clust.beta)\n",
    "        \n",
    "        # long chain to save variable assignment\n",
    "        # basic steps are to \n",
    "        # 1) Merge cluster sample score with all articles related to cluster, where user has not seen\n",
    "        #    or already been recommended the article. Creates a large cross product df\n",
    "        # 2) Take the top article that user has not seen per cluster based on popularity of article\n",
    "        # 3) Set the index of the df to be 'article_id' and find the index of the max value of samplescore\n",
    "        #    I.e. the cluster with the highest cluster samplescore value is selected. Since we filtered each \n",
    "        #    cluster to the top article not seen or recommended in that cluster, we select the top article \n",
    "        #    from the cluster with the highest samplescore value.\n",
    "        article_rec = user_all_clust\\\n",
    "            .drop(['alpha', 'beta'], axis=1)\\\n",
    "            .merge(\n",
    "                popularity.loc[~popularity.article_id.isin(has_seen_ids)], \n",
    "                on='cluster')\\\n",
    "            .sort_values(['cluster', 'size'], ascending=[True, False])\\\n",
    "            .groupby('cluster')\\\n",
    "            .head(1)\\\n",
    "            .set_index('article_id')\\\n",
    "            .samplescore\\\n",
    "            .idxmax()\n",
    "        \n",
    "        # append to recs\n",
    "        recs.append(str(article_rec))\n",
    "        # make sure we don't re-recommend the same article\n",
    "        has_seen_ids.append(str(article_rec))\n",
    "        \n",
    "        # loop\n",
    "        i = len(recs)\n",
    "    \n",
    "    rec_names = get_article_names(recs)\n",
    "    return recs, rec_names"
   ]
  },
  {
   "cell_type": "code",
   "execution_count": 68,
   "metadata": {},
   "outputs": [
    {
     "data": {
      "text/plain": "(['1427.0',\n  '1314.0',\n  '1170.0',\n  '1364.0',\n  '1386.0',\n  '1431.0',\n  '124.0',\n  '1351.0',\n  '681.0',\n  '1160.0',\n  '542.0'],\n ['use xgboost, scikit-learn & ibm watson machine learning apis',\n  'healthcare python streaming application demo',\n  'apache spark lab, part 1: basic concepts',\n  'predicting churn with the spss random tree algorithm',\n  'small steps to tensorflow',\n  'visualize car data with brunel',\n  'python machine learning: scikit-learn tutorial',\n  'model bike sharing data with spss',\n  'real-time sentiment analysis of twitter hashtags with spark (+ pixiedust)',\n  'analyze accident reports on amazon emr spark',\n  'getting started with python'])"
     },
     "execution_count": 68,
     "metadata": {},
     "output_type": "execute_result"
    }
   ],
   "source": [
    "# existing user\n",
    "make_cluster_rec(n_recs=10, user_id=15)"
   ]
  },
  {
   "cell_type": "code",
   "execution_count": 69,
   "metadata": {},
   "outputs": [
    {
     "data": {
      "text/plain": "(['108.0',\n  '131.0',\n  '202.0',\n  '1017.0',\n  '1028.0',\n  '1055.0',\n  '1164.0',\n  '1426.0',\n  '1430.0',\n  '1432.0'],\n ['520    using notebooks with pixiedust for fast, flexi...\\nName: title, dtype: object',\n  'simple graphing with ipython and\\xa0pandas',\n  'analyze open data sets using pandas in a python notebook',\n  'the pandas data analysis library',\n  'working with sqlite databases using python and pandas',\n  'access postgresql with python',\n  'analyze open data sets with pandas dataframes',\n  'use spark for scala to load data and run sql queries',\n  'using pixiedust for fast, flexible, and easier data analysis and experimentation',\n  'visualize data with the matplotlib library'])"
     },
     "execution_count": 69,
     "metadata": {},
     "output_type": "execute_result"
    }
   ],
   "source": [
    "# articles that 15 has already viewed - are they similar?\n",
    "get_user_articles(15)"
   ]
  },
  {
   "cell_type": "code",
   "execution_count": 70,
   "metadata": {},
   "outputs": [
    {
     "data": {
      "text/plain": "(['1431.0',\n  '1400.0',\n  '1330.0',\n  '1054.0',\n  '1052.0',\n  '1165.0',\n  '1427.0',\n  '510.0',\n  '1314.0',\n  '1296.0',\n  '1429.0'],\n ['visualize car data with brunel',\n  'uci ml repository: chronic kidney disease data set',\n  'insights from new york car accident reports',\n  'access mysql with r',\n  'access db2 warehouse on cloud and db2 with python',\n  'analyze precipitation data',\n  'use xgboost, scikit-learn & ibm watson machine learning apis',\n  'this week in data science (may 30, 2017)',\n  'healthcare python streaming application demo',\n  'fortune 100 companies',\n  'use deep learning for image classification'])"
     },
     "execution_count": 70,
     "metadata": {},
     "output_type": "execute_result"
    }
   ],
   "source": [
    "# brand new user - results in articles spread across all clusters\n",
    "make_cluster_rec(10, 0.0)"
   ]
  },
  {
   "cell_type": "code",
   "execution_count": 71,
   "metadata": {},
   "outputs": [
    {
     "data": {
      "text/plain": "([], [])"
     },
     "execution_count": 71,
     "metadata": {},
     "output_type": "execute_result"
    }
   ],
   "source": [
    "# confirm that we've never seen this user before\n",
    "get_user_articles(0.0)"
   ]
  },
  {
   "cell_type": "markdown",
   "metadata": {},
   "source": [
    "`2.` Now that you have put together your content-based recommendation system, use the cell below to write a summary explaining how your content based recommender works.  Do you see any possible improvements that could be made to your function?  Is there anything novel about your content based recommender?\n"
   ]
  },
  {
   "cell_type": "markdown",
   "metadata": {},
   "source": [
    "Explanation provided above, but I'll reiterate some key points. <br>\n",
    "\n",
    "This recommendation approach is in essence a version of a Multi-Armed Bandit using Thompson's sampling as the selection algorithm, article clusters as the arms of the bandit (possible courses of action), and article popularity as the method used to reduced each arm to a single article. <br>\n",
    "The advantages of the MAB approach are that we \"automatically\" explore article clusters for users that have not read many or any articles. As the user generates more data, we \"automatically\" exploit the article clusters that the user has shown a preference for, and preferentially select from these clusters when recommending content to the user. This tackles the cold-start problem for us with ease.\n",
    "<br>\n",
    "An additional benefit to the above outlined approach is that (assuming your article clustering is accurate) you can easily overcome the cold-start problem for new templates as well by performing the feature extraction and cluster prediction for new articles using your fitted clusterer. These articles would then be available with other articles in the cluster when recommending. <br>\n",
    "For model improvements:<br> \n",
    "Here we choose the top article per cluster as the article that is most popular in that cluster. A revision or improvement of this approach would be to instead sort by recency of publication or trending popularity.<br>\n",
    "Another massive improvement to this technique would be to refine the feature extraction and clustering. I arbitrarily chose 15 clusters.\n",
    "\n",
    "Some resources on MABs and Thompson's sampling can be found below.\n",
    "\n",
    "https://conductrics.com/lets-play-roulette-using-machine-learning-and-thompson-sampling-for-digital-optimization/ <br>\n",
    "https://www.retentionscience.com/blog/multi-armed-bandit/ <br>\n",
    "https://en.wikipedia.org/wiki/Beta_distribution#Bayesian_inference <br>\n",
    "https://www.chrisstucchio.com/blog/2013/bayesian_analysis_conversion_rates.html <br>\n",
    "https://www.chrisstucchio.com/blog/2013/bayesian_bandit.html <br>\n",
    "https://papers.nips.cc/paper/4321-an-empirical-evaluation-of-thompson-sampling.pdf\n"
   ]
  },
  {
   "cell_type": "markdown",
   "metadata": {},
   "source": [
    "`3.` Use your content-recommendation system to make recommendations for the below scenarios based on the comments.  Again no tests are provided here, because there isn't one right answer that could be used to find these content based recommendations.\n"
   ]
  },
  {
   "cell_type": "code",
   "execution_count": 72,
   "metadata": {},
   "outputs": [
    {
     "data": {
      "text/html": "<div>\n<style scoped>\n    .dataframe tbody tr th:only-of-type {\n        vertical-align: middle;\n    }\n\n    .dataframe tbody tr th {\n        vertical-align: top;\n    }\n\n    .dataframe thead th {\n        text-align: right;\n    }\n</style>\n<table border=\"1\" class=\"dataframe\">\n  <thead>\n    <tr style=\"text-align: right;\">\n      <th>article_id</th>\n      <th>0.0</th>\n      <th>2.0</th>\n      <th>4.0</th>\n      <th>8.0</th>\n      <th>9.0</th>\n      <th>12.0</th>\n      <th>14.0</th>\n      <th>15.0</th>\n      <th>16.0</th>\n      <th>18.0</th>\n      <th>...</th>\n      <th>1434.0</th>\n      <th>1435.0</th>\n      <th>1436.0</th>\n      <th>1437.0</th>\n      <th>1439.0</th>\n      <th>1440.0</th>\n      <th>1441.0</th>\n      <th>1442.0</th>\n      <th>1443.0</th>\n      <th>1444.0</th>\n    </tr>\n    <tr>\n      <th>user_id</th>\n      <th></th>\n      <th></th>\n      <th></th>\n      <th></th>\n      <th></th>\n      <th></th>\n      <th></th>\n      <th></th>\n      <th></th>\n      <th></th>\n      <th></th>\n      <th></th>\n      <th></th>\n      <th></th>\n      <th></th>\n      <th></th>\n      <th></th>\n      <th></th>\n      <th></th>\n      <th></th>\n      <th></th>\n    </tr>\n  </thead>\n  <tbody>\n    <tr>\n      <th>282</th>\n      <td>0.0</td>\n      <td>0.0</td>\n      <td>0.0</td>\n      <td>0.0</td>\n      <td>0.0</td>\n      <td>0.0</td>\n      <td>0.0</td>\n      <td>0.0</td>\n      <td>0.0</td>\n      <td>0.0</td>\n      <td>...</td>\n      <td>0.0</td>\n      <td>0.0</td>\n      <td>0.0</td>\n      <td>0.0</td>\n      <td>0.0</td>\n      <td>0.0</td>\n      <td>0.0</td>\n      <td>0.0</td>\n      <td>0.0</td>\n      <td>0.0</td>\n    </tr>\n    <tr>\n      <th>1001</th>\n      <td>0.0</td>\n      <td>0.0</td>\n      <td>0.0</td>\n      <td>0.0</td>\n      <td>0.0</td>\n      <td>0.0</td>\n      <td>0.0</td>\n      <td>0.0</td>\n      <td>0.0</td>\n      <td>0.0</td>\n      <td>...</td>\n      <td>0.0</td>\n      <td>0.0</td>\n      <td>0.0</td>\n      <td>0.0</td>\n      <td>0.0</td>\n      <td>0.0</td>\n      <td>0.0</td>\n      <td>0.0</td>\n      <td>0.0</td>\n      <td>0.0</td>\n    </tr>\n    <tr>\n      <th>1257</th>\n      <td>0.0</td>\n      <td>0.0</td>\n      <td>0.0</td>\n      <td>0.0</td>\n      <td>0.0</td>\n      <td>0.0</td>\n      <td>0.0</td>\n      <td>0.0</td>\n      <td>0.0</td>\n      <td>0.0</td>\n      <td>...</td>\n      <td>0.0</td>\n      <td>0.0</td>\n      <td>0.0</td>\n      <td>0.0</td>\n      <td>0.0</td>\n      <td>0.0</td>\n      <td>0.0</td>\n      <td>0.0</td>\n      <td>0.0</td>\n      <td>0.0</td>\n    </tr>\n    <tr>\n      <th>1650</th>\n      <td>0.0</td>\n      <td>0.0</td>\n      <td>0.0</td>\n      <td>0.0</td>\n      <td>0.0</td>\n      <td>0.0</td>\n      <td>0.0</td>\n      <td>0.0</td>\n      <td>0.0</td>\n      <td>0.0</td>\n      <td>...</td>\n      <td>0.0</td>\n      <td>0.0</td>\n      <td>0.0</td>\n      <td>0.0</td>\n      <td>0.0</td>\n      <td>0.0</td>\n      <td>0.0</td>\n      <td>0.0</td>\n      <td>0.0</td>\n      <td>0.0</td>\n    </tr>\n    <tr>\n      <th>1896</th>\n      <td>0.0</td>\n      <td>0.0</td>\n      <td>0.0</td>\n      <td>0.0</td>\n      <td>0.0</td>\n      <td>0.0</td>\n      <td>0.0</td>\n      <td>0.0</td>\n      <td>0.0</td>\n      <td>0.0</td>\n      <td>...</td>\n      <td>0.0</td>\n      <td>0.0</td>\n      <td>0.0</td>\n      <td>0.0</td>\n      <td>0.0</td>\n      <td>0.0</td>\n      <td>0.0</td>\n      <td>0.0</td>\n      <td>0.0</td>\n      <td>0.0</td>\n    </tr>\n    <tr>\n      <th>2135</th>\n      <td>0.0</td>\n      <td>0.0</td>\n      <td>0.0</td>\n      <td>0.0</td>\n      <td>0.0</td>\n      <td>0.0</td>\n      <td>0.0</td>\n      <td>0.0</td>\n      <td>0.0</td>\n      <td>0.0</td>\n      <td>...</td>\n      <td>0.0</td>\n      <td>0.0</td>\n      <td>0.0</td>\n      <td>0.0</td>\n      <td>0.0</td>\n      <td>0.0</td>\n      <td>0.0</td>\n      <td>0.0</td>\n      <td>0.0</td>\n      <td>0.0</td>\n    </tr>\n    <tr>\n      <th>2821</th>\n      <td>0.0</td>\n      <td>0.0</td>\n      <td>0.0</td>\n      <td>0.0</td>\n      <td>0.0</td>\n      <td>0.0</td>\n      <td>0.0</td>\n      <td>0.0</td>\n      <td>0.0</td>\n      <td>0.0</td>\n      <td>...</td>\n      <td>0.0</td>\n      <td>0.0</td>\n      <td>0.0</td>\n      <td>0.0</td>\n      <td>0.0</td>\n      <td>0.0</td>\n      <td>0.0</td>\n      <td>0.0</td>\n      <td>0.0</td>\n      <td>0.0</td>\n    </tr>\n    <tr>\n      <th>2828</th>\n      <td>0.0</td>\n      <td>0.0</td>\n      <td>0.0</td>\n      <td>0.0</td>\n      <td>0.0</td>\n      <td>0.0</td>\n      <td>0.0</td>\n      <td>0.0</td>\n      <td>0.0</td>\n      <td>0.0</td>\n      <td>...</td>\n      <td>0.0</td>\n      <td>0.0</td>\n      <td>0.0</td>\n      <td>0.0</td>\n      <td>0.0</td>\n      <td>0.0</td>\n      <td>0.0</td>\n      <td>0.0</td>\n      <td>0.0</td>\n      <td>0.0</td>\n    </tr>\n    <tr>\n      <th>3189</th>\n      <td>0.0</td>\n      <td>0.0</td>\n      <td>0.0</td>\n      <td>0.0</td>\n      <td>0.0</td>\n      <td>0.0</td>\n      <td>0.0</td>\n      <td>0.0</td>\n      <td>0.0</td>\n      <td>0.0</td>\n      <td>...</td>\n      <td>0.0</td>\n      <td>0.0</td>\n      <td>0.0</td>\n      <td>0.0</td>\n      <td>0.0</td>\n      <td>0.0</td>\n      <td>0.0</td>\n      <td>0.0</td>\n      <td>0.0</td>\n      <td>0.0</td>\n    </tr>\n    <tr>\n      <th>3210</th>\n      <td>0.0</td>\n      <td>0.0</td>\n      <td>0.0</td>\n      <td>0.0</td>\n      <td>0.0</td>\n      <td>0.0</td>\n      <td>0.0</td>\n      <td>0.0</td>\n      <td>0.0</td>\n      <td>0.0</td>\n      <td>...</td>\n      <td>0.0</td>\n      <td>0.0</td>\n      <td>0.0</td>\n      <td>0.0</td>\n      <td>0.0</td>\n      <td>0.0</td>\n      <td>0.0</td>\n      <td>0.0</td>\n      <td>0.0</td>\n      <td>0.0</td>\n    </tr>\n    <tr>\n      <th>3390</th>\n      <td>0.0</td>\n      <td>0.0</td>\n      <td>0.0</td>\n      <td>0.0</td>\n      <td>0.0</td>\n      <td>0.0</td>\n      <td>0.0</td>\n      <td>0.0</td>\n      <td>0.0</td>\n      <td>0.0</td>\n      <td>...</td>\n      <td>0.0</td>\n      <td>0.0</td>\n      <td>0.0</td>\n      <td>0.0</td>\n      <td>0.0</td>\n      <td>0.0</td>\n      <td>0.0</td>\n      <td>0.0</td>\n      <td>0.0</td>\n      <td>0.0</td>\n    </tr>\n  </tbody>\n</table>\n<p>11 rows × 714 columns</p>\n</div>",
      "text/plain": "article_id  0.0     2.0     4.0     8.0     9.0     12.0    14.0    15.0    \\\nuser_id                                                                      \n282            0.0     0.0     0.0     0.0     0.0     0.0     0.0     0.0   \n1001           0.0     0.0     0.0     0.0     0.0     0.0     0.0     0.0   \n1257           0.0     0.0     0.0     0.0     0.0     0.0     0.0     0.0   \n1650           0.0     0.0     0.0     0.0     0.0     0.0     0.0     0.0   \n1896           0.0     0.0     0.0     0.0     0.0     0.0     0.0     0.0   \n2135           0.0     0.0     0.0     0.0     0.0     0.0     0.0     0.0   \n2821           0.0     0.0     0.0     0.0     0.0     0.0     0.0     0.0   \n2828           0.0     0.0     0.0     0.0     0.0     0.0     0.0     0.0   \n3189           0.0     0.0     0.0     0.0     0.0     0.0     0.0     0.0   \n3210           0.0     0.0     0.0     0.0     0.0     0.0     0.0     0.0   \n3390           0.0     0.0     0.0     0.0     0.0     0.0     0.0     0.0   \n\narticle_id  16.0    18.0     ...    1434.0  1435.0  1436.0  1437.0  1439.0  \\\nuser_id                      ...                                             \n282            0.0     0.0   ...       0.0     0.0     0.0     0.0     0.0   \n1001           0.0     0.0   ...       0.0     0.0     0.0     0.0     0.0   \n1257           0.0     0.0   ...       0.0     0.0     0.0     0.0     0.0   \n1650           0.0     0.0   ...       0.0     0.0     0.0     0.0     0.0   \n1896           0.0     0.0   ...       0.0     0.0     0.0     0.0     0.0   \n2135           0.0     0.0   ...       0.0     0.0     0.0     0.0     0.0   \n2821           0.0     0.0   ...       0.0     0.0     0.0     0.0     0.0   \n2828           0.0     0.0   ...       0.0     0.0     0.0     0.0     0.0   \n3189           0.0     0.0   ...       0.0     0.0     0.0     0.0     0.0   \n3210           0.0     0.0   ...       0.0     0.0     0.0     0.0     0.0   \n3390           0.0     0.0   ...       0.0     0.0     0.0     0.0     0.0   \n\narticle_id  1440.0  1441.0  1442.0  1443.0  1444.0  \nuser_id                                             \n282            0.0     0.0     0.0     0.0     0.0  \n1001           0.0     0.0     0.0     0.0     0.0  \n1257           0.0     0.0     0.0     0.0     0.0  \n1650           0.0     0.0     0.0     0.0     0.0  \n1896           0.0     0.0     0.0     0.0     0.0  \n2135           0.0     0.0     0.0     0.0     0.0  \n2821           0.0     0.0     0.0     0.0     0.0  \n2828           0.0     0.0     0.0     0.0     0.0  \n3189           0.0     0.0     0.0     0.0     0.0  \n3210           0.0     0.0     0.0     0.0     0.0  \n3390           0.0     0.0     0.0     0.0     0.0  \n\n[11 rows x 714 columns]"
     },
     "execution_count": 72,
     "metadata": {},
     "output_type": "execute_result"
    }
   ],
   "source": [
    "# find users who have ONLY interacted with article 1429.0\n",
    "user_item.loc[(user_item.sum(axis=1) == 1) & (user_item[1429.0] == 1)]"
   ]
  },
  {
   "cell_type": "code",
   "execution_count": 73,
   "metadata": {},
   "outputs": [],
   "source": [
    "# make recommendations for a brand new user\n",
    "new_user_rec, new_user_rec_names = make_cluster_rec(n_recs=10, user_id=1000000)\n",
    "\n",
    "\n",
    "# make a recommendations for a user who only has interacted with article id '1427.0'\n",
    "rec, rec_names = make_cluster_rec(n_recs=10, user_id=282)\n"
   ]
  },
  {
   "cell_type": "code",
   "execution_count": 74,
   "metadata": {},
   "outputs": [
    {
     "data": {
      "text/plain": "['predicting churn with the spss random tree algorithm',\n 'finding optimal locations of new store using decision optimization',\n 'small steps to tensorflow',\n 'insights from new york car accident reports',\n 'total population by country',\n 'use xgboost, scikit-learn & ibm watson machine learning apis',\n 'access db2 warehouse on cloud and db2 with python',\n 'visualize car data with brunel',\n 'ml optimization using cognitive assistant',\n 'this week in data science (may 30, 2017)',\n 'healthcare python streaming application demo']"
     },
     "execution_count": 74,
     "metadata": {},
     "output_type": "execute_result"
    }
   ],
   "source": [
    "# recs for brand new user\n",
    "new_user_rec_names"
   ]
  },
  {
   "cell_type": "code",
   "execution_count": 75,
   "metadata": {},
   "outputs": [
    {
     "data": {
      "text/plain": "11    2\n4     2\n14    1\n12    1\n10    1\n9     1\n8     1\n5     1\n0     1\nName: cluster, dtype: int64"
     },
     "execution_count": 75,
     "metadata": {},
     "output_type": "execute_result"
    }
   ],
   "source": [
    "# recs for new user are more or less spread out across clusters\n",
    "df.loc[df.article_id.isin(new_user_rec), ['article_id', 'cluster', 'title']]\\\n",
    "    .drop_duplicates()\\\n",
    "    .cluster\\\n",
    "    .value_counts()"
   ]
  },
  {
   "cell_type": "code",
   "execution_count": 76,
   "metadata": {},
   "outputs": [
    {
     "data": {
      "text/plain": "['insights from new york car accident reports',\n 'gosales transactions for logistic regression model',\n 'customer demographics and sales',\n 'the nurse assignment problem',\n 'predicting churn with the spss random tree algorithm',\n 'this week in data science (may 30, 2017)',\n 'deep learning from scratch i: computational graphs',\n 'modern machine learning algorithms',\n 'visualize car data with brunel',\n 'movie recommender system with spark machine learning',\n 'what caused the challenger disaster?']"
     },
     "execution_count": 76,
     "metadata": {},
     "output_type": "execute_result"
    }
   ],
   "source": [
    "# recs for existing user\n",
    "rec_names"
   ]
  },
  {
   "cell_type": "code",
   "execution_count": 77,
   "metadata": {},
   "outputs": [
    {
     "data": {
      "text/plain": "6     4\n2     2\n0     2\n10    1\n9     1\n5     1\nName: cluster, dtype: int64"
     },
     "execution_count": 77,
     "metadata": {},
     "output_type": "execute_result"
    }
   ],
   "source": [
    "# recs for user who has interacted with article 1429 should be more heavily weighted towards the cluster for 1429\n",
    "df.loc[df.article_id.isin(rec), ['article_id', 'cluster', 'title']]\\\n",
    "    .drop_duplicates()\\\n",
    "    .cluster\\\n",
    "    .value_counts()"
   ]
  },
  {
   "cell_type": "code",
   "execution_count": 78,
   "metadata": {},
   "outputs": [
    {
     "data": {
      "text/html": "<div>\n<style scoped>\n    .dataframe tbody tr th:only-of-type {\n        vertical-align: middle;\n    }\n\n    .dataframe tbody tr th {\n        vertical-align: top;\n    }\n\n    .dataframe thead th {\n        text-align: right;\n    }\n</style>\n<table border=\"1\" class=\"dataframe\">\n  <thead>\n    <tr style=\"text-align: right;\">\n      <th></th>\n      <th>title</th>\n      <th>cluster</th>\n    </tr>\n    <tr>\n      <th>index</th>\n      <th></th>\n      <th></th>\n    </tr>\n  </thead>\n  <tbody>\n    <tr>\n      <th>2</th>\n      <td>use deep learning for image classification</td>\n      <td>6</td>\n    </tr>\n  </tbody>\n</table>\n</div>",
      "text/plain": "                                            title  cluster\nindex                                                     \n2      use deep learning for image classification        6"
     },
     "execution_count": 78,
     "metadata": {},
     "output_type": "execute_result"
    }
   ],
   "source": [
    "df[df.article_id == 1429.0][['title', 'cluster']].drop_duplicates()"
   ]
  },
  {
   "cell_type": "markdown",
   "metadata": {},
   "source": [
    "### <a class=\"anchor\" id=\"Matrix-Fact\">Part V: Matrix Factorization</a>\n",
    "\n",
    "In this part of the notebook, you will build use matrix factorization to make article recommendations to the users on the IBM Watson Studio platform.\n",
    "\n",
    "`1.` You should have already created a **user_item** matrix above in **question 1** of **Part III** above.  This first question here will just require that you run the cells to get things set up for the rest of **Part V** of the notebook. "
   ]
  },
  {
   "cell_type": "code",
   "execution_count": 79,
   "metadata": {},
   "outputs": [],
   "source": [
    "# Load the matrix here\n",
    "user_item_matrix = pd.read_pickle('user_item_matrix.p')"
   ]
  },
  {
   "cell_type": "code",
   "execution_count": 80,
   "metadata": {},
   "outputs": [
    {
     "data": {
      "text/html": "<div>\n<style scoped>\n    .dataframe tbody tr th:only-of-type {\n        vertical-align: middle;\n    }\n\n    .dataframe tbody tr th {\n        vertical-align: top;\n    }\n\n    .dataframe thead th {\n        text-align: right;\n    }\n</style>\n<table border=\"1\" class=\"dataframe\">\n  <thead>\n    <tr style=\"text-align: right;\">\n      <th>article_id</th>\n      <th>0.0</th>\n      <th>100.0</th>\n      <th>1000.0</th>\n      <th>1004.0</th>\n      <th>1006.0</th>\n      <th>1008.0</th>\n      <th>101.0</th>\n      <th>1014.0</th>\n      <th>1015.0</th>\n      <th>1016.0</th>\n      <th>...</th>\n      <th>977.0</th>\n      <th>98.0</th>\n      <th>981.0</th>\n      <th>984.0</th>\n      <th>985.0</th>\n      <th>986.0</th>\n      <th>990.0</th>\n      <th>993.0</th>\n      <th>996.0</th>\n      <th>997.0</th>\n    </tr>\n    <tr>\n      <th>user_id</th>\n      <th></th>\n      <th></th>\n      <th></th>\n      <th></th>\n      <th></th>\n      <th></th>\n      <th></th>\n      <th></th>\n      <th></th>\n      <th></th>\n      <th></th>\n      <th></th>\n      <th></th>\n      <th></th>\n      <th></th>\n      <th></th>\n      <th></th>\n      <th></th>\n      <th></th>\n      <th></th>\n      <th></th>\n    </tr>\n  </thead>\n  <tbody>\n    <tr>\n      <th>1</th>\n      <td>0.0</td>\n      <td>0.0</td>\n      <td>0.0</td>\n      <td>0.0</td>\n      <td>0.0</td>\n      <td>0.0</td>\n      <td>0.0</td>\n      <td>0.0</td>\n      <td>0.0</td>\n      <td>0.0</td>\n      <td>...</td>\n      <td>0.0</td>\n      <td>0.0</td>\n      <td>1.0</td>\n      <td>0.0</td>\n      <td>0.0</td>\n      <td>0.0</td>\n      <td>0.0</td>\n      <td>0.0</td>\n      <td>0.0</td>\n      <td>0.0</td>\n    </tr>\n    <tr>\n      <th>2</th>\n      <td>0.0</td>\n      <td>0.0</td>\n      <td>0.0</td>\n      <td>0.0</td>\n      <td>0.0</td>\n      <td>0.0</td>\n      <td>0.0</td>\n      <td>0.0</td>\n      <td>0.0</td>\n      <td>0.0</td>\n      <td>...</td>\n      <td>0.0</td>\n      <td>0.0</td>\n      <td>0.0</td>\n      <td>0.0</td>\n      <td>0.0</td>\n      <td>0.0</td>\n      <td>0.0</td>\n      <td>0.0</td>\n      <td>0.0</td>\n      <td>0.0</td>\n    </tr>\n    <tr>\n      <th>3</th>\n      <td>0.0</td>\n      <td>0.0</td>\n      <td>0.0</td>\n      <td>0.0</td>\n      <td>0.0</td>\n      <td>0.0</td>\n      <td>0.0</td>\n      <td>0.0</td>\n      <td>0.0</td>\n      <td>0.0</td>\n      <td>...</td>\n      <td>1.0</td>\n      <td>0.0</td>\n      <td>0.0</td>\n      <td>0.0</td>\n      <td>0.0</td>\n      <td>0.0</td>\n      <td>0.0</td>\n      <td>0.0</td>\n      <td>0.0</td>\n      <td>0.0</td>\n    </tr>\n    <tr>\n      <th>4</th>\n      <td>0.0</td>\n      <td>0.0</td>\n      <td>0.0</td>\n      <td>0.0</td>\n      <td>0.0</td>\n      <td>0.0</td>\n      <td>0.0</td>\n      <td>0.0</td>\n      <td>0.0</td>\n      <td>0.0</td>\n      <td>...</td>\n      <td>0.0</td>\n      <td>0.0</td>\n      <td>0.0</td>\n      <td>0.0</td>\n      <td>0.0</td>\n      <td>0.0</td>\n      <td>0.0</td>\n      <td>0.0</td>\n      <td>0.0</td>\n      <td>0.0</td>\n    </tr>\n    <tr>\n      <th>5</th>\n      <td>0.0</td>\n      <td>0.0</td>\n      <td>0.0</td>\n      <td>0.0</td>\n      <td>0.0</td>\n      <td>0.0</td>\n      <td>0.0</td>\n      <td>0.0</td>\n      <td>0.0</td>\n      <td>0.0</td>\n      <td>...</td>\n      <td>0.0</td>\n      <td>0.0</td>\n      <td>0.0</td>\n      <td>0.0</td>\n      <td>0.0</td>\n      <td>0.0</td>\n      <td>0.0</td>\n      <td>0.0</td>\n      <td>0.0</td>\n      <td>0.0</td>\n    </tr>\n  </tbody>\n</table>\n<p>5 rows × 714 columns</p>\n</div>",
      "text/plain": "article_id  0.0  100.0  1000.0  1004.0  1006.0  1008.0  101.0  1014.0  1015.0  \\\nuser_id                                                                         \n1           0.0    0.0     0.0     0.0     0.0     0.0    0.0     0.0     0.0   \n2           0.0    0.0     0.0     0.0     0.0     0.0    0.0     0.0     0.0   \n3           0.0    0.0     0.0     0.0     0.0     0.0    0.0     0.0     0.0   \n4           0.0    0.0     0.0     0.0     0.0     0.0    0.0     0.0     0.0   \n5           0.0    0.0     0.0     0.0     0.0     0.0    0.0     0.0     0.0   \n\narticle_id  1016.0  ...    977.0  98.0  981.0  984.0  985.0  986.0  990.0  \\\nuser_id             ...                                                     \n1              0.0  ...      0.0   0.0    1.0    0.0    0.0    0.0    0.0   \n2              0.0  ...      0.0   0.0    0.0    0.0    0.0    0.0    0.0   \n3              0.0  ...      1.0   0.0    0.0    0.0    0.0    0.0    0.0   \n4              0.0  ...      0.0   0.0    0.0    0.0    0.0    0.0    0.0   \n5              0.0  ...      0.0   0.0    0.0    0.0    0.0    0.0    0.0   \n\narticle_id  993.0  996.0  997.0  \nuser_id                          \n1             0.0    0.0    0.0  \n2             0.0    0.0    0.0  \n3             0.0    0.0    0.0  \n4             0.0    0.0    0.0  \n5             0.0    0.0    0.0  \n\n[5 rows x 714 columns]"
     },
     "execution_count": 80,
     "metadata": {},
     "output_type": "execute_result"
    }
   ],
   "source": [
    "# quick look at the matrix\n",
    "user_item_matrix.head()"
   ]
  },
  {
   "cell_type": "markdown",
   "metadata": {},
   "source": [
    "`2.` In this situation, you can use Singular Value Decomposition from [numpy](https://docs.scipy.org/doc/numpy-1.14.0/reference/generated/numpy.linalg.svd.html) on the user-item matrix.  Use the cell to perform SVD, and explain why this is different than in the lesson."
   ]
  },
  {
   "cell_type": "code",
   "execution_count": 81,
   "metadata": {},
   "outputs": [],
   "source": [
    "# Perform SVD on the User-Item Matrix Here\n",
    "\n",
    "u, s, vt = np.linalg.svd(user_item_matrix)"
   ]
  },
  {
   "cell_type": "markdown",
   "metadata": {},
   "source": [
    "In the lesson we were required to perform FunkSVD on the user-item matrix because we had missing values, i.e. there was not a rating present for every user-movie combination. `np.linalg.svd()` cannot handle missing values. <br>\n",
    "In this instance our thinking is different - the values in our user-item matrix simply represent whether a user has interacted with an article - `1` - or not - `0`. Therefore, for every user-article combination, the user has either a 1 or a 0 value present in the matrix. There are no missing values, so we can use regular SVD."
   ]
  },
  {
   "cell_type": "markdown",
   "metadata": {},
   "source": [
    "`3.` Now for the tricky part, how do we choose the number of latent features to use?  Running the below cell, you can see that as the number of latent features increases, we obtain a lower error rate on making predictions for the 1 and 0 values in the user-item matrix.  Run the cell below to get an idea of how the accuracy improves as we increase the number of latent features."
   ]
  },
  {
   "cell_type": "code",
   "execution_count": 82,
   "metadata": {},
   "outputs": [
    {
     "data": {
      "image/png": "[encoded data removed]",
      "image/svg+xml": "<?xml version=\"1.0\" encoding=\"utf-8\" standalone=\"no\"?>\r\n<!DOCTYPE svg PUBLIC \"-//W3C//DTD SVG 1.1//EN\"\r\n  \"http://www.w3.org/Graphics/SVG/1.1/DTD/svg11.dtd\">\r\n<!-- Created with matplotlib (https://matplotlib.org/) -->\r\n<svg height=\"277.314375pt\" version=\"1.1\" viewBox=\"0 0 385.78125 277.314375\" width=\"385.78125pt\" xmlns=\"http://www.w3.org/2000/svg\" xmlns:xlink=\"http://www.w3.org/1999/xlink\">\r\n <defs>\r\n  <style type=\"text/css\">\r\n*{stroke-linecap:butt;stroke-linejoin:round;}\r\n  </style>\r\n </defs>\r\n <g id=\"figure_1\">\r\n  <g id=\"patch_1\">\r\n   <path d=\"M 0 277.314375 \r\nL 385.78125 277.314375 \r\nL 385.78125 0 \r\nL 0 0 \r\nz\r\n\" style=\"fill:none;\"/>\r\n  </g>\r\n  <g id=\"axes_1\">\r\n   <g id=\"patch_2\">\r\n    <path d=\"M 43.78125 239.758125 \r\nL 378.58125 239.758125 \r\nL 378.58125 22.318125 \r\nL 43.78125 22.318125 \r\nz\r\n\" style=\"fill:#ffffff;\"/>\r\n   </g>\r\n   <g id=\"matplotlib.axis_1\">\r\n    <g id=\"xtick_1\">\r\n     <g id=\"line2d_1\">\r\n      <defs>\r\n       <path d=\"M 0 0 \r\nL 0 3.5 \r\n\" id=\"me4aca8c116\" style=\"stroke:#000000;stroke-width:0.8;\"/>\r\n      </defs>\r\n      <g>\r\n       <use style=\"stroke:#000000;stroke-width:0.8;\" x=\"54.523496\" xlink:href=\"#me4aca8c116\" y=\"239.758125\"/>\r\n      </g>\r\n     </g>\r\n     <g id=\"text_1\">\r\n      <!-- 0 -->\r\n      <defs>\r\n       <path d=\"M 31.78125 66.40625 \r\nQ 24.171875 66.40625 20.328125 58.90625 \r\nQ 16.5 51.421875 16.5 36.375 \r\nQ 16.5 21.390625 20.328125 13.890625 \r\nQ 24.171875 6.390625 31.78125 6.390625 \r\nQ 39.453125 6.390625 43.28125 13.890625 \r\nQ 47.125 21.390625 47.125 36.375 \r\nQ 47.125 51.421875 43.28125 58.90625 \r\nQ 39.453125 66.40625 31.78125 66.40625 \r\nz\r\nM 31.78125 74.21875 \r\nQ 44.046875 74.21875 50.515625 64.515625 \r\nQ 56.984375 54.828125 56.984375 36.375 \r\nQ 56.984375 17.96875 50.515625 8.265625 \r\nQ 44.046875 -1.421875 31.78125 -1.421875 \r\nQ 19.53125 -1.421875 13.0625 8.265625 \r\nQ 6.59375 17.96875 6.59375 36.375 \r\nQ 6.59375 54.828125 13.0625 64.515625 \r\nQ 19.53125 74.21875 31.78125 74.21875 \r\nz\r\n\" id=\"DejaVuSans-48\"/>\r\n      </defs>\r\n      <g transform=\"translate(51.342246 254.356562)scale(0.1 -0.1)\">\r\n       <use xlink:href=\"#DejaVuSans-48\"/>\r\n      </g>\r\n     </g>\r\n    </g>\r\n    <g id=\"xtick_2\">\r\n     <g id=\"line2d_2\">\r\n      <g>\r\n       <use style=\"stroke:#000000;stroke-width:0.8;\" x=\"99.282854\" xlink:href=\"#me4aca8c116\" y=\"239.758125\"/>\r\n      </g>\r\n     </g>\r\n     <g id=\"text_2\">\r\n      <!-- 100 -->\r\n      <defs>\r\n       <path d=\"M 12.40625 8.296875 \r\nL 28.515625 8.296875 \r\nL 28.515625 63.921875 \r\nL 10.984375 60.40625 \r\nL 10.984375 69.390625 \r\nL 28.421875 72.90625 \r\nL 38.28125 72.90625 \r\nL 38.28125 8.296875 \r\nL 54.390625 8.296875 \r\nL 54.390625 0 \r\nL 12.40625 0 \r\nz\r\n\" id=\"DejaVuSans-49\"/>\r\n      </defs>\r\n      <g transform=\"translate(89.739104 254.356562)scale(0.1 -0.1)\">\r\n       <use xlink:href=\"#DejaVuSans-49\"/>\r\n       <use x=\"63.623047\" xlink:href=\"#DejaVuSans-48\"/>\r\n       <use x=\"127.246094\" xlink:href=\"#DejaVuSans-48\"/>\r\n      </g>\r\n     </g>\r\n    </g>\r\n    <g id=\"xtick_3\">\r\n     <g id=\"line2d_3\">\r\n      <g>\r\n       <use style=\"stroke:#000000;stroke-width:0.8;\" x=\"144.042213\" xlink:href=\"#me4aca8c116\" y=\"239.758125\"/>\r\n      </g>\r\n     </g>\r\n     <g id=\"text_3\">\r\n      <!-- 200 -->\r\n      <defs>\r\n       <path d=\"M 19.1875 8.296875 \r\nL 53.609375 8.296875 \r\nL 53.609375 0 \r\nL 7.328125 0 \r\nL 7.328125 8.296875 \r\nQ 12.9375 14.109375 22.625 23.890625 \r\nQ 32.328125 33.6875 34.8125 36.53125 \r\nQ 39.546875 41.84375 41.421875 45.53125 \r\nQ 43.3125 49.21875 43.3125 52.78125 \r\nQ 43.3125 58.59375 39.234375 62.25 \r\nQ 35.15625 65.921875 28.609375 65.921875 \r\nQ 23.96875 65.921875 18.8125 64.3125 \r\nQ 13.671875 62.703125 7.8125 59.421875 \r\nL 7.8125 69.390625 \r\nQ 13.765625 71.78125 18.9375 73 \r\nQ 24.125 74.21875 28.421875 74.21875 \r\nQ 39.75 74.21875 46.484375 68.546875 \r\nQ 53.21875 62.890625 53.21875 53.421875 \r\nQ 53.21875 48.921875 51.53125 44.890625 \r\nQ 49.859375 40.875 45.40625 35.40625 \r\nQ 44.1875 33.984375 37.640625 27.21875 \r\nQ 31.109375 20.453125 19.1875 8.296875 \r\nz\r\n\" id=\"DejaVuSans-50\"/>\r\n      </defs>\r\n      <g transform=\"translate(134.498463 254.356562)scale(0.1 -0.1)\">\r\n       <use xlink:href=\"#DejaVuSans-50\"/>\r\n       <use x=\"63.623047\" xlink:href=\"#DejaVuSans-48\"/>\r\n       <use x=\"127.246094\" xlink:href=\"#DejaVuSans-48\"/>\r\n      </g>\r\n     </g>\r\n    </g>\r\n    <g id=\"xtick_4\">\r\n     <g id=\"line2d_4\">\r\n      <g>\r\n       <use style=\"stroke:#000000;stroke-width:0.8;\" x=\"188.801571\" xlink:href=\"#me4aca8c116\" y=\"239.758125\"/>\r\n      </g>\r\n     </g>\r\n     <g id=\"text_4\">\r\n      <!-- 300 -->\r\n      <defs>\r\n       <path d=\"M 40.578125 39.3125 \r\nQ 47.65625 37.796875 51.625 33 \r\nQ 55.609375 28.21875 55.609375 21.1875 \r\nQ 55.609375 10.40625 48.1875 4.484375 \r\nQ 40.765625 -1.421875 27.09375 -1.421875 \r\nQ 22.515625 -1.421875 17.65625 -0.515625 \r\nQ 12.796875 0.390625 7.625 2.203125 \r\nL 7.625 11.71875 \r\nQ 11.71875 9.328125 16.59375 8.109375 \r\nQ 21.484375 6.890625 26.8125 6.890625 \r\nQ 36.078125 6.890625 40.9375 10.546875 \r\nQ 45.796875 14.203125 45.796875 21.1875 \r\nQ 45.796875 27.640625 41.28125 31.265625 \r\nQ 36.765625 34.90625 28.71875 34.90625 \r\nL 20.21875 34.90625 \r\nL 20.21875 43.015625 \r\nL 29.109375 43.015625 \r\nQ 36.375 43.015625 40.234375 45.921875 \r\nQ 44.09375 48.828125 44.09375 54.296875 \r\nQ 44.09375 59.90625 40.109375 62.90625 \r\nQ 36.140625 65.921875 28.71875 65.921875 \r\nQ 24.65625 65.921875 20.015625 65.03125 \r\nQ 15.375 64.15625 9.8125 62.3125 \r\nL 9.8125 71.09375 \r\nQ 15.4375 72.65625 20.34375 73.4375 \r\nQ 25.25 74.21875 29.59375 74.21875 \r\nQ 40.828125 74.21875 47.359375 69.109375 \r\nQ 53.90625 64.015625 53.90625 55.328125 \r\nQ 53.90625 49.265625 50.4375 45.09375 \r\nQ 46.96875 40.921875 40.578125 39.3125 \r\nz\r\n\" id=\"DejaVuSans-51\"/>\r\n      </defs>\r\n      <g transform=\"translate(179.257821 254.356562)scale(0.1 -0.1)\">\r\n       <use xlink:href=\"#DejaVuSans-51\"/>\r\n       <use x=\"63.623047\" xlink:href=\"#DejaVuSans-48\"/>\r\n       <use x=\"127.246094\" xlink:href=\"#DejaVuSans-48\"/>\r\n      </g>\r\n     </g>\r\n    </g>\r\n    <g id=\"xtick_5\">\r\n     <g id=\"line2d_5\">\r\n      <g>\r\n       <use style=\"stroke:#000000;stroke-width:0.8;\" x=\"233.560929\" xlink:href=\"#me4aca8c116\" y=\"239.758125\"/>\r\n      </g>\r\n     </g>\r\n     <g id=\"text_5\">\r\n      <!-- 400 -->\r\n      <defs>\r\n       <path d=\"M 37.796875 64.3125 \r\nL 12.890625 25.390625 \r\nL 37.796875 25.390625 \r\nz\r\nM 35.203125 72.90625 \r\nL 47.609375 72.90625 \r\nL 47.609375 25.390625 \r\nL 58.015625 25.390625 \r\nL 58.015625 17.1875 \r\nL 47.609375 17.1875 \r\nL 47.609375 0 \r\nL 37.796875 0 \r\nL 37.796875 17.1875 \r\nL 4.890625 17.1875 \r\nL 4.890625 26.703125 \r\nz\r\n\" id=\"DejaVuSans-52\"/>\r\n      </defs>\r\n      <g transform=\"translate(224.017179 254.356562)scale(0.1 -0.1)\">\r\n       <use xlink:href=\"#DejaVuSans-52\"/>\r\n       <use x=\"63.623047\" xlink:href=\"#DejaVuSans-48\"/>\r\n       <use x=\"127.246094\" xlink:href=\"#DejaVuSans-48\"/>\r\n      </g>\r\n     </g>\r\n    </g>\r\n    <g id=\"xtick_6\">\r\n     <g id=\"line2d_6\">\r\n      <g>\r\n       <use style=\"stroke:#000000;stroke-width:0.8;\" x=\"278.320287\" xlink:href=\"#me4aca8c116\" y=\"239.758125\"/>\r\n      </g>\r\n     </g>\r\n     <g id=\"text_6\">\r\n      <!-- 500 -->\r\n      <defs>\r\n       <path d=\"M 10.796875 72.90625 \r\nL 49.515625 72.90625 \r\nL 49.515625 64.59375 \r\nL 19.828125 64.59375 \r\nL 19.828125 46.734375 \r\nQ 21.96875 47.46875 24.109375 47.828125 \r\nQ 26.265625 48.1875 28.421875 48.1875 \r\nQ 40.625 48.1875 47.75 41.5 \r\nQ 54.890625 34.8125 54.890625 23.390625 \r\nQ 54.890625 11.625 47.5625 5.09375 \r\nQ 40.234375 -1.421875 26.90625 -1.421875 \r\nQ 22.3125 -1.421875 17.546875 -0.640625 \r\nQ 12.796875 0.140625 7.71875 1.703125 \r\nL 7.71875 11.625 \r\nQ 12.109375 9.234375 16.796875 8.0625 \r\nQ 21.484375 6.890625 26.703125 6.890625 \r\nQ 35.15625 6.890625 40.078125 11.328125 \r\nQ 45.015625 15.765625 45.015625 23.390625 \r\nQ 45.015625 31 40.078125 35.4375 \r\nQ 35.15625 39.890625 26.703125 39.890625 \r\nQ 22.75 39.890625 18.8125 39.015625 \r\nQ 14.890625 38.140625 10.796875 36.28125 \r\nz\r\n\" id=\"DejaVuSans-53\"/>\r\n      </defs>\r\n      <g transform=\"translate(268.776537 254.356562)scale(0.1 -0.1)\">\r\n       <use xlink:href=\"#DejaVuSans-53\"/>\r\n       <use x=\"63.623047\" xlink:href=\"#DejaVuSans-48\"/>\r\n       <use x=\"127.246094\" xlink:href=\"#DejaVuSans-48\"/>\r\n      </g>\r\n     </g>\r\n    </g>\r\n    <g id=\"xtick_7\">\r\n     <g id=\"line2d_7\">\r\n      <g>\r\n       <use style=\"stroke:#000000;stroke-width:0.8;\" x=\"323.079646\" xlink:href=\"#me4aca8c116\" y=\"239.758125\"/>\r\n      </g>\r\n     </g>\r\n     <g id=\"text_7\">\r\n      <!-- 600 -->\r\n      <defs>\r\n       <path d=\"M 33.015625 40.375 \r\nQ 26.375 40.375 22.484375 35.828125 \r\nQ 18.609375 31.296875 18.609375 23.390625 \r\nQ 18.609375 15.53125 22.484375 10.953125 \r\nQ 26.375 6.390625 33.015625 6.390625 \r\nQ 39.65625 6.390625 43.53125 10.953125 \r\nQ 47.40625 15.53125 47.40625 23.390625 \r\nQ 47.40625 31.296875 43.53125 35.828125 \r\nQ 39.65625 40.375 33.015625 40.375 \r\nz\r\nM 52.59375 71.296875 \r\nL 52.59375 62.3125 \r\nQ 48.875 64.0625 45.09375 64.984375 \r\nQ 41.3125 65.921875 37.59375 65.921875 \r\nQ 27.828125 65.921875 22.671875 59.328125 \r\nQ 17.53125 52.734375 16.796875 39.40625 \r\nQ 19.671875 43.65625 24.015625 45.921875 \r\nQ 28.375 48.1875 33.59375 48.1875 \r\nQ 44.578125 48.1875 50.953125 41.515625 \r\nQ 57.328125 34.859375 57.328125 23.390625 \r\nQ 57.328125 12.15625 50.6875 5.359375 \r\nQ 44.046875 -1.421875 33.015625 -1.421875 \r\nQ 20.359375 -1.421875 13.671875 8.265625 \r\nQ 6.984375 17.96875 6.984375 36.375 \r\nQ 6.984375 53.65625 15.1875 63.9375 \r\nQ 23.390625 74.21875 37.203125 74.21875 \r\nQ 40.921875 74.21875 44.703125 73.484375 \r\nQ 48.484375 72.75 52.59375 71.296875 \r\nz\r\n\" id=\"DejaVuSans-54\"/>\r\n      </defs>\r\n      <g transform=\"translate(313.535896 254.356562)scale(0.1 -0.1)\">\r\n       <use xlink:href=\"#DejaVuSans-54\"/>\r\n       <use x=\"63.623047\" xlink:href=\"#DejaVuSans-48\"/>\r\n       <use x=\"127.246094\" xlink:href=\"#DejaVuSans-48\"/>\r\n      </g>\r\n     </g>\r\n    </g>\r\n    <g id=\"xtick_8\">\r\n     <g id=\"line2d_8\">\r\n      <g>\r\n       <use style=\"stroke:#000000;stroke-width:0.8;\" x=\"367.839004\" xlink:href=\"#me4aca8c116\" y=\"239.758125\"/>\r\n      </g>\r\n     </g>\r\n     <g id=\"text_8\">\r\n      <!-- 700 -->\r\n      <defs>\r\n       <path d=\"M 8.203125 72.90625 \r\nL 55.078125 72.90625 \r\nL 55.078125 68.703125 \r\nL 28.609375 0 \r\nL 18.3125 0 \r\nL 43.21875 64.59375 \r\nL 8.203125 64.59375 \r\nz\r\n\" id=\"DejaVuSans-55\"/>\r\n      </defs>\r\n      <g transform=\"translate(358.295254 254.356562)scale(0.1 -0.1)\">\r\n       <use xlink:href=\"#DejaVuSans-55\"/>\r\n       <use x=\"63.623047\" xlink:href=\"#DejaVuSans-48\"/>\r\n       <use x=\"127.246094\" xlink:href=\"#DejaVuSans-48\"/>\r\n      </g>\r\n     </g>\r\n    </g>\r\n    <g id=\"text_9\">\r\n     <!-- Number of Latent Features -->\r\n     <defs>\r\n      <path d=\"M 9.8125 72.90625 \r\nL 23.09375 72.90625 \r\nL 55.421875 11.921875 \r\nL 55.421875 72.90625 \r\nL 64.984375 72.90625 \r\nL 64.984375 0 \r\nL 51.703125 0 \r\nL 19.390625 60.984375 \r\nL 19.390625 0 \r\nL 9.8125 0 \r\nz\r\n\" id=\"DejaVuSans-78\"/>\r\n      <path d=\"M 8.5 21.578125 \r\nL 8.5 54.6875 \r\nL 17.484375 54.6875 \r\nL 17.484375 21.921875 \r\nQ 17.484375 14.15625 20.5 10.265625 \r\nQ 23.53125 6.390625 29.59375 6.390625 \r\nQ 36.859375 6.390625 41.078125 11.03125 \r\nQ 45.3125 15.671875 45.3125 23.6875 \r\nL 45.3125 54.6875 \r\nL 54.296875 54.6875 \r\nL 54.296875 0 \r\nL 45.3125 0 \r\nL 45.3125 8.40625 \r\nQ 42.046875 3.421875 37.71875 1 \r\nQ 33.40625 -1.421875 27.6875 -1.421875 \r\nQ 18.265625 -1.421875 13.375 4.4375 \r\nQ 8.5 10.296875 8.5 21.578125 \r\nz\r\nM 31.109375 56 \r\nz\r\n\" id=\"DejaVuSans-117\"/>\r\n      <path d=\"M 52 44.1875 \r\nQ 55.375 50.25 60.0625 53.125 \r\nQ 64.75 56 71.09375 56 \r\nQ 79.640625 56 84.28125 50.015625 \r\nQ 88.921875 44.046875 88.921875 33.015625 \r\nL 88.921875 0 \r\nL 79.890625 0 \r\nL 79.890625 32.71875 \r\nQ 79.890625 40.578125 77.09375 44.375 \r\nQ 74.3125 48.1875 68.609375 48.1875 \r\nQ 61.625 48.1875 57.5625 43.546875 \r\nQ 53.515625 38.921875 53.515625 30.90625 \r\nL 53.515625 0 \r\nL 44.484375 0 \r\nL 44.484375 32.71875 \r\nQ 44.484375 40.625 41.703125 44.40625 \r\nQ 38.921875 48.1875 33.109375 48.1875 \r\nQ 26.21875 48.1875 22.15625 43.53125 \r\nQ 18.109375 38.875 18.109375 30.90625 \r\nL 18.109375 0 \r\nL 9.078125 0 \r\nL 9.078125 54.6875 \r\nL 18.109375 54.6875 \r\nL 18.109375 46.1875 \r\nQ 21.1875 51.21875 25.484375 53.609375 \r\nQ 29.78125 56 35.6875 56 \r\nQ 41.65625 56 45.828125 52.96875 \r\nQ 50 49.953125 52 44.1875 \r\nz\r\n\" id=\"DejaVuSans-109\"/>\r\n      <path d=\"M 48.6875 27.296875 \r\nQ 48.6875 37.203125 44.609375 42.84375 \r\nQ 40.53125 48.484375 33.40625 48.484375 \r\nQ 26.265625 48.484375 22.1875 42.84375 \r\nQ 18.109375 37.203125 18.109375 27.296875 \r\nQ 18.109375 17.390625 22.1875 11.75 \r\nQ 26.265625 6.109375 33.40625 6.109375 \r\nQ 40.53125 6.109375 44.609375 11.75 \r\nQ 48.6875 17.390625 48.6875 27.296875 \r\nz\r\nM 18.109375 46.390625 \r\nQ 20.953125 51.265625 25.265625 53.625 \r\nQ 29.59375 56 35.59375 56 \r\nQ 45.5625 56 51.78125 48.09375 \r\nQ 58.015625 40.1875 58.015625 27.296875 \r\nQ 58.015625 14.40625 51.78125 6.484375 \r\nQ 45.5625 -1.421875 35.59375 -1.421875 \r\nQ 29.59375 -1.421875 25.265625 0.953125 \r\nQ 20.953125 3.328125 18.109375 8.203125 \r\nL 18.109375 0 \r\nL 9.078125 0 \r\nL 9.078125 75.984375 \r\nL 18.109375 75.984375 \r\nz\r\n\" id=\"DejaVuSans-98\"/>\r\n      <path d=\"M 56.203125 29.59375 \r\nL 56.203125 25.203125 \r\nL 14.890625 25.203125 \r\nQ 15.484375 15.921875 20.484375 11.0625 \r\nQ 25.484375 6.203125 34.421875 6.203125 \r\nQ 39.59375 6.203125 44.453125 7.46875 \r\nQ 49.3125 8.734375 54.109375 11.28125 \r\nL 54.109375 2.78125 \r\nQ 49.265625 0.734375 44.1875 -0.34375 \r\nQ 39.109375 -1.421875 33.890625 -1.421875 \r\nQ 20.796875 -1.421875 13.15625 6.1875 \r\nQ 5.515625 13.8125 5.515625 26.8125 \r\nQ 5.515625 40.234375 12.765625 48.109375 \r\nQ 20.015625 56 32.328125 56 \r\nQ 43.359375 56 49.78125 48.890625 \r\nQ 56.203125 41.796875 56.203125 29.59375 \r\nz\r\nM 47.21875 32.234375 \r\nQ 47.125 39.59375 43.09375 43.984375 \r\nQ 39.0625 48.390625 32.421875 48.390625 \r\nQ 24.90625 48.390625 20.390625 44.140625 \r\nQ 15.875 39.890625 15.1875 32.171875 \r\nz\r\n\" id=\"DejaVuSans-101\"/>\r\n      <path d=\"M 41.109375 46.296875 \r\nQ 39.59375 47.171875 37.8125 47.578125 \r\nQ 36.03125 48 33.890625 48 \r\nQ 26.265625 48 22.1875 43.046875 \r\nQ 18.109375 38.09375 18.109375 28.8125 \r\nL 18.109375 0 \r\nL 9.078125 0 \r\nL 9.078125 54.6875 \r\nL 18.109375 54.6875 \r\nL 18.109375 46.1875 \r\nQ 20.953125 51.171875 25.484375 53.578125 \r\nQ 30.03125 56 36.53125 56 \r\nQ 37.453125 56 38.578125 55.875 \r\nQ 39.703125 55.765625 41.0625 55.515625 \r\nz\r\n\" id=\"DejaVuSans-114\"/>\r\n      <path id=\"DejaVuSans-32\"/>\r\n      <path d=\"M 30.609375 48.390625 \r\nQ 23.390625 48.390625 19.1875 42.75 \r\nQ 14.984375 37.109375 14.984375 27.296875 \r\nQ 14.984375 17.484375 19.15625 11.84375 \r\nQ 23.34375 6.203125 30.609375 6.203125 \r\nQ 37.796875 6.203125 41.984375 11.859375 \r\nQ 46.1875 17.53125 46.1875 27.296875 \r\nQ 46.1875 37.015625 41.984375 42.703125 \r\nQ 37.796875 48.390625 30.609375 48.390625 \r\nz\r\nM 30.609375 56 \r\nQ 42.328125 56 49.015625 48.375 \r\nQ 55.71875 40.765625 55.71875 27.296875 \r\nQ 55.71875 13.875 49.015625 6.21875 \r\nQ 42.328125 -1.421875 30.609375 -1.421875 \r\nQ 18.84375 -1.421875 12.171875 6.21875 \r\nQ 5.515625 13.875 5.515625 27.296875 \r\nQ 5.515625 40.765625 12.171875 48.375 \r\nQ 18.84375 56 30.609375 56 \r\nz\r\n\" id=\"DejaVuSans-111\"/>\r\n      <path d=\"M 37.109375 75.984375 \r\nL 37.109375 68.5 \r\nL 28.515625 68.5 \r\nQ 23.6875 68.5 21.796875 66.546875 \r\nQ 19.921875 64.59375 19.921875 59.515625 \r\nL 19.921875 54.6875 \r\nL 34.71875 54.6875 \r\nL 34.71875 47.703125 \r\nL 19.921875 47.703125 \r\nL 19.921875 0 \r\nL 10.890625 0 \r\nL 10.890625 47.703125 \r\nL 2.296875 47.703125 \r\nL 2.296875 54.6875 \r\nL 10.890625 54.6875 \r\nL 10.890625 58.5 \r\nQ 10.890625 67.625 15.140625 71.796875 \r\nQ 19.390625 75.984375 28.609375 75.984375 \r\nz\r\n\" id=\"DejaVuSans-102\"/>\r\n      <path d=\"M 9.8125 72.90625 \r\nL 19.671875 72.90625 \r\nL 19.671875 8.296875 \r\nL 55.171875 8.296875 \r\nL 55.171875 0 \r\nL 9.8125 0 \r\nz\r\n\" id=\"DejaVuSans-76\"/>\r\n      <path d=\"M 34.28125 27.484375 \r\nQ 23.390625 27.484375 19.1875 25 \r\nQ 14.984375 22.515625 14.984375 16.5 \r\nQ 14.984375 11.71875 18.140625 8.90625 \r\nQ 21.296875 6.109375 26.703125 6.109375 \r\nQ 34.1875 6.109375 38.703125 11.40625 \r\nQ 43.21875 16.703125 43.21875 25.484375 \r\nL 43.21875 27.484375 \r\nz\r\nM 52.203125 31.203125 \r\nL 52.203125 0 \r\nL 43.21875 0 \r\nL 43.21875 8.296875 \r\nQ 40.140625 3.328125 35.546875 0.953125 \r\nQ 30.953125 -1.421875 24.3125 -1.421875 \r\nQ 15.921875 -1.421875 10.953125 3.296875 \r\nQ 6 8.015625 6 15.921875 \r\nQ 6 25.140625 12.171875 29.828125 \r\nQ 18.359375 34.515625 30.609375 34.515625 \r\nL 43.21875 34.515625 \r\nL 43.21875 35.40625 \r\nQ 43.21875 41.609375 39.140625 45 \r\nQ 35.0625 48.390625 27.6875 48.390625 \r\nQ 23 48.390625 18.546875 47.265625 \r\nQ 14.109375 46.140625 10.015625 43.890625 \r\nL 10.015625 52.203125 \r\nQ 14.9375 54.109375 19.578125 55.046875 \r\nQ 24.21875 56 28.609375 56 \r\nQ 40.484375 56 46.34375 49.84375 \r\nQ 52.203125 43.703125 52.203125 31.203125 \r\nz\r\n\" id=\"DejaVuSans-97\"/>\r\n      <path d=\"M 18.3125 70.21875 \r\nL 18.3125 54.6875 \r\nL 36.8125 54.6875 \r\nL 36.8125 47.703125 \r\nL 18.3125 47.703125 \r\nL 18.3125 18.015625 \r\nQ 18.3125 11.328125 20.140625 9.421875 \r\nQ 21.96875 7.515625 27.59375 7.515625 \r\nL 36.8125 7.515625 \r\nL 36.8125 0 \r\nL 27.59375 0 \r\nQ 17.1875 0 13.234375 3.875 \r\nQ 9.28125 7.765625 9.28125 18.015625 \r\nL 9.28125 47.703125 \r\nL 2.6875 47.703125 \r\nL 2.6875 54.6875 \r\nL 9.28125 54.6875 \r\nL 9.28125 70.21875 \r\nz\r\n\" id=\"DejaVuSans-116\"/>\r\n      <path d=\"M 54.890625 33.015625 \r\nL 54.890625 0 \r\nL 45.90625 0 \r\nL 45.90625 32.71875 \r\nQ 45.90625 40.484375 42.875 44.328125 \r\nQ 39.84375 48.1875 33.796875 48.1875 \r\nQ 26.515625 48.1875 22.3125 43.546875 \r\nQ 18.109375 38.921875 18.109375 30.90625 \r\nL 18.109375 0 \r\nL 9.078125 0 \r\nL 9.078125 54.6875 \r\nL 18.109375 54.6875 \r\nL 18.109375 46.1875 \r\nQ 21.34375 51.125 25.703125 53.5625 \r\nQ 30.078125 56 35.796875 56 \r\nQ 45.21875 56 50.046875 50.171875 \r\nQ 54.890625 44.34375 54.890625 33.015625 \r\nz\r\n\" id=\"DejaVuSans-110\"/>\r\n      <path d=\"M 9.8125 72.90625 \r\nL 51.703125 72.90625 \r\nL 51.703125 64.59375 \r\nL 19.671875 64.59375 \r\nL 19.671875 43.109375 \r\nL 48.578125 43.109375 \r\nL 48.578125 34.8125 \r\nL 19.671875 34.8125 \r\nL 19.671875 0 \r\nL 9.8125 0 \r\nz\r\n\" id=\"DejaVuSans-70\"/>\r\n      <path d=\"M 44.28125 53.078125 \r\nL 44.28125 44.578125 \r\nQ 40.484375 46.53125 36.375 47.5 \r\nQ 32.28125 48.484375 27.875 48.484375 \r\nQ 21.1875 48.484375 17.84375 46.4375 \r\nQ 14.5 44.390625 14.5 40.28125 \r\nQ 14.5 37.15625 16.890625 35.375 \r\nQ 19.28125 33.59375 26.515625 31.984375 \r\nL 29.59375 31.296875 \r\nQ 39.15625 29.25 43.1875 25.515625 \r\nQ 47.21875 21.78125 47.21875 15.09375 \r\nQ 47.21875 7.46875 41.1875 3.015625 \r\nQ 35.15625 -1.421875 24.609375 -1.421875 \r\nQ 20.21875 -1.421875 15.453125 -0.5625 \r\nQ 10.6875 0.296875 5.421875 2 \r\nL 5.421875 11.28125 \r\nQ 10.40625 8.6875 15.234375 7.390625 \r\nQ 20.0625 6.109375 24.8125 6.109375 \r\nQ 31.15625 6.109375 34.5625 8.28125 \r\nQ 37.984375 10.453125 37.984375 14.40625 \r\nQ 37.984375 18.0625 35.515625 20.015625 \r\nQ 33.0625 21.96875 24.703125 23.78125 \r\nL 21.578125 24.515625 \r\nQ 13.234375 26.265625 9.515625 29.90625 \r\nQ 5.8125 33.546875 5.8125 39.890625 \r\nQ 5.8125 47.609375 11.28125 51.796875 \r\nQ 16.75 56 26.8125 56 \r\nQ 31.78125 56 36.171875 55.265625 \r\nQ 40.578125 54.546875 44.28125 53.078125 \r\nz\r\n\" id=\"DejaVuSans-115\"/>\r\n     </defs>\r\n     <g transform=\"translate(143.616406 268.034687)scale(0.1 -0.1)\">\r\n      <use xlink:href=\"#DejaVuSans-78\"/>\r\n      <use x=\"74.804688\" xlink:href=\"#DejaVuSans-117\"/>\r\n      <use x=\"138.183594\" xlink:href=\"#DejaVuSans-109\"/>\r\n      <use x=\"235.595703\" xlink:href=\"#DejaVuSans-98\"/>\r\n      <use x=\"299.072266\" xlink:href=\"#DejaVuSans-101\"/>\r\n      <use x=\"360.595703\" xlink:href=\"#DejaVuSans-114\"/>\r\n      <use x=\"401.708984\" xlink:href=\"#DejaVuSans-32\"/>\r\n      <use x=\"433.496094\" xlink:href=\"#DejaVuSans-111\"/>\r\n      <use x=\"494.677734\" xlink:href=\"#DejaVuSans-102\"/>\r\n      <use x=\"529.882812\" xlink:href=\"#DejaVuSans-32\"/>\r\n      <use x=\"561.669922\" xlink:href=\"#DejaVuSans-76\"/>\r\n      <use x=\"617.382812\" xlink:href=\"#DejaVuSans-97\"/>\r\n      <use x=\"678.662109\" xlink:href=\"#DejaVuSans-116\"/>\r\n      <use x=\"717.871094\" xlink:href=\"#DejaVuSans-101\"/>\r\n      <use x=\"779.394531\" xlink:href=\"#DejaVuSans-110\"/>\r\n      <use x=\"842.773438\" xlink:href=\"#DejaVuSans-116\"/>\r\n      <use x=\"881.982422\" xlink:href=\"#DejaVuSans-32\"/>\r\n      <use x=\"913.769531\" xlink:href=\"#DejaVuSans-70\"/>\r\n      <use x=\"971.210938\" xlink:href=\"#DejaVuSans-101\"/>\r\n      <use x=\"1032.734375\" xlink:href=\"#DejaVuSans-97\"/>\r\n      <use x=\"1094.013672\" xlink:href=\"#DejaVuSans-116\"/>\r\n      <use x=\"1133.222656\" xlink:href=\"#DejaVuSans-117\"/>\r\n      <use x=\"1196.601562\" xlink:href=\"#DejaVuSans-114\"/>\r\n      <use x=\"1237.683594\" xlink:href=\"#DejaVuSans-101\"/>\r\n      <use x=\"1299.207031\" xlink:href=\"#DejaVuSans-115\"/>\r\n     </g>\r\n    </g>\r\n   </g>\r\n   <g id=\"matplotlib.axis_2\">\r\n    <g id=\"ytick_1\">\r\n     <g id=\"line2d_9\">\r\n      <defs>\r\n       <path d=\"M 0 0 \r\nL -3.5 0 \r\n\" id=\"mf40a395556\" style=\"stroke:#000000;stroke-width:0.8;\"/>\r\n      </defs>\r\n      <g>\r\n       <use style=\"stroke:#000000;stroke-width:0.8;\" x=\"43.78125\" xlink:href=\"#mf40a395556\" y=\"210.531784\"/>\r\n      </g>\r\n     </g>\r\n     <g id=\"text_10\">\r\n      <!-- 0.4 -->\r\n      <defs>\r\n       <path d=\"M 10.6875 12.40625 \r\nL 21 12.40625 \r\nL 21 0 \r\nL 10.6875 0 \r\nz\r\n\" id=\"DejaVuSans-46\"/>\r\n      </defs>\r\n      <g transform=\"translate(20.878125 214.331002)scale(0.1 -0.1)\">\r\n       <use xlink:href=\"#DejaVuSans-48\"/>\r\n       <use x=\"63.623047\" xlink:href=\"#DejaVuSans-46\"/>\r\n       <use x=\"95.410156\" xlink:href=\"#DejaVuSans-52\"/>\r\n      </g>\r\n     </g>\r\n    </g>\r\n    <g id=\"ytick_2\">\r\n     <g id=\"line2d_10\">\r\n      <g>\r\n       <use style=\"stroke:#000000;stroke-width:0.8;\" x=\"43.78125\" xlink:href=\"#mf40a395556\" y=\"180.810113\"/>\r\n      </g>\r\n     </g>\r\n     <g id=\"text_11\">\r\n      <!-- 0.5 -->\r\n      <g transform=\"translate(20.878125 184.609332)scale(0.1 -0.1)\">\r\n       <use xlink:href=\"#DejaVuSans-48\"/>\r\n       <use x=\"63.623047\" xlink:href=\"#DejaVuSans-46\"/>\r\n       <use x=\"95.410156\" xlink:href=\"#DejaVuSans-53\"/>\r\n      </g>\r\n     </g>\r\n    </g>\r\n    <g id=\"ytick_3\">\r\n     <g id=\"line2d_11\">\r\n      <g>\r\n       <use style=\"stroke:#000000;stroke-width:0.8;\" x=\"43.78125\" xlink:href=\"#mf40a395556\" y=\"151.088443\"/>\r\n      </g>\r\n     </g>\r\n     <g id=\"text_12\">\r\n      <!-- 0.6 -->\r\n      <g transform=\"translate(20.878125 154.887662)scale(0.1 -0.1)\">\r\n       <use xlink:href=\"#DejaVuSans-48\"/>\r\n       <use x=\"63.623047\" xlink:href=\"#DejaVuSans-46\"/>\r\n       <use x=\"95.410156\" xlink:href=\"#DejaVuSans-54\"/>\r\n      </g>\r\n     </g>\r\n    </g>\r\n    <g id=\"ytick_4\">\r\n     <g id=\"line2d_12\">\r\n      <g>\r\n       <use style=\"stroke:#000000;stroke-width:0.8;\" x=\"43.78125\" xlink:href=\"#mf40a395556\" y=\"121.366772\"/>\r\n      </g>\r\n     </g>\r\n     <g id=\"text_13\">\r\n      <!-- 0.7 -->\r\n      <g transform=\"translate(20.878125 125.165991)scale(0.1 -0.1)\">\r\n       <use xlink:href=\"#DejaVuSans-48\"/>\r\n       <use x=\"63.623047\" xlink:href=\"#DejaVuSans-46\"/>\r\n       <use x=\"95.410156\" xlink:href=\"#DejaVuSans-55\"/>\r\n      </g>\r\n     </g>\r\n    </g>\r\n    <g id=\"ytick_5\">\r\n     <g id=\"line2d_13\">\r\n      <g>\r\n       <use style=\"stroke:#000000;stroke-width:0.8;\" x=\"43.78125\" xlink:href=\"#mf40a395556\" y=\"91.645102\"/>\r\n      </g>\r\n     </g>\r\n     <g id=\"text_14\">\r\n      <!-- 0.8 -->\r\n      <defs>\r\n       <path d=\"M 31.78125 34.625 \r\nQ 24.75 34.625 20.71875 30.859375 \r\nQ 16.703125 27.09375 16.703125 20.515625 \r\nQ 16.703125 13.921875 20.71875 10.15625 \r\nQ 24.75 6.390625 31.78125 6.390625 \r\nQ 38.8125 6.390625 42.859375 10.171875 \r\nQ 46.921875 13.96875 46.921875 20.515625 \r\nQ 46.921875 27.09375 42.890625 30.859375 \r\nQ 38.875 34.625 31.78125 34.625 \r\nz\r\nM 21.921875 38.8125 \r\nQ 15.578125 40.375 12.03125 44.71875 \r\nQ 8.5 49.078125 8.5 55.328125 \r\nQ 8.5 64.0625 14.71875 69.140625 \r\nQ 20.953125 74.21875 31.78125 74.21875 \r\nQ 42.671875 74.21875 48.875 69.140625 \r\nQ 55.078125 64.0625 55.078125 55.328125 \r\nQ 55.078125 49.078125 51.53125 44.71875 \r\nQ 48 40.375 41.703125 38.8125 \r\nQ 48.828125 37.15625 52.796875 32.3125 \r\nQ 56.78125 27.484375 56.78125 20.515625 \r\nQ 56.78125 9.90625 50.3125 4.234375 \r\nQ 43.84375 -1.421875 31.78125 -1.421875 \r\nQ 19.734375 -1.421875 13.25 4.234375 \r\nQ 6.78125 9.90625 6.78125 20.515625 \r\nQ 6.78125 27.484375 10.78125 32.3125 \r\nQ 14.796875 37.15625 21.921875 38.8125 \r\nz\r\nM 18.3125 54.390625 \r\nQ 18.3125 48.734375 21.84375 45.5625 \r\nQ 25.390625 42.390625 31.78125 42.390625 \r\nQ 38.140625 42.390625 41.71875 45.5625 \r\nQ 45.3125 48.734375 45.3125 54.390625 \r\nQ 45.3125 60.0625 41.71875 63.234375 \r\nQ 38.140625 66.40625 31.78125 66.40625 \r\nQ 25.390625 66.40625 21.84375 63.234375 \r\nQ 18.3125 60.0625 18.3125 54.390625 \r\nz\r\n\" id=\"DejaVuSans-56\"/>\r\n      </defs>\r\n      <g transform=\"translate(20.878125 95.444321)scale(0.1 -0.1)\">\r\n       <use xlink:href=\"#DejaVuSans-48\"/>\r\n       <use x=\"63.623047\" xlink:href=\"#DejaVuSans-46\"/>\r\n       <use x=\"95.410156\" xlink:href=\"#DejaVuSans-56\"/>\r\n      </g>\r\n     </g>\r\n    </g>\r\n    <g id=\"ytick_6\">\r\n     <g id=\"line2d_14\">\r\n      <g>\r\n       <use style=\"stroke:#000000;stroke-width:0.8;\" x=\"43.78125\" xlink:href=\"#mf40a395556\" y=\"61.923432\"/>\r\n      </g>\r\n     </g>\r\n     <g id=\"text_15\">\r\n      <!-- 0.9 -->\r\n      <defs>\r\n       <path d=\"M 10.984375 1.515625 \r\nL 10.984375 10.5 \r\nQ 14.703125 8.734375 18.5 7.8125 \r\nQ 22.3125 6.890625 25.984375 6.890625 \r\nQ 35.75 6.890625 40.890625 13.453125 \r\nQ 46.046875 20.015625 46.78125 33.40625 \r\nQ 43.953125 29.203125 39.59375 26.953125 \r\nQ 35.25 24.703125 29.984375 24.703125 \r\nQ 19.046875 24.703125 12.671875 31.3125 \r\nQ 6.296875 37.9375 6.296875 49.421875 \r\nQ 6.296875 60.640625 12.9375 67.421875 \r\nQ 19.578125 74.21875 30.609375 74.21875 \r\nQ 43.265625 74.21875 49.921875 64.515625 \r\nQ 56.59375 54.828125 56.59375 36.375 \r\nQ 56.59375 19.140625 48.40625 8.859375 \r\nQ 40.234375 -1.421875 26.421875 -1.421875 \r\nQ 22.703125 -1.421875 18.890625 -0.6875 \r\nQ 15.09375 0.046875 10.984375 1.515625 \r\nz\r\nM 30.609375 32.421875 \r\nQ 37.25 32.421875 41.125 36.953125 \r\nQ 45.015625 41.5 45.015625 49.421875 \r\nQ 45.015625 57.28125 41.125 61.84375 \r\nQ 37.25 66.40625 30.609375 66.40625 \r\nQ 23.96875 66.40625 20.09375 61.84375 \r\nQ 16.21875 57.28125 16.21875 49.421875 \r\nQ 16.21875 41.5 20.09375 36.953125 \r\nQ 23.96875 32.421875 30.609375 32.421875 \r\nz\r\n\" id=\"DejaVuSans-57\"/>\r\n      </defs>\r\n      <g transform=\"translate(20.878125 65.72265)scale(0.1 -0.1)\">\r\n       <use xlink:href=\"#DejaVuSans-48\"/>\r\n       <use x=\"63.623047\" xlink:href=\"#DejaVuSans-46\"/>\r\n       <use x=\"95.410156\" xlink:href=\"#DejaVuSans-57\"/>\r\n      </g>\r\n     </g>\r\n    </g>\r\n    <g id=\"ytick_7\">\r\n     <g id=\"line2d_15\">\r\n      <g>\r\n       <use style=\"stroke:#000000;stroke-width:0.8;\" x=\"43.78125\" xlink:href=\"#mf40a395556\" y=\"32.201761\"/>\r\n      </g>\r\n     </g>\r\n     <g id=\"text_16\">\r\n      <!-- 1.0 -->\r\n      <g transform=\"translate(20.878125 36.00098)scale(0.1 -0.1)\">\r\n       <use xlink:href=\"#DejaVuSans-49\"/>\r\n       <use x=\"63.623047\" xlink:href=\"#DejaVuSans-46\"/>\r\n       <use x=\"95.410156\" xlink:href=\"#DejaVuSans-48\"/>\r\n      </g>\r\n     </g>\r\n    </g>\r\n    <g id=\"text_17\">\r\n     <!-- Accuracy -->\r\n     <defs>\r\n      <path d=\"M 34.1875 63.1875 \r\nL 20.796875 26.90625 \r\nL 47.609375 26.90625 \r\nz\r\nM 28.609375 72.90625 \r\nL 39.796875 72.90625 \r\nL 67.578125 0 \r\nL 57.328125 0 \r\nL 50.6875 18.703125 \r\nL 17.828125 18.703125 \r\nL 11.1875 0 \r\nL 0.78125 0 \r\nz\r\n\" id=\"DejaVuSans-65\"/>\r\n      <path d=\"M 48.78125 52.59375 \r\nL 48.78125 44.1875 \r\nQ 44.96875 46.296875 41.140625 47.34375 \r\nQ 37.3125 48.390625 33.40625 48.390625 \r\nQ 24.65625 48.390625 19.8125 42.84375 \r\nQ 14.984375 37.3125 14.984375 27.296875 \r\nQ 14.984375 17.28125 19.8125 11.734375 \r\nQ 24.65625 6.203125 33.40625 6.203125 \r\nQ 37.3125 6.203125 41.140625 7.25 \r\nQ 44.96875 8.296875 48.78125 10.40625 \r\nL 48.78125 2.09375 \r\nQ 45.015625 0.34375 40.984375 -0.53125 \r\nQ 36.96875 -1.421875 32.421875 -1.421875 \r\nQ 20.0625 -1.421875 12.78125 6.34375 \r\nQ 5.515625 14.109375 5.515625 27.296875 \r\nQ 5.515625 40.671875 12.859375 48.328125 \r\nQ 20.21875 56 33.015625 56 \r\nQ 37.15625 56 41.109375 55.140625 \r\nQ 45.0625 54.296875 48.78125 52.59375 \r\nz\r\n\" id=\"DejaVuSans-99\"/>\r\n      <path d=\"M 32.171875 -5.078125 \r\nQ 28.375 -14.84375 24.75 -17.8125 \r\nQ 21.140625 -20.796875 15.09375 -20.796875 \r\nL 7.90625 -20.796875 \r\nL 7.90625 -13.28125 \r\nL 13.1875 -13.28125 \r\nQ 16.890625 -13.28125 18.9375 -11.515625 \r\nQ 21 -9.765625 23.484375 -3.21875 \r\nL 25.09375 0.875 \r\nL 2.984375 54.6875 \r\nL 12.5 54.6875 \r\nL 29.59375 11.921875 \r\nL 46.6875 54.6875 \r\nL 56.203125 54.6875 \r\nz\r\n\" id=\"DejaVuSans-121\"/>\r\n     </defs>\r\n     <g transform=\"translate(14.798438 153.952969)rotate(-90)scale(0.1 -0.1)\">\r\n      <use xlink:href=\"#DejaVuSans-65\"/>\r\n      <use x=\"68.392578\" xlink:href=\"#DejaVuSans-99\"/>\r\n      <use x=\"123.373047\" xlink:href=\"#DejaVuSans-99\"/>\r\n      <use x=\"178.353516\" xlink:href=\"#DejaVuSans-117\"/>\r\n      <use x=\"241.732422\" xlink:href=\"#DejaVuSans-114\"/>\r\n      <use x=\"282.845703\" xlink:href=\"#DejaVuSans-97\"/>\r\n      <use x=\"344.125\" xlink:href=\"#DejaVuSans-99\"/>\r\n      <use x=\"399.105469\" xlink:href=\"#DejaVuSans-121\"/>\r\n     </g>\r\n    </g>\r\n   </g>\r\n   <g id=\"line2d_16\">\r\n    <path clip-path=\"url(#p53acbcb431)\" d=\"M 58.999432 229.874489 \r\nL 67.951303 188.186733 \r\nL 76.903175 162.37018 \r\nL 85.855047 138.796015 \r\nL 94.806918 120.062051 \r\nL 103.75879 106.239371 \r\nL 112.710662 93.857765 \r\nL 121.662533 82.930157 \r\nL 130.614405 74.955783 \r\nL 139.566277 68.739131 \r\nL 148.518148 62.884363 \r\nL 157.47002 57.695204 \r\nL 166.421892 53.714479 \r\nL 175.373763 50.031015 \r\nL 184.325635 47.2458 \r\nL 193.277507 44.686763 \r\nL 202.229378 42.728711 \r\nL 211.18125 40.777122 \r\nL 220.133122 39.239115 \r\nL 229.084993 37.765729 \r\nL 238.036865 36.848095 \r\nL 246.988737 35.846451 \r\nL 255.940608 35.14207 \r\nL 264.89248 34.431226 \r\nL 273.844352 33.875475 \r\nL 282.796223 33.390809 \r\nL 291.748095 33.158169 \r\nL 300.699967 32.828596 \r\nL 309.651838 32.615343 \r\nL 318.60371 32.466712 \r\nL 327.555582 32.324543 \r\nL 336.507453 32.298695 \r\nL 345.459325 32.214686 \r\nL 354.411197 32.201761 \r\nL 363.363068 32.201761 \r\n\" style=\"fill:none;stroke:#1f77b4;stroke-linecap:square;stroke-width:1.5;\"/>\r\n   </g>\r\n   <g id=\"patch_3\">\r\n    <path d=\"M 43.78125 239.758125 \r\nL 43.78125 22.318125 \r\n\" style=\"fill:none;stroke:#000000;stroke-linecap:square;stroke-linejoin:miter;stroke-width:0.8;\"/>\r\n   </g>\r\n   <g id=\"patch_4\">\r\n    <path d=\"M 378.58125 239.758125 \r\nL 378.58125 22.318125 \r\n\" style=\"fill:none;stroke:#000000;stroke-linecap:square;stroke-linejoin:miter;stroke-width:0.8;\"/>\r\n   </g>\r\n   <g id=\"patch_5\">\r\n    <path d=\"M 43.78125 239.758125 \r\nL 378.58125 239.758125 \r\n\" style=\"fill:none;stroke:#000000;stroke-linecap:square;stroke-linejoin:miter;stroke-width:0.8;\"/>\r\n   </g>\r\n   <g id=\"patch_6\">\r\n    <path d=\"M 43.78125 22.318125 \r\nL 378.58125 22.318125 \r\n\" style=\"fill:none;stroke:#000000;stroke-linecap:square;stroke-linejoin:miter;stroke-width:0.8;\"/>\r\n   </g>\r\n   <g id=\"text_18\">\r\n    <!-- Accuracy vs. Number of Latent Features -->\r\n    <defs>\r\n     <path d=\"M 2.984375 54.6875 \r\nL 12.5 54.6875 \r\nL 29.59375 8.796875 \r\nL 46.6875 54.6875 \r\nL 56.203125 54.6875 \r\nL 35.6875 0 \r\nL 23.484375 0 \r\nz\r\n\" id=\"DejaVuSans-118\"/>\r\n    </defs>\r\n    <g transform=\"translate(90.208125 16.318125)scale(0.12 -0.12)\">\r\n     <use xlink:href=\"#DejaVuSans-65\"/>\r\n     <use x=\"68.392578\" xlink:href=\"#DejaVuSans-99\"/>\r\n     <use x=\"123.373047\" xlink:href=\"#DejaVuSans-99\"/>\r\n     <use x=\"178.353516\" xlink:href=\"#DejaVuSans-117\"/>\r\n     <use x=\"241.732422\" xlink:href=\"#DejaVuSans-114\"/>\r\n     <use x=\"282.845703\" xlink:href=\"#DejaVuSans-97\"/>\r\n     <use x=\"344.125\" xlink:href=\"#DejaVuSans-99\"/>\r\n     <use x=\"399.105469\" xlink:href=\"#DejaVuSans-121\"/>\r\n     <use x=\"458.285156\" xlink:href=\"#DejaVuSans-32\"/>\r\n     <use x=\"490.072266\" xlink:href=\"#DejaVuSans-118\"/>\r\n     <use x=\"549.251953\" xlink:href=\"#DejaVuSans-115\"/>\r\n     <use x=\"601.351562\" xlink:href=\"#DejaVuSans-46\"/>\r\n     <use x=\"633.138672\" xlink:href=\"#DejaVuSans-32\"/>\r\n     <use x=\"664.925781\" xlink:href=\"#DejaVuSans-78\"/>\r\n     <use x=\"739.730469\" xlink:href=\"#DejaVuSans-117\"/>\r\n     <use x=\"803.109375\" xlink:href=\"#DejaVuSans-109\"/>\r\n     <use x=\"900.521484\" xlink:href=\"#DejaVuSans-98\"/>\r\n     <use x=\"963.998047\" xlink:href=\"#DejaVuSans-101\"/>\r\n     <use x=\"1025.521484\" xlink:href=\"#DejaVuSans-114\"/>\r\n     <use x=\"1066.634766\" xlink:href=\"#DejaVuSans-32\"/>\r\n     <use x=\"1098.421875\" xlink:href=\"#DejaVuSans-111\"/>\r\n     <use x=\"1159.603516\" xlink:href=\"#DejaVuSans-102\"/>\r\n     <use x=\"1194.808594\" xlink:href=\"#DejaVuSans-32\"/>\r\n     <use x=\"1226.595703\" xlink:href=\"#DejaVuSans-76\"/>\r\n     <use x=\"1282.308594\" xlink:href=\"#DejaVuSans-97\"/>\r\n     <use x=\"1343.587891\" xlink:href=\"#DejaVuSans-116\"/>\r\n     <use x=\"1382.796875\" xlink:href=\"#DejaVuSans-101\"/>\r\n     <use x=\"1444.320312\" xlink:href=\"#DejaVuSans-110\"/>\r\n     <use x=\"1507.699219\" xlink:href=\"#DejaVuSans-116\"/>\r\n     <use x=\"1546.908203\" xlink:href=\"#DejaVuSans-32\"/>\r\n     <use x=\"1578.695312\" xlink:href=\"#DejaVuSans-70\"/>\r\n     <use x=\"1636.136719\" xlink:href=\"#DejaVuSans-101\"/>\r\n     <use x=\"1697.660156\" xlink:href=\"#DejaVuSans-97\"/>\r\n     <use x=\"1758.939453\" xlink:href=\"#DejaVuSans-116\"/>\r\n     <use x=\"1798.148438\" xlink:href=\"#DejaVuSans-117\"/>\r\n     <use x=\"1861.527344\" xlink:href=\"#DejaVuSans-114\"/>\r\n     <use x=\"1902.609375\" xlink:href=\"#DejaVuSans-101\"/>\r\n     <use x=\"1964.132812\" xlink:href=\"#DejaVuSans-115\"/>\r\n    </g>\r\n   </g>\r\n  </g>\r\n </g>\r\n <defs>\r\n  <clipPath id=\"p53acbcb431\">\r\n   <rect height=\"217.44\" width=\"334.8\" x=\"43.78125\" y=\"22.318125\"/>\r\n  </clipPath>\r\n </defs>\r\n</svg>\r\n",
      "text/plain": "<Figure size 432x288 with 1 Axes>"
     },
     "metadata": {
      "needs_background": "light"
     },
     "output_type": "display_data"
    }
   ],
   "source": [
    "num_latent_feats = np.arange(10,700+10,20)\n",
    "sum_errs = []\n",
    "\n",
    "for k in num_latent_feats:\n",
    "    # restructure with k latent features\n",
    "    s_new, u_new, vt_new = np.diag(s[:k]), u[:, :k], vt[:k, :]\n",
    "    \n",
    "    # take dot product\n",
    "    user_item_est = np.around(np.dot(np.dot(u_new, s_new), vt_new))\n",
    "    \n",
    "    # compute error for each prediction to actual value\n",
    "    diffs = np.subtract(user_item_matrix, user_item_est)\n",
    "    \n",
    "    # total errors and keep track of them\n",
    "    err = np.sum(np.sum(np.abs(diffs)))\n",
    "    sum_errs.append(err)\n",
    "    \n",
    "    \n",
    "plt.plot(num_latent_feats, 1 - np.array(sum_errs)/df.shape[0]);\n",
    "plt.xlabel('Number of Latent Features');\n",
    "plt.ylabel('Accuracy');\n",
    "plt.title('Accuracy vs. Number of Latent Features');"
   ]
  },
  {
   "cell_type": "markdown",
   "metadata": {},
   "source": [
    "`4.` From the above, we can't really be sure how many features to use, because simply having a better way to predict the 1's and 0's of the matrix doesn't exactly give us an indication of if we are able to make good recommendations.  Instead, we might split our dataset into a training and test set of data, as shown in the cell below.  \n",
    "\n",
    "Use the code from question 3 to understand the impact on accuracy of the training and test sets of data with different numbers of latent features. Using the split below: \n",
    "\n",
    "* How many users can we make predictions for in the test set?  \n",
    "* How many users are we not able to make predictions for because of the cold start problem?\n",
    "* How many articles can we make predictions for in the test set?  \n",
    "* How many articles are we not able to make predictions for because of the cold start problem?"
   ]
  },
  {
   "cell_type": "code",
   "execution_count": 83,
   "metadata": {},
   "outputs": [],
   "source": [
    "df_train = df.head(40000)\n",
    "df_test = df.tail(5993)\n",
    "\n",
    "def create_test_and_train_user_item(df_train, df_test):\n",
    "    '''\n",
    "    INPUT:\n",
    "    df_train - training dataframe\n",
    "    df_test - test dataframe\n",
    "    \n",
    "    OUTPUT:\n",
    "    user_item_train - a user-item matrix of the training dataframe \n",
    "                      (unique users for each row and unique articles for each column)\n",
    "    user_item_test - a user-item matrix of the testing dataframe \n",
    "                    (unique users for each row and unique articles for each column)\n",
    "    test_idx - all of the test user ids\n",
    "    test_arts - all of the test article ids\n",
    "    \n",
    "    '''\n",
    "    user_item_train = create_user_item_matrix(df_train)\n",
    "    \n",
    "    user_item_test = create_user_item_matrix(df_test)\n",
    "\n",
    "    test_idx = user_item_test.index\n",
    "    test_arts = [str(c) for c in user_item_test.columns]\n",
    "    \n",
    "    return user_item_train, user_item_test, test_idx, test_arts\n",
    "\n",
    "user_item_train, user_item_test, test_idx, test_arts = create_test_and_train_user_item(df_train, df_test)"
   ]
  },
  {
   "cell_type": "code",
   "execution_count": 84,
   "metadata": {},
   "outputs": [
    {
     "name": "stdout",
     "output_type": "stream",
     "text": "Number of users in test frame that are in train frame is 20\n"
    }
   ],
   "source": [
    "# in order to predict for users in the test set, they must be present in the training set\n",
    "# determine how many users are in the test set that we have training data on\n",
    "n = sum(user in list(user_item_train.index) for user in test_idx)\n",
    "print(f'Number of users in test frame that are in train frame is {n}')"
   ]
  },
  {
   "cell_type": "code",
   "execution_count": 85,
   "metadata": {},
   "outputs": [
    {
     "name": "stdout",
     "output_type": "stream",
     "text": "Number of users we cannot make a prediction on: 662\n"
    }
   ],
   "source": [
    "# number of users we can't make a prediction on\n",
    "print(f'Number of users we cannot make a prediction on: {len(test_idx) - n}')"
   ]
  },
  {
   "cell_type": "code",
   "execution_count": 86,
   "metadata": {},
   "outputs": [
    {
     "name": "stdout",
     "output_type": "stream",
     "text": "Number of articles in test frame that are in train frame is 574\n"
    }
   ],
   "source": [
    "# similarly, in order to make prediction for an article in test, it must be present in the train frame\n",
    "num_art = sum(art in df_train.article_id for art in df_test.article_id.unique())\n",
    "print(f'Number of articles in test frame that are in train frame is {num_art}')"
   ]
  },
  {
   "cell_type": "code",
   "execution_count": 87,
   "metadata": {},
   "outputs": [
    {
     "name": "stdout",
     "output_type": "stream",
     "text": "Number of articles that we cannot make a prediction on: 0\n"
    }
   ],
   "source": [
    "print(f'Number of articles that we cannot make a prediction on: {len(test_arts) - num_art}')"
   ]
  },
  {
   "cell_type": "code",
   "execution_count": 88,
   "metadata": {},
   "outputs": [
    {
     "name": "stdout",
     "output_type": "stream",
     "text": "Awesome job!  That's right!  All of the test movies are in the training data, but there are only 20 test users that were also in the training set.  All of the other users that are in the test set we have no data on.  Therefore, we cannot make predictions for these users using SVD.\n"
    }
   ],
   "source": [
    "# Replace the values in the dictionary below\n",
    "a = 662 \n",
    "b = 574 \n",
    "c = 20 \n",
    "d = 0 \n",
    "\n",
    "\n",
    "sol_4_dict = {\n",
    "    'How many users can we make predictions for in the test set?': c, \n",
    "    'How many users in the test set are we not able to make predictions for because of the cold start problem?': a, \n",
    "    'How many movies can we make predictions for in the test set?': b,\n",
    "    'How many movies in the test set are we not able to make predictions for because of the cold start problem?': d\n",
    "}\n",
    "\n",
    "t.sol_4_test(sol_4_dict)"
   ]
  },
  {
   "cell_type": "markdown",
   "metadata": {},
   "source": [
    "`5.` Now use the **user_item_train** dataset from above to find U, S, and V transpose using SVD. Then find the subset of rows in the **user_item_test** dataset that you can predict using this matrix decomposition with different numbers of latent features to see how many features makes sense to keep based on the accuracy on the test data. This will require combining what was done in questions `2` - `4`.\n",
    "\n",
    "Use the cells below to explore how well SVD works towards making predictions for recommendations on the test data.  "
   ]
  },
  {
   "cell_type": "code",
   "execution_count": 89,
   "metadata": {},
   "outputs": [],
   "source": [
    "# fit SVD on the user_item_train matrix\n",
    "# make sure the columns and index are sorted ascending\n",
    "u_train, s_train, vt_train = np.linalg.svd(user_item_train.sort_index(0).sort_index(1))"
   ]
  },
  {
   "cell_type": "code",
   "execution_count": 90,
   "metadata": {},
   "outputs": [
    {
     "data": {
      "text/plain": "((4487, 4487), (714,), (714, 714))"
     },
     "execution_count": 90,
     "metadata": {},
     "output_type": "execute_result"
    }
   ],
   "source": [
    "u_train.shape, s_train.shape, vt_train.shape"
   ]
  },
  {
   "cell_type": "code",
   "execution_count": 91,
   "metadata": {},
   "outputs": [],
   "source": [
    "def factorized_matrix_recomposition(u, s, vt, compare_matrix, k=10):\n",
    "    \"\"\" Compute the recomposed matrix from the u, s, and vt values of a decomposed matrix, \n",
    "    with k latent features.\n",
    "    \n",
    "    Args:\n",
    "        u (matrix): Matrix representing row-latentfeature relationship\n",
    "        s (arr): Vector representing latent features.\n",
    "        vt (matrix): Matrix representing latentfeature-col relationship.\n",
    "        compare_matrix (matrix): matrix to compare recomposed matrix to\n",
    "        k (int): the number of latent features to keep when recomposing matrix.\n",
    "            \n",
    "    Returns:\n",
    "        recomposed (matrix): recomposed matrix\n",
    "        err (float): error as calculated by taking the sum of the absolute difference between\n",
    "            the compare matrix and the recomposed matrix\n",
    "   \"\"\"\n",
    "    # restructure with k latent features\n",
    "    s_new, u_new, vt_new = np.diag(s[:k]), u[:, :k], vt[:k, :]\n",
    "    \n",
    "    #print(u_new.shape, s_new.shape, vt_new.shape)\n",
    "    \n",
    "    # take dot product\n",
    "    recomposed = np.around(np.dot(np.dot(u_new, s_new), vt_new))\n",
    "    \n",
    "    # compute error for each prediction to actual value\n",
    "    diffs = np.subtract(compare_matrix, recomposed)\n",
    "    \n",
    "    # sum of absolute differences\n",
    "    err = np.sum((np.abs(diffs.values)))\n",
    "   \n",
    "    return recomposed, err"
   ]
  },
  {
   "cell_type": "code",
   "execution_count": 92,
   "metadata": {},
   "outputs": [
    {
     "data": {
      "text/html": "<div>\n<style scoped>\n    .dataframe tbody tr th:only-of-type {\n        vertical-align: middle;\n    }\n\n    .dataframe tbody tr th {\n        vertical-align: top;\n    }\n\n    .dataframe thead th {\n        text-align: right;\n    }\n</style>\n<table border=\"1\" class=\"dataframe\">\n  <thead>\n    <tr style=\"text-align: right;\">\n      <th>article_id</th>\n      <th>0.0</th>\n      <th>2.0</th>\n      <th>4.0</th>\n      <th>8.0</th>\n      <th>9.0</th>\n      <th>12.0</th>\n      <th>14.0</th>\n      <th>15.0</th>\n      <th>16.0</th>\n      <th>18.0</th>\n      <th>...</th>\n      <th>1434.0</th>\n      <th>1435.0</th>\n      <th>1436.0</th>\n      <th>1437.0</th>\n      <th>1439.0</th>\n      <th>1440.0</th>\n      <th>1441.0</th>\n      <th>1442.0</th>\n      <th>1443.0</th>\n      <th>1444.0</th>\n    </tr>\n    <tr>\n      <th>user_id</th>\n      <th></th>\n      <th></th>\n      <th></th>\n      <th></th>\n      <th></th>\n      <th></th>\n      <th></th>\n      <th></th>\n      <th></th>\n      <th></th>\n      <th></th>\n      <th></th>\n      <th></th>\n      <th></th>\n      <th></th>\n      <th></th>\n      <th></th>\n      <th></th>\n      <th></th>\n      <th></th>\n      <th></th>\n    </tr>\n  </thead>\n  <tbody>\n    <tr>\n      <th>2917</th>\n      <td>0.0</td>\n      <td>0.0</td>\n      <td>0.0</td>\n      <td>0.0</td>\n      <td>0.0</td>\n      <td>0.0</td>\n      <td>0.0</td>\n      <td>0.0</td>\n      <td>0.0</td>\n      <td>0.0</td>\n      <td>...</td>\n      <td>0.0</td>\n      <td>0.0</td>\n      <td>0.0</td>\n      <td>0.0</td>\n      <td>0.0</td>\n      <td>0.0</td>\n      <td>0.0</td>\n      <td>0.0</td>\n      <td>0.0</td>\n      <td>0.0</td>\n    </tr>\n    <tr>\n      <th>3024</th>\n      <td>0.0</td>\n      <td>0.0</td>\n      <td>0.0</td>\n      <td>0.0</td>\n      <td>0.0</td>\n      <td>0.0</td>\n      <td>0.0</td>\n      <td>0.0</td>\n      <td>0.0</td>\n      <td>0.0</td>\n      <td>...</td>\n      <td>0.0</td>\n      <td>0.0</td>\n      <td>1.0</td>\n      <td>0.0</td>\n      <td>0.0</td>\n      <td>0.0</td>\n      <td>0.0</td>\n      <td>0.0</td>\n      <td>0.0</td>\n      <td>0.0</td>\n    </tr>\n    <tr>\n      <th>3093</th>\n      <td>0.0</td>\n      <td>0.0</td>\n      <td>0.0</td>\n      <td>0.0</td>\n      <td>0.0</td>\n      <td>0.0</td>\n      <td>0.0</td>\n      <td>0.0</td>\n      <td>0.0</td>\n      <td>0.0</td>\n      <td>...</td>\n      <td>0.0</td>\n      <td>0.0</td>\n      <td>0.0</td>\n      <td>0.0</td>\n      <td>0.0</td>\n      <td>0.0</td>\n      <td>0.0</td>\n      <td>0.0</td>\n      <td>0.0</td>\n      <td>0.0</td>\n    </tr>\n    <tr>\n      <th>3193</th>\n      <td>0.0</td>\n      <td>0.0</td>\n      <td>0.0</td>\n      <td>0.0</td>\n      <td>0.0</td>\n      <td>0.0</td>\n      <td>0.0</td>\n      <td>0.0</td>\n      <td>0.0</td>\n      <td>0.0</td>\n      <td>...</td>\n      <td>0.0</td>\n      <td>0.0</td>\n      <td>0.0</td>\n      <td>0.0</td>\n      <td>0.0</td>\n      <td>0.0</td>\n      <td>0.0</td>\n      <td>0.0</td>\n      <td>0.0</td>\n      <td>0.0</td>\n    </tr>\n    <tr>\n      <th>3527</th>\n      <td>0.0</td>\n      <td>0.0</td>\n      <td>0.0</td>\n      <td>0.0</td>\n      <td>0.0</td>\n      <td>0.0</td>\n      <td>0.0</td>\n      <td>0.0</td>\n      <td>0.0</td>\n      <td>0.0</td>\n      <td>...</td>\n      <td>0.0</td>\n      <td>0.0</td>\n      <td>0.0</td>\n      <td>0.0</td>\n      <td>0.0</td>\n      <td>0.0</td>\n      <td>0.0</td>\n      <td>0.0</td>\n      <td>0.0</td>\n      <td>0.0</td>\n    </tr>\n    <tr>\n      <th>3532</th>\n      <td>0.0</td>\n      <td>0.0</td>\n      <td>0.0</td>\n      <td>1.0</td>\n      <td>0.0</td>\n      <td>0.0</td>\n      <td>0.0</td>\n      <td>0.0</td>\n      <td>0.0</td>\n      <td>0.0</td>\n      <td>...</td>\n      <td>0.0</td>\n      <td>0.0</td>\n      <td>1.0</td>\n      <td>0.0</td>\n      <td>0.0</td>\n      <td>0.0</td>\n      <td>0.0</td>\n      <td>0.0</td>\n      <td>0.0</td>\n      <td>0.0</td>\n    </tr>\n    <tr>\n      <th>3684</th>\n      <td>0.0</td>\n      <td>0.0</td>\n      <td>0.0</td>\n      <td>0.0</td>\n      <td>0.0</td>\n      <td>0.0</td>\n      <td>0.0</td>\n      <td>0.0</td>\n      <td>0.0</td>\n      <td>0.0</td>\n      <td>...</td>\n      <td>0.0</td>\n      <td>0.0</td>\n      <td>0.0</td>\n      <td>0.0</td>\n      <td>0.0</td>\n      <td>0.0</td>\n      <td>0.0</td>\n      <td>0.0</td>\n      <td>0.0</td>\n      <td>0.0</td>\n    </tr>\n    <tr>\n      <th>3740</th>\n      <td>0.0</td>\n      <td>0.0</td>\n      <td>0.0</td>\n      <td>0.0</td>\n      <td>0.0</td>\n      <td>0.0</td>\n      <td>0.0</td>\n      <td>0.0</td>\n      <td>1.0</td>\n      <td>0.0</td>\n      <td>...</td>\n      <td>0.0</td>\n      <td>0.0</td>\n      <td>1.0</td>\n      <td>0.0</td>\n      <td>0.0</td>\n      <td>0.0</td>\n      <td>0.0</td>\n      <td>0.0</td>\n      <td>0.0</td>\n      <td>0.0</td>\n    </tr>\n    <tr>\n      <th>3777</th>\n      <td>0.0</td>\n      <td>0.0</td>\n      <td>0.0</td>\n      <td>0.0</td>\n      <td>0.0</td>\n      <td>0.0</td>\n      <td>0.0</td>\n      <td>0.0</td>\n      <td>0.0</td>\n      <td>0.0</td>\n      <td>...</td>\n      <td>0.0</td>\n      <td>0.0</td>\n      <td>0.0</td>\n      <td>0.0</td>\n      <td>0.0</td>\n      <td>0.0</td>\n      <td>0.0</td>\n      <td>0.0</td>\n      <td>0.0</td>\n      <td>0.0</td>\n    </tr>\n    <tr>\n      <th>3801</th>\n      <td>0.0</td>\n      <td>0.0</td>\n      <td>0.0</td>\n      <td>0.0</td>\n      <td>0.0</td>\n      <td>1.0</td>\n      <td>0.0</td>\n      <td>0.0</td>\n      <td>0.0</td>\n      <td>0.0</td>\n      <td>...</td>\n      <td>0.0</td>\n      <td>0.0</td>\n      <td>1.0</td>\n      <td>0.0</td>\n      <td>0.0</td>\n      <td>0.0</td>\n      <td>0.0</td>\n      <td>0.0</td>\n      <td>0.0</td>\n      <td>0.0</td>\n    </tr>\n    <tr>\n      <th>3968</th>\n      <td>0.0</td>\n      <td>0.0</td>\n      <td>0.0</td>\n      <td>0.0</td>\n      <td>0.0</td>\n      <td>0.0</td>\n      <td>0.0</td>\n      <td>1.0</td>\n      <td>0.0</td>\n      <td>0.0</td>\n      <td>...</td>\n      <td>0.0</td>\n      <td>0.0</td>\n      <td>0.0</td>\n      <td>0.0</td>\n      <td>0.0</td>\n      <td>0.0</td>\n      <td>0.0</td>\n      <td>0.0</td>\n      <td>0.0</td>\n      <td>0.0</td>\n    </tr>\n    <tr>\n      <th>3989</th>\n      <td>0.0</td>\n      <td>0.0</td>\n      <td>0.0</td>\n      <td>0.0</td>\n      <td>0.0</td>\n      <td>0.0</td>\n      <td>0.0</td>\n      <td>0.0</td>\n      <td>0.0</td>\n      <td>0.0</td>\n      <td>...</td>\n      <td>0.0</td>\n      <td>0.0</td>\n      <td>0.0</td>\n      <td>0.0</td>\n      <td>0.0</td>\n      <td>0.0</td>\n      <td>0.0</td>\n      <td>0.0</td>\n      <td>0.0</td>\n      <td>0.0</td>\n    </tr>\n    <tr>\n      <th>3990</th>\n      <td>0.0</td>\n      <td>0.0</td>\n      <td>0.0</td>\n      <td>0.0</td>\n      <td>0.0</td>\n      <td>0.0</td>\n      <td>0.0</td>\n      <td>0.0</td>\n      <td>0.0</td>\n      <td>0.0</td>\n      <td>...</td>\n      <td>0.0</td>\n      <td>0.0</td>\n      <td>0.0</td>\n      <td>0.0</td>\n      <td>0.0</td>\n      <td>0.0</td>\n      <td>0.0</td>\n      <td>0.0</td>\n      <td>0.0</td>\n      <td>0.0</td>\n    </tr>\n    <tr>\n      <th>3998</th>\n      <td>0.0</td>\n      <td>0.0</td>\n      <td>0.0</td>\n      <td>0.0</td>\n      <td>0.0</td>\n      <td>0.0</td>\n      <td>0.0</td>\n      <td>0.0</td>\n      <td>0.0</td>\n      <td>0.0</td>\n      <td>...</td>\n      <td>0.0</td>\n      <td>0.0</td>\n      <td>0.0</td>\n      <td>0.0</td>\n      <td>0.0</td>\n      <td>0.0</td>\n      <td>0.0</td>\n      <td>0.0</td>\n      <td>0.0</td>\n      <td>0.0</td>\n    </tr>\n    <tr>\n      <th>4002</th>\n      <td>0.0</td>\n      <td>0.0</td>\n      <td>0.0</td>\n      <td>0.0</td>\n      <td>0.0</td>\n      <td>0.0</td>\n      <td>0.0</td>\n      <td>0.0</td>\n      <td>0.0</td>\n      <td>0.0</td>\n      <td>...</td>\n      <td>0.0</td>\n      <td>0.0</td>\n      <td>0.0</td>\n      <td>0.0</td>\n      <td>0.0</td>\n      <td>0.0</td>\n      <td>0.0</td>\n      <td>0.0</td>\n      <td>0.0</td>\n      <td>0.0</td>\n    </tr>\n    <tr>\n      <th>4204</th>\n      <td>0.0</td>\n      <td>0.0</td>\n      <td>0.0</td>\n      <td>0.0</td>\n      <td>0.0</td>\n      <td>0.0</td>\n      <td>0.0</td>\n      <td>0.0</td>\n      <td>0.0</td>\n      <td>0.0</td>\n      <td>...</td>\n      <td>0.0</td>\n      <td>0.0</td>\n      <td>1.0</td>\n      <td>0.0</td>\n      <td>0.0</td>\n      <td>0.0</td>\n      <td>0.0</td>\n      <td>0.0</td>\n      <td>0.0</td>\n      <td>0.0</td>\n    </tr>\n    <tr>\n      <th>4231</th>\n      <td>0.0</td>\n      <td>0.0</td>\n      <td>1.0</td>\n      <td>0.0</td>\n      <td>0.0</td>\n      <td>0.0</td>\n      <td>0.0</td>\n      <td>0.0</td>\n      <td>0.0</td>\n      <td>0.0</td>\n      <td>...</td>\n      <td>0.0</td>\n      <td>0.0</td>\n      <td>0.0</td>\n      <td>0.0</td>\n      <td>0.0</td>\n      <td>0.0</td>\n      <td>0.0</td>\n      <td>0.0</td>\n      <td>0.0</td>\n      <td>0.0</td>\n    </tr>\n    <tr>\n      <th>4274</th>\n      <td>0.0</td>\n      <td>0.0</td>\n      <td>0.0</td>\n      <td>0.0</td>\n      <td>0.0</td>\n      <td>0.0</td>\n      <td>0.0</td>\n      <td>0.0</td>\n      <td>0.0</td>\n      <td>0.0</td>\n      <td>...</td>\n      <td>0.0</td>\n      <td>0.0</td>\n      <td>0.0</td>\n      <td>0.0</td>\n      <td>0.0</td>\n      <td>0.0</td>\n      <td>0.0</td>\n      <td>0.0</td>\n      <td>0.0</td>\n      <td>0.0</td>\n    </tr>\n    <tr>\n      <th>4293</th>\n      <td>0.0</td>\n      <td>0.0</td>\n      <td>0.0</td>\n      <td>0.0</td>\n      <td>0.0</td>\n      <td>0.0</td>\n      <td>0.0</td>\n      <td>0.0</td>\n      <td>0.0</td>\n      <td>0.0</td>\n      <td>...</td>\n      <td>0.0</td>\n      <td>0.0</td>\n      <td>1.0</td>\n      <td>0.0</td>\n      <td>0.0</td>\n      <td>0.0</td>\n      <td>0.0</td>\n      <td>0.0</td>\n      <td>0.0</td>\n      <td>0.0</td>\n    </tr>\n    <tr>\n      <th>4487</th>\n      <td>0.0</td>\n      <td>0.0</td>\n      <td>0.0</td>\n      <td>1.0</td>\n      <td>0.0</td>\n      <td>0.0</td>\n      <td>0.0</td>\n      <td>0.0</td>\n      <td>0.0</td>\n      <td>0.0</td>\n      <td>...</td>\n      <td>0.0</td>\n      <td>0.0</td>\n      <td>0.0</td>\n      <td>0.0</td>\n      <td>0.0</td>\n      <td>0.0</td>\n      <td>0.0</td>\n      <td>0.0</td>\n      <td>0.0</td>\n      <td>0.0</td>\n    </tr>\n  </tbody>\n</table>\n<p>20 rows × 714 columns</p>\n</div>",
      "text/plain": "article_id  0.0     2.0     4.0     8.0     9.0     12.0    14.0    15.0    \\\nuser_id                                                                      \n2917           0.0     0.0     0.0     0.0     0.0     0.0     0.0     0.0   \n3024           0.0     0.0     0.0     0.0     0.0     0.0     0.0     0.0   \n3093           0.0     0.0     0.0     0.0     0.0     0.0     0.0     0.0   \n3193           0.0     0.0     0.0     0.0     0.0     0.0     0.0     0.0   \n3527           0.0     0.0     0.0     0.0     0.0     0.0     0.0     0.0   \n3532           0.0     0.0     0.0     1.0     0.0     0.0     0.0     0.0   \n3684           0.0     0.0     0.0     0.0     0.0     0.0     0.0     0.0   \n3740           0.0     0.0     0.0     0.0     0.0     0.0     0.0     0.0   \n3777           0.0     0.0     0.0     0.0     0.0     0.0     0.0     0.0   \n3801           0.0     0.0     0.0     0.0     0.0     1.0     0.0     0.0   \n3968           0.0     0.0     0.0     0.0     0.0     0.0     0.0     1.0   \n3989           0.0     0.0     0.0     0.0     0.0     0.0     0.0     0.0   \n3990           0.0     0.0     0.0     0.0     0.0     0.0     0.0     0.0   \n3998           0.0     0.0     0.0     0.0     0.0     0.0     0.0     0.0   \n4002           0.0     0.0     0.0     0.0     0.0     0.0     0.0     0.0   \n4204           0.0     0.0     0.0     0.0     0.0     0.0     0.0     0.0   \n4231           0.0     0.0     1.0     0.0     0.0     0.0     0.0     0.0   \n4274           0.0     0.0     0.0     0.0     0.0     0.0     0.0     0.0   \n4293           0.0     0.0     0.0     0.0     0.0     0.0     0.0     0.0   \n4487           0.0     0.0     0.0     1.0     0.0     0.0     0.0     0.0   \n\narticle_id  16.0    18.0     ...    1434.0  1435.0  1436.0  1437.0  1439.0  \\\nuser_id                      ...                                             \n2917           0.0     0.0   ...       0.0     0.0     0.0     0.0     0.0   \n3024           0.0     0.0   ...       0.0     0.0     1.0     0.0     0.0   \n3093           0.0     0.0   ...       0.0     0.0     0.0     0.0     0.0   \n3193           0.0     0.0   ...       0.0     0.0     0.0     0.0     0.0   \n3527           0.0     0.0   ...       0.0     0.0     0.0     0.0     0.0   \n3532           0.0     0.0   ...       0.0     0.0     1.0     0.0     0.0   \n3684           0.0     0.0   ...       0.0     0.0     0.0     0.0     0.0   \n3740           1.0     0.0   ...       0.0     0.0     1.0     0.0     0.0   \n3777           0.0     0.0   ...       0.0     0.0     0.0     0.0     0.0   \n3801           0.0     0.0   ...       0.0     0.0     1.0     0.0     0.0   \n3968           0.0     0.0   ...       0.0     0.0     0.0     0.0     0.0   \n3989           0.0     0.0   ...       0.0     0.0     0.0     0.0     0.0   \n3990           0.0     0.0   ...       0.0     0.0     0.0     0.0     0.0   \n3998           0.0     0.0   ...       0.0     0.0     0.0     0.0     0.0   \n4002           0.0     0.0   ...       0.0     0.0     0.0     0.0     0.0   \n4204           0.0     0.0   ...       0.0     0.0     1.0     0.0     0.0   \n4231           0.0     0.0   ...       0.0     0.0     0.0     0.0     0.0   \n4274           0.0     0.0   ...       0.0     0.0     0.0     0.0     0.0   \n4293           0.0     0.0   ...       0.0     0.0     1.0     0.0     0.0   \n4487           0.0     0.0   ...       0.0     0.0     0.0     0.0     0.0   \n\narticle_id  1440.0  1441.0  1442.0  1443.0  1444.0  \nuser_id                                             \n2917           0.0     0.0     0.0     0.0     0.0  \n3024           0.0     0.0     0.0     0.0     0.0  \n3093           0.0     0.0     0.0     0.0     0.0  \n3193           0.0     0.0     0.0     0.0     0.0  \n3527           0.0     0.0     0.0     0.0     0.0  \n3532           0.0     0.0     0.0     0.0     0.0  \n3684           0.0     0.0     0.0     0.0     0.0  \n3740           0.0     0.0     0.0     0.0     0.0  \n3777           0.0     0.0     0.0     0.0     0.0  \n3801           0.0     0.0     0.0     0.0     0.0  \n3968           0.0     0.0     0.0     0.0     0.0  \n3989           0.0     0.0     0.0     0.0     0.0  \n3990           0.0     0.0     0.0     0.0     0.0  \n3998           0.0     0.0     0.0     0.0     0.0  \n4002           0.0     0.0     0.0     0.0     0.0  \n4204           0.0     0.0     0.0     0.0     0.0  \n4231           0.0     0.0     0.0     0.0     0.0  \n4274           0.0     0.0     0.0     0.0     0.0  \n4293           0.0     0.0     0.0     0.0     0.0  \n4487           0.0     0.0     0.0     0.0     0.0  \n\n[20 rows x 714 columns]"
     },
     "execution_count": 92,
     "metadata": {},
     "output_type": "execute_result"
    }
   ],
   "source": [
    "# find the users that are present in both the test and train dataframes\n",
    "train_in_test = user_item_train.index.isin(test_idx)\n",
    "user_item_train[train_in_test]"
   ]
  },
  {
   "cell_type": "code",
   "execution_count": 93,
   "metadata": {},
   "outputs": [
    {
     "data": {
      "text/plain": "(20, 4487)"
     },
     "execution_count": 93,
     "metadata": {},
     "output_type": "execute_result"
    }
   ],
   "source": [
    "# we can index the u_train matrix in the same way\n",
    "u_train[train_in_test].shape"
   ]
  },
  {
   "cell_type": "code",
   "execution_count": 94,
   "metadata": {},
   "outputs": [],
   "source": [
    "# test it out with 10 latent features - recompose the user_item_train matrix\n",
    "recomposed, err = factorized_matrix_recomposition(\n",
    "    u_train[train_in_test], \n",
    "    s_train, \n",
    "    vt_train, \n",
    "    user_item_train[train_in_test].sort_index(), \n",
    "    k=500)"
   ]
  },
  {
   "cell_type": "code",
   "execution_count": 95,
   "metadata": {},
   "outputs": [
    {
     "data": {
      "text/plain": "2.0"
     },
     "execution_count": 95,
     "metadata": {},
     "output_type": "execute_result"
    }
   ],
   "source": [
    "# what was our total error?\n",
    "err"
   ]
  },
  {
   "cell_type": "code",
   "execution_count": 96,
   "metadata": {},
   "outputs": [
    {
     "data": {
      "text/plain": "True"
     },
     "execution_count": 96,
     "metadata": {},
     "output_type": "execute_result"
    }
   ],
   "source": [
    "# check if the shape of our recomposition is correct\n",
    "recomposed.shape == user_item_train[train_in_test].shape"
   ]
  },
  {
   "cell_type": "code",
   "execution_count": 97,
   "metadata": {},
   "outputs": [
    {
     "data": {
      "text/plain": "0.999859943977591"
     },
     "execution_count": 97,
     "metadata": {},
     "output_type": "execute_result"
    }
   ],
   "source": [
    "# how accurate were we on recomposing our original matrix? Avg of T\n",
    "(recomposed == user_item_train[train_in_test].values).mean()"
   ]
  },
  {
   "cell_type": "code",
   "execution_count": 98,
   "metadata": {},
   "outputs": [
    {
     "data": {
      "text/plain": "0.999859943977591"
     },
     "execution_count": 98,
     "metadata": {},
     "output_type": "execute_result"
    }
   ],
   "source": [
    "# another way to check accuracy - total number of errors over total size of matrix\n",
    "1 - (err / recomposed.size)"
   ]
  },
  {
   "cell_type": "code",
   "execution_count": 99,
   "metadata": {},
   "outputs": [
    {
     "data": {
      "text/plain": "254.0"
     },
     "execution_count": 99,
     "metadata": {},
     "output_type": "execute_result"
    }
   ],
   "source": [
    "recomposed.sum()"
   ]
  },
  {
   "cell_type": "code",
   "execution_count": 100,
   "metadata": {},
   "outputs": [
    {
     "data": {
      "text/plain": "256.0"
     },
     "execution_count": 100,
     "metadata": {},
     "output_type": "execute_result"
    }
   ],
   "source": [
    "user_item_train[train_in_test].values.sum()"
   ]
  },
  {
   "cell_type": "markdown",
   "metadata": {},
   "source": [
    "Ok, now we've successfully recomposed the training matrix filtered to only users also present in the test \n",
    "matrix. However, we have not compared these values to the test matrix values, which we will do now."
   ]
  },
  {
   "cell_type": "code",
   "execution_count": 101,
   "metadata": {},
   "outputs": [
    {
     "data": {
      "text/html": "<div>\n<style scoped>\n    .dataframe tbody tr th:only-of-type {\n        vertical-align: middle;\n    }\n\n    .dataframe tbody tr th {\n        vertical-align: top;\n    }\n\n    .dataframe thead th {\n        text-align: right;\n    }\n</style>\n<table border=\"1\" class=\"dataframe\">\n  <thead>\n    <tr style=\"text-align: right;\">\n      <th>article_id</th>\n      <th>0.0</th>\n      <th>2.0</th>\n      <th>4.0</th>\n      <th>8.0</th>\n      <th>9.0</th>\n      <th>12.0</th>\n      <th>14.0</th>\n      <th>15.0</th>\n      <th>16.0</th>\n      <th>18.0</th>\n      <th>...</th>\n      <th>1432.0</th>\n      <th>1433.0</th>\n      <th>1434.0</th>\n      <th>1435.0</th>\n      <th>1436.0</th>\n      <th>1437.0</th>\n      <th>1439.0</th>\n      <th>1440.0</th>\n      <th>1441.0</th>\n      <th>1443.0</th>\n    </tr>\n    <tr>\n      <th>user_id</th>\n      <th></th>\n      <th></th>\n      <th></th>\n      <th></th>\n      <th></th>\n      <th></th>\n      <th></th>\n      <th></th>\n      <th></th>\n      <th></th>\n      <th></th>\n      <th></th>\n      <th></th>\n      <th></th>\n      <th></th>\n      <th></th>\n      <th></th>\n      <th></th>\n      <th></th>\n      <th></th>\n      <th></th>\n    </tr>\n  </thead>\n  <tbody>\n    <tr>\n      <th>2917</th>\n      <td>0.0</td>\n      <td>0.0</td>\n      <td>0.0</td>\n      <td>0.0</td>\n      <td>0.0</td>\n      <td>0.0</td>\n      <td>0.0</td>\n      <td>0.0</td>\n      <td>0.0</td>\n      <td>0.0</td>\n      <td>...</td>\n      <td>0.0</td>\n      <td>0.0</td>\n      <td>0.0</td>\n      <td>0.0</td>\n      <td>0.0</td>\n      <td>0.0</td>\n      <td>0.0</td>\n      <td>0.0</td>\n      <td>0.0</td>\n      <td>0.0</td>\n    </tr>\n    <tr>\n      <th>3024</th>\n      <td>0.0</td>\n      <td>0.0</td>\n      <td>0.0</td>\n      <td>0.0</td>\n      <td>0.0</td>\n      <td>1.0</td>\n      <td>0.0</td>\n      <td>0.0</td>\n      <td>0.0</td>\n      <td>0.0</td>\n      <td>...</td>\n      <td>0.0</td>\n      <td>0.0</td>\n      <td>0.0</td>\n      <td>0.0</td>\n      <td>0.0</td>\n      <td>0.0</td>\n      <td>0.0</td>\n      <td>0.0</td>\n      <td>0.0</td>\n      <td>0.0</td>\n    </tr>\n    <tr>\n      <th>3093</th>\n      <td>0.0</td>\n      <td>0.0</td>\n      <td>0.0</td>\n      <td>0.0</td>\n      <td>0.0</td>\n      <td>0.0</td>\n      <td>0.0</td>\n      <td>0.0</td>\n      <td>0.0</td>\n      <td>0.0</td>\n      <td>...</td>\n      <td>0.0</td>\n      <td>0.0</td>\n      <td>0.0</td>\n      <td>0.0</td>\n      <td>1.0</td>\n      <td>0.0</td>\n      <td>0.0</td>\n      <td>0.0</td>\n      <td>0.0</td>\n      <td>0.0</td>\n    </tr>\n    <tr>\n      <th>3193</th>\n      <td>0.0</td>\n      <td>0.0</td>\n      <td>0.0</td>\n      <td>0.0</td>\n      <td>0.0</td>\n      <td>0.0</td>\n      <td>0.0</td>\n      <td>0.0</td>\n      <td>0.0</td>\n      <td>0.0</td>\n      <td>...</td>\n      <td>0.0</td>\n      <td>0.0</td>\n      <td>0.0</td>\n      <td>0.0</td>\n      <td>0.0</td>\n      <td>0.0</td>\n      <td>0.0</td>\n      <td>0.0</td>\n      <td>0.0</td>\n      <td>0.0</td>\n    </tr>\n    <tr>\n      <th>3527</th>\n      <td>0.0</td>\n      <td>0.0</td>\n      <td>0.0</td>\n      <td>0.0</td>\n      <td>0.0</td>\n      <td>0.0</td>\n      <td>0.0</td>\n      <td>0.0</td>\n      <td>0.0</td>\n      <td>0.0</td>\n      <td>...</td>\n      <td>0.0</td>\n      <td>0.0</td>\n      <td>0.0</td>\n      <td>0.0</td>\n      <td>0.0</td>\n      <td>0.0</td>\n      <td>0.0</td>\n      <td>0.0</td>\n      <td>0.0</td>\n      <td>0.0</td>\n    </tr>\n  </tbody>\n</table>\n<p>5 rows × 574 columns</p>\n</div>",
      "text/plain": "article_id  0.0     2.0     4.0     8.0     9.0     12.0    14.0    15.0    \\\nuser_id                                                                      \n2917           0.0     0.0     0.0     0.0     0.0     0.0     0.0     0.0   \n3024           0.0     0.0     0.0     0.0     0.0     1.0     0.0     0.0   \n3093           0.0     0.0     0.0     0.0     0.0     0.0     0.0     0.0   \n3193           0.0     0.0     0.0     0.0     0.0     0.0     0.0     0.0   \n3527           0.0     0.0     0.0     0.0     0.0     0.0     0.0     0.0   \n\narticle_id  16.0    18.0     ...    1432.0  1433.0  1434.0  1435.0  1436.0  \\\nuser_id                      ...                                             \n2917           0.0     0.0   ...       0.0     0.0     0.0     0.0     0.0   \n3024           0.0     0.0   ...       0.0     0.0     0.0     0.0     0.0   \n3093           0.0     0.0   ...       0.0     0.0     0.0     0.0     1.0   \n3193           0.0     0.0   ...       0.0     0.0     0.0     0.0     0.0   \n3527           0.0     0.0   ...       0.0     0.0     0.0     0.0     0.0   \n\narticle_id  1437.0  1439.0  1440.0  1441.0  1443.0  \nuser_id                                             \n2917           0.0     0.0     0.0     0.0     0.0  \n3024           0.0     0.0     0.0     0.0     0.0  \n3093           0.0     0.0     0.0     0.0     0.0  \n3193           0.0     0.0     0.0     0.0     0.0  \n3527           0.0     0.0     0.0     0.0     0.0  \n\n[5 rows x 574 columns]"
     },
     "execution_count": 101,
     "metadata": {},
     "output_type": "execute_result"
    }
   ],
   "source": [
    "# create a filter to only select test matrix where user_id is in train\n",
    "test_in_train = user_item_test.index.isin(user_item_train.index)\n",
    "user_item_test[test_in_train].head()"
   ]
  },
  {
   "cell_type": "code",
   "execution_count": 102,
   "metadata": {},
   "outputs": [],
   "source": [
    "# create a filter to only select vt_train where user_item_train columns are in user_item_test columns\n",
    "train_col_in_test = user_item_train.columns.isin(user_item_test.columns)"
   ]
  },
  {
   "cell_type": "code",
   "execution_count": 103,
   "metadata": {},
   "outputs": [],
   "source": [
    "# try to recompose test one time with 10 latent features - have to filter\n",
    "# the matrices appropriately to make sure the shapes are right\n",
    "test_recomposed, test_err = factorized_matrix_recomposition(\n",
    "    u_train[train_in_test], \n",
    "    s_train, \n",
    "    vt_train[:, train_col_in_test], \n",
    "    user_item_test[test_in_train],\n",
    "    k=10)"
   ]
  },
  {
   "cell_type": "code",
   "execution_count": 104,
   "metadata": {},
   "outputs": [
    {
     "name": "stdout",
     "output_type": "stream",
     "text": "For 10 latent features, sum of absolute error was 248.0\n"
    }
   ],
   "source": [
    "print(f'For 10 latent features, sum of absolute error was {test_err}')"
   ]
  },
  {
   "cell_type": "code",
   "execution_count": 105,
   "metadata": {},
   "outputs": [
    {
     "name": "stdout",
     "output_type": "stream",
     "text": "For 10 latent features, our accuracy was 0.978397212543554\n"
    }
   ],
   "source": [
    "print(f'For 10 latent features, our accuracy was {1 - test_err / test_recomposed.size}')"
   ]
  },
  {
   "cell_type": "code",
   "execution_count": 106,
   "metadata": {},
   "outputs": [
    {
     "data": {
      "text/plain": "0.978397212543554"
     },
     "execution_count": 106,
     "metadata": {},
     "output_type": "execute_result"
    }
   ],
   "source": [
    "(test_recomposed == user_item_test[test_in_train].values).mean()"
   ]
  },
  {
   "cell_type": "markdown",
   "metadata": {},
   "source": [
    "Our accuracy with 10 latent features is not bad! However, consider how large and sparse of a matrix we are working with. "
   ]
  },
  {
   "cell_type": "code",
   "execution_count": 107,
   "metadata": {},
   "outputs": [
    {
     "data": {
      "text/plain": "11480"
     },
     "execution_count": 107,
     "metadata": {},
     "output_type": "execute_result"
    }
   ],
   "source": [
    "# size of matrix\n",
    "test_recomposed.size"
   ]
  },
  {
   "cell_type": "code",
   "execution_count": 108,
   "metadata": {},
   "outputs": [
    {
     "data": {
      "text/plain": "50.0"
     },
     "execution_count": 108,
     "metadata": {},
     "output_type": "execute_result"
    }
   ],
   "source": [
    "# number of actual articles recommended (where value == 1)\n",
    "test_recomposed.sum()"
   ]
  },
  {
   "cell_type": "code",
   "execution_count": 109,
   "metadata": {},
   "outputs": [
    {
     "data": {
      "text/plain": "218.0"
     },
     "execution_count": 109,
     "metadata": {},
     "output_type": "execute_result"
    }
   ],
   "source": [
    "# number of actual article interactions in filtered test data\n",
    "user_item_test[test_in_train].values.sum()"
   ]
  },
  {
   "cell_type": "markdown",
   "metadata": {},
   "source": [
    "So, we can see that while our accuracy is very good, it is easy to achieve a high accuracy because the matrix is so large and sparse. In our original test matrix, we have only 218 / 11480, or 1.9%, cells where the value == 1. "
   ]
  },
  {
   "cell_type": "code",
   "execution_count": 110,
   "metadata": {},
   "outputs": [
    {
     "data": {
      "image/png": "[encoded data removed]",
      "image/svg+xml": "<?xml version=\"1.0\" encoding=\"utf-8\" standalone=\"no\"?>\r\n<!DOCTYPE svg PUBLIC \"-//W3C//DTD SVG 1.1//EN\"\r\n  \"http://www.w3.org/Graphics/SVG/1.1/DTD/svg11.dtd\">\r\n<!-- Created with matplotlib (https://matplotlib.org/) -->\r\n<svg height=\"494.754375pt\" version=\"1.1\" viewBox=\"0 0 733.30625 494.754375\" width=\"733.30625pt\" xmlns=\"http://www.w3.org/2000/svg\" xmlns:xlink=\"http://www.w3.org/1999/xlink\">\r\n <defs>\r\n  <style type=\"text/css\">\r\n*{stroke-linecap:butt;stroke-linejoin:round;}\r\n  </style>\r\n </defs>\r\n <g id=\"figure_1\">\r\n  <g id=\"patch_1\">\r\n   <path d=\"M 0 494.754375 \r\nL 733.30625 494.754375 \r\nL 733.30625 0 \r\nL 0 0 \r\nz\r\n\" style=\"fill:none;\"/>\r\n  </g>\r\n  <g id=\"axes_1\">\r\n   <g id=\"patch_2\">\r\n    <path d=\"M 56.50625 219.990852 \r\nL 726.10625 219.990852 \r\nL 726.10625 22.318125 \r\nL 56.50625 22.318125 \r\nz\r\n\" style=\"fill:#ffffff;\"/>\r\n   </g>\r\n   <g id=\"matplotlib.axis_1\">\r\n    <g id=\"xtick_1\">\r\n     <g id=\"line2d_1\">\r\n      <defs>\r\n       <path d=\"M 0 0 \r\nL 0 3.5 \r\n\" id=\"m80862fbbae\" style=\"stroke:#000000;stroke-width:0.8;\"/>\r\n      </defs>\r\n      <g>\r\n       <use style=\"stroke:#000000;stroke-width:0.8;\" x=\"77.990742\" xlink:href=\"#m80862fbbae\" y=\"219.990852\"/>\r\n      </g>\r\n     </g>\r\n    </g>\r\n    <g id=\"xtick_2\">\r\n     <g id=\"line2d_2\">\r\n      <g>\r\n       <use style=\"stroke:#000000;stroke-width:0.8;\" x=\"167.509459\" xlink:href=\"#m80862fbbae\" y=\"219.990852\"/>\r\n      </g>\r\n     </g>\r\n    </g>\r\n    <g id=\"xtick_3\">\r\n     <g id=\"line2d_3\">\r\n      <g>\r\n       <use style=\"stroke:#000000;stroke-width:0.8;\" x=\"257.028175\" xlink:href=\"#m80862fbbae\" y=\"219.990852\"/>\r\n      </g>\r\n     </g>\r\n    </g>\r\n    <g id=\"xtick_4\">\r\n     <g id=\"line2d_4\">\r\n      <g>\r\n       <use style=\"stroke:#000000;stroke-width:0.8;\" x=\"346.546892\" xlink:href=\"#m80862fbbae\" y=\"219.990852\"/>\r\n      </g>\r\n     </g>\r\n    </g>\r\n    <g id=\"xtick_5\">\r\n     <g id=\"line2d_5\">\r\n      <g>\r\n       <use style=\"stroke:#000000;stroke-width:0.8;\" x=\"436.065608\" xlink:href=\"#m80862fbbae\" y=\"219.990852\"/>\r\n      </g>\r\n     </g>\r\n    </g>\r\n    <g id=\"xtick_6\">\r\n     <g id=\"line2d_6\">\r\n      <g>\r\n       <use style=\"stroke:#000000;stroke-width:0.8;\" x=\"525.584325\" xlink:href=\"#m80862fbbae\" y=\"219.990852\"/>\r\n      </g>\r\n     </g>\r\n    </g>\r\n    <g id=\"xtick_7\">\r\n     <g id=\"line2d_7\">\r\n      <g>\r\n       <use style=\"stroke:#000000;stroke-width:0.8;\" x=\"615.103041\" xlink:href=\"#m80862fbbae\" y=\"219.990852\"/>\r\n      </g>\r\n     </g>\r\n    </g>\r\n    <g id=\"xtick_8\">\r\n     <g id=\"line2d_8\">\r\n      <g>\r\n       <use style=\"stroke:#000000;stroke-width:0.8;\" x=\"704.621758\" xlink:href=\"#m80862fbbae\" y=\"219.990852\"/>\r\n      </g>\r\n     </g>\r\n    </g>\r\n   </g>\r\n   <g id=\"matplotlib.axis_2\">\r\n    <g id=\"ytick_1\">\r\n     <g id=\"line2d_9\">\r\n      <defs>\r\n       <path d=\"M 0 0 \r\nL -3.5 0 \r\n\" id=\"m949a271793\" style=\"stroke:#000000;stroke-width:0.8;\"/>\r\n      </defs>\r\n      <g>\r\n       <use style=\"stroke:#000000;stroke-width:0.8;\" x=\"56.50625\" xlink:href=\"#m949a271793\" y=\"216.93591\"/>\r\n      </g>\r\n     </g>\r\n     <g id=\"text_1\">\r\n      <!-- 0.964 -->\r\n      <defs>\r\n       <path d=\"M 31.78125 66.40625 \r\nQ 24.171875 66.40625 20.328125 58.90625 \r\nQ 16.5 51.421875 16.5 36.375 \r\nQ 16.5 21.390625 20.328125 13.890625 \r\nQ 24.171875 6.390625 31.78125 6.390625 \r\nQ 39.453125 6.390625 43.28125 13.890625 \r\nQ 47.125 21.390625 47.125 36.375 \r\nQ 47.125 51.421875 43.28125 58.90625 \r\nQ 39.453125 66.40625 31.78125 66.40625 \r\nz\r\nM 31.78125 74.21875 \r\nQ 44.046875 74.21875 50.515625 64.515625 \r\nQ 56.984375 54.828125 56.984375 36.375 \r\nQ 56.984375 17.96875 50.515625 8.265625 \r\nQ 44.046875 -1.421875 31.78125 -1.421875 \r\nQ 19.53125 -1.421875 13.0625 8.265625 \r\nQ 6.59375 17.96875 6.59375 36.375 \r\nQ 6.59375 54.828125 13.0625 64.515625 \r\nQ 19.53125 74.21875 31.78125 74.21875 \r\nz\r\n\" id=\"DejaVuSans-48\"/>\r\n       <path d=\"M 10.6875 12.40625 \r\nL 21 12.40625 \r\nL 21 0 \r\nL 10.6875 0 \r\nz\r\n\" id=\"DejaVuSans-46\"/>\r\n       <path d=\"M 10.984375 1.515625 \r\nL 10.984375 10.5 \r\nQ 14.703125 8.734375 18.5 7.8125 \r\nQ 22.3125 6.890625 25.984375 6.890625 \r\nQ 35.75 6.890625 40.890625 13.453125 \r\nQ 46.046875 20.015625 46.78125 33.40625 \r\nQ 43.953125 29.203125 39.59375 26.953125 \r\nQ 35.25 24.703125 29.984375 24.703125 \r\nQ 19.046875 24.703125 12.671875 31.3125 \r\nQ 6.296875 37.9375 6.296875 49.421875 \r\nQ 6.296875 60.640625 12.9375 67.421875 \r\nQ 19.578125 74.21875 30.609375 74.21875 \r\nQ 43.265625 74.21875 49.921875 64.515625 \r\nQ 56.59375 54.828125 56.59375 36.375 \r\nQ 56.59375 19.140625 48.40625 8.859375 \r\nQ 40.234375 -1.421875 26.421875 -1.421875 \r\nQ 22.703125 -1.421875 18.890625 -0.6875 \r\nQ 15.09375 0.046875 10.984375 1.515625 \r\nz\r\nM 30.609375 32.421875 \r\nQ 37.25 32.421875 41.125 36.953125 \r\nQ 45.015625 41.5 45.015625 49.421875 \r\nQ 45.015625 57.28125 41.125 61.84375 \r\nQ 37.25 66.40625 30.609375 66.40625 \r\nQ 23.96875 66.40625 20.09375 61.84375 \r\nQ 16.21875 57.28125 16.21875 49.421875 \r\nQ 16.21875 41.5 20.09375 36.953125 \r\nQ 23.96875 32.421875 30.609375 32.421875 \r\nz\r\n\" id=\"DejaVuSans-57\"/>\r\n       <path d=\"M 33.015625 40.375 \r\nQ 26.375 40.375 22.484375 35.828125 \r\nQ 18.609375 31.296875 18.609375 23.390625 \r\nQ 18.609375 15.53125 22.484375 10.953125 \r\nQ 26.375 6.390625 33.015625 6.390625 \r\nQ 39.65625 6.390625 43.53125 10.953125 \r\nQ 47.40625 15.53125 47.40625 23.390625 \r\nQ 47.40625 31.296875 43.53125 35.828125 \r\nQ 39.65625 40.375 33.015625 40.375 \r\nz\r\nM 52.59375 71.296875 \r\nL 52.59375 62.3125 \r\nQ 48.875 64.0625 45.09375 64.984375 \r\nQ 41.3125 65.921875 37.59375 65.921875 \r\nQ 27.828125 65.921875 22.671875 59.328125 \r\nQ 17.53125 52.734375 16.796875 39.40625 \r\nQ 19.671875 43.65625 24.015625 45.921875 \r\nQ 28.375 48.1875 33.59375 48.1875 \r\nQ 44.578125 48.1875 50.953125 41.515625 \r\nQ 57.328125 34.859375 57.328125 23.390625 \r\nQ 57.328125 12.15625 50.6875 5.359375 \r\nQ 44.046875 -1.421875 33.015625 -1.421875 \r\nQ 20.359375 -1.421875 13.671875 8.265625 \r\nQ 6.984375 17.96875 6.984375 36.375 \r\nQ 6.984375 53.65625 15.1875 63.9375 \r\nQ 23.390625 74.21875 37.203125 74.21875 \r\nQ 40.921875 74.21875 44.703125 73.484375 \r\nQ 48.484375 72.75 52.59375 71.296875 \r\nz\r\n\" id=\"DejaVuSans-54\"/>\r\n       <path d=\"M 37.796875 64.3125 \r\nL 12.890625 25.390625 \r\nL 37.796875 25.390625 \r\nz\r\nM 35.203125 72.90625 \r\nL 47.609375 72.90625 \r\nL 47.609375 25.390625 \r\nL 58.015625 25.390625 \r\nL 58.015625 17.1875 \r\nL 47.609375 17.1875 \r\nL 47.609375 0 \r\nL 37.796875 0 \r\nL 37.796875 17.1875 \r\nL 4.890625 17.1875 \r\nL 4.890625 26.703125 \r\nz\r\n\" id=\"DejaVuSans-52\"/>\r\n      </defs>\r\n      <g transform=\"translate(20.878125 220.735129)scale(0.1 -0.1)\">\r\n       <use xlink:href=\"#DejaVuSans-48\"/>\r\n       <use x=\"63.623047\" xlink:href=\"#DejaVuSans-46\"/>\r\n       <use x=\"95.410156\" xlink:href=\"#DejaVuSans-57\"/>\r\n       <use x=\"159.033203\" xlink:href=\"#DejaVuSans-54\"/>\r\n       <use x=\"222.65625\" xlink:href=\"#DejaVuSans-52\"/>\r\n      </g>\r\n     </g>\r\n    </g>\r\n    <g id=\"ytick_2\">\r\n     <g id=\"line2d_10\">\r\n      <g>\r\n       <use style=\"stroke:#000000;stroke-width:0.8;\" x=\"56.50625\" xlink:href=\"#m949a271793\" y=\"191.148604\"/>\r\n      </g>\r\n     </g>\r\n     <g id=\"text_2\">\r\n      <!-- 0.966 -->\r\n      <g transform=\"translate(20.878125 194.947823)scale(0.1 -0.1)\">\r\n       <use xlink:href=\"#DejaVuSans-48\"/>\r\n       <use x=\"63.623047\" xlink:href=\"#DejaVuSans-46\"/>\r\n       <use x=\"95.410156\" xlink:href=\"#DejaVuSans-57\"/>\r\n       <use x=\"159.033203\" xlink:href=\"#DejaVuSans-54\"/>\r\n       <use x=\"222.65625\" xlink:href=\"#DejaVuSans-54\"/>\r\n      </g>\r\n     </g>\r\n    </g>\r\n    <g id=\"ytick_3\">\r\n     <g id=\"line2d_11\">\r\n      <g>\r\n       <use style=\"stroke:#000000;stroke-width:0.8;\" x=\"56.50625\" xlink:href=\"#m949a271793\" y=\"165.361299\"/>\r\n      </g>\r\n     </g>\r\n     <g id=\"text_3\">\r\n      <!-- 0.968 -->\r\n      <defs>\r\n       <path d=\"M 31.78125 34.625 \r\nQ 24.75 34.625 20.71875 30.859375 \r\nQ 16.703125 27.09375 16.703125 20.515625 \r\nQ 16.703125 13.921875 20.71875 10.15625 \r\nQ 24.75 6.390625 31.78125 6.390625 \r\nQ 38.8125 6.390625 42.859375 10.171875 \r\nQ 46.921875 13.96875 46.921875 20.515625 \r\nQ 46.921875 27.09375 42.890625 30.859375 \r\nQ 38.875 34.625 31.78125 34.625 \r\nz\r\nM 21.921875 38.8125 \r\nQ 15.578125 40.375 12.03125 44.71875 \r\nQ 8.5 49.078125 8.5 55.328125 \r\nQ 8.5 64.0625 14.71875 69.140625 \r\nQ 20.953125 74.21875 31.78125 74.21875 \r\nQ 42.671875 74.21875 48.875 69.140625 \r\nQ 55.078125 64.0625 55.078125 55.328125 \r\nQ 55.078125 49.078125 51.53125 44.71875 \r\nQ 48 40.375 41.703125 38.8125 \r\nQ 48.828125 37.15625 52.796875 32.3125 \r\nQ 56.78125 27.484375 56.78125 20.515625 \r\nQ 56.78125 9.90625 50.3125 4.234375 \r\nQ 43.84375 -1.421875 31.78125 -1.421875 \r\nQ 19.734375 -1.421875 13.25 4.234375 \r\nQ 6.78125 9.90625 6.78125 20.515625 \r\nQ 6.78125 27.484375 10.78125 32.3125 \r\nQ 14.796875 37.15625 21.921875 38.8125 \r\nz\r\nM 18.3125 54.390625 \r\nQ 18.3125 48.734375 21.84375 45.5625 \r\nQ 25.390625 42.390625 31.78125 42.390625 \r\nQ 38.140625 42.390625 41.71875 45.5625 \r\nQ 45.3125 48.734375 45.3125 54.390625 \r\nQ 45.3125 60.0625 41.71875 63.234375 \r\nQ 38.140625 66.40625 31.78125 66.40625 \r\nQ 25.390625 66.40625 21.84375 63.234375 \r\nQ 18.3125 60.0625 18.3125 54.390625 \r\nz\r\n\" id=\"DejaVuSans-56\"/>\r\n      </defs>\r\n      <g transform=\"translate(20.878125 169.160517)scale(0.1 -0.1)\">\r\n       <use xlink:href=\"#DejaVuSans-48\"/>\r\n       <use x=\"63.623047\" xlink:href=\"#DejaVuSans-46\"/>\r\n       <use x=\"95.410156\" xlink:href=\"#DejaVuSans-57\"/>\r\n       <use x=\"159.033203\" xlink:href=\"#DejaVuSans-54\"/>\r\n       <use x=\"222.65625\" xlink:href=\"#DejaVuSans-56\"/>\r\n      </g>\r\n     </g>\r\n    </g>\r\n    <g id=\"ytick_4\">\r\n     <g id=\"line2d_12\">\r\n      <g>\r\n       <use style=\"stroke:#000000;stroke-width:0.8;\" x=\"56.50625\" xlink:href=\"#m949a271793\" y=\"139.573993\"/>\r\n      </g>\r\n     </g>\r\n     <g id=\"text_4\">\r\n      <!-- 0.970 -->\r\n      <defs>\r\n       <path d=\"M 8.203125 72.90625 \r\nL 55.078125 72.90625 \r\nL 55.078125 68.703125 \r\nL 28.609375 0 \r\nL 18.3125 0 \r\nL 43.21875 64.59375 \r\nL 8.203125 64.59375 \r\nz\r\n\" id=\"DejaVuSans-55\"/>\r\n      </defs>\r\n      <g transform=\"translate(20.878125 143.373212)scale(0.1 -0.1)\">\r\n       <use xlink:href=\"#DejaVuSans-48\"/>\r\n       <use x=\"63.623047\" xlink:href=\"#DejaVuSans-46\"/>\r\n       <use x=\"95.410156\" xlink:href=\"#DejaVuSans-57\"/>\r\n       <use x=\"159.033203\" xlink:href=\"#DejaVuSans-55\"/>\r\n       <use x=\"222.65625\" xlink:href=\"#DejaVuSans-48\"/>\r\n      </g>\r\n     </g>\r\n    </g>\r\n    <g id=\"ytick_5\">\r\n     <g id=\"line2d_13\">\r\n      <g>\r\n       <use style=\"stroke:#000000;stroke-width:0.8;\" x=\"56.50625\" xlink:href=\"#m949a271793\" y=\"113.786687\"/>\r\n      </g>\r\n     </g>\r\n     <g id=\"text_5\">\r\n      <!-- 0.972 -->\r\n      <defs>\r\n       <path d=\"M 19.1875 8.296875 \r\nL 53.609375 8.296875 \r\nL 53.609375 0 \r\nL 7.328125 0 \r\nL 7.328125 8.296875 \r\nQ 12.9375 14.109375 22.625 23.890625 \r\nQ 32.328125 33.6875 34.8125 36.53125 \r\nQ 39.546875 41.84375 41.421875 45.53125 \r\nQ 43.3125 49.21875 43.3125 52.78125 \r\nQ 43.3125 58.59375 39.234375 62.25 \r\nQ 35.15625 65.921875 28.609375 65.921875 \r\nQ 23.96875 65.921875 18.8125 64.3125 \r\nQ 13.671875 62.703125 7.8125 59.421875 \r\nL 7.8125 69.390625 \r\nQ 13.765625 71.78125 18.9375 73 \r\nQ 24.125 74.21875 28.421875 74.21875 \r\nQ 39.75 74.21875 46.484375 68.546875 \r\nQ 53.21875 62.890625 53.21875 53.421875 \r\nQ 53.21875 48.921875 51.53125 44.890625 \r\nQ 49.859375 40.875 45.40625 35.40625 \r\nQ 44.1875 33.984375 37.640625 27.21875 \r\nQ 31.109375 20.453125 19.1875 8.296875 \r\nz\r\n\" id=\"DejaVuSans-50\"/>\r\n      </defs>\r\n      <g transform=\"translate(20.878125 117.585906)scale(0.1 -0.1)\">\r\n       <use xlink:href=\"#DejaVuSans-48\"/>\r\n       <use x=\"63.623047\" xlink:href=\"#DejaVuSans-46\"/>\r\n       <use x=\"95.410156\" xlink:href=\"#DejaVuSans-57\"/>\r\n       <use x=\"159.033203\" xlink:href=\"#DejaVuSans-55\"/>\r\n       <use x=\"222.65625\" xlink:href=\"#DejaVuSans-50\"/>\r\n      </g>\r\n     </g>\r\n    </g>\r\n    <g id=\"ytick_6\">\r\n     <g id=\"line2d_14\">\r\n      <g>\r\n       <use style=\"stroke:#000000;stroke-width:0.8;\" x=\"56.50625\" xlink:href=\"#m949a271793\" y=\"87.999381\"/>\r\n      </g>\r\n     </g>\r\n     <g id=\"text_6\">\r\n      <!-- 0.974 -->\r\n      <g transform=\"translate(20.878125 91.7986)scale(0.1 -0.1)\">\r\n       <use xlink:href=\"#DejaVuSans-48\"/>\r\n       <use x=\"63.623047\" xlink:href=\"#DejaVuSans-46\"/>\r\n       <use x=\"95.410156\" xlink:href=\"#DejaVuSans-57\"/>\r\n       <use x=\"159.033203\" xlink:href=\"#DejaVuSans-55\"/>\r\n       <use x=\"222.65625\" xlink:href=\"#DejaVuSans-52\"/>\r\n      </g>\r\n     </g>\r\n    </g>\r\n    <g id=\"ytick_7\">\r\n     <g id=\"line2d_15\">\r\n      <g>\r\n       <use style=\"stroke:#000000;stroke-width:0.8;\" x=\"56.50625\" xlink:href=\"#m949a271793\" y=\"62.212075\"/>\r\n      </g>\r\n     </g>\r\n     <g id=\"text_7\">\r\n      <!-- 0.976 -->\r\n      <g transform=\"translate(20.878125 66.011294)scale(0.1 -0.1)\">\r\n       <use xlink:href=\"#DejaVuSans-48\"/>\r\n       <use x=\"63.623047\" xlink:href=\"#DejaVuSans-46\"/>\r\n       <use x=\"95.410156\" xlink:href=\"#DejaVuSans-57\"/>\r\n       <use x=\"159.033203\" xlink:href=\"#DejaVuSans-55\"/>\r\n       <use x=\"222.65625\" xlink:href=\"#DejaVuSans-54\"/>\r\n      </g>\r\n     </g>\r\n    </g>\r\n    <g id=\"ytick_8\">\r\n     <g id=\"line2d_16\">\r\n      <g>\r\n       <use style=\"stroke:#000000;stroke-width:0.8;\" x=\"56.50625\" xlink:href=\"#m949a271793\" y=\"36.42477\"/>\r\n      </g>\r\n     </g>\r\n     <g id=\"text_8\">\r\n      <!-- 0.978 -->\r\n      <g transform=\"translate(20.878125 40.223988)scale(0.1 -0.1)\">\r\n       <use xlink:href=\"#DejaVuSans-48\"/>\r\n       <use x=\"63.623047\" xlink:href=\"#DejaVuSans-46\"/>\r\n       <use x=\"95.410156\" xlink:href=\"#DejaVuSans-57\"/>\r\n       <use x=\"159.033203\" xlink:href=\"#DejaVuSans-55\"/>\r\n       <use x=\"222.65625\" xlink:href=\"#DejaVuSans-56\"/>\r\n      </g>\r\n     </g>\r\n    </g>\r\n    <g id=\"text_9\">\r\n     <!-- Accuracy -->\r\n     <defs>\r\n      <path d=\"M 34.1875 63.1875 \r\nL 20.796875 26.90625 \r\nL 47.609375 26.90625 \r\nz\r\nM 28.609375 72.90625 \r\nL 39.796875 72.90625 \r\nL 67.578125 0 \r\nL 57.328125 0 \r\nL 50.6875 18.703125 \r\nL 17.828125 18.703125 \r\nL 11.1875 0 \r\nL 0.78125 0 \r\nz\r\n\" id=\"DejaVuSans-65\"/>\r\n      <path d=\"M 48.78125 52.59375 \r\nL 48.78125 44.1875 \r\nQ 44.96875 46.296875 41.140625 47.34375 \r\nQ 37.3125 48.390625 33.40625 48.390625 \r\nQ 24.65625 48.390625 19.8125 42.84375 \r\nQ 14.984375 37.3125 14.984375 27.296875 \r\nQ 14.984375 17.28125 19.8125 11.734375 \r\nQ 24.65625 6.203125 33.40625 6.203125 \r\nQ 37.3125 6.203125 41.140625 7.25 \r\nQ 44.96875 8.296875 48.78125 10.40625 \r\nL 48.78125 2.09375 \r\nQ 45.015625 0.34375 40.984375 -0.53125 \r\nQ 36.96875 -1.421875 32.421875 -1.421875 \r\nQ 20.0625 -1.421875 12.78125 6.34375 \r\nQ 5.515625 14.109375 5.515625 27.296875 \r\nQ 5.515625 40.671875 12.859375 48.328125 \r\nQ 20.21875 56 33.015625 56 \r\nQ 37.15625 56 41.109375 55.140625 \r\nQ 45.0625 54.296875 48.78125 52.59375 \r\nz\r\n\" id=\"DejaVuSans-99\"/>\r\n      <path d=\"M 8.5 21.578125 \r\nL 8.5 54.6875 \r\nL 17.484375 54.6875 \r\nL 17.484375 21.921875 \r\nQ 17.484375 14.15625 20.5 10.265625 \r\nQ 23.53125 6.390625 29.59375 6.390625 \r\nQ 36.859375 6.390625 41.078125 11.03125 \r\nQ 45.3125 15.671875 45.3125 23.6875 \r\nL 45.3125 54.6875 \r\nL 54.296875 54.6875 \r\nL 54.296875 0 \r\nL 45.3125 0 \r\nL 45.3125 8.40625 \r\nQ 42.046875 3.421875 37.71875 1 \r\nQ 33.40625 -1.421875 27.6875 -1.421875 \r\nQ 18.265625 -1.421875 13.375 4.4375 \r\nQ 8.5 10.296875 8.5 21.578125 \r\nz\r\nM 31.109375 56 \r\nz\r\n\" id=\"DejaVuSans-117\"/>\r\n      <path d=\"M 41.109375 46.296875 \r\nQ 39.59375 47.171875 37.8125 47.578125 \r\nQ 36.03125 48 33.890625 48 \r\nQ 26.265625 48 22.1875 43.046875 \r\nQ 18.109375 38.09375 18.109375 28.8125 \r\nL 18.109375 0 \r\nL 9.078125 0 \r\nL 9.078125 54.6875 \r\nL 18.109375 54.6875 \r\nL 18.109375 46.1875 \r\nQ 20.953125 51.171875 25.484375 53.578125 \r\nQ 30.03125 56 36.53125 56 \r\nQ 37.453125 56 38.578125 55.875 \r\nQ 39.703125 55.765625 41.0625 55.515625 \r\nz\r\n\" id=\"DejaVuSans-114\"/>\r\n      <path d=\"M 34.28125 27.484375 \r\nQ 23.390625 27.484375 19.1875 25 \r\nQ 14.984375 22.515625 14.984375 16.5 \r\nQ 14.984375 11.71875 18.140625 8.90625 \r\nQ 21.296875 6.109375 26.703125 6.109375 \r\nQ 34.1875 6.109375 38.703125 11.40625 \r\nQ 43.21875 16.703125 43.21875 25.484375 \r\nL 43.21875 27.484375 \r\nz\r\nM 52.203125 31.203125 \r\nL 52.203125 0 \r\nL 43.21875 0 \r\nL 43.21875 8.296875 \r\nQ 40.140625 3.328125 35.546875 0.953125 \r\nQ 30.953125 -1.421875 24.3125 -1.421875 \r\nQ 15.921875 -1.421875 10.953125 3.296875 \r\nQ 6 8.015625 6 15.921875 \r\nQ 6 25.140625 12.171875 29.828125 \r\nQ 18.359375 34.515625 30.609375 34.515625 \r\nL 43.21875 34.515625 \r\nL 43.21875 35.40625 \r\nQ 43.21875 41.609375 39.140625 45 \r\nQ 35.0625 48.390625 27.6875 48.390625 \r\nQ 23 48.390625 18.546875 47.265625 \r\nQ 14.109375 46.140625 10.015625 43.890625 \r\nL 10.015625 52.203125 \r\nQ 14.9375 54.109375 19.578125 55.046875 \r\nQ 24.21875 56 28.609375 56 \r\nQ 40.484375 56 46.34375 49.84375 \r\nQ 52.203125 43.703125 52.203125 31.203125 \r\nz\r\n\" id=\"DejaVuSans-97\"/>\r\n      <path d=\"M 32.171875 -5.078125 \r\nQ 28.375 -14.84375 24.75 -17.8125 \r\nQ 21.140625 -20.796875 15.09375 -20.796875 \r\nL 7.90625 -20.796875 \r\nL 7.90625 -13.28125 \r\nL 13.1875 -13.28125 \r\nQ 16.890625 -13.28125 18.9375 -11.515625 \r\nQ 21 -9.765625 23.484375 -3.21875 \r\nL 25.09375 0.875 \r\nL 2.984375 54.6875 \r\nL 12.5 54.6875 \r\nL 29.59375 11.921875 \r\nL 46.6875 54.6875 \r\nL 56.203125 54.6875 \r\nz\r\n\" id=\"DejaVuSans-121\"/>\r\n     </defs>\r\n     <g transform=\"translate(14.798437 144.069332)rotate(-90)scale(0.1 -0.1)\">\r\n      <use xlink:href=\"#DejaVuSans-65\"/>\r\n      <use x=\"68.392578\" xlink:href=\"#DejaVuSans-99\"/>\r\n      <use x=\"123.373047\" xlink:href=\"#DejaVuSans-99\"/>\r\n      <use x=\"178.353516\" xlink:href=\"#DejaVuSans-117\"/>\r\n      <use x=\"241.732422\" xlink:href=\"#DejaVuSans-114\"/>\r\n      <use x=\"282.845703\" xlink:href=\"#DejaVuSans-97\"/>\r\n      <use x=\"344.125\" xlink:href=\"#DejaVuSans-99\"/>\r\n      <use x=\"399.105469\" xlink:href=\"#DejaVuSans-121\"/>\r\n     </g>\r\n    </g>\r\n   </g>\r\n   <g id=\"line2d_17\">\r\n    <path clip-path=\"url(#p4f26c16360)\" d=\"M 86.942614 31.303249 \r\nL 104.846357 54.889199 \r\nL 122.7501 70.613166 \r\nL 140.653844 93.075976 \r\nL 158.557587 109.923084 \r\nL 176.46133 133.509034 \r\nL 194.365074 145.86358 \r\nL 212.268817 155.971844 \r\nL 230.17256 164.956968 \r\nL 248.076303 173.942092 \r\nL 265.980047 182.927216 \r\nL 283.88379 187.419778 \r\nL 301.787533 194.158621 \r\nL 319.691277 198.651183 \r\nL 337.59502 202.020604 \r\nL 355.498763 206.513166 \r\nL 373.402507 206.513166 \r\nL 391.30625 208.759447 \r\nL 409.209993 208.759447 \r\nL 427.113737 211.005728 \r\nL 445.01748 211.005728 \r\nL 462.921223 211.005728 \r\nL 480.824967 211.005728 \r\nL 498.72871 211.005728 \r\nL 516.632453 211.005728 \r\nL 534.536197 211.005728 \r\nL 552.43994 211.005728 \r\nL 570.343683 211.005728 \r\nL 588.247426 211.005728 \r\nL 606.15117 211.005728 \r\nL 624.054913 211.005728 \r\nL 641.958656 211.005728 \r\nL 659.8624 211.005728 \r\nL 677.766143 211.005728 \r\nL 695.669886 211.005728 \r\n\" style=\"fill:none;stroke:#1f77b4;stroke-linecap:square;stroke-width:1.5;\"/>\r\n   </g>\r\n   <g id=\"patch_3\">\r\n    <path d=\"M 56.50625 219.990852 \r\nL 56.50625 22.318125 \r\n\" style=\"fill:none;stroke:#000000;stroke-linecap:square;stroke-linejoin:miter;stroke-width:0.8;\"/>\r\n   </g>\r\n   <g id=\"patch_4\">\r\n    <path d=\"M 726.10625 219.990852 \r\nL 726.10625 22.318125 \r\n\" style=\"fill:none;stroke:#000000;stroke-linecap:square;stroke-linejoin:miter;stroke-width:0.8;\"/>\r\n   </g>\r\n   <g id=\"patch_5\">\r\n    <path d=\"M 56.50625 219.990852 \r\nL 726.10625 219.990852 \r\n\" style=\"fill:none;stroke:#000000;stroke-linecap:square;stroke-linejoin:miter;stroke-width:0.8;\"/>\r\n   </g>\r\n   <g id=\"patch_6\">\r\n    <path d=\"M 56.50625 22.318125 \r\nL 726.10625 22.318125 \r\n\" style=\"fill:none;stroke:#000000;stroke-linecap:square;stroke-linejoin:miter;stroke-width:0.8;\"/>\r\n   </g>\r\n   <g id=\"text_10\">\r\n    <!-- Accuracy vs. Number of Latent Features -->\r\n    <defs>\r\n     <path id=\"DejaVuSans-32\"/>\r\n     <path d=\"M 2.984375 54.6875 \r\nL 12.5 54.6875 \r\nL 29.59375 8.796875 \r\nL 46.6875 54.6875 \r\nL 56.203125 54.6875 \r\nL 35.6875 0 \r\nL 23.484375 0 \r\nz\r\n\" id=\"DejaVuSans-118\"/>\r\n     <path d=\"M 44.28125 53.078125 \r\nL 44.28125 44.578125 \r\nQ 40.484375 46.53125 36.375 47.5 \r\nQ 32.28125 48.484375 27.875 48.484375 \r\nQ 21.1875 48.484375 17.84375 46.4375 \r\nQ 14.5 44.390625 14.5 40.28125 \r\nQ 14.5 37.15625 16.890625 35.375 \r\nQ 19.28125 33.59375 26.515625 31.984375 \r\nL 29.59375 31.296875 \r\nQ 39.15625 29.25 43.1875 25.515625 \r\nQ 47.21875 21.78125 47.21875 15.09375 \r\nQ 47.21875 7.46875 41.1875 3.015625 \r\nQ 35.15625 -1.421875 24.609375 -1.421875 \r\nQ 20.21875 -1.421875 15.453125 -0.5625 \r\nQ 10.6875 0.296875 5.421875 2 \r\nL 5.421875 11.28125 \r\nQ 10.40625 8.6875 15.234375 7.390625 \r\nQ 20.0625 6.109375 24.8125 6.109375 \r\nQ 31.15625 6.109375 34.5625 8.28125 \r\nQ 37.984375 10.453125 37.984375 14.40625 \r\nQ 37.984375 18.0625 35.515625 20.015625 \r\nQ 33.0625 21.96875 24.703125 23.78125 \r\nL 21.578125 24.515625 \r\nQ 13.234375 26.265625 9.515625 29.90625 \r\nQ 5.8125 33.546875 5.8125 39.890625 \r\nQ 5.8125 47.609375 11.28125 51.796875 \r\nQ 16.75 56 26.8125 56 \r\nQ 31.78125 56 36.171875 55.265625 \r\nQ 40.578125 54.546875 44.28125 53.078125 \r\nz\r\n\" id=\"DejaVuSans-115\"/>\r\n     <path d=\"M 9.8125 72.90625 \r\nL 23.09375 72.90625 \r\nL 55.421875 11.921875 \r\nL 55.421875 72.90625 \r\nL 64.984375 72.90625 \r\nL 64.984375 0 \r\nL 51.703125 0 \r\nL 19.390625 60.984375 \r\nL 19.390625 0 \r\nL 9.8125 0 \r\nz\r\n\" id=\"DejaVuSans-78\"/>\r\n     <path d=\"M 52 44.1875 \r\nQ 55.375 50.25 60.0625 53.125 \r\nQ 64.75 56 71.09375 56 \r\nQ 79.640625 56 84.28125 50.015625 \r\nQ 88.921875 44.046875 88.921875 33.015625 \r\nL 88.921875 0 \r\nL 79.890625 0 \r\nL 79.890625 32.71875 \r\nQ 79.890625 40.578125 77.09375 44.375 \r\nQ 74.3125 48.1875 68.609375 48.1875 \r\nQ 61.625 48.1875 57.5625 43.546875 \r\nQ 53.515625 38.921875 53.515625 30.90625 \r\nL 53.515625 0 \r\nL 44.484375 0 \r\nL 44.484375 32.71875 \r\nQ 44.484375 40.625 41.703125 44.40625 \r\nQ 38.921875 48.1875 33.109375 48.1875 \r\nQ 26.21875 48.1875 22.15625 43.53125 \r\nQ 18.109375 38.875 18.109375 30.90625 \r\nL 18.109375 0 \r\nL 9.078125 0 \r\nL 9.078125 54.6875 \r\nL 18.109375 54.6875 \r\nL 18.109375 46.1875 \r\nQ 21.1875 51.21875 25.484375 53.609375 \r\nQ 29.78125 56 35.6875 56 \r\nQ 41.65625 56 45.828125 52.96875 \r\nQ 50 49.953125 52 44.1875 \r\nz\r\n\" id=\"DejaVuSans-109\"/>\r\n     <path d=\"M 48.6875 27.296875 \r\nQ 48.6875 37.203125 44.609375 42.84375 \r\nQ 40.53125 48.484375 33.40625 48.484375 \r\nQ 26.265625 48.484375 22.1875 42.84375 \r\nQ 18.109375 37.203125 18.109375 27.296875 \r\nQ 18.109375 17.390625 22.1875 11.75 \r\nQ 26.265625 6.109375 33.40625 6.109375 \r\nQ 40.53125 6.109375 44.609375 11.75 \r\nQ 48.6875 17.390625 48.6875 27.296875 \r\nz\r\nM 18.109375 46.390625 \r\nQ 20.953125 51.265625 25.265625 53.625 \r\nQ 29.59375 56 35.59375 56 \r\nQ 45.5625 56 51.78125 48.09375 \r\nQ 58.015625 40.1875 58.015625 27.296875 \r\nQ 58.015625 14.40625 51.78125 6.484375 \r\nQ 45.5625 -1.421875 35.59375 -1.421875 \r\nQ 29.59375 -1.421875 25.265625 0.953125 \r\nQ 20.953125 3.328125 18.109375 8.203125 \r\nL 18.109375 0 \r\nL 9.078125 0 \r\nL 9.078125 75.984375 \r\nL 18.109375 75.984375 \r\nz\r\n\" id=\"DejaVuSans-98\"/>\r\n     <path d=\"M 56.203125 29.59375 \r\nL 56.203125 25.203125 \r\nL 14.890625 25.203125 \r\nQ 15.484375 15.921875 20.484375 11.0625 \r\nQ 25.484375 6.203125 34.421875 6.203125 \r\nQ 39.59375 6.203125 44.453125 7.46875 \r\nQ 49.3125 8.734375 54.109375 11.28125 \r\nL 54.109375 2.78125 \r\nQ 49.265625 0.734375 44.1875 -0.34375 \r\nQ 39.109375 -1.421875 33.890625 -1.421875 \r\nQ 20.796875 -1.421875 13.15625 6.1875 \r\nQ 5.515625 13.8125 5.515625 26.8125 \r\nQ 5.515625 40.234375 12.765625 48.109375 \r\nQ 20.015625 56 32.328125 56 \r\nQ 43.359375 56 49.78125 48.890625 \r\nQ 56.203125 41.796875 56.203125 29.59375 \r\nz\r\nM 47.21875 32.234375 \r\nQ 47.125 39.59375 43.09375 43.984375 \r\nQ 39.0625 48.390625 32.421875 48.390625 \r\nQ 24.90625 48.390625 20.390625 44.140625 \r\nQ 15.875 39.890625 15.1875 32.171875 \r\nz\r\n\" id=\"DejaVuSans-101\"/>\r\n     <path d=\"M 30.609375 48.390625 \r\nQ 23.390625 48.390625 19.1875 42.75 \r\nQ 14.984375 37.109375 14.984375 27.296875 \r\nQ 14.984375 17.484375 19.15625 11.84375 \r\nQ 23.34375 6.203125 30.609375 6.203125 \r\nQ 37.796875 6.203125 41.984375 11.859375 \r\nQ 46.1875 17.53125 46.1875 27.296875 \r\nQ 46.1875 37.015625 41.984375 42.703125 \r\nQ 37.796875 48.390625 30.609375 48.390625 \r\nz\r\nM 30.609375 56 \r\nQ 42.328125 56 49.015625 48.375 \r\nQ 55.71875 40.765625 55.71875 27.296875 \r\nQ 55.71875 13.875 49.015625 6.21875 \r\nQ 42.328125 -1.421875 30.609375 -1.421875 \r\nQ 18.84375 -1.421875 12.171875 6.21875 \r\nQ 5.515625 13.875 5.515625 27.296875 \r\nQ 5.515625 40.765625 12.171875 48.375 \r\nQ 18.84375 56 30.609375 56 \r\nz\r\n\" id=\"DejaVuSans-111\"/>\r\n     <path d=\"M 37.109375 75.984375 \r\nL 37.109375 68.5 \r\nL 28.515625 68.5 \r\nQ 23.6875 68.5 21.796875 66.546875 \r\nQ 19.921875 64.59375 19.921875 59.515625 \r\nL 19.921875 54.6875 \r\nL 34.71875 54.6875 \r\nL 34.71875 47.703125 \r\nL 19.921875 47.703125 \r\nL 19.921875 0 \r\nL 10.890625 0 \r\nL 10.890625 47.703125 \r\nL 2.296875 47.703125 \r\nL 2.296875 54.6875 \r\nL 10.890625 54.6875 \r\nL 10.890625 58.5 \r\nQ 10.890625 67.625 15.140625 71.796875 \r\nQ 19.390625 75.984375 28.609375 75.984375 \r\nz\r\n\" id=\"DejaVuSans-102\"/>\r\n     <path d=\"M 9.8125 72.90625 \r\nL 19.671875 72.90625 \r\nL 19.671875 8.296875 \r\nL 55.171875 8.296875 \r\nL 55.171875 0 \r\nL 9.8125 0 \r\nz\r\n\" id=\"DejaVuSans-76\"/>\r\n     <path d=\"M 18.3125 70.21875 \r\nL 18.3125 54.6875 \r\nL 36.8125 54.6875 \r\nL 36.8125 47.703125 \r\nL 18.3125 47.703125 \r\nL 18.3125 18.015625 \r\nQ 18.3125 11.328125 20.140625 9.421875 \r\nQ 21.96875 7.515625 27.59375 7.515625 \r\nL 36.8125 7.515625 \r\nL 36.8125 0 \r\nL 27.59375 0 \r\nQ 17.1875 0 13.234375 3.875 \r\nQ 9.28125 7.765625 9.28125 18.015625 \r\nL 9.28125 47.703125 \r\nL 2.6875 47.703125 \r\nL 2.6875 54.6875 \r\nL 9.28125 54.6875 \r\nL 9.28125 70.21875 \r\nz\r\n\" id=\"DejaVuSans-116\"/>\r\n     <path d=\"M 54.890625 33.015625 \r\nL 54.890625 0 \r\nL 45.90625 0 \r\nL 45.90625 32.71875 \r\nQ 45.90625 40.484375 42.875 44.328125 \r\nQ 39.84375 48.1875 33.796875 48.1875 \r\nQ 26.515625 48.1875 22.3125 43.546875 \r\nQ 18.109375 38.921875 18.109375 30.90625 \r\nL 18.109375 0 \r\nL 9.078125 0 \r\nL 9.078125 54.6875 \r\nL 18.109375 54.6875 \r\nL 18.109375 46.1875 \r\nQ 21.34375 51.125 25.703125 53.5625 \r\nQ 30.078125 56 35.796875 56 \r\nQ 45.21875 56 50.046875 50.171875 \r\nQ 54.890625 44.34375 54.890625 33.015625 \r\nz\r\n\" id=\"DejaVuSans-110\"/>\r\n     <path d=\"M 9.8125 72.90625 \r\nL 51.703125 72.90625 \r\nL 51.703125 64.59375 \r\nL 19.671875 64.59375 \r\nL 19.671875 43.109375 \r\nL 48.578125 43.109375 \r\nL 48.578125 34.8125 \r\nL 19.671875 34.8125 \r\nL 19.671875 0 \r\nL 9.8125 0 \r\nz\r\n\" id=\"DejaVuSans-70\"/>\r\n    </defs>\r\n    <g transform=\"translate(270.333125 16.318125)scale(0.12 -0.12)\">\r\n     <use xlink:href=\"#DejaVuSans-65\"/>\r\n     <use x=\"68.392578\" xlink:href=\"#DejaVuSans-99\"/>\r\n     <use x=\"123.373047\" xlink:href=\"#DejaVuSans-99\"/>\r\n     <use x=\"178.353516\" xlink:href=\"#DejaVuSans-117\"/>\r\n     <use x=\"241.732422\" xlink:href=\"#DejaVuSans-114\"/>\r\n     <use x=\"282.845703\" xlink:href=\"#DejaVuSans-97\"/>\r\n     <use x=\"344.125\" xlink:href=\"#DejaVuSans-99\"/>\r\n     <use x=\"399.105469\" xlink:href=\"#DejaVuSans-121\"/>\r\n     <use x=\"458.285156\" xlink:href=\"#DejaVuSans-32\"/>\r\n     <use x=\"490.072266\" xlink:href=\"#DejaVuSans-118\"/>\r\n     <use x=\"549.251953\" xlink:href=\"#DejaVuSans-115\"/>\r\n     <use x=\"601.351562\" xlink:href=\"#DejaVuSans-46\"/>\r\n     <use x=\"633.138672\" xlink:href=\"#DejaVuSans-32\"/>\r\n     <use x=\"664.925781\" xlink:href=\"#DejaVuSans-78\"/>\r\n     <use x=\"739.730469\" xlink:href=\"#DejaVuSans-117\"/>\r\n     <use x=\"803.109375\" xlink:href=\"#DejaVuSans-109\"/>\r\n     <use x=\"900.521484\" xlink:href=\"#DejaVuSans-98\"/>\r\n     <use x=\"963.998047\" xlink:href=\"#DejaVuSans-101\"/>\r\n     <use x=\"1025.521484\" xlink:href=\"#DejaVuSans-114\"/>\r\n     <use x=\"1066.634766\" xlink:href=\"#DejaVuSans-32\"/>\r\n     <use x=\"1098.421875\" xlink:href=\"#DejaVuSans-111\"/>\r\n     <use x=\"1159.603516\" xlink:href=\"#DejaVuSans-102\"/>\r\n     <use x=\"1194.808594\" xlink:href=\"#DejaVuSans-32\"/>\r\n     <use x=\"1226.595703\" xlink:href=\"#DejaVuSans-76\"/>\r\n     <use x=\"1282.308594\" xlink:href=\"#DejaVuSans-97\"/>\r\n     <use x=\"1343.587891\" xlink:href=\"#DejaVuSans-116\"/>\r\n     <use x=\"1382.796875\" xlink:href=\"#DejaVuSans-101\"/>\r\n     <use x=\"1444.320312\" xlink:href=\"#DejaVuSans-110\"/>\r\n     <use x=\"1507.699219\" xlink:href=\"#DejaVuSans-116\"/>\r\n     <use x=\"1546.908203\" xlink:href=\"#DejaVuSans-32\"/>\r\n     <use x=\"1578.695312\" xlink:href=\"#DejaVuSans-70\"/>\r\n     <use x=\"1636.136719\" xlink:href=\"#DejaVuSans-101\"/>\r\n     <use x=\"1697.660156\" xlink:href=\"#DejaVuSans-97\"/>\r\n     <use x=\"1758.939453\" xlink:href=\"#DejaVuSans-116\"/>\r\n     <use x=\"1798.148438\" xlink:href=\"#DejaVuSans-117\"/>\r\n     <use x=\"1861.527344\" xlink:href=\"#DejaVuSans-114\"/>\r\n     <use x=\"1902.609375\" xlink:href=\"#DejaVuSans-101\"/>\r\n     <use x=\"1964.132812\" xlink:href=\"#DejaVuSans-115\"/>\r\n    </g>\r\n   </g>\r\n  </g>\r\n  <g id=\"axes_2\">\r\n   <g id=\"patch_7\">\r\n    <path d=\"M 56.50625 457.198125 \r\nL 726.10625 457.198125 \r\nL 726.10625 259.525398 \r\nL 56.50625 259.525398 \r\nz\r\n\" style=\"fill:#ffffff;\"/>\r\n   </g>\r\n   <g id=\"matplotlib.axis_3\">\r\n    <g id=\"xtick_9\">\r\n     <g id=\"line2d_18\">\r\n      <g>\r\n       <use style=\"stroke:#000000;stroke-width:0.8;\" x=\"77.990742\" xlink:href=\"#m80862fbbae\" y=\"457.198125\"/>\r\n      </g>\r\n     </g>\r\n     <g id=\"text_11\">\r\n      <!-- 0 -->\r\n      <g transform=\"translate(74.809492 471.796562)scale(0.1 -0.1)\">\r\n       <use xlink:href=\"#DejaVuSans-48\"/>\r\n      </g>\r\n     </g>\r\n    </g>\r\n    <g id=\"xtick_10\">\r\n     <g id=\"line2d_19\">\r\n      <g>\r\n       <use style=\"stroke:#000000;stroke-width:0.8;\" x=\"167.509459\" xlink:href=\"#m80862fbbae\" y=\"457.198125\"/>\r\n      </g>\r\n     </g>\r\n     <g id=\"text_12\">\r\n      <!-- 100 -->\r\n      <defs>\r\n       <path d=\"M 12.40625 8.296875 \r\nL 28.515625 8.296875 \r\nL 28.515625 63.921875 \r\nL 10.984375 60.40625 \r\nL 10.984375 69.390625 \r\nL 28.421875 72.90625 \r\nL 38.28125 72.90625 \r\nL 38.28125 8.296875 \r\nL 54.390625 8.296875 \r\nL 54.390625 0 \r\nL 12.40625 0 \r\nz\r\n\" id=\"DejaVuSans-49\"/>\r\n      </defs>\r\n      <g transform=\"translate(157.965709 471.796562)scale(0.1 -0.1)\">\r\n       <use xlink:href=\"#DejaVuSans-49\"/>\r\n       <use x=\"63.623047\" xlink:href=\"#DejaVuSans-48\"/>\r\n       <use x=\"127.246094\" xlink:href=\"#DejaVuSans-48\"/>\r\n      </g>\r\n     </g>\r\n    </g>\r\n    <g id=\"xtick_11\">\r\n     <g id=\"line2d_20\">\r\n      <g>\r\n       <use style=\"stroke:#000000;stroke-width:0.8;\" x=\"257.028175\" xlink:href=\"#m80862fbbae\" y=\"457.198125\"/>\r\n      </g>\r\n     </g>\r\n     <g id=\"text_13\">\r\n      <!-- 200 -->\r\n      <g transform=\"translate(247.484425 471.796562)scale(0.1 -0.1)\">\r\n       <use xlink:href=\"#DejaVuSans-50\"/>\r\n       <use x=\"63.623047\" xlink:href=\"#DejaVuSans-48\"/>\r\n       <use x=\"127.246094\" xlink:href=\"#DejaVuSans-48\"/>\r\n      </g>\r\n     </g>\r\n    </g>\r\n    <g id=\"xtick_12\">\r\n     <g id=\"line2d_21\">\r\n      <g>\r\n       <use style=\"stroke:#000000;stroke-width:0.8;\" x=\"346.546892\" xlink:href=\"#m80862fbbae\" y=\"457.198125\"/>\r\n      </g>\r\n     </g>\r\n     <g id=\"text_14\">\r\n      <!-- 300 -->\r\n      <defs>\r\n       <path d=\"M 40.578125 39.3125 \r\nQ 47.65625 37.796875 51.625 33 \r\nQ 55.609375 28.21875 55.609375 21.1875 \r\nQ 55.609375 10.40625 48.1875 4.484375 \r\nQ 40.765625 -1.421875 27.09375 -1.421875 \r\nQ 22.515625 -1.421875 17.65625 -0.515625 \r\nQ 12.796875 0.390625 7.625 2.203125 \r\nL 7.625 11.71875 \r\nQ 11.71875 9.328125 16.59375 8.109375 \r\nQ 21.484375 6.890625 26.8125 6.890625 \r\nQ 36.078125 6.890625 40.9375 10.546875 \r\nQ 45.796875 14.203125 45.796875 21.1875 \r\nQ 45.796875 27.640625 41.28125 31.265625 \r\nQ 36.765625 34.90625 28.71875 34.90625 \r\nL 20.21875 34.90625 \r\nL 20.21875 43.015625 \r\nL 29.109375 43.015625 \r\nQ 36.375 43.015625 40.234375 45.921875 \r\nQ 44.09375 48.828125 44.09375 54.296875 \r\nQ 44.09375 59.90625 40.109375 62.90625 \r\nQ 36.140625 65.921875 28.71875 65.921875 \r\nQ 24.65625 65.921875 20.015625 65.03125 \r\nQ 15.375 64.15625 9.8125 62.3125 \r\nL 9.8125 71.09375 \r\nQ 15.4375 72.65625 20.34375 73.4375 \r\nQ 25.25 74.21875 29.59375 74.21875 \r\nQ 40.828125 74.21875 47.359375 69.109375 \r\nQ 53.90625 64.015625 53.90625 55.328125 \r\nQ 53.90625 49.265625 50.4375 45.09375 \r\nQ 46.96875 40.921875 40.578125 39.3125 \r\nz\r\n\" id=\"DejaVuSans-51\"/>\r\n      </defs>\r\n      <g transform=\"translate(337.003142 471.796562)scale(0.1 -0.1)\">\r\n       <use xlink:href=\"#DejaVuSans-51\"/>\r\n       <use x=\"63.623047\" xlink:href=\"#DejaVuSans-48\"/>\r\n       <use x=\"127.246094\" xlink:href=\"#DejaVuSans-48\"/>\r\n      </g>\r\n     </g>\r\n    </g>\r\n    <g id=\"xtick_13\">\r\n     <g id=\"line2d_22\">\r\n      <g>\r\n       <use style=\"stroke:#000000;stroke-width:0.8;\" x=\"436.065608\" xlink:href=\"#m80862fbbae\" y=\"457.198125\"/>\r\n      </g>\r\n     </g>\r\n     <g id=\"text_15\">\r\n      <!-- 400 -->\r\n      <g transform=\"translate(426.521858 471.796562)scale(0.1 -0.1)\">\r\n       <use xlink:href=\"#DejaVuSans-52\"/>\r\n       <use x=\"63.623047\" xlink:href=\"#DejaVuSans-48\"/>\r\n       <use x=\"127.246094\" xlink:href=\"#DejaVuSans-48\"/>\r\n      </g>\r\n     </g>\r\n    </g>\r\n    <g id=\"xtick_14\">\r\n     <g id=\"line2d_23\">\r\n      <g>\r\n       <use style=\"stroke:#000000;stroke-width:0.8;\" x=\"525.584325\" xlink:href=\"#m80862fbbae\" y=\"457.198125\"/>\r\n      </g>\r\n     </g>\r\n     <g id=\"text_16\">\r\n      <!-- 500 -->\r\n      <defs>\r\n       <path d=\"M 10.796875 72.90625 \r\nL 49.515625 72.90625 \r\nL 49.515625 64.59375 \r\nL 19.828125 64.59375 \r\nL 19.828125 46.734375 \r\nQ 21.96875 47.46875 24.109375 47.828125 \r\nQ 26.265625 48.1875 28.421875 48.1875 \r\nQ 40.625 48.1875 47.75 41.5 \r\nQ 54.890625 34.8125 54.890625 23.390625 \r\nQ 54.890625 11.625 47.5625 5.09375 \r\nQ 40.234375 -1.421875 26.90625 -1.421875 \r\nQ 22.3125 -1.421875 17.546875 -0.640625 \r\nQ 12.796875 0.140625 7.71875 1.703125 \r\nL 7.71875 11.625 \r\nQ 12.109375 9.234375 16.796875 8.0625 \r\nQ 21.484375 6.890625 26.703125 6.890625 \r\nQ 35.15625 6.890625 40.078125 11.328125 \r\nQ 45.015625 15.765625 45.015625 23.390625 \r\nQ 45.015625 31 40.078125 35.4375 \r\nQ 35.15625 39.890625 26.703125 39.890625 \r\nQ 22.75 39.890625 18.8125 39.015625 \r\nQ 14.890625 38.140625 10.796875 36.28125 \r\nz\r\n\" id=\"DejaVuSans-53\"/>\r\n      </defs>\r\n      <g transform=\"translate(516.040575 471.796562)scale(0.1 -0.1)\">\r\n       <use xlink:href=\"#DejaVuSans-53\"/>\r\n       <use x=\"63.623047\" xlink:href=\"#DejaVuSans-48\"/>\r\n       <use x=\"127.246094\" xlink:href=\"#DejaVuSans-48\"/>\r\n      </g>\r\n     </g>\r\n    </g>\r\n    <g id=\"xtick_15\">\r\n     <g id=\"line2d_24\">\r\n      <g>\r\n       <use style=\"stroke:#000000;stroke-width:0.8;\" x=\"615.103041\" xlink:href=\"#m80862fbbae\" y=\"457.198125\"/>\r\n      </g>\r\n     </g>\r\n     <g id=\"text_17\">\r\n      <!-- 600 -->\r\n      <g transform=\"translate(605.559291 471.796562)scale(0.1 -0.1)\">\r\n       <use xlink:href=\"#DejaVuSans-54\"/>\r\n       <use x=\"63.623047\" xlink:href=\"#DejaVuSans-48\"/>\r\n       <use x=\"127.246094\" xlink:href=\"#DejaVuSans-48\"/>\r\n      </g>\r\n     </g>\r\n    </g>\r\n    <g id=\"xtick_16\">\r\n     <g id=\"line2d_25\">\r\n      <g>\r\n       <use style=\"stroke:#000000;stroke-width:0.8;\" x=\"704.621758\" xlink:href=\"#m80862fbbae\" y=\"457.198125\"/>\r\n      </g>\r\n     </g>\r\n     <g id=\"text_18\">\r\n      <!-- 700 -->\r\n      <g transform=\"translate(695.078008 471.796562)scale(0.1 -0.1)\">\r\n       <use xlink:href=\"#DejaVuSans-55\"/>\r\n       <use x=\"63.623047\" xlink:href=\"#DejaVuSans-48\"/>\r\n       <use x=\"127.246094\" xlink:href=\"#DejaVuSans-48\"/>\r\n      </g>\r\n     </g>\r\n    </g>\r\n    <g id=\"text_19\">\r\n     <!-- Number of Latent Features -->\r\n     <g transform=\"translate(323.741406 485.474687)scale(0.1 -0.1)\">\r\n      <use xlink:href=\"#DejaVuSans-78\"/>\r\n      <use x=\"74.804688\" xlink:href=\"#DejaVuSans-117\"/>\r\n      <use x=\"138.183594\" xlink:href=\"#DejaVuSans-109\"/>\r\n      <use x=\"235.595703\" xlink:href=\"#DejaVuSans-98\"/>\r\n      <use x=\"299.072266\" xlink:href=\"#DejaVuSans-101\"/>\r\n      <use x=\"360.595703\" xlink:href=\"#DejaVuSans-114\"/>\r\n      <use x=\"401.708984\" xlink:href=\"#DejaVuSans-32\"/>\r\n      <use x=\"433.496094\" xlink:href=\"#DejaVuSans-111\"/>\r\n      <use x=\"494.677734\" xlink:href=\"#DejaVuSans-102\"/>\r\n      <use x=\"529.882812\" xlink:href=\"#DejaVuSans-32\"/>\r\n      <use x=\"561.669922\" xlink:href=\"#DejaVuSans-76\"/>\r\n      <use x=\"617.382812\" xlink:href=\"#DejaVuSans-97\"/>\r\n      <use x=\"678.662109\" xlink:href=\"#DejaVuSans-116\"/>\r\n      <use x=\"717.871094\" xlink:href=\"#DejaVuSans-101\"/>\r\n      <use x=\"779.394531\" xlink:href=\"#DejaVuSans-110\"/>\r\n      <use x=\"842.773438\" xlink:href=\"#DejaVuSans-116\"/>\r\n      <use x=\"881.982422\" xlink:href=\"#DejaVuSans-32\"/>\r\n      <use x=\"913.769531\" xlink:href=\"#DejaVuSans-70\"/>\r\n      <use x=\"971.210938\" xlink:href=\"#DejaVuSans-101\"/>\r\n      <use x=\"1032.734375\" xlink:href=\"#DejaVuSans-97\"/>\r\n      <use x=\"1094.013672\" xlink:href=\"#DejaVuSans-116\"/>\r\n      <use x=\"1133.222656\" xlink:href=\"#DejaVuSans-117\"/>\r\n      <use x=\"1196.601562\" xlink:href=\"#DejaVuSans-114\"/>\r\n      <use x=\"1237.683594\" xlink:href=\"#DejaVuSans-101\"/>\r\n      <use x=\"1299.207031\" xlink:href=\"#DejaVuSans-115\"/>\r\n     </g>\r\n    </g>\r\n   </g>\r\n   <g id=\"matplotlib.axis_4\">\r\n    <g id=\"ytick_9\">\r\n     <g id=\"line2d_26\">\r\n      <g>\r\n       <use style=\"stroke:#000000;stroke-width:0.8;\" x=\"56.50625\" xlink:href=\"#m949a271793\" y=\"448.213001\"/>\r\n      </g>\r\n     </g>\r\n     <g id=\"text_20\">\r\n      <!-- 50 -->\r\n      <g transform=\"translate(36.78125 452.01222)scale(0.1 -0.1)\">\r\n       <use xlink:href=\"#DejaVuSans-53\"/>\r\n       <use x=\"63.623047\" xlink:href=\"#DejaVuSans-48\"/>\r\n      </g>\r\n     </g>\r\n    </g>\r\n    <g id=\"ytick_10\">\r\n     <g id=\"line2d_27\">\r\n      <g>\r\n       <use style=\"stroke:#000000;stroke-width:0.8;\" x=\"56.50625\" xlink:href=\"#m949a271793\" y=\"425.055465\"/>\r\n      </g>\r\n     </g>\r\n     <g id=\"text_21\">\r\n      <!-- 75 -->\r\n      <g transform=\"translate(36.78125 428.854684)scale(0.1 -0.1)\">\r\n       <use xlink:href=\"#DejaVuSans-55\"/>\r\n       <use x=\"63.623047\" xlink:href=\"#DejaVuSans-53\"/>\r\n      </g>\r\n     </g>\r\n    </g>\r\n    <g id=\"ytick_11\">\r\n     <g id=\"line2d_28\">\r\n      <g>\r\n       <use style=\"stroke:#000000;stroke-width:0.8;\" x=\"56.50625\" xlink:href=\"#m949a271793\" y=\"401.897929\"/>\r\n      </g>\r\n     </g>\r\n     <g id=\"text_22\">\r\n      <!-- 100 -->\r\n      <g transform=\"translate(30.41875 405.697148)scale(0.1 -0.1)\">\r\n       <use xlink:href=\"#DejaVuSans-49\"/>\r\n       <use x=\"63.623047\" xlink:href=\"#DejaVuSans-48\"/>\r\n       <use x=\"127.246094\" xlink:href=\"#DejaVuSans-48\"/>\r\n      </g>\r\n     </g>\r\n    </g>\r\n    <g id=\"ytick_12\">\r\n     <g id=\"line2d_29\">\r\n      <g>\r\n       <use style=\"stroke:#000000;stroke-width:0.8;\" x=\"56.50625\" xlink:href=\"#m949a271793\" y=\"378.740393\"/>\r\n      </g>\r\n     </g>\r\n     <g id=\"text_23\">\r\n      <!-- 125 -->\r\n      <g transform=\"translate(30.41875 382.539612)scale(0.1 -0.1)\">\r\n       <use xlink:href=\"#DejaVuSans-49\"/>\r\n       <use x=\"63.623047\" xlink:href=\"#DejaVuSans-50\"/>\r\n       <use x=\"127.246094\" xlink:href=\"#DejaVuSans-53\"/>\r\n      </g>\r\n     </g>\r\n    </g>\r\n    <g id=\"ytick_13\">\r\n     <g id=\"line2d_30\">\r\n      <g>\r\n       <use style=\"stroke:#000000;stroke-width:0.8;\" x=\"56.50625\" xlink:href=\"#m949a271793\" y=\"355.582857\"/>\r\n      </g>\r\n     </g>\r\n     <g id=\"text_24\">\r\n      <!-- 150 -->\r\n      <g transform=\"translate(30.41875 359.382076)scale(0.1 -0.1)\">\r\n       <use xlink:href=\"#DejaVuSans-49\"/>\r\n       <use x=\"63.623047\" xlink:href=\"#DejaVuSans-53\"/>\r\n       <use x=\"127.246094\" xlink:href=\"#DejaVuSans-48\"/>\r\n      </g>\r\n     </g>\r\n    </g>\r\n    <g id=\"ytick_14\">\r\n     <g id=\"line2d_31\">\r\n      <g>\r\n       <use style=\"stroke:#000000;stroke-width:0.8;\" x=\"56.50625\" xlink:href=\"#m949a271793\" y=\"332.425321\"/>\r\n      </g>\r\n     </g>\r\n     <g id=\"text_25\">\r\n      <!-- 175 -->\r\n      <g transform=\"translate(30.41875 336.22454)scale(0.1 -0.1)\">\r\n       <use xlink:href=\"#DejaVuSans-49\"/>\r\n       <use x=\"63.623047\" xlink:href=\"#DejaVuSans-55\"/>\r\n       <use x=\"127.246094\" xlink:href=\"#DejaVuSans-53\"/>\r\n      </g>\r\n     </g>\r\n    </g>\r\n    <g id=\"ytick_15\">\r\n     <g id=\"line2d_32\">\r\n      <g>\r\n       <use style=\"stroke:#000000;stroke-width:0.8;\" x=\"56.50625\" xlink:href=\"#m949a271793\" y=\"309.267785\"/>\r\n      </g>\r\n     </g>\r\n     <g id=\"text_26\">\r\n      <!-- 200 -->\r\n      <g transform=\"translate(30.41875 313.067004)scale(0.1 -0.1)\">\r\n       <use xlink:href=\"#DejaVuSans-50\"/>\r\n       <use x=\"63.623047\" xlink:href=\"#DejaVuSans-48\"/>\r\n       <use x=\"127.246094\" xlink:href=\"#DejaVuSans-48\"/>\r\n      </g>\r\n     </g>\r\n    </g>\r\n    <g id=\"ytick_16\">\r\n     <g id=\"line2d_33\">\r\n      <g>\r\n       <use style=\"stroke:#000000;stroke-width:0.8;\" x=\"56.50625\" xlink:href=\"#m949a271793\" y=\"286.110249\"/>\r\n      </g>\r\n     </g>\r\n     <g id=\"text_27\">\r\n      <!-- 225 -->\r\n      <g transform=\"translate(30.41875 289.909468)scale(0.1 -0.1)\">\r\n       <use xlink:href=\"#DejaVuSans-50\"/>\r\n       <use x=\"63.623047\" xlink:href=\"#DejaVuSans-50\"/>\r\n       <use x=\"127.246094\" xlink:href=\"#DejaVuSans-53\"/>\r\n      </g>\r\n     </g>\r\n    </g>\r\n    <g id=\"ytick_17\">\r\n     <g id=\"line2d_34\">\r\n      <g>\r\n       <use style=\"stroke:#000000;stroke-width:0.8;\" x=\"56.50625\" xlink:href=\"#m949a271793\" y=\"262.952713\"/>\r\n      </g>\r\n     </g>\r\n     <g id=\"text_28\">\r\n      <!-- 250 -->\r\n      <g transform=\"translate(30.41875 266.751932)scale(0.1 -0.1)\">\r\n       <use xlink:href=\"#DejaVuSans-50\"/>\r\n       <use x=\"63.623047\" xlink:href=\"#DejaVuSans-53\"/>\r\n       <use x=\"127.246094\" xlink:href=\"#DejaVuSans-48\"/>\r\n      </g>\r\n     </g>\r\n    </g>\r\n    <g id=\"text_29\">\r\n     <!-- Num Recommendations -->\r\n     <defs>\r\n      <path d=\"M 44.390625 34.1875 \r\nQ 47.5625 33.109375 50.5625 29.59375 \r\nQ 53.5625 26.078125 56.59375 19.921875 \r\nL 66.609375 0 \r\nL 56 0 \r\nL 46.6875 18.703125 \r\nQ 43.0625 26.03125 39.671875 28.421875 \r\nQ 36.28125 30.8125 30.421875 30.8125 \r\nL 19.671875 30.8125 \r\nL 19.671875 0 \r\nL 9.8125 0 \r\nL 9.8125 72.90625 \r\nL 32.078125 72.90625 \r\nQ 44.578125 72.90625 50.734375 67.671875 \r\nQ 56.890625 62.453125 56.890625 51.90625 \r\nQ 56.890625 45.015625 53.6875 40.46875 \r\nQ 50.484375 35.9375 44.390625 34.1875 \r\nz\r\nM 19.671875 64.796875 \r\nL 19.671875 38.921875 \r\nL 32.078125 38.921875 \r\nQ 39.203125 38.921875 42.84375 42.21875 \r\nQ 46.484375 45.515625 46.484375 51.90625 \r\nQ 46.484375 58.296875 42.84375 61.546875 \r\nQ 39.203125 64.796875 32.078125 64.796875 \r\nz\r\n\" id=\"DejaVuSans-82\"/>\r\n      <path d=\"M 45.40625 46.390625 \r\nL 45.40625 75.984375 \r\nL 54.390625 75.984375 \r\nL 54.390625 0 \r\nL 45.40625 0 \r\nL 45.40625 8.203125 \r\nQ 42.578125 3.328125 38.25 0.953125 \r\nQ 33.9375 -1.421875 27.875 -1.421875 \r\nQ 17.96875 -1.421875 11.734375 6.484375 \r\nQ 5.515625 14.40625 5.515625 27.296875 \r\nQ 5.515625 40.1875 11.734375 48.09375 \r\nQ 17.96875 56 27.875 56 \r\nQ 33.9375 56 38.25 53.625 \r\nQ 42.578125 51.265625 45.40625 46.390625 \r\nz\r\nM 14.796875 27.296875 \r\nQ 14.796875 17.390625 18.875 11.75 \r\nQ 22.953125 6.109375 30.078125 6.109375 \r\nQ 37.203125 6.109375 41.296875 11.75 \r\nQ 45.40625 17.390625 45.40625 27.296875 \r\nQ 45.40625 37.203125 41.296875 42.84375 \r\nQ 37.203125 48.484375 30.078125 48.484375 \r\nQ 22.953125 48.484375 18.875 42.84375 \r\nQ 14.796875 37.203125 14.796875 27.296875 \r\nz\r\n\" id=\"DejaVuSans-100\"/>\r\n      <path d=\"M 9.421875 54.6875 \r\nL 18.40625 54.6875 \r\nL 18.40625 0 \r\nL 9.421875 0 \r\nz\r\nM 9.421875 75.984375 \r\nL 18.40625 75.984375 \r\nL 18.40625 64.59375 \r\nL 9.421875 64.59375 \r\nz\r\n\" id=\"DejaVuSans-105\"/>\r\n     </defs>\r\n     <g transform=\"translate(24.339062 418.493011)rotate(-90)scale(0.1 -0.1)\">\r\n      <use xlink:href=\"#DejaVuSans-78\"/>\r\n      <use x=\"74.804688\" xlink:href=\"#DejaVuSans-117\"/>\r\n      <use x=\"138.183594\" xlink:href=\"#DejaVuSans-109\"/>\r\n      <use x=\"235.595703\" xlink:href=\"#DejaVuSans-32\"/>\r\n      <use x=\"267.382812\" xlink:href=\"#DejaVuSans-82\"/>\r\n      <use x=\"336.802734\" xlink:href=\"#DejaVuSans-101\"/>\r\n      <use x=\"398.326172\" xlink:href=\"#DejaVuSans-99\"/>\r\n      <use x=\"453.306641\" xlink:href=\"#DejaVuSans-111\"/>\r\n      <use x=\"514.488281\" xlink:href=\"#DejaVuSans-109\"/>\r\n      <use x=\"611.900391\" xlink:href=\"#DejaVuSans-109\"/>\r\n      <use x=\"709.3125\" xlink:href=\"#DejaVuSans-101\"/>\r\n      <use x=\"770.835938\" xlink:href=\"#DejaVuSans-110\"/>\r\n      <use x=\"834.214844\" xlink:href=\"#DejaVuSans-100\"/>\r\n      <use x=\"897.691406\" xlink:href=\"#DejaVuSans-97\"/>\r\n      <use x=\"958.970703\" xlink:href=\"#DejaVuSans-116\"/>\r\n      <use x=\"998.179688\" xlink:href=\"#DejaVuSans-105\"/>\r\n      <use x=\"1025.962891\" xlink:href=\"#DejaVuSans-111\"/>\r\n      <use x=\"1087.144531\" xlink:href=\"#DejaVuSans-110\"/>\r\n      <use x=\"1150.523438\" xlink:href=\"#DejaVuSans-115\"/>\r\n     </g>\r\n    </g>\r\n   </g>\r\n   <g id=\"line2d_35\">\r\n    <path clip-path=\"url(#pa114229af5)\" d=\"M 86.942614 448.213001 \r\nL 104.846357 412.087245 \r\nL 122.7501 395.413819 \r\nL 140.653844 375.035187 \r\nL 158.557587 357.43546 \r\nL 176.46133 337.98313 \r\nL 194.365074 325.941211 \r\nL 212.268817 315.751895 \r\nL 230.17256 306.488881 \r\nL 248.076303 299.078469 \r\nL 265.980047 291.668058 \r\nL 283.88379 287.962852 \r\nL 301.787533 282.405043 \r\nL 319.691277 278.699838 \r\nL 337.59502 275.920933 \r\nL 355.498763 272.215727 \r\nL 373.402507 272.215727 \r\nL 391.30625 270.363125 \r\nL 409.209993 270.363125 \r\nL 427.113737 268.510522 \r\nL 445.01748 268.510522 \r\nL 462.921223 268.510522 \r\nL 480.824967 268.510522 \r\nL 498.72871 268.510522 \r\nL 516.632453 268.510522 \r\nL 534.536197 268.510522 \r\nL 552.43994 268.510522 \r\nL 570.343683 268.510522 \r\nL 588.247426 268.510522 \r\nL 606.15117 268.510522 \r\nL 624.054913 268.510522 \r\nL 641.958656 268.510522 \r\nL 659.8624 268.510522 \r\nL 677.766143 268.510522 \r\nL 695.669886 268.510522 \r\n\" style=\"fill:none;stroke:#1f77b4;stroke-linecap:square;stroke-width:1.5;\"/>\r\n   </g>\r\n   <g id=\"patch_8\">\r\n    <path d=\"M 56.50625 457.198125 \r\nL 56.50625 259.525398 \r\n\" style=\"fill:none;stroke:#000000;stroke-linecap:square;stroke-linejoin:miter;stroke-width:0.8;\"/>\r\n   </g>\r\n   <g id=\"patch_9\">\r\n    <path d=\"M 726.10625 457.198125 \r\nL 726.10625 259.525398 \r\n\" style=\"fill:none;stroke:#000000;stroke-linecap:square;stroke-linejoin:miter;stroke-width:0.8;\"/>\r\n   </g>\r\n   <g id=\"patch_10\">\r\n    <path d=\"M 56.50625 457.198125 \r\nL 726.10625 457.198125 \r\n\" style=\"fill:none;stroke:#000000;stroke-linecap:square;stroke-linejoin:miter;stroke-width:0.8;\"/>\r\n   </g>\r\n   <g id=\"patch_11\">\r\n    <path d=\"M 56.50625 259.525398 \r\nL 726.10625 259.525398 \r\n\" style=\"fill:none;stroke:#000000;stroke-linecap:square;stroke-linejoin:miter;stroke-width:0.8;\"/>\r\n   </g>\r\n   <g id=\"text_30\">\r\n    <!-- Num Recommendations Made vs Number of Latent Features -->\r\n    <defs>\r\n     <path d=\"M 9.8125 72.90625 \r\nL 24.515625 72.90625 \r\nL 43.109375 23.296875 \r\nL 61.8125 72.90625 \r\nL 76.515625 72.90625 \r\nL 76.515625 0 \r\nL 66.890625 0 \r\nL 66.890625 64.015625 \r\nL 48.09375 14.015625 \r\nL 38.1875 14.015625 \r\nL 19.390625 64.015625 \r\nL 19.390625 0 \r\nL 9.8125 0 \r\nz\r\n\" id=\"DejaVuSans-77\"/>\r\n    </defs>\r\n    <g transform=\"translate(209.31875 253.525398)scale(0.12 -0.12)\">\r\n     <use xlink:href=\"#DejaVuSans-78\"/>\r\n     <use x=\"74.804688\" xlink:href=\"#DejaVuSans-117\"/>\r\n     <use x=\"138.183594\" xlink:href=\"#DejaVuSans-109\"/>\r\n     <use x=\"235.595703\" xlink:href=\"#DejaVuSans-32\"/>\r\n     <use x=\"267.382812\" xlink:href=\"#DejaVuSans-82\"/>\r\n     <use x=\"336.802734\" xlink:href=\"#DejaVuSans-101\"/>\r\n     <use x=\"398.326172\" xlink:href=\"#DejaVuSans-99\"/>\r\n     <use x=\"453.306641\" xlink:href=\"#DejaVuSans-111\"/>\r\n     <use x=\"514.488281\" xlink:href=\"#DejaVuSans-109\"/>\r\n     <use x=\"611.900391\" xlink:href=\"#DejaVuSans-109\"/>\r\n     <use x=\"709.3125\" xlink:href=\"#DejaVuSans-101\"/>\r\n     <use x=\"770.835938\" xlink:href=\"#DejaVuSans-110\"/>\r\n     <use x=\"834.214844\" xlink:href=\"#DejaVuSans-100\"/>\r\n     <use x=\"897.691406\" xlink:href=\"#DejaVuSans-97\"/>\r\n     <use x=\"958.970703\" xlink:href=\"#DejaVuSans-116\"/>\r\n     <use x=\"998.179688\" xlink:href=\"#DejaVuSans-105\"/>\r\n     <use x=\"1025.962891\" xlink:href=\"#DejaVuSans-111\"/>\r\n     <use x=\"1087.144531\" xlink:href=\"#DejaVuSans-110\"/>\r\n     <use x=\"1150.523438\" xlink:href=\"#DejaVuSans-115\"/>\r\n     <use x=\"1202.623047\" xlink:href=\"#DejaVuSans-32\"/>\r\n     <use x=\"1234.410156\" xlink:href=\"#DejaVuSans-77\"/>\r\n     <use x=\"1320.689453\" xlink:href=\"#DejaVuSans-97\"/>\r\n     <use x=\"1381.96875\" xlink:href=\"#DejaVuSans-100\"/>\r\n     <use x=\"1445.445312\" xlink:href=\"#DejaVuSans-101\"/>\r\n     <use x=\"1506.96875\" xlink:href=\"#DejaVuSans-32\"/>\r\n     <use x=\"1538.755859\" xlink:href=\"#DejaVuSans-118\"/>\r\n     <use x=\"1597.935547\" xlink:href=\"#DejaVuSans-115\"/>\r\n     <use x=\"1650.035156\" xlink:href=\"#DejaVuSans-32\"/>\r\n     <use x=\"1681.822266\" xlink:href=\"#DejaVuSans-78\"/>\r\n     <use x=\"1756.626953\" xlink:href=\"#DejaVuSans-117\"/>\r\n     <use x=\"1820.005859\" xlink:href=\"#DejaVuSans-109\"/>\r\n     <use x=\"1917.417969\" xlink:href=\"#DejaVuSans-98\"/>\r\n     <use x=\"1980.894531\" xlink:href=\"#DejaVuSans-101\"/>\r\n     <use x=\"2042.417969\" xlink:href=\"#DejaVuSans-114\"/>\r\n     <use x=\"2083.53125\" xlink:href=\"#DejaVuSans-32\"/>\r\n     <use x=\"2115.318359\" xlink:href=\"#DejaVuSans-111\"/>\r\n     <use x=\"2176.5\" xlink:href=\"#DejaVuSans-102\"/>\r\n     <use x=\"2211.705078\" xlink:href=\"#DejaVuSans-32\"/>\r\n     <use x=\"2243.492188\" xlink:href=\"#DejaVuSans-76\"/>\r\n     <use x=\"2299.205078\" xlink:href=\"#DejaVuSans-97\"/>\r\n     <use x=\"2360.484375\" xlink:href=\"#DejaVuSans-116\"/>\r\n     <use x=\"2399.693359\" xlink:href=\"#DejaVuSans-101\"/>\r\n     <use x=\"2461.216797\" xlink:href=\"#DejaVuSans-110\"/>\r\n     <use x=\"2524.595703\" xlink:href=\"#DejaVuSans-116\"/>\r\n     <use x=\"2563.804688\" xlink:href=\"#DejaVuSans-32\"/>\r\n     <use x=\"2595.591797\" xlink:href=\"#DejaVuSans-70\"/>\r\n     <use x=\"2653.033203\" xlink:href=\"#DejaVuSans-101\"/>\r\n     <use x=\"2714.556641\" xlink:href=\"#DejaVuSans-97\"/>\r\n     <use x=\"2775.835938\" xlink:href=\"#DejaVuSans-116\"/>\r\n     <use x=\"2815.044922\" xlink:href=\"#DejaVuSans-117\"/>\r\n     <use x=\"2878.423828\" xlink:href=\"#DejaVuSans-114\"/>\r\n     <use x=\"2919.505859\" xlink:href=\"#DejaVuSans-101\"/>\r\n     <use x=\"2981.029297\" xlink:href=\"#DejaVuSans-115\"/>\r\n    </g>\r\n   </g>\r\n  </g>\r\n </g>\r\n <defs>\r\n  <clipPath id=\"p4f26c16360\">\r\n   <rect height=\"197.672727\" width=\"669.6\" x=\"56.50625\" y=\"22.318125\"/>\r\n  </clipPath>\r\n  <clipPath id=\"pa114229af5\">\r\n   <rect height=\"197.672727\" width=\"669.6\" x=\"56.50625\" y=\"259.525398\"/>\r\n  </clipPath>\r\n </defs>\r\n</svg>\r\n",
      "text/plain": "<Figure size 864x576 with 2 Axes>"
     },
     "metadata": {
      "needs_background": "light"
     },
     "output_type": "display_data"
    }
   ],
   "source": [
    "# plot accuracy vs number of latent features\n",
    "\n",
    "sum_errs = []\n",
    "num_recs = []\n",
    "for k in num_latent_feats:\n",
    "    recompose, err = factorized_matrix_recomposition(\n",
    "        u_train[train_in_test], \n",
    "        s_train, \n",
    "        vt_train[:, train_col_in_test], \n",
    "        user_item_test[test_in_train].sort_index(), \n",
    "        k=k)\n",
    "    sum_errs.append(err)\n",
    "    num_recs.append(recompose.sum())\n",
    "    \n",
    "fig, ax = plt.subplots(2, 1, figsize=(12, 8), sharex=True)\n",
    "ax[0].plot(num_latent_feats, 1 - np.array(sum_errs) / recompose.size)\n",
    "ax[1].plot(num_latent_feats, num_recs)\n",
    "\n",
    "ax[0].set_ylabel('Accuracy')\n",
    "ax[1].set_ylabel('Num Recommendations')\n",
    "ax[0].set_title('Accuracy vs. Number of Latent Features')\n",
    "ax[1].set_title('Num Recommendations Made vs Number of Latent Features')\n",
    "_ = plt.xlabel('Number of Latent Features')"
   ]
  },
  {
   "cell_type": "markdown",
   "metadata": {},
   "source": [
    "The first plot above seems to indicate that we achieve our highest accuracy with matrix factorization and recomposition with a lower number of latent features. Intuitively this might not make sense. <br>\n",
    "However, upon examining the second plot, you can see that the actual number of cells in the matrix with value=1 (recommending the article to the user) increase with the number of latent features. <br>\n",
    "For our case, setting more cell values to 1 actually hurts the model in terms of accuracy. In fact, the <i> highest </i> accuracy could be achieved just by setting all cell values to 0!\n",
    "<br>"
   ]
  },
  {
   "cell_type": "code",
   "execution_count": 111,
   "metadata": {},
   "outputs": [],
   "source": [
    "# totally empty matrix of the correct shape\n",
    "fake_recomposed = np.zeros(shape=recompose.shape)"
   ]
  },
  {
   "cell_type": "code",
   "execution_count": 112,
   "metadata": {},
   "outputs": [
    {
     "data": {
      "text/plain": "0.9810104529616724"
     },
     "execution_count": 112,
     "metadata": {},
     "output_type": "execute_result"
    }
   ],
   "source": [
    "(fake_recomposed == user_item_test[test_in_train].values).mean()"
   ]
  },
  {
   "cell_type": "markdown",
   "metadata": {},
   "source": [
    "As discussed, we can achieve 98% accuracy on test data by simply not recommending any articles at all! Seems rather silly. <br><br>\n",
    "Another way to look at it would be to plot the proportion of correct recommendations and incorrect recommendations by number of latent features. To achieve this we could calculate precision and recall for each step. <br>\n",
    "Precision can be intuitively understood as the number of True Positives / Number Positives Predicted. <br>\n",
    "Recall can be intuitively understood as the number of True Positives Predicted / Number True Positives."
   ]
  },
  {
   "cell_type": "code",
   "execution_count": 113,
   "metadata": {},
   "outputs": [
    {
     "data": {
      "image/png": "[encoded data removed]",
      "image/svg+xml": "<?xml version=\"1.0\" encoding=\"utf-8\" standalone=\"no\"?>\r\n<!DOCTYPE svg PUBLIC \"-//W3C//DTD SVG 1.1//EN\"\r\n  \"http://www.w3.org/Graphics/SVG/1.1/DTD/svg11.dtd\">\r\n<!-- Created with matplotlib (https://matplotlib.org/) -->\r\n<svg height=\"603.474375pt\" version=\"1.1\" viewBox=\"0 0 900.70625 603.474375\" width=\"900.70625pt\" xmlns=\"http://www.w3.org/2000/svg\" xmlns:xlink=\"http://www.w3.org/1999/xlink\">\r\n <defs>\r\n  <style type=\"text/css\">\r\n*{stroke-linecap:butt;stroke-linejoin:round;}\r\n  </style>\r\n </defs>\r\n <g id=\"figure_1\">\r\n  <g id=\"patch_1\">\r\n   <path d=\"M 0 603.474375 \r\nL 900.70625 603.474375 \r\nL 900.70625 0 \r\nL 0 0 \r\nz\r\n\" style=\"fill:none;\"/>\r\n  </g>\r\n  <g id=\"axes_1\">\r\n   <g id=\"patch_2\">\r\n    <path d=\"M 56.50625 140.492038 \r\nL 893.50625 140.492038 \r\nL 893.50625 22.318125 \r\nL 56.50625 22.318125 \r\nz\r\n\" style=\"fill:#ffffff;\"/>\r\n   </g>\r\n   <g id=\"matplotlib.axis_1\">\r\n    <g id=\"xtick_1\">\r\n     <g id=\"line2d_1\">\r\n      <defs>\r\n       <path d=\"M 0 0 \r\nL 0 3.5 \r\n\" id=\"m9fad7024d7\" style=\"stroke:#000000;stroke-width:0.8;\"/>\r\n      </defs>\r\n      <g>\r\n       <use style=\"stroke:#000000;stroke-width:0.8;\" x=\"83.361865\" xlink:href=\"#m9fad7024d7\" y=\"140.492038\"/>\r\n      </g>\r\n     </g>\r\n    </g>\r\n    <g id=\"xtick_2\">\r\n     <g id=\"line2d_2\">\r\n      <g>\r\n       <use style=\"stroke:#000000;stroke-width:0.8;\" x=\"195.260261\" xlink:href=\"#m9fad7024d7\" y=\"140.492038\"/>\r\n      </g>\r\n     </g>\r\n    </g>\r\n    <g id=\"xtick_3\">\r\n     <g id=\"line2d_3\">\r\n      <g>\r\n       <use style=\"stroke:#000000;stroke-width:0.8;\" x=\"307.158656\" xlink:href=\"#m9fad7024d7\" y=\"140.492038\"/>\r\n      </g>\r\n     </g>\r\n    </g>\r\n    <g id=\"xtick_4\">\r\n     <g id=\"line2d_4\">\r\n      <g>\r\n       <use style=\"stroke:#000000;stroke-width:0.8;\" x=\"419.057052\" xlink:href=\"#m9fad7024d7\" y=\"140.492038\"/>\r\n      </g>\r\n     </g>\r\n    </g>\r\n    <g id=\"xtick_5\">\r\n     <g id=\"line2d_5\">\r\n      <g>\r\n       <use style=\"stroke:#000000;stroke-width:0.8;\" x=\"530.955448\" xlink:href=\"#m9fad7024d7\" y=\"140.492038\"/>\r\n      </g>\r\n     </g>\r\n    </g>\r\n    <g id=\"xtick_6\">\r\n     <g id=\"line2d_6\">\r\n      <g>\r\n       <use style=\"stroke:#000000;stroke-width:0.8;\" x=\"642.853844\" xlink:href=\"#m9fad7024d7\" y=\"140.492038\"/>\r\n      </g>\r\n     </g>\r\n    </g>\r\n    <g id=\"xtick_7\">\r\n     <g id=\"line2d_7\">\r\n      <g>\r\n       <use style=\"stroke:#000000;stroke-width:0.8;\" x=\"754.752239\" xlink:href=\"#m9fad7024d7\" y=\"140.492038\"/>\r\n      </g>\r\n     </g>\r\n    </g>\r\n    <g id=\"xtick_8\">\r\n     <g id=\"line2d_8\">\r\n      <g>\r\n       <use style=\"stroke:#000000;stroke-width:0.8;\" x=\"866.650635\" xlink:href=\"#m9fad7024d7\" y=\"140.492038\"/>\r\n      </g>\r\n     </g>\r\n    </g>\r\n   </g>\r\n   <g id=\"matplotlib.axis_2\">\r\n    <g id=\"ytick_1\">\r\n     <g id=\"line2d_9\">\r\n      <defs>\r\n       <path d=\"M 0 0 \r\nL -3.5 0 \r\n\" id=\"m5a65a7c186\" style=\"stroke:#000000;stroke-width:0.8;\"/>\r\n      </defs>\r\n      <g>\r\n       <use style=\"stroke:#000000;stroke-width:0.8;\" x=\"56.50625\" xlink:href=\"#m5a65a7c186\" y=\"130.957552\"/>\r\n      </g>\r\n     </g>\r\n     <g id=\"text_1\">\r\n      <!-- 0.965 -->\r\n      <defs>\r\n       <path d=\"M 31.78125 66.40625 \r\nQ 24.171875 66.40625 20.328125 58.90625 \r\nQ 16.5 51.421875 16.5 36.375 \r\nQ 16.5 21.390625 20.328125 13.890625 \r\nQ 24.171875 6.390625 31.78125 6.390625 \r\nQ 39.453125 6.390625 43.28125 13.890625 \r\nQ 47.125 21.390625 47.125 36.375 \r\nQ 47.125 51.421875 43.28125 58.90625 \r\nQ 39.453125 66.40625 31.78125 66.40625 \r\nz\r\nM 31.78125 74.21875 \r\nQ 44.046875 74.21875 50.515625 64.515625 \r\nQ 56.984375 54.828125 56.984375 36.375 \r\nQ 56.984375 17.96875 50.515625 8.265625 \r\nQ 44.046875 -1.421875 31.78125 -1.421875 \r\nQ 19.53125 -1.421875 13.0625 8.265625 \r\nQ 6.59375 17.96875 6.59375 36.375 \r\nQ 6.59375 54.828125 13.0625 64.515625 \r\nQ 19.53125 74.21875 31.78125 74.21875 \r\nz\r\n\" id=\"DejaVuSans-48\"/>\r\n       <path d=\"M 10.6875 12.40625 \r\nL 21 12.40625 \r\nL 21 0 \r\nL 10.6875 0 \r\nz\r\n\" id=\"DejaVuSans-46\"/>\r\n       <path d=\"M 10.984375 1.515625 \r\nL 10.984375 10.5 \r\nQ 14.703125 8.734375 18.5 7.8125 \r\nQ 22.3125 6.890625 25.984375 6.890625 \r\nQ 35.75 6.890625 40.890625 13.453125 \r\nQ 46.046875 20.015625 46.78125 33.40625 \r\nQ 43.953125 29.203125 39.59375 26.953125 \r\nQ 35.25 24.703125 29.984375 24.703125 \r\nQ 19.046875 24.703125 12.671875 31.3125 \r\nQ 6.296875 37.9375 6.296875 49.421875 \r\nQ 6.296875 60.640625 12.9375 67.421875 \r\nQ 19.578125 74.21875 30.609375 74.21875 \r\nQ 43.265625 74.21875 49.921875 64.515625 \r\nQ 56.59375 54.828125 56.59375 36.375 \r\nQ 56.59375 19.140625 48.40625 8.859375 \r\nQ 40.234375 -1.421875 26.421875 -1.421875 \r\nQ 22.703125 -1.421875 18.890625 -0.6875 \r\nQ 15.09375 0.046875 10.984375 1.515625 \r\nz\r\nM 30.609375 32.421875 \r\nQ 37.25 32.421875 41.125 36.953125 \r\nQ 45.015625 41.5 45.015625 49.421875 \r\nQ 45.015625 57.28125 41.125 61.84375 \r\nQ 37.25 66.40625 30.609375 66.40625 \r\nQ 23.96875 66.40625 20.09375 61.84375 \r\nQ 16.21875 57.28125 16.21875 49.421875 \r\nQ 16.21875 41.5 20.09375 36.953125 \r\nQ 23.96875 32.421875 30.609375 32.421875 \r\nz\r\n\" id=\"DejaVuSans-57\"/>\r\n       <path d=\"M 33.015625 40.375 \r\nQ 26.375 40.375 22.484375 35.828125 \r\nQ 18.609375 31.296875 18.609375 23.390625 \r\nQ 18.609375 15.53125 22.484375 10.953125 \r\nQ 26.375 6.390625 33.015625 6.390625 \r\nQ 39.65625 6.390625 43.53125 10.953125 \r\nQ 47.40625 15.53125 47.40625 23.390625 \r\nQ 47.40625 31.296875 43.53125 35.828125 \r\nQ 39.65625 40.375 33.015625 40.375 \r\nz\r\nM 52.59375 71.296875 \r\nL 52.59375 62.3125 \r\nQ 48.875 64.0625 45.09375 64.984375 \r\nQ 41.3125 65.921875 37.59375 65.921875 \r\nQ 27.828125 65.921875 22.671875 59.328125 \r\nQ 17.53125 52.734375 16.796875 39.40625 \r\nQ 19.671875 43.65625 24.015625 45.921875 \r\nQ 28.375 48.1875 33.59375 48.1875 \r\nQ 44.578125 48.1875 50.953125 41.515625 \r\nQ 57.328125 34.859375 57.328125 23.390625 \r\nQ 57.328125 12.15625 50.6875 5.359375 \r\nQ 44.046875 -1.421875 33.015625 -1.421875 \r\nQ 20.359375 -1.421875 13.671875 8.265625 \r\nQ 6.984375 17.96875 6.984375 36.375 \r\nQ 6.984375 53.65625 15.1875 63.9375 \r\nQ 23.390625 74.21875 37.203125 74.21875 \r\nQ 40.921875 74.21875 44.703125 73.484375 \r\nQ 48.484375 72.75 52.59375 71.296875 \r\nz\r\n\" id=\"DejaVuSans-54\"/>\r\n       <path d=\"M 10.796875 72.90625 \r\nL 49.515625 72.90625 \r\nL 49.515625 64.59375 \r\nL 19.828125 64.59375 \r\nL 19.828125 46.734375 \r\nQ 21.96875 47.46875 24.109375 47.828125 \r\nQ 26.265625 48.1875 28.421875 48.1875 \r\nQ 40.625 48.1875 47.75 41.5 \r\nQ 54.890625 34.8125 54.890625 23.390625 \r\nQ 54.890625 11.625 47.5625 5.09375 \r\nQ 40.234375 -1.421875 26.90625 -1.421875 \r\nQ 22.3125 -1.421875 17.546875 -0.640625 \r\nQ 12.796875 0.140625 7.71875 1.703125 \r\nL 7.71875 11.625 \r\nQ 12.109375 9.234375 16.796875 8.0625 \r\nQ 21.484375 6.890625 26.703125 6.890625 \r\nQ 35.15625 6.890625 40.078125 11.328125 \r\nQ 45.015625 15.765625 45.015625 23.390625 \r\nQ 45.015625 31 40.078125 35.4375 \r\nQ 35.15625 39.890625 26.703125 39.890625 \r\nQ 22.75 39.890625 18.8125 39.015625 \r\nQ 14.890625 38.140625 10.796875 36.28125 \r\nz\r\n\" id=\"DejaVuSans-53\"/>\r\n      </defs>\r\n      <g transform=\"translate(20.878125 134.756771)scale(0.1 -0.1)\">\r\n       <use xlink:href=\"#DejaVuSans-48\"/>\r\n       <use x=\"63.623047\" xlink:href=\"#DejaVuSans-46\"/>\r\n       <use x=\"95.410156\" xlink:href=\"#DejaVuSans-57\"/>\r\n       <use x=\"159.033203\" xlink:href=\"#DejaVuSans-54\"/>\r\n       <use x=\"222.65625\" xlink:href=\"#DejaVuSans-53\"/>\r\n      </g>\r\n     </g>\r\n    </g>\r\n    <g id=\"ytick_2\">\r\n     <g id=\"line2d_10\">\r\n      <g>\r\n       <use style=\"stroke:#000000;stroke-width:0.8;\" x=\"56.50625\" xlink:href=\"#m5a65a7c186\" y=\"92.416742\"/>\r\n      </g>\r\n     </g>\r\n     <g id=\"text_2\">\r\n      <!-- 0.970 -->\r\n      <defs>\r\n       <path d=\"M 8.203125 72.90625 \r\nL 55.078125 72.90625 \r\nL 55.078125 68.703125 \r\nL 28.609375 0 \r\nL 18.3125 0 \r\nL 43.21875 64.59375 \r\nL 8.203125 64.59375 \r\nz\r\n\" id=\"DejaVuSans-55\"/>\r\n      </defs>\r\n      <g transform=\"translate(20.878125 96.21596)scale(0.1 -0.1)\">\r\n       <use xlink:href=\"#DejaVuSans-48\"/>\r\n       <use x=\"63.623047\" xlink:href=\"#DejaVuSans-46\"/>\r\n       <use x=\"95.410156\" xlink:href=\"#DejaVuSans-57\"/>\r\n       <use x=\"159.033203\" xlink:href=\"#DejaVuSans-55\"/>\r\n       <use x=\"222.65625\" xlink:href=\"#DejaVuSans-48\"/>\r\n      </g>\r\n     </g>\r\n    </g>\r\n    <g id=\"ytick_3\">\r\n     <g id=\"line2d_11\">\r\n      <g>\r\n       <use style=\"stroke:#000000;stroke-width:0.8;\" x=\"56.50625\" xlink:href=\"#m5a65a7c186\" y=\"53.875931\"/>\r\n      </g>\r\n     </g>\r\n     <g id=\"text_3\">\r\n      <!-- 0.975 -->\r\n      <g transform=\"translate(20.878125 57.67515)scale(0.1 -0.1)\">\r\n       <use xlink:href=\"#DejaVuSans-48\"/>\r\n       <use x=\"63.623047\" xlink:href=\"#DejaVuSans-46\"/>\r\n       <use x=\"95.410156\" xlink:href=\"#DejaVuSans-57\"/>\r\n       <use x=\"159.033203\" xlink:href=\"#DejaVuSans-55\"/>\r\n       <use x=\"222.65625\" xlink:href=\"#DejaVuSans-53\"/>\r\n      </g>\r\n     </g>\r\n    </g>\r\n    <g id=\"text_4\">\r\n     <!-- Accuracy -->\r\n     <defs>\r\n      <path d=\"M 34.1875 63.1875 \r\nL 20.796875 26.90625 \r\nL 47.609375 26.90625 \r\nz\r\nM 28.609375 72.90625 \r\nL 39.796875 72.90625 \r\nL 67.578125 0 \r\nL 57.328125 0 \r\nL 50.6875 18.703125 \r\nL 17.828125 18.703125 \r\nL 11.1875 0 \r\nL 0.78125 0 \r\nz\r\n\" id=\"DejaVuSans-65\"/>\r\n      <path d=\"M 48.78125 52.59375 \r\nL 48.78125 44.1875 \r\nQ 44.96875 46.296875 41.140625 47.34375 \r\nQ 37.3125 48.390625 33.40625 48.390625 \r\nQ 24.65625 48.390625 19.8125 42.84375 \r\nQ 14.984375 37.3125 14.984375 27.296875 \r\nQ 14.984375 17.28125 19.8125 11.734375 \r\nQ 24.65625 6.203125 33.40625 6.203125 \r\nQ 37.3125 6.203125 41.140625 7.25 \r\nQ 44.96875 8.296875 48.78125 10.40625 \r\nL 48.78125 2.09375 \r\nQ 45.015625 0.34375 40.984375 -0.53125 \r\nQ 36.96875 -1.421875 32.421875 -1.421875 \r\nQ 20.0625 -1.421875 12.78125 6.34375 \r\nQ 5.515625 14.109375 5.515625 27.296875 \r\nQ 5.515625 40.671875 12.859375 48.328125 \r\nQ 20.21875 56 33.015625 56 \r\nQ 37.15625 56 41.109375 55.140625 \r\nQ 45.0625 54.296875 48.78125 52.59375 \r\nz\r\n\" id=\"DejaVuSans-99\"/>\r\n      <path d=\"M 8.5 21.578125 \r\nL 8.5 54.6875 \r\nL 17.484375 54.6875 \r\nL 17.484375 21.921875 \r\nQ 17.484375 14.15625 20.5 10.265625 \r\nQ 23.53125 6.390625 29.59375 6.390625 \r\nQ 36.859375 6.390625 41.078125 11.03125 \r\nQ 45.3125 15.671875 45.3125 23.6875 \r\nL 45.3125 54.6875 \r\nL 54.296875 54.6875 \r\nL 54.296875 0 \r\nL 45.3125 0 \r\nL 45.3125 8.40625 \r\nQ 42.046875 3.421875 37.71875 1 \r\nQ 33.40625 -1.421875 27.6875 -1.421875 \r\nQ 18.265625 -1.421875 13.375 4.4375 \r\nQ 8.5 10.296875 8.5 21.578125 \r\nz\r\nM 31.109375 56 \r\nz\r\n\" id=\"DejaVuSans-117\"/>\r\n      <path d=\"M 41.109375 46.296875 \r\nQ 39.59375 47.171875 37.8125 47.578125 \r\nQ 36.03125 48 33.890625 48 \r\nQ 26.265625 48 22.1875 43.046875 \r\nQ 18.109375 38.09375 18.109375 28.8125 \r\nL 18.109375 0 \r\nL 9.078125 0 \r\nL 9.078125 54.6875 \r\nL 18.109375 54.6875 \r\nL 18.109375 46.1875 \r\nQ 20.953125 51.171875 25.484375 53.578125 \r\nQ 30.03125 56 36.53125 56 \r\nQ 37.453125 56 38.578125 55.875 \r\nQ 39.703125 55.765625 41.0625 55.515625 \r\nz\r\n\" id=\"DejaVuSans-114\"/>\r\n      <path d=\"M 34.28125 27.484375 \r\nQ 23.390625 27.484375 19.1875 25 \r\nQ 14.984375 22.515625 14.984375 16.5 \r\nQ 14.984375 11.71875 18.140625 8.90625 \r\nQ 21.296875 6.109375 26.703125 6.109375 \r\nQ 34.1875 6.109375 38.703125 11.40625 \r\nQ 43.21875 16.703125 43.21875 25.484375 \r\nL 43.21875 27.484375 \r\nz\r\nM 52.203125 31.203125 \r\nL 52.203125 0 \r\nL 43.21875 0 \r\nL 43.21875 8.296875 \r\nQ 40.140625 3.328125 35.546875 0.953125 \r\nQ 30.953125 -1.421875 24.3125 -1.421875 \r\nQ 15.921875 -1.421875 10.953125 3.296875 \r\nQ 6 8.015625 6 15.921875 \r\nQ 6 25.140625 12.171875 29.828125 \r\nQ 18.359375 34.515625 30.609375 34.515625 \r\nL 43.21875 34.515625 \r\nL 43.21875 35.40625 \r\nQ 43.21875 41.609375 39.140625 45 \r\nQ 35.0625 48.390625 27.6875 48.390625 \r\nQ 23 48.390625 18.546875 47.265625 \r\nQ 14.109375 46.140625 10.015625 43.890625 \r\nL 10.015625 52.203125 \r\nQ 14.9375 54.109375 19.578125 55.046875 \r\nQ 24.21875 56 28.609375 56 \r\nQ 40.484375 56 46.34375 49.84375 \r\nQ 52.203125 43.703125 52.203125 31.203125 \r\nz\r\n\" id=\"DejaVuSans-97\"/>\r\n      <path d=\"M 32.171875 -5.078125 \r\nQ 28.375 -14.84375 24.75 -17.8125 \r\nQ 21.140625 -20.796875 15.09375 -20.796875 \r\nL 7.90625 -20.796875 \r\nL 7.90625 -13.28125 \r\nL 13.1875 -13.28125 \r\nQ 16.890625 -13.28125 18.9375 -11.515625 \r\nQ 21 -9.765625 23.484375 -3.21875 \r\nL 25.09375 0.875 \r\nL 2.984375 54.6875 \r\nL 12.5 54.6875 \r\nL 29.59375 11.921875 \r\nL 46.6875 54.6875 \r\nL 56.203125 54.6875 \r\nz\r\n\" id=\"DejaVuSans-121\"/>\r\n     </defs>\r\n     <g transform=\"translate(14.798438 104.319925)rotate(-90)scale(0.1 -0.1)\">\r\n      <use xlink:href=\"#DejaVuSans-65\"/>\r\n      <use x=\"68.392578\" xlink:href=\"#DejaVuSans-99\"/>\r\n      <use x=\"123.373047\" xlink:href=\"#DejaVuSans-99\"/>\r\n      <use x=\"178.353516\" xlink:href=\"#DejaVuSans-117\"/>\r\n      <use x=\"241.732422\" xlink:href=\"#DejaVuSans-114\"/>\r\n      <use x=\"282.845703\" xlink:href=\"#DejaVuSans-97\"/>\r\n      <use x=\"344.125\" xlink:href=\"#DejaVuSans-99\"/>\r\n      <use x=\"399.105469\" xlink:href=\"#DejaVuSans-121\"/>\r\n     </g>\r\n    </g>\r\n   </g>\r\n   <g id=\"line2d_12\">\r\n    <path clip-path=\"url(#pbb9ed209f0)\" d=\"M 94.551705 27.689667 \r\nL 116.931384 41.789963 \r\nL 139.311063 51.190161 \r\nL 161.690742 64.619014 \r\nL 184.070421 74.690655 \r\nL 206.4501 88.790951 \r\nL 228.829779 96.176821 \r\nL 251.209459 102.219805 \r\nL 273.589138 107.591346 \r\nL 295.968817 112.962888 \r\nL 318.348496 118.334429 \r\nL 340.728175 121.0202 \r\nL 363.107854 125.048856 \r\nL 385.487533 127.734627 \r\nL 407.867213 129.748955 \r\nL 430.246892 132.434726 \r\nL 452.626571 132.434726 \r\nL 475.00625 133.777611 \r\nL 497.385929 133.777611 \r\nL 519.765608 135.120497 \r\nL 542.145287 135.120497 \r\nL 564.524967 135.120497 \r\nL 586.904646 135.120497 \r\nL 609.284325 135.120497 \r\nL 631.664004 135.120497 \r\nL 654.043683 135.120497 \r\nL 676.423362 135.120497 \r\nL 698.803041 135.120497 \r\nL 721.182721 135.120497 \r\nL 743.5624 135.120497 \r\nL 765.942079 135.120497 \r\nL 788.321758 135.120497 \r\nL 810.701437 135.120497 \r\nL 833.081116 135.120497 \r\nL 855.460795 135.120497 \r\n\" style=\"fill:none;stroke:#1f77b4;stroke-linecap:square;stroke-width:1.5;\"/>\r\n   </g>\r\n   <g id=\"patch_3\">\r\n    <path d=\"M 56.50625 140.492038 \r\nL 56.50625 22.318125 \r\n\" style=\"fill:none;stroke:#000000;stroke-linecap:square;stroke-linejoin:miter;stroke-width:0.8;\"/>\r\n   </g>\r\n   <g id=\"patch_4\">\r\n    <path d=\"M 893.50625 140.492038 \r\nL 893.50625 22.318125 \r\n\" style=\"fill:none;stroke:#000000;stroke-linecap:square;stroke-linejoin:miter;stroke-width:0.8;\"/>\r\n   </g>\r\n   <g id=\"patch_5\">\r\n    <path d=\"M 56.50625 140.492038 \r\nL 893.50625 140.492038 \r\n\" style=\"fill:none;stroke:#000000;stroke-linecap:square;stroke-linejoin:miter;stroke-width:0.8;\"/>\r\n   </g>\r\n   <g id=\"patch_6\">\r\n    <path d=\"M 56.50625 22.318125 \r\nL 893.50625 22.318125 \r\n\" style=\"fill:none;stroke:#000000;stroke-linecap:square;stroke-linejoin:miter;stroke-width:0.8;\"/>\r\n   </g>\r\n   <g id=\"text_5\">\r\n    <!-- Accuracy vs. Number of Latent Features -->\r\n    <defs>\r\n     <path id=\"DejaVuSans-32\"/>\r\n     <path d=\"M 2.984375 54.6875 \r\nL 12.5 54.6875 \r\nL 29.59375 8.796875 \r\nL 46.6875 54.6875 \r\nL 56.203125 54.6875 \r\nL 35.6875 0 \r\nL 23.484375 0 \r\nz\r\n\" id=\"DejaVuSans-118\"/>\r\n     <path d=\"M 44.28125 53.078125 \r\nL 44.28125 44.578125 \r\nQ 40.484375 46.53125 36.375 47.5 \r\nQ 32.28125 48.484375 27.875 48.484375 \r\nQ 21.1875 48.484375 17.84375 46.4375 \r\nQ 14.5 44.390625 14.5 40.28125 \r\nQ 14.5 37.15625 16.890625 35.375 \r\nQ 19.28125 33.59375 26.515625 31.984375 \r\nL 29.59375 31.296875 \r\nQ 39.15625 29.25 43.1875 25.515625 \r\nQ 47.21875 21.78125 47.21875 15.09375 \r\nQ 47.21875 7.46875 41.1875 3.015625 \r\nQ 35.15625 -1.421875 24.609375 -1.421875 \r\nQ 20.21875 -1.421875 15.453125 -0.5625 \r\nQ 10.6875 0.296875 5.421875 2 \r\nL 5.421875 11.28125 \r\nQ 10.40625 8.6875 15.234375 7.390625 \r\nQ 20.0625 6.109375 24.8125 6.109375 \r\nQ 31.15625 6.109375 34.5625 8.28125 \r\nQ 37.984375 10.453125 37.984375 14.40625 \r\nQ 37.984375 18.0625 35.515625 20.015625 \r\nQ 33.0625 21.96875 24.703125 23.78125 \r\nL 21.578125 24.515625 \r\nQ 13.234375 26.265625 9.515625 29.90625 \r\nQ 5.8125 33.546875 5.8125 39.890625 \r\nQ 5.8125 47.609375 11.28125 51.796875 \r\nQ 16.75 56 26.8125 56 \r\nQ 31.78125 56 36.171875 55.265625 \r\nQ 40.578125 54.546875 44.28125 53.078125 \r\nz\r\n\" id=\"DejaVuSans-115\"/>\r\n     <path d=\"M 9.8125 72.90625 \r\nL 23.09375 72.90625 \r\nL 55.421875 11.921875 \r\nL 55.421875 72.90625 \r\nL 64.984375 72.90625 \r\nL 64.984375 0 \r\nL 51.703125 0 \r\nL 19.390625 60.984375 \r\nL 19.390625 0 \r\nL 9.8125 0 \r\nz\r\n\" id=\"DejaVuSans-78\"/>\r\n     <path d=\"M 52 44.1875 \r\nQ 55.375 50.25 60.0625 53.125 \r\nQ 64.75 56 71.09375 56 \r\nQ 79.640625 56 84.28125 50.015625 \r\nQ 88.921875 44.046875 88.921875 33.015625 \r\nL 88.921875 0 \r\nL 79.890625 0 \r\nL 79.890625 32.71875 \r\nQ 79.890625 40.578125 77.09375 44.375 \r\nQ 74.3125 48.1875 68.609375 48.1875 \r\nQ 61.625 48.1875 57.5625 43.546875 \r\nQ 53.515625 38.921875 53.515625 30.90625 \r\nL 53.515625 0 \r\nL 44.484375 0 \r\nL 44.484375 32.71875 \r\nQ 44.484375 40.625 41.703125 44.40625 \r\nQ 38.921875 48.1875 33.109375 48.1875 \r\nQ 26.21875 48.1875 22.15625 43.53125 \r\nQ 18.109375 38.875 18.109375 30.90625 \r\nL 18.109375 0 \r\nL 9.078125 0 \r\nL 9.078125 54.6875 \r\nL 18.109375 54.6875 \r\nL 18.109375 46.1875 \r\nQ 21.1875 51.21875 25.484375 53.609375 \r\nQ 29.78125 56 35.6875 56 \r\nQ 41.65625 56 45.828125 52.96875 \r\nQ 50 49.953125 52 44.1875 \r\nz\r\n\" id=\"DejaVuSans-109\"/>\r\n     <path d=\"M 48.6875 27.296875 \r\nQ 48.6875 37.203125 44.609375 42.84375 \r\nQ 40.53125 48.484375 33.40625 48.484375 \r\nQ 26.265625 48.484375 22.1875 42.84375 \r\nQ 18.109375 37.203125 18.109375 27.296875 \r\nQ 18.109375 17.390625 22.1875 11.75 \r\nQ 26.265625 6.109375 33.40625 6.109375 \r\nQ 40.53125 6.109375 44.609375 11.75 \r\nQ 48.6875 17.390625 48.6875 27.296875 \r\nz\r\nM 18.109375 46.390625 \r\nQ 20.953125 51.265625 25.265625 53.625 \r\nQ 29.59375 56 35.59375 56 \r\nQ 45.5625 56 51.78125 48.09375 \r\nQ 58.015625 40.1875 58.015625 27.296875 \r\nQ 58.015625 14.40625 51.78125 6.484375 \r\nQ 45.5625 -1.421875 35.59375 -1.421875 \r\nQ 29.59375 -1.421875 25.265625 0.953125 \r\nQ 20.953125 3.328125 18.109375 8.203125 \r\nL 18.109375 0 \r\nL 9.078125 0 \r\nL 9.078125 75.984375 \r\nL 18.109375 75.984375 \r\nz\r\n\" id=\"DejaVuSans-98\"/>\r\n     <path d=\"M 56.203125 29.59375 \r\nL 56.203125 25.203125 \r\nL 14.890625 25.203125 \r\nQ 15.484375 15.921875 20.484375 11.0625 \r\nQ 25.484375 6.203125 34.421875 6.203125 \r\nQ 39.59375 6.203125 44.453125 7.46875 \r\nQ 49.3125 8.734375 54.109375 11.28125 \r\nL 54.109375 2.78125 \r\nQ 49.265625 0.734375 44.1875 -0.34375 \r\nQ 39.109375 -1.421875 33.890625 -1.421875 \r\nQ 20.796875 -1.421875 13.15625 6.1875 \r\nQ 5.515625 13.8125 5.515625 26.8125 \r\nQ 5.515625 40.234375 12.765625 48.109375 \r\nQ 20.015625 56 32.328125 56 \r\nQ 43.359375 56 49.78125 48.890625 \r\nQ 56.203125 41.796875 56.203125 29.59375 \r\nz\r\nM 47.21875 32.234375 \r\nQ 47.125 39.59375 43.09375 43.984375 \r\nQ 39.0625 48.390625 32.421875 48.390625 \r\nQ 24.90625 48.390625 20.390625 44.140625 \r\nQ 15.875 39.890625 15.1875 32.171875 \r\nz\r\n\" id=\"DejaVuSans-101\"/>\r\n     <path d=\"M 30.609375 48.390625 \r\nQ 23.390625 48.390625 19.1875 42.75 \r\nQ 14.984375 37.109375 14.984375 27.296875 \r\nQ 14.984375 17.484375 19.15625 11.84375 \r\nQ 23.34375 6.203125 30.609375 6.203125 \r\nQ 37.796875 6.203125 41.984375 11.859375 \r\nQ 46.1875 17.53125 46.1875 27.296875 \r\nQ 46.1875 37.015625 41.984375 42.703125 \r\nQ 37.796875 48.390625 30.609375 48.390625 \r\nz\r\nM 30.609375 56 \r\nQ 42.328125 56 49.015625 48.375 \r\nQ 55.71875 40.765625 55.71875 27.296875 \r\nQ 55.71875 13.875 49.015625 6.21875 \r\nQ 42.328125 -1.421875 30.609375 -1.421875 \r\nQ 18.84375 -1.421875 12.171875 6.21875 \r\nQ 5.515625 13.875 5.515625 27.296875 \r\nQ 5.515625 40.765625 12.171875 48.375 \r\nQ 18.84375 56 30.609375 56 \r\nz\r\n\" id=\"DejaVuSans-111\"/>\r\n     <path d=\"M 37.109375 75.984375 \r\nL 37.109375 68.5 \r\nL 28.515625 68.5 \r\nQ 23.6875 68.5 21.796875 66.546875 \r\nQ 19.921875 64.59375 19.921875 59.515625 \r\nL 19.921875 54.6875 \r\nL 34.71875 54.6875 \r\nL 34.71875 47.703125 \r\nL 19.921875 47.703125 \r\nL 19.921875 0 \r\nL 10.890625 0 \r\nL 10.890625 47.703125 \r\nL 2.296875 47.703125 \r\nL 2.296875 54.6875 \r\nL 10.890625 54.6875 \r\nL 10.890625 58.5 \r\nQ 10.890625 67.625 15.140625 71.796875 \r\nQ 19.390625 75.984375 28.609375 75.984375 \r\nz\r\n\" id=\"DejaVuSans-102\"/>\r\n     <path d=\"M 9.8125 72.90625 \r\nL 19.671875 72.90625 \r\nL 19.671875 8.296875 \r\nL 55.171875 8.296875 \r\nL 55.171875 0 \r\nL 9.8125 0 \r\nz\r\n\" id=\"DejaVuSans-76\"/>\r\n     <path d=\"M 18.3125 70.21875 \r\nL 18.3125 54.6875 \r\nL 36.8125 54.6875 \r\nL 36.8125 47.703125 \r\nL 18.3125 47.703125 \r\nL 18.3125 18.015625 \r\nQ 18.3125 11.328125 20.140625 9.421875 \r\nQ 21.96875 7.515625 27.59375 7.515625 \r\nL 36.8125 7.515625 \r\nL 36.8125 0 \r\nL 27.59375 0 \r\nQ 17.1875 0 13.234375 3.875 \r\nQ 9.28125 7.765625 9.28125 18.015625 \r\nL 9.28125 47.703125 \r\nL 2.6875 47.703125 \r\nL 2.6875 54.6875 \r\nL 9.28125 54.6875 \r\nL 9.28125 70.21875 \r\nz\r\n\" id=\"DejaVuSans-116\"/>\r\n     <path d=\"M 54.890625 33.015625 \r\nL 54.890625 0 \r\nL 45.90625 0 \r\nL 45.90625 32.71875 \r\nQ 45.90625 40.484375 42.875 44.328125 \r\nQ 39.84375 48.1875 33.796875 48.1875 \r\nQ 26.515625 48.1875 22.3125 43.546875 \r\nQ 18.109375 38.921875 18.109375 30.90625 \r\nL 18.109375 0 \r\nL 9.078125 0 \r\nL 9.078125 54.6875 \r\nL 18.109375 54.6875 \r\nL 18.109375 46.1875 \r\nQ 21.34375 51.125 25.703125 53.5625 \r\nQ 30.078125 56 35.796875 56 \r\nQ 45.21875 56 50.046875 50.171875 \r\nQ 54.890625 44.34375 54.890625 33.015625 \r\nz\r\n\" id=\"DejaVuSans-110\"/>\r\n     <path d=\"M 9.8125 72.90625 \r\nL 51.703125 72.90625 \r\nL 51.703125 64.59375 \r\nL 19.671875 64.59375 \r\nL 19.671875 43.109375 \r\nL 48.578125 43.109375 \r\nL 48.578125 34.8125 \r\nL 19.671875 34.8125 \r\nL 19.671875 0 \r\nL 9.8125 0 \r\nz\r\n\" id=\"DejaVuSans-70\"/>\r\n    </defs>\r\n    <g transform=\"translate(354.033125 16.318125)scale(0.12 -0.12)\">\r\n     <use xlink:href=\"#DejaVuSans-65\"/>\r\n     <use x=\"68.392578\" xlink:href=\"#DejaVuSans-99\"/>\r\n     <use x=\"123.373047\" xlink:href=\"#DejaVuSans-99\"/>\r\n     <use x=\"178.353516\" xlink:href=\"#DejaVuSans-117\"/>\r\n     <use x=\"241.732422\" xlink:href=\"#DejaVuSans-114\"/>\r\n     <use x=\"282.845703\" xlink:href=\"#DejaVuSans-97\"/>\r\n     <use x=\"344.125\" xlink:href=\"#DejaVuSans-99\"/>\r\n     <use x=\"399.105469\" xlink:href=\"#DejaVuSans-121\"/>\r\n     <use x=\"458.285156\" xlink:href=\"#DejaVuSans-32\"/>\r\n     <use x=\"490.072266\" xlink:href=\"#DejaVuSans-118\"/>\r\n     <use x=\"549.251953\" xlink:href=\"#DejaVuSans-115\"/>\r\n     <use x=\"601.351562\" xlink:href=\"#DejaVuSans-46\"/>\r\n     <use x=\"633.138672\" xlink:href=\"#DejaVuSans-32\"/>\r\n     <use x=\"664.925781\" xlink:href=\"#DejaVuSans-78\"/>\r\n     <use x=\"739.730469\" xlink:href=\"#DejaVuSans-117\"/>\r\n     <use x=\"803.109375\" xlink:href=\"#DejaVuSans-109\"/>\r\n     <use x=\"900.521484\" xlink:href=\"#DejaVuSans-98\"/>\r\n     <use x=\"963.998047\" xlink:href=\"#DejaVuSans-101\"/>\r\n     <use x=\"1025.521484\" xlink:href=\"#DejaVuSans-114\"/>\r\n     <use x=\"1066.634766\" xlink:href=\"#DejaVuSans-32\"/>\r\n     <use x=\"1098.421875\" xlink:href=\"#DejaVuSans-111\"/>\r\n     <use x=\"1159.603516\" xlink:href=\"#DejaVuSans-102\"/>\r\n     <use x=\"1194.808594\" xlink:href=\"#DejaVuSans-32\"/>\r\n     <use x=\"1226.595703\" xlink:href=\"#DejaVuSans-76\"/>\r\n     <use x=\"1282.308594\" xlink:href=\"#DejaVuSans-97\"/>\r\n     <use x=\"1343.587891\" xlink:href=\"#DejaVuSans-116\"/>\r\n     <use x=\"1382.796875\" xlink:href=\"#DejaVuSans-101\"/>\r\n     <use x=\"1444.320312\" xlink:href=\"#DejaVuSans-110\"/>\r\n     <use x=\"1507.699219\" xlink:href=\"#DejaVuSans-116\"/>\r\n     <use x=\"1546.908203\" xlink:href=\"#DejaVuSans-32\"/>\r\n     <use x=\"1578.695312\" xlink:href=\"#DejaVuSans-70\"/>\r\n     <use x=\"1636.136719\" xlink:href=\"#DejaVuSans-101\"/>\r\n     <use x=\"1697.660156\" xlink:href=\"#DejaVuSans-97\"/>\r\n     <use x=\"1758.939453\" xlink:href=\"#DejaVuSans-116\"/>\r\n     <use x=\"1798.148438\" xlink:href=\"#DejaVuSans-117\"/>\r\n     <use x=\"1861.527344\" xlink:href=\"#DejaVuSans-114\"/>\r\n     <use x=\"1902.609375\" xlink:href=\"#DejaVuSans-101\"/>\r\n     <use x=\"1964.132812\" xlink:href=\"#DejaVuSans-115\"/>\r\n    </g>\r\n   </g>\r\n  </g>\r\n  <g id=\"axes_2\">\r\n   <g id=\"patch_7\">\r\n    <path d=\"M 56.50625 282.300734 \r\nL 893.50625 282.300734 \r\nL 893.50625 164.126821 \r\nL 56.50625 164.126821 \r\nz\r\n\" style=\"fill:#ffffff;\"/>\r\n   </g>\r\n   <g id=\"matplotlib.axis_3\">\r\n    <g id=\"xtick_9\">\r\n     <g id=\"line2d_13\">\r\n      <g>\r\n       <use style=\"stroke:#000000;stroke-width:0.8;\" x=\"83.361865\" xlink:href=\"#m9fad7024d7\" y=\"282.300734\"/>\r\n      </g>\r\n     </g>\r\n    </g>\r\n    <g id=\"xtick_10\">\r\n     <g id=\"line2d_14\">\r\n      <g>\r\n       <use style=\"stroke:#000000;stroke-width:0.8;\" x=\"195.260261\" xlink:href=\"#m9fad7024d7\" y=\"282.300734\"/>\r\n      </g>\r\n     </g>\r\n    </g>\r\n    <g id=\"xtick_11\">\r\n     <g id=\"line2d_15\">\r\n      <g>\r\n       <use style=\"stroke:#000000;stroke-width:0.8;\" x=\"307.158656\" xlink:href=\"#m9fad7024d7\" y=\"282.300734\"/>\r\n      </g>\r\n     </g>\r\n    </g>\r\n    <g id=\"xtick_12\">\r\n     <g id=\"line2d_16\">\r\n      <g>\r\n       <use style=\"stroke:#000000;stroke-width:0.8;\" x=\"419.057052\" xlink:href=\"#m9fad7024d7\" y=\"282.300734\"/>\r\n      </g>\r\n     </g>\r\n    </g>\r\n    <g id=\"xtick_13\">\r\n     <g id=\"line2d_17\">\r\n      <g>\r\n       <use style=\"stroke:#000000;stroke-width:0.8;\" x=\"530.955448\" xlink:href=\"#m9fad7024d7\" y=\"282.300734\"/>\r\n      </g>\r\n     </g>\r\n    </g>\r\n    <g id=\"xtick_14\">\r\n     <g id=\"line2d_18\">\r\n      <g>\r\n       <use style=\"stroke:#000000;stroke-width:0.8;\" x=\"642.853844\" xlink:href=\"#m9fad7024d7\" y=\"282.300734\"/>\r\n      </g>\r\n     </g>\r\n    </g>\r\n    <g id=\"xtick_15\">\r\n     <g id=\"line2d_19\">\r\n      <g>\r\n       <use style=\"stroke:#000000;stroke-width:0.8;\" x=\"754.752239\" xlink:href=\"#m9fad7024d7\" y=\"282.300734\"/>\r\n      </g>\r\n     </g>\r\n    </g>\r\n    <g id=\"xtick_16\">\r\n     <g id=\"line2d_20\">\r\n      <g>\r\n       <use style=\"stroke:#000000;stroke-width:0.8;\" x=\"866.650635\" xlink:href=\"#m9fad7024d7\" y=\"282.300734\"/>\r\n      </g>\r\n     </g>\r\n    </g>\r\n   </g>\r\n   <g id=\"matplotlib.axis_4\">\r\n    <g id=\"ytick_4\">\r\n     <g id=\"line2d_21\">\r\n      <g>\r\n       <use style=\"stroke:#000000;stroke-width:0.8;\" x=\"56.50625\" xlink:href=\"#m5a65a7c186\" y=\"276.929192\"/>\r\n      </g>\r\n     </g>\r\n     <g id=\"text_6\">\r\n      <!-- 50 -->\r\n      <g transform=\"translate(36.78125 280.728411)scale(0.1 -0.1)\">\r\n       <use xlink:href=\"#DejaVuSans-53\"/>\r\n       <use x=\"63.623047\" xlink:href=\"#DejaVuSans-48\"/>\r\n      </g>\r\n     </g>\r\n    </g>\r\n    <g id=\"ytick_5\">\r\n     <g id=\"line2d_22\">\r\n      <g>\r\n       <use style=\"stroke:#000000;stroke-width:0.8;\" x=\"56.50625\" xlink:href=\"#m5a65a7c186\" y=\"249.240834\"/>\r\n      </g>\r\n     </g>\r\n     <g id=\"text_7\">\r\n      <!-- 100 -->\r\n      <defs>\r\n       <path d=\"M 12.40625 8.296875 \r\nL 28.515625 8.296875 \r\nL 28.515625 63.921875 \r\nL 10.984375 60.40625 \r\nL 10.984375 69.390625 \r\nL 28.421875 72.90625 \r\nL 38.28125 72.90625 \r\nL 38.28125 8.296875 \r\nL 54.390625 8.296875 \r\nL 54.390625 0 \r\nL 12.40625 0 \r\nz\r\n\" id=\"DejaVuSans-49\"/>\r\n      </defs>\r\n      <g transform=\"translate(30.41875 253.040053)scale(0.1 -0.1)\">\r\n       <use xlink:href=\"#DejaVuSans-49\"/>\r\n       <use x=\"63.623047\" xlink:href=\"#DejaVuSans-48\"/>\r\n       <use x=\"127.246094\" xlink:href=\"#DejaVuSans-48\"/>\r\n      </g>\r\n     </g>\r\n    </g>\r\n    <g id=\"ytick_6\">\r\n     <g id=\"line2d_23\">\r\n      <g>\r\n       <use style=\"stroke:#000000;stroke-width:0.8;\" x=\"56.50625\" xlink:href=\"#m5a65a7c186\" y=\"221.552476\"/>\r\n      </g>\r\n     </g>\r\n     <g id=\"text_8\">\r\n      <!-- 150 -->\r\n      <g transform=\"translate(30.41875 225.351694)scale(0.1 -0.1)\">\r\n       <use xlink:href=\"#DejaVuSans-49\"/>\r\n       <use x=\"63.623047\" xlink:href=\"#DejaVuSans-53\"/>\r\n       <use x=\"127.246094\" xlink:href=\"#DejaVuSans-48\"/>\r\n      </g>\r\n     </g>\r\n    </g>\r\n    <g id=\"ytick_7\">\r\n     <g id=\"line2d_24\">\r\n      <g>\r\n       <use style=\"stroke:#000000;stroke-width:0.8;\" x=\"56.50625\" xlink:href=\"#m5a65a7c186\" y=\"193.864117\"/>\r\n      </g>\r\n     </g>\r\n     <g id=\"text_9\">\r\n      <!-- 200 -->\r\n      <defs>\r\n       <path d=\"M 19.1875 8.296875 \r\nL 53.609375 8.296875 \r\nL 53.609375 0 \r\nL 7.328125 0 \r\nL 7.328125 8.296875 \r\nQ 12.9375 14.109375 22.625 23.890625 \r\nQ 32.328125 33.6875 34.8125 36.53125 \r\nQ 39.546875 41.84375 41.421875 45.53125 \r\nQ 43.3125 49.21875 43.3125 52.78125 \r\nQ 43.3125 58.59375 39.234375 62.25 \r\nQ 35.15625 65.921875 28.609375 65.921875 \r\nQ 23.96875 65.921875 18.8125 64.3125 \r\nQ 13.671875 62.703125 7.8125 59.421875 \r\nL 7.8125 69.390625 \r\nQ 13.765625 71.78125 18.9375 73 \r\nQ 24.125 74.21875 28.421875 74.21875 \r\nQ 39.75 74.21875 46.484375 68.546875 \r\nQ 53.21875 62.890625 53.21875 53.421875 \r\nQ 53.21875 48.921875 51.53125 44.890625 \r\nQ 49.859375 40.875 45.40625 35.40625 \r\nQ 44.1875 33.984375 37.640625 27.21875 \r\nQ 31.109375 20.453125 19.1875 8.296875 \r\nz\r\n\" id=\"DejaVuSans-50\"/>\r\n      </defs>\r\n      <g transform=\"translate(30.41875 197.663336)scale(0.1 -0.1)\">\r\n       <use xlink:href=\"#DejaVuSans-50\"/>\r\n       <use x=\"63.623047\" xlink:href=\"#DejaVuSans-48\"/>\r\n       <use x=\"127.246094\" xlink:href=\"#DejaVuSans-48\"/>\r\n      </g>\r\n     </g>\r\n    </g>\r\n    <g id=\"ytick_8\">\r\n     <g id=\"line2d_25\">\r\n      <g>\r\n       <use style=\"stroke:#000000;stroke-width:0.8;\" x=\"56.50625\" xlink:href=\"#m5a65a7c186\" y=\"166.175759\"/>\r\n      </g>\r\n     </g>\r\n     <g id=\"text_10\">\r\n      <!-- 250 -->\r\n      <g transform=\"translate(30.41875 169.974978)scale(0.1 -0.1)\">\r\n       <use xlink:href=\"#DejaVuSans-50\"/>\r\n       <use x=\"63.623047\" xlink:href=\"#DejaVuSans-53\"/>\r\n       <use x=\"127.246094\" xlink:href=\"#DejaVuSans-48\"/>\r\n      </g>\r\n     </g>\r\n    </g>\r\n    <g id=\"text_11\">\r\n     <!-- Num Recommendations -->\r\n     <defs>\r\n      <path d=\"M 44.390625 34.1875 \r\nQ 47.5625 33.109375 50.5625 29.59375 \r\nQ 53.5625 26.078125 56.59375 19.921875 \r\nL 66.609375 0 \r\nL 56 0 \r\nL 46.6875 18.703125 \r\nQ 43.0625 26.03125 39.671875 28.421875 \r\nQ 36.28125 30.8125 30.421875 30.8125 \r\nL 19.671875 30.8125 \r\nL 19.671875 0 \r\nL 9.8125 0 \r\nL 9.8125 72.90625 \r\nL 32.078125 72.90625 \r\nQ 44.578125 72.90625 50.734375 67.671875 \r\nQ 56.890625 62.453125 56.890625 51.90625 \r\nQ 56.890625 45.015625 53.6875 40.46875 \r\nQ 50.484375 35.9375 44.390625 34.1875 \r\nz\r\nM 19.671875 64.796875 \r\nL 19.671875 38.921875 \r\nL 32.078125 38.921875 \r\nQ 39.203125 38.921875 42.84375 42.21875 \r\nQ 46.484375 45.515625 46.484375 51.90625 \r\nQ 46.484375 58.296875 42.84375 61.546875 \r\nQ 39.203125 64.796875 32.078125 64.796875 \r\nz\r\n\" id=\"DejaVuSans-82\"/>\r\n      <path d=\"M 45.40625 46.390625 \r\nL 45.40625 75.984375 \r\nL 54.390625 75.984375 \r\nL 54.390625 0 \r\nL 45.40625 0 \r\nL 45.40625 8.203125 \r\nQ 42.578125 3.328125 38.25 0.953125 \r\nQ 33.9375 -1.421875 27.875 -1.421875 \r\nQ 17.96875 -1.421875 11.734375 6.484375 \r\nQ 5.515625 14.40625 5.515625 27.296875 \r\nQ 5.515625 40.1875 11.734375 48.09375 \r\nQ 17.96875 56 27.875 56 \r\nQ 33.9375 56 38.25 53.625 \r\nQ 42.578125 51.265625 45.40625 46.390625 \r\nz\r\nM 14.796875 27.296875 \r\nQ 14.796875 17.390625 18.875 11.75 \r\nQ 22.953125 6.109375 30.078125 6.109375 \r\nQ 37.203125 6.109375 41.296875 11.75 \r\nQ 45.40625 17.390625 45.40625 27.296875 \r\nQ 45.40625 37.203125 41.296875 42.84375 \r\nQ 37.203125 48.484375 30.078125 48.484375 \r\nQ 22.953125 48.484375 18.875 42.84375 \r\nQ 14.796875 37.203125 14.796875 27.296875 \r\nz\r\n\" id=\"DejaVuSans-100\"/>\r\n      <path d=\"M 9.421875 54.6875 \r\nL 18.40625 54.6875 \r\nL 18.40625 0 \r\nL 9.421875 0 \r\nz\r\nM 9.421875 75.984375 \r\nL 18.40625 75.984375 \r\nL 18.40625 64.59375 \r\nL 9.421875 64.59375 \r\nz\r\n\" id=\"DejaVuSans-105\"/>\r\n     </defs>\r\n     <g transform=\"translate(24.339063 283.345027)rotate(-90)scale(0.1 -0.1)\">\r\n      <use xlink:href=\"#DejaVuSans-78\"/>\r\n      <use x=\"74.804688\" xlink:href=\"#DejaVuSans-117\"/>\r\n      <use x=\"138.183594\" xlink:href=\"#DejaVuSans-109\"/>\r\n      <use x=\"235.595703\" xlink:href=\"#DejaVuSans-32\"/>\r\n      <use x=\"267.382812\" xlink:href=\"#DejaVuSans-82\"/>\r\n      <use x=\"336.802734\" xlink:href=\"#DejaVuSans-101\"/>\r\n      <use x=\"398.326172\" xlink:href=\"#DejaVuSans-99\"/>\r\n      <use x=\"453.306641\" xlink:href=\"#DejaVuSans-111\"/>\r\n      <use x=\"514.488281\" xlink:href=\"#DejaVuSans-109\"/>\r\n      <use x=\"611.900391\" xlink:href=\"#DejaVuSans-109\"/>\r\n      <use x=\"709.3125\" xlink:href=\"#DejaVuSans-101\"/>\r\n      <use x=\"770.835938\" xlink:href=\"#DejaVuSans-110\"/>\r\n      <use x=\"834.214844\" xlink:href=\"#DejaVuSans-100\"/>\r\n      <use x=\"897.691406\" xlink:href=\"#DejaVuSans-97\"/>\r\n      <use x=\"958.970703\" xlink:href=\"#DejaVuSans-116\"/>\r\n      <use x=\"998.179688\" xlink:href=\"#DejaVuSans-105\"/>\r\n      <use x=\"1025.962891\" xlink:href=\"#DejaVuSans-111\"/>\r\n      <use x=\"1087.144531\" xlink:href=\"#DejaVuSans-110\"/>\r\n      <use x=\"1150.523438\" xlink:href=\"#DejaVuSans-115\"/>\r\n     </g>\r\n    </g>\r\n   </g>\r\n   <g id=\"line2d_26\">\r\n    <path clip-path=\"url(#pa11dc92205)\" d=\"M 94.551705 276.929192 \r\nL 116.931384 255.332273 \r\nL 139.311063 245.364464 \r\nL 161.690742 233.181586 \r\nL 184.070421 222.66001 \r\nL 206.4501 211.0309 \r\nL 228.829779 203.831926 \r\nL 251.209459 197.740488 \r\nL 273.589138 192.202816 \r\nL 295.968817 187.772679 \r\nL 318.348496 183.342541 \r\nL 340.728175 181.127473 \r\nL 363.107854 177.80487 \r\nL 385.487533 175.589801 \r\nL 407.867213 173.928499 \r\nL 430.246892 171.713431 \r\nL 452.626571 171.713431 \r\nL 475.00625 170.605896 \r\nL 497.385929 170.605896 \r\nL 519.765608 169.498362 \r\nL 542.145287 169.498362 \r\nL 564.524967 169.498362 \r\nL 586.904646 169.498362 \r\nL 609.284325 169.498362 \r\nL 631.664004 169.498362 \r\nL 654.043683 169.498362 \r\nL 676.423362 169.498362 \r\nL 698.803041 169.498362 \r\nL 721.182721 169.498362 \r\nL 743.5624 169.498362 \r\nL 765.942079 169.498362 \r\nL 788.321758 169.498362 \r\nL 810.701437 169.498362 \r\nL 833.081116 169.498362 \r\nL 855.460795 169.498362 \r\n\" style=\"fill:none;stroke:#1f77b4;stroke-linecap:square;stroke-width:1.5;\"/>\r\n   </g>\r\n   <g id=\"patch_8\">\r\n    <path d=\"M 56.50625 282.300734 \r\nL 56.50625 164.126821 \r\n\" style=\"fill:none;stroke:#000000;stroke-linecap:square;stroke-linejoin:miter;stroke-width:0.8;\"/>\r\n   </g>\r\n   <g id=\"patch_9\">\r\n    <path d=\"M 893.50625 282.300734 \r\nL 893.50625 164.126821 \r\n\" style=\"fill:none;stroke:#000000;stroke-linecap:square;stroke-linejoin:miter;stroke-width:0.8;\"/>\r\n   </g>\r\n   <g id=\"patch_10\">\r\n    <path d=\"M 56.50625 282.300734 \r\nL 893.50625 282.300734 \r\n\" style=\"fill:none;stroke:#000000;stroke-linecap:square;stroke-linejoin:miter;stroke-width:0.8;\"/>\r\n   </g>\r\n   <g id=\"patch_11\">\r\n    <path d=\"M 56.50625 164.126821 \r\nL 893.50625 164.126821 \r\n\" style=\"fill:none;stroke:#000000;stroke-linecap:square;stroke-linejoin:miter;stroke-width:0.8;\"/>\r\n   </g>\r\n   <g id=\"text_12\">\r\n    <!-- Num Recommendations Made vs Number of Latent Features -->\r\n    <defs>\r\n     <path d=\"M 9.8125 72.90625 \r\nL 24.515625 72.90625 \r\nL 43.109375 23.296875 \r\nL 61.8125 72.90625 \r\nL 76.515625 72.90625 \r\nL 76.515625 0 \r\nL 66.890625 0 \r\nL 66.890625 64.015625 \r\nL 48.09375 14.015625 \r\nL 38.1875 14.015625 \r\nL 19.390625 64.015625 \r\nL 19.390625 0 \r\nL 9.8125 0 \r\nz\r\n\" id=\"DejaVuSans-77\"/>\r\n    </defs>\r\n    <g transform=\"translate(293.01875 158.126821)scale(0.12 -0.12)\">\r\n     <use xlink:href=\"#DejaVuSans-78\"/>\r\n     <use x=\"74.804688\" xlink:href=\"#DejaVuSans-117\"/>\r\n     <use x=\"138.183594\" xlink:href=\"#DejaVuSans-109\"/>\r\n     <use x=\"235.595703\" xlink:href=\"#DejaVuSans-32\"/>\r\n     <use x=\"267.382812\" xlink:href=\"#DejaVuSans-82\"/>\r\n     <use x=\"336.802734\" xlink:href=\"#DejaVuSans-101\"/>\r\n     <use x=\"398.326172\" xlink:href=\"#DejaVuSans-99\"/>\r\n     <use x=\"453.306641\" xlink:href=\"#DejaVuSans-111\"/>\r\n     <use x=\"514.488281\" xlink:href=\"#DejaVuSans-109\"/>\r\n     <use x=\"611.900391\" xlink:href=\"#DejaVuSans-109\"/>\r\n     <use x=\"709.3125\" xlink:href=\"#DejaVuSans-101\"/>\r\n     <use x=\"770.835938\" xlink:href=\"#DejaVuSans-110\"/>\r\n     <use x=\"834.214844\" xlink:href=\"#DejaVuSans-100\"/>\r\n     <use x=\"897.691406\" xlink:href=\"#DejaVuSans-97\"/>\r\n     <use x=\"958.970703\" xlink:href=\"#DejaVuSans-116\"/>\r\n     <use x=\"998.179688\" xlink:href=\"#DejaVuSans-105\"/>\r\n     <use x=\"1025.962891\" xlink:href=\"#DejaVuSans-111\"/>\r\n     <use x=\"1087.144531\" xlink:href=\"#DejaVuSans-110\"/>\r\n     <use x=\"1150.523438\" xlink:href=\"#DejaVuSans-115\"/>\r\n     <use x=\"1202.623047\" xlink:href=\"#DejaVuSans-32\"/>\r\n     <use x=\"1234.410156\" xlink:href=\"#DejaVuSans-77\"/>\r\n     <use x=\"1320.689453\" xlink:href=\"#DejaVuSans-97\"/>\r\n     <use x=\"1381.96875\" xlink:href=\"#DejaVuSans-100\"/>\r\n     <use x=\"1445.445312\" xlink:href=\"#DejaVuSans-101\"/>\r\n     <use x=\"1506.96875\" xlink:href=\"#DejaVuSans-32\"/>\r\n     <use x=\"1538.755859\" xlink:href=\"#DejaVuSans-118\"/>\r\n     <use x=\"1597.935547\" xlink:href=\"#DejaVuSans-115\"/>\r\n     <use x=\"1650.035156\" xlink:href=\"#DejaVuSans-32\"/>\r\n     <use x=\"1681.822266\" xlink:href=\"#DejaVuSans-78\"/>\r\n     <use x=\"1756.626953\" xlink:href=\"#DejaVuSans-117\"/>\r\n     <use x=\"1820.005859\" xlink:href=\"#DejaVuSans-109\"/>\r\n     <use x=\"1917.417969\" xlink:href=\"#DejaVuSans-98\"/>\r\n     <use x=\"1980.894531\" xlink:href=\"#DejaVuSans-101\"/>\r\n     <use x=\"2042.417969\" xlink:href=\"#DejaVuSans-114\"/>\r\n     <use x=\"2083.53125\" xlink:href=\"#DejaVuSans-32\"/>\r\n     <use x=\"2115.318359\" xlink:href=\"#DejaVuSans-111\"/>\r\n     <use x=\"2176.5\" xlink:href=\"#DejaVuSans-102\"/>\r\n     <use x=\"2211.705078\" xlink:href=\"#DejaVuSans-32\"/>\r\n     <use x=\"2243.492188\" xlink:href=\"#DejaVuSans-76\"/>\r\n     <use x=\"2299.205078\" xlink:href=\"#DejaVuSans-97\"/>\r\n     <use x=\"2360.484375\" xlink:href=\"#DejaVuSans-116\"/>\r\n     <use x=\"2399.693359\" xlink:href=\"#DejaVuSans-101\"/>\r\n     <use x=\"2461.216797\" xlink:href=\"#DejaVuSans-110\"/>\r\n     <use x=\"2524.595703\" xlink:href=\"#DejaVuSans-116\"/>\r\n     <use x=\"2563.804688\" xlink:href=\"#DejaVuSans-32\"/>\r\n     <use x=\"2595.591797\" xlink:href=\"#DejaVuSans-70\"/>\r\n     <use x=\"2653.033203\" xlink:href=\"#DejaVuSans-101\"/>\r\n     <use x=\"2714.556641\" xlink:href=\"#DejaVuSans-97\"/>\r\n     <use x=\"2775.835938\" xlink:href=\"#DejaVuSans-116\"/>\r\n     <use x=\"2815.044922\" xlink:href=\"#DejaVuSans-117\"/>\r\n     <use x=\"2878.423828\" xlink:href=\"#DejaVuSans-114\"/>\r\n     <use x=\"2919.505859\" xlink:href=\"#DejaVuSans-101\"/>\r\n     <use x=\"2981.029297\" xlink:href=\"#DejaVuSans-115\"/>\r\n    </g>\r\n   </g>\r\n  </g>\r\n  <g id=\"axes_3\">\r\n   <g id=\"patch_12\">\r\n    <path d=\"M 56.50625 424.109429 \r\nL 893.50625 424.109429 \r\nL 893.50625 305.935516 \r\nL 56.50625 305.935516 \r\nz\r\n\" style=\"fill:#ffffff;\"/>\r\n   </g>\r\n   <g id=\"matplotlib.axis_5\">\r\n    <g id=\"xtick_17\">\r\n     <g id=\"line2d_27\">\r\n      <g>\r\n       <use style=\"stroke:#000000;stroke-width:0.8;\" x=\"83.361865\" xlink:href=\"#m9fad7024d7\" y=\"424.109429\"/>\r\n      </g>\r\n     </g>\r\n    </g>\r\n    <g id=\"xtick_18\">\r\n     <g id=\"line2d_28\">\r\n      <g>\r\n       <use style=\"stroke:#000000;stroke-width:0.8;\" x=\"195.260261\" xlink:href=\"#m9fad7024d7\" y=\"424.109429\"/>\r\n      </g>\r\n     </g>\r\n    </g>\r\n    <g id=\"xtick_19\">\r\n     <g id=\"line2d_29\">\r\n      <g>\r\n       <use style=\"stroke:#000000;stroke-width:0.8;\" x=\"307.158656\" xlink:href=\"#m9fad7024d7\" y=\"424.109429\"/>\r\n      </g>\r\n     </g>\r\n    </g>\r\n    <g id=\"xtick_20\">\r\n     <g id=\"line2d_30\">\r\n      <g>\r\n       <use style=\"stroke:#000000;stroke-width:0.8;\" x=\"419.057052\" xlink:href=\"#m9fad7024d7\" y=\"424.109429\"/>\r\n      </g>\r\n     </g>\r\n    </g>\r\n    <g id=\"xtick_21\">\r\n     <g id=\"line2d_31\">\r\n      <g>\r\n       <use style=\"stroke:#000000;stroke-width:0.8;\" x=\"530.955448\" xlink:href=\"#m9fad7024d7\" y=\"424.109429\"/>\r\n      </g>\r\n     </g>\r\n    </g>\r\n    <g id=\"xtick_22\">\r\n     <g id=\"line2d_32\">\r\n      <g>\r\n       <use style=\"stroke:#000000;stroke-width:0.8;\" x=\"642.853844\" xlink:href=\"#m9fad7024d7\" y=\"424.109429\"/>\r\n      </g>\r\n     </g>\r\n    </g>\r\n    <g id=\"xtick_23\">\r\n     <g id=\"line2d_33\">\r\n      <g>\r\n       <use style=\"stroke:#000000;stroke-width:0.8;\" x=\"754.752239\" xlink:href=\"#m9fad7024d7\" y=\"424.109429\"/>\r\n      </g>\r\n     </g>\r\n    </g>\r\n    <g id=\"xtick_24\">\r\n     <g id=\"line2d_34\">\r\n      <g>\r\n       <use style=\"stroke:#000000;stroke-width:0.8;\" x=\"866.650635\" xlink:href=\"#m9fad7024d7\" y=\"424.109429\"/>\r\n      </g>\r\n     </g>\r\n    </g>\r\n   </g>\r\n   <g id=\"matplotlib.axis_6\">\r\n    <g id=\"ytick_9\">\r\n     <g id=\"line2d_35\">\r\n      <g>\r\n       <use style=\"stroke:#000000;stroke-width:0.8;\" x=\"56.50625\" xlink:href=\"#m5a65a7c186\" y=\"403.751455\"/>\r\n      </g>\r\n     </g>\r\n     <g id=\"text_13\">\r\n      <!-- 0.125 -->\r\n      <g transform=\"translate(20.878125 407.550674)scale(0.1 -0.1)\">\r\n       <use xlink:href=\"#DejaVuSans-48\"/>\r\n       <use x=\"63.623047\" xlink:href=\"#DejaVuSans-46\"/>\r\n       <use x=\"95.410156\" xlink:href=\"#DejaVuSans-49\"/>\r\n       <use x=\"159.033203\" xlink:href=\"#DejaVuSans-50\"/>\r\n       <use x=\"222.65625\" xlink:href=\"#DejaVuSans-53\"/>\r\n      </g>\r\n     </g>\r\n    </g>\r\n    <g id=\"ytick_10\">\r\n     <g id=\"line2d_36\">\r\n      <g>\r\n       <use style=\"stroke:#000000;stroke-width:0.8;\" x=\"56.50625\" xlink:href=\"#m5a65a7c186\" y=\"377.632245\"/>\r\n      </g>\r\n     </g>\r\n     <g id=\"text_14\">\r\n      <!-- 0.150 -->\r\n      <g transform=\"translate(20.878125 381.431463)scale(0.1 -0.1)\">\r\n       <use xlink:href=\"#DejaVuSans-48\"/>\r\n       <use x=\"63.623047\" xlink:href=\"#DejaVuSans-46\"/>\r\n       <use x=\"95.410156\" xlink:href=\"#DejaVuSans-49\"/>\r\n       <use x=\"159.033203\" xlink:href=\"#DejaVuSans-53\"/>\r\n       <use x=\"222.65625\" xlink:href=\"#DejaVuSans-48\"/>\r\n      </g>\r\n     </g>\r\n    </g>\r\n    <g id=\"ytick_11\">\r\n     <g id=\"line2d_37\">\r\n      <g>\r\n       <use style=\"stroke:#000000;stroke-width:0.8;\" x=\"56.50625\" xlink:href=\"#m5a65a7c186\" y=\"351.513034\"/>\r\n      </g>\r\n     </g>\r\n     <g id=\"text_15\">\r\n      <!-- 0.175 -->\r\n      <g transform=\"translate(20.878125 355.312253)scale(0.1 -0.1)\">\r\n       <use xlink:href=\"#DejaVuSans-48\"/>\r\n       <use x=\"63.623047\" xlink:href=\"#DejaVuSans-46\"/>\r\n       <use x=\"95.410156\" xlink:href=\"#DejaVuSans-49\"/>\r\n       <use x=\"159.033203\" xlink:href=\"#DejaVuSans-55\"/>\r\n       <use x=\"222.65625\" xlink:href=\"#DejaVuSans-53\"/>\r\n      </g>\r\n     </g>\r\n    </g>\r\n    <g id=\"ytick_12\">\r\n     <g id=\"line2d_38\">\r\n      <g>\r\n       <use style=\"stroke:#000000;stroke-width:0.8;\" x=\"56.50625\" xlink:href=\"#m5a65a7c186\" y=\"325.393823\"/>\r\n      </g>\r\n     </g>\r\n     <g id=\"text_16\">\r\n      <!-- 0.200 -->\r\n      <g transform=\"translate(20.878125 329.193042)scale(0.1 -0.1)\">\r\n       <use xlink:href=\"#DejaVuSans-48\"/>\r\n       <use x=\"63.623047\" xlink:href=\"#DejaVuSans-46\"/>\r\n       <use x=\"95.410156\" xlink:href=\"#DejaVuSans-50\"/>\r\n       <use x=\"159.033203\" xlink:href=\"#DejaVuSans-48\"/>\r\n       <use x=\"222.65625\" xlink:href=\"#DejaVuSans-48\"/>\r\n      </g>\r\n     </g>\r\n    </g>\r\n    <g id=\"text_17\">\r\n     <!-- Precision -->\r\n     <defs>\r\n      <path d=\"M 19.671875 64.796875 \r\nL 19.671875 37.40625 \r\nL 32.078125 37.40625 \r\nQ 38.96875 37.40625 42.71875 40.96875 \r\nQ 46.484375 44.53125 46.484375 51.125 \r\nQ 46.484375 57.671875 42.71875 61.234375 \r\nQ 38.96875 64.796875 32.078125 64.796875 \r\nz\r\nM 9.8125 72.90625 \r\nL 32.078125 72.90625 \r\nQ 44.34375 72.90625 50.609375 67.359375 \r\nQ 56.890625 61.8125 56.890625 51.125 \r\nQ 56.890625 40.328125 50.609375 34.8125 \r\nQ 44.34375 29.296875 32.078125 29.296875 \r\nL 19.671875 29.296875 \r\nL 19.671875 0 \r\nL 9.8125 0 \r\nz\r\n\" id=\"DejaVuSans-80\"/>\r\n     </defs>\r\n     <g transform=\"translate(14.798438 387.52716)rotate(-90)scale(0.1 -0.1)\">\r\n      <use xlink:href=\"#DejaVuSans-80\"/>\r\n      <use x=\"60.287109\" xlink:href=\"#DejaVuSans-114\"/>\r\n      <use x=\"101.369141\" xlink:href=\"#DejaVuSans-101\"/>\r\n      <use x=\"162.892578\" xlink:href=\"#DejaVuSans-99\"/>\r\n      <use x=\"217.873047\" xlink:href=\"#DejaVuSans-105\"/>\r\n      <use x=\"245.65625\" xlink:href=\"#DejaVuSans-115\"/>\r\n      <use x=\"297.755859\" xlink:href=\"#DejaVuSans-105\"/>\r\n      <use x=\"325.539062\" xlink:href=\"#DejaVuSans-111\"/>\r\n      <use x=\"386.720703\" xlink:href=\"#DejaVuSans-110\"/>\r\n     </g>\r\n    </g>\r\n   </g>\r\n   <g id=\"line2d_39\">\r\n    <path clip-path=\"url(#pc0ef737c9f)\" d=\"M 94.551705 325.393823 \r\nL 116.931384 311.307058 \r\nL 139.311063 329.2995 \r\nL 161.690742 356.169947 \r\nL 184.070421 364.925602 \r\nL 206.4501 385.978028 \r\nL 228.829779 390.835362 \r\nL 251.209459 393.601503 \r\nL 273.589138 395.388161 \r\nL 295.968817 400.656762 \r\nL 318.348496 405.540442 \r\nL 340.728175 407.850883 \r\nL 363.107854 411.165205 \r\nL 385.487533 413.279923 \r\nL 407.867213 414.818918 \r\nL 430.246892 416.811061 \r\nL 452.626571 416.811061 \r\nL 475.00625 417.782436 \r\nL 497.385929 417.782436 \r\nL 519.765608 418.737888 \r\nL 542.145287 418.737888 \r\nL 564.524967 418.737888 \r\nL 586.904646 418.737888 \r\nL 609.284325 418.737888 \r\nL 631.664004 418.737888 \r\nL 654.043683 418.737888 \r\nL 676.423362 418.737888 \r\nL 698.803041 418.737888 \r\nL 721.182721 418.737888 \r\nL 743.5624 418.737888 \r\nL 765.942079 418.737888 \r\nL 788.321758 418.737888 \r\nL 810.701437 418.737888 \r\nL 833.081116 418.737888 \r\nL 855.460795 418.737888 \r\n\" style=\"fill:none;stroke:#1f77b4;stroke-linecap:square;stroke-width:1.5;\"/>\r\n   </g>\r\n   <g id=\"patch_13\">\r\n    <path d=\"M 56.50625 424.109429 \r\nL 56.50625 305.935516 \r\n\" style=\"fill:none;stroke:#000000;stroke-linecap:square;stroke-linejoin:miter;stroke-width:0.8;\"/>\r\n   </g>\r\n   <g id=\"patch_14\">\r\n    <path d=\"M 893.50625 424.109429 \r\nL 893.50625 305.935516 \r\n\" style=\"fill:none;stroke:#000000;stroke-linecap:square;stroke-linejoin:miter;stroke-width:0.8;\"/>\r\n   </g>\r\n   <g id=\"patch_15\">\r\n    <path d=\"M 56.50625 424.109429 \r\nL 893.50625 424.109429 \r\n\" style=\"fill:none;stroke:#000000;stroke-linecap:square;stroke-linejoin:miter;stroke-width:0.8;\"/>\r\n   </g>\r\n   <g id=\"patch_16\">\r\n    <path d=\"M 56.50625 305.935516 \r\nL 893.50625 305.935516 \r\n\" style=\"fill:none;stroke:#000000;stroke-linecap:square;stroke-linejoin:miter;stroke-width:0.8;\"/>\r\n   </g>\r\n   <g id=\"text_18\">\r\n    <!-- Precision vs Number of Latent Features -->\r\n    <g transform=\"translate(356.432188 299.935516)scale(0.12 -0.12)\">\r\n     <use xlink:href=\"#DejaVuSans-80\"/>\r\n     <use x=\"60.287109\" xlink:href=\"#DejaVuSans-114\"/>\r\n     <use x=\"101.369141\" xlink:href=\"#DejaVuSans-101\"/>\r\n     <use x=\"162.892578\" xlink:href=\"#DejaVuSans-99\"/>\r\n     <use x=\"217.873047\" xlink:href=\"#DejaVuSans-105\"/>\r\n     <use x=\"245.65625\" xlink:href=\"#DejaVuSans-115\"/>\r\n     <use x=\"297.755859\" xlink:href=\"#DejaVuSans-105\"/>\r\n     <use x=\"325.539062\" xlink:href=\"#DejaVuSans-111\"/>\r\n     <use x=\"386.720703\" xlink:href=\"#DejaVuSans-110\"/>\r\n     <use x=\"450.099609\" xlink:href=\"#DejaVuSans-32\"/>\r\n     <use x=\"481.886719\" xlink:href=\"#DejaVuSans-118\"/>\r\n     <use x=\"541.066406\" xlink:href=\"#DejaVuSans-115\"/>\r\n     <use x=\"593.166016\" xlink:href=\"#DejaVuSans-32\"/>\r\n     <use x=\"624.953125\" xlink:href=\"#DejaVuSans-78\"/>\r\n     <use x=\"699.757812\" xlink:href=\"#DejaVuSans-117\"/>\r\n     <use x=\"763.136719\" xlink:href=\"#DejaVuSans-109\"/>\r\n     <use x=\"860.548828\" xlink:href=\"#DejaVuSans-98\"/>\r\n     <use x=\"924.025391\" xlink:href=\"#DejaVuSans-101\"/>\r\n     <use x=\"985.548828\" xlink:href=\"#DejaVuSans-114\"/>\r\n     <use x=\"1026.662109\" xlink:href=\"#DejaVuSans-32\"/>\r\n     <use x=\"1058.449219\" xlink:href=\"#DejaVuSans-111\"/>\r\n     <use x=\"1119.630859\" xlink:href=\"#DejaVuSans-102\"/>\r\n     <use x=\"1154.835938\" xlink:href=\"#DejaVuSans-32\"/>\r\n     <use x=\"1186.623047\" xlink:href=\"#DejaVuSans-76\"/>\r\n     <use x=\"1242.335938\" xlink:href=\"#DejaVuSans-97\"/>\r\n     <use x=\"1303.615234\" xlink:href=\"#DejaVuSans-116\"/>\r\n     <use x=\"1342.824219\" xlink:href=\"#DejaVuSans-101\"/>\r\n     <use x=\"1404.347656\" xlink:href=\"#DejaVuSans-110\"/>\r\n     <use x=\"1467.726562\" xlink:href=\"#DejaVuSans-116\"/>\r\n     <use x=\"1506.935547\" xlink:href=\"#DejaVuSans-32\"/>\r\n     <use x=\"1538.722656\" xlink:href=\"#DejaVuSans-70\"/>\r\n     <use x=\"1596.164062\" xlink:href=\"#DejaVuSans-101\"/>\r\n     <use x=\"1657.6875\" xlink:href=\"#DejaVuSans-97\"/>\r\n     <use x=\"1718.966797\" xlink:href=\"#DejaVuSans-116\"/>\r\n     <use x=\"1758.175781\" xlink:href=\"#DejaVuSans-117\"/>\r\n     <use x=\"1821.554688\" xlink:href=\"#DejaVuSans-114\"/>\r\n     <use x=\"1862.636719\" xlink:href=\"#DejaVuSans-101\"/>\r\n     <use x=\"1924.160156\" xlink:href=\"#DejaVuSans-115\"/>\r\n    </g>\r\n   </g>\r\n  </g>\r\n  <g id=\"axes_4\">\r\n   <g id=\"patch_17\">\r\n    <path d=\"M 56.50625 565.918125 \r\nL 893.50625 565.918125 \r\nL 893.50625 447.744212 \r\nL 56.50625 447.744212 \r\nz\r\n\" style=\"fill:#ffffff;\"/>\r\n   </g>\r\n   <g id=\"matplotlib.axis_7\">\r\n    <g id=\"xtick_25\">\r\n     <g id=\"line2d_40\">\r\n      <g>\r\n       <use style=\"stroke:#000000;stroke-width:0.8;\" x=\"83.361865\" xlink:href=\"#m9fad7024d7\" y=\"565.918125\"/>\r\n      </g>\r\n     </g>\r\n     <g id=\"text_19\">\r\n      <!-- 0 -->\r\n      <g transform=\"translate(80.180615 580.516563)scale(0.1 -0.1)\">\r\n       <use xlink:href=\"#DejaVuSans-48\"/>\r\n      </g>\r\n     </g>\r\n    </g>\r\n    <g id=\"xtick_26\">\r\n     <g id=\"line2d_41\">\r\n      <g>\r\n       <use style=\"stroke:#000000;stroke-width:0.8;\" x=\"195.260261\" xlink:href=\"#m9fad7024d7\" y=\"565.918125\"/>\r\n      </g>\r\n     </g>\r\n     <g id=\"text_20\">\r\n      <!-- 100 -->\r\n      <g transform=\"translate(185.716511 580.516563)scale(0.1 -0.1)\">\r\n       <use xlink:href=\"#DejaVuSans-49\"/>\r\n       <use x=\"63.623047\" xlink:href=\"#DejaVuSans-48\"/>\r\n       <use x=\"127.246094\" xlink:href=\"#DejaVuSans-48\"/>\r\n      </g>\r\n     </g>\r\n    </g>\r\n    <g id=\"xtick_27\">\r\n     <g id=\"line2d_42\">\r\n      <g>\r\n       <use style=\"stroke:#000000;stroke-width:0.8;\" x=\"307.158656\" xlink:href=\"#m9fad7024d7\" y=\"565.918125\"/>\r\n      </g>\r\n     </g>\r\n     <g id=\"text_21\">\r\n      <!-- 200 -->\r\n      <g transform=\"translate(297.614906 580.516563)scale(0.1 -0.1)\">\r\n       <use xlink:href=\"#DejaVuSans-50\"/>\r\n       <use x=\"63.623047\" xlink:href=\"#DejaVuSans-48\"/>\r\n       <use x=\"127.246094\" xlink:href=\"#DejaVuSans-48\"/>\r\n      </g>\r\n     </g>\r\n    </g>\r\n    <g id=\"xtick_28\">\r\n     <g id=\"line2d_43\">\r\n      <g>\r\n       <use style=\"stroke:#000000;stroke-width:0.8;\" x=\"419.057052\" xlink:href=\"#m9fad7024d7\" y=\"565.918125\"/>\r\n      </g>\r\n     </g>\r\n     <g id=\"text_22\">\r\n      <!-- 300 -->\r\n      <defs>\r\n       <path d=\"M 40.578125 39.3125 \r\nQ 47.65625 37.796875 51.625 33 \r\nQ 55.609375 28.21875 55.609375 21.1875 \r\nQ 55.609375 10.40625 48.1875 4.484375 \r\nQ 40.765625 -1.421875 27.09375 -1.421875 \r\nQ 22.515625 -1.421875 17.65625 -0.515625 \r\nQ 12.796875 0.390625 7.625 2.203125 \r\nL 7.625 11.71875 \r\nQ 11.71875 9.328125 16.59375 8.109375 \r\nQ 21.484375 6.890625 26.8125 6.890625 \r\nQ 36.078125 6.890625 40.9375 10.546875 \r\nQ 45.796875 14.203125 45.796875 21.1875 \r\nQ 45.796875 27.640625 41.28125 31.265625 \r\nQ 36.765625 34.90625 28.71875 34.90625 \r\nL 20.21875 34.90625 \r\nL 20.21875 43.015625 \r\nL 29.109375 43.015625 \r\nQ 36.375 43.015625 40.234375 45.921875 \r\nQ 44.09375 48.828125 44.09375 54.296875 \r\nQ 44.09375 59.90625 40.109375 62.90625 \r\nQ 36.140625 65.921875 28.71875 65.921875 \r\nQ 24.65625 65.921875 20.015625 65.03125 \r\nQ 15.375 64.15625 9.8125 62.3125 \r\nL 9.8125 71.09375 \r\nQ 15.4375 72.65625 20.34375 73.4375 \r\nQ 25.25 74.21875 29.59375 74.21875 \r\nQ 40.828125 74.21875 47.359375 69.109375 \r\nQ 53.90625 64.015625 53.90625 55.328125 \r\nQ 53.90625 49.265625 50.4375 45.09375 \r\nQ 46.96875 40.921875 40.578125 39.3125 \r\nz\r\n\" id=\"DejaVuSans-51\"/>\r\n      </defs>\r\n      <g transform=\"translate(409.513302 580.516563)scale(0.1 -0.1)\">\r\n       <use xlink:href=\"#DejaVuSans-51\"/>\r\n       <use x=\"63.623047\" xlink:href=\"#DejaVuSans-48\"/>\r\n       <use x=\"127.246094\" xlink:href=\"#DejaVuSans-48\"/>\r\n      </g>\r\n     </g>\r\n    </g>\r\n    <g id=\"xtick_29\">\r\n     <g id=\"line2d_44\">\r\n      <g>\r\n       <use style=\"stroke:#000000;stroke-width:0.8;\" x=\"530.955448\" xlink:href=\"#m9fad7024d7\" y=\"565.918125\"/>\r\n      </g>\r\n     </g>\r\n     <g id=\"text_23\">\r\n      <!-- 400 -->\r\n      <defs>\r\n       <path d=\"M 37.796875 64.3125 \r\nL 12.890625 25.390625 \r\nL 37.796875 25.390625 \r\nz\r\nM 35.203125 72.90625 \r\nL 47.609375 72.90625 \r\nL 47.609375 25.390625 \r\nL 58.015625 25.390625 \r\nL 58.015625 17.1875 \r\nL 47.609375 17.1875 \r\nL 47.609375 0 \r\nL 37.796875 0 \r\nL 37.796875 17.1875 \r\nL 4.890625 17.1875 \r\nL 4.890625 26.703125 \r\nz\r\n\" id=\"DejaVuSans-52\"/>\r\n      </defs>\r\n      <g transform=\"translate(521.411698 580.516563)scale(0.1 -0.1)\">\r\n       <use xlink:href=\"#DejaVuSans-52\"/>\r\n       <use x=\"63.623047\" xlink:href=\"#DejaVuSans-48\"/>\r\n       <use x=\"127.246094\" xlink:href=\"#DejaVuSans-48\"/>\r\n      </g>\r\n     </g>\r\n    </g>\r\n    <g id=\"xtick_30\">\r\n     <g id=\"line2d_45\">\r\n      <g>\r\n       <use style=\"stroke:#000000;stroke-width:0.8;\" x=\"642.853844\" xlink:href=\"#m9fad7024d7\" y=\"565.918125\"/>\r\n      </g>\r\n     </g>\r\n     <g id=\"text_24\">\r\n      <!-- 500 -->\r\n      <g transform=\"translate(633.310094 580.516563)scale(0.1 -0.1)\">\r\n       <use xlink:href=\"#DejaVuSans-53\"/>\r\n       <use x=\"63.623047\" xlink:href=\"#DejaVuSans-48\"/>\r\n       <use x=\"127.246094\" xlink:href=\"#DejaVuSans-48\"/>\r\n      </g>\r\n     </g>\r\n    </g>\r\n    <g id=\"xtick_31\">\r\n     <g id=\"line2d_46\">\r\n      <g>\r\n       <use style=\"stroke:#000000;stroke-width:0.8;\" x=\"754.752239\" xlink:href=\"#m9fad7024d7\" y=\"565.918125\"/>\r\n      </g>\r\n     </g>\r\n     <g id=\"text_25\">\r\n      <!-- 600 -->\r\n      <g transform=\"translate(745.208489 580.516563)scale(0.1 -0.1)\">\r\n       <use xlink:href=\"#DejaVuSans-54\"/>\r\n       <use x=\"63.623047\" xlink:href=\"#DejaVuSans-48\"/>\r\n       <use x=\"127.246094\" xlink:href=\"#DejaVuSans-48\"/>\r\n      </g>\r\n     </g>\r\n    </g>\r\n    <g id=\"xtick_32\">\r\n     <g id=\"line2d_47\">\r\n      <g>\r\n       <use style=\"stroke:#000000;stroke-width:0.8;\" x=\"866.650635\" xlink:href=\"#m9fad7024d7\" y=\"565.918125\"/>\r\n      </g>\r\n     </g>\r\n     <g id=\"text_26\">\r\n      <!-- 700 -->\r\n      <g transform=\"translate(857.106885 580.516563)scale(0.1 -0.1)\">\r\n       <use xlink:href=\"#DejaVuSans-55\"/>\r\n       <use x=\"63.623047\" xlink:href=\"#DejaVuSans-48\"/>\r\n       <use x=\"127.246094\" xlink:href=\"#DejaVuSans-48\"/>\r\n      </g>\r\n     </g>\r\n    </g>\r\n    <g id=\"text_27\">\r\n     <!-- Number of Latent Features -->\r\n     <g transform=\"translate(407.441406 594.194688)scale(0.1 -0.1)\">\r\n      <use xlink:href=\"#DejaVuSans-78\"/>\r\n      <use x=\"74.804688\" xlink:href=\"#DejaVuSans-117\"/>\r\n      <use x=\"138.183594\" xlink:href=\"#DejaVuSans-109\"/>\r\n      <use x=\"235.595703\" xlink:href=\"#DejaVuSans-98\"/>\r\n      <use x=\"299.072266\" xlink:href=\"#DejaVuSans-101\"/>\r\n      <use x=\"360.595703\" xlink:href=\"#DejaVuSans-114\"/>\r\n      <use x=\"401.708984\" xlink:href=\"#DejaVuSans-32\"/>\r\n      <use x=\"433.496094\" xlink:href=\"#DejaVuSans-111\"/>\r\n      <use x=\"494.677734\" xlink:href=\"#DejaVuSans-102\"/>\r\n      <use x=\"529.882812\" xlink:href=\"#DejaVuSans-32\"/>\r\n      <use x=\"561.669922\" xlink:href=\"#DejaVuSans-76\"/>\r\n      <use x=\"617.382812\" xlink:href=\"#DejaVuSans-97\"/>\r\n      <use x=\"678.662109\" xlink:href=\"#DejaVuSans-116\"/>\r\n      <use x=\"717.871094\" xlink:href=\"#DejaVuSans-101\"/>\r\n      <use x=\"779.394531\" xlink:href=\"#DejaVuSans-110\"/>\r\n      <use x=\"842.773438\" xlink:href=\"#DejaVuSans-116\"/>\r\n      <use x=\"881.982422\" xlink:href=\"#DejaVuSans-32\"/>\r\n      <use x=\"913.769531\" xlink:href=\"#DejaVuSans-70\"/>\r\n      <use x=\"971.210938\" xlink:href=\"#DejaVuSans-101\"/>\r\n      <use x=\"1032.734375\" xlink:href=\"#DejaVuSans-97\"/>\r\n      <use x=\"1094.013672\" xlink:href=\"#DejaVuSans-116\"/>\r\n      <use x=\"1133.222656\" xlink:href=\"#DejaVuSans-117\"/>\r\n      <use x=\"1196.601562\" xlink:href=\"#DejaVuSans-114\"/>\r\n      <use x=\"1237.683594\" xlink:href=\"#DejaVuSans-101\"/>\r\n      <use x=\"1299.207031\" xlink:href=\"#DejaVuSans-115\"/>\r\n     </g>\r\n    </g>\r\n   </g>\r\n   <g id=\"matplotlib.axis_8\">\r\n    <g id=\"ytick_13\">\r\n     <g id=\"line2d_48\">\r\n      <g>\r\n       <use style=\"stroke:#000000;stroke-width:0.8;\" x=\"56.50625\" xlink:href=\"#m5a65a7c186\" y=\"541.082645\"/>\r\n      </g>\r\n     </g>\r\n     <g id=\"text_28\">\r\n      <!-- 0.06 -->\r\n      <g transform=\"translate(27.240625 544.881864)scale(0.1 -0.1)\">\r\n       <use xlink:href=\"#DejaVuSans-48\"/>\r\n       <use x=\"63.623047\" xlink:href=\"#DejaVuSans-46\"/>\r\n       <use x=\"95.410156\" xlink:href=\"#DejaVuSans-48\"/>\r\n       <use x=\"159.033203\" xlink:href=\"#DejaVuSans-54\"/>\r\n      </g>\r\n     </g>\r\n    </g>\r\n    <g id=\"ytick_14\">\r\n     <g id=\"line2d_49\">\r\n      <g>\r\n       <use style=\"stroke:#000000;stroke-width:0.8;\" x=\"56.50625\" xlink:href=\"#m5a65a7c186\" y=\"513.529797\"/>\r\n      </g>\r\n     </g>\r\n     <g id=\"text_29\">\r\n      <!-- 0.08 -->\r\n      <defs>\r\n       <path d=\"M 31.78125 34.625 \r\nQ 24.75 34.625 20.71875 30.859375 \r\nQ 16.703125 27.09375 16.703125 20.515625 \r\nQ 16.703125 13.921875 20.71875 10.15625 \r\nQ 24.75 6.390625 31.78125 6.390625 \r\nQ 38.8125 6.390625 42.859375 10.171875 \r\nQ 46.921875 13.96875 46.921875 20.515625 \r\nQ 46.921875 27.09375 42.890625 30.859375 \r\nQ 38.875 34.625 31.78125 34.625 \r\nz\r\nM 21.921875 38.8125 \r\nQ 15.578125 40.375 12.03125 44.71875 \r\nQ 8.5 49.078125 8.5 55.328125 \r\nQ 8.5 64.0625 14.71875 69.140625 \r\nQ 20.953125 74.21875 31.78125 74.21875 \r\nQ 42.671875 74.21875 48.875 69.140625 \r\nQ 55.078125 64.0625 55.078125 55.328125 \r\nQ 55.078125 49.078125 51.53125 44.71875 \r\nQ 48 40.375 41.703125 38.8125 \r\nQ 48.828125 37.15625 52.796875 32.3125 \r\nQ 56.78125 27.484375 56.78125 20.515625 \r\nQ 56.78125 9.90625 50.3125 4.234375 \r\nQ 43.84375 -1.421875 31.78125 -1.421875 \r\nQ 19.734375 -1.421875 13.25 4.234375 \r\nQ 6.78125 9.90625 6.78125 20.515625 \r\nQ 6.78125 27.484375 10.78125 32.3125 \r\nQ 14.796875 37.15625 21.921875 38.8125 \r\nz\r\nM 18.3125 54.390625 \r\nQ 18.3125 48.734375 21.84375 45.5625 \r\nQ 25.390625 42.390625 31.78125 42.390625 \r\nQ 38.140625 42.390625 41.71875 45.5625 \r\nQ 45.3125 48.734375 45.3125 54.390625 \r\nQ 45.3125 60.0625 41.71875 63.234375 \r\nQ 38.140625 66.40625 31.78125 66.40625 \r\nQ 25.390625 66.40625 21.84375 63.234375 \r\nQ 18.3125 60.0625 18.3125 54.390625 \r\nz\r\n\" id=\"DejaVuSans-56\"/>\r\n      </defs>\r\n      <g transform=\"translate(27.240625 517.329015)scale(0.1 -0.1)\">\r\n       <use xlink:href=\"#DejaVuSans-48\"/>\r\n       <use x=\"63.623047\" xlink:href=\"#DejaVuSans-46\"/>\r\n       <use x=\"95.410156\" xlink:href=\"#DejaVuSans-48\"/>\r\n       <use x=\"159.033203\" xlink:href=\"#DejaVuSans-56\"/>\r\n      </g>\r\n     </g>\r\n    </g>\r\n    <g id=\"ytick_15\">\r\n     <g id=\"line2d_50\">\r\n      <g>\r\n       <use style=\"stroke:#000000;stroke-width:0.8;\" x=\"56.50625\" xlink:href=\"#m5a65a7c186\" y=\"485.976949\"/>\r\n      </g>\r\n     </g>\r\n     <g id=\"text_30\">\r\n      <!-- 0.10 -->\r\n      <g transform=\"translate(27.240625 489.776167)scale(0.1 -0.1)\">\r\n       <use xlink:href=\"#DejaVuSans-48\"/>\r\n       <use x=\"63.623047\" xlink:href=\"#DejaVuSans-46\"/>\r\n       <use x=\"95.410156\" xlink:href=\"#DejaVuSans-49\"/>\r\n       <use x=\"159.033203\" xlink:href=\"#DejaVuSans-48\"/>\r\n      </g>\r\n     </g>\r\n    </g>\r\n    <g id=\"ytick_16\">\r\n     <g id=\"line2d_51\">\r\n      <g>\r\n       <use style=\"stroke:#000000;stroke-width:0.8;\" x=\"56.50625\" xlink:href=\"#m5a65a7c186\" y=\"458.4241\"/>\r\n      </g>\r\n     </g>\r\n     <g id=\"text_31\">\r\n      <!-- 0.12 -->\r\n      <g transform=\"translate(27.240625 462.223319)scale(0.1 -0.1)\">\r\n       <use xlink:href=\"#DejaVuSans-48\"/>\r\n       <use x=\"63.623047\" xlink:href=\"#DejaVuSans-46\"/>\r\n       <use x=\"95.410156\" xlink:href=\"#DejaVuSans-49\"/>\r\n       <use x=\"159.033203\" xlink:href=\"#DejaVuSans-50\"/>\r\n      </g>\r\n     </g>\r\n    </g>\r\n    <g id=\"text_32\">\r\n     <!-- Recall -->\r\n     <defs>\r\n      <path d=\"M 9.421875 75.984375 \r\nL 18.40625 75.984375 \r\nL 18.40625 0 \r\nL 9.421875 0 \r\nz\r\n\" id=\"DejaVuSans-108\"/>\r\n     </defs>\r\n     <g transform=\"translate(21.160938 521.970231)rotate(-90)scale(0.1 -0.1)\">\r\n      <use xlink:href=\"#DejaVuSans-82\"/>\r\n      <use x=\"69.419922\" xlink:href=\"#DejaVuSans-101\"/>\r\n      <use x=\"130.943359\" xlink:href=\"#DejaVuSans-99\"/>\r\n      <use x=\"185.923828\" xlink:href=\"#DejaVuSans-97\"/>\r\n      <use x=\"247.203125\" xlink:href=\"#DejaVuSans-108\"/>\r\n      <use x=\"274.986328\" xlink:href=\"#DejaVuSans-108\"/>\r\n     </g>\r\n    </g>\r\n   </g>\r\n   <g id=\"line2d_52\">\r\n    <path clip-path=\"url(#pe079ca7c6a)\" d=\"M 94.551705 560.546583 \r\nL 116.931384 503.671438 \r\nL 139.311063 491.032517 \r\nL 161.690742 484.713056 \r\nL 184.070421 472.074135 \r\nL 206.4501 472.074135 \r\nL 228.829779 465.754675 \r\nL 251.209459 459.435214 \r\nL 273.589138 453.115753 \r\nL 295.968817 453.115753 \r\nL 318.348496 453.115753 \r\nL 340.728175 453.115753 \r\nL 363.107854 453.115753 \r\nL 385.487533 453.115753 \r\nL 407.867213 453.115753 \r\nL 430.246892 453.115753 \r\nL 452.626571 453.115753 \r\nL 475.00625 453.115753 \r\nL 497.385929 453.115753 \r\nL 519.765608 453.115753 \r\nL 542.145287 453.115753 \r\nL 564.524967 453.115753 \r\nL 586.904646 453.115753 \r\nL 609.284325 453.115753 \r\nL 631.664004 453.115753 \r\nL 654.043683 453.115753 \r\nL 676.423362 453.115753 \r\nL 698.803041 453.115753 \r\nL 721.182721 453.115753 \r\nL 743.5624 453.115753 \r\nL 765.942079 453.115753 \r\nL 788.321758 453.115753 \r\nL 810.701437 453.115753 \r\nL 833.081116 453.115753 \r\nL 855.460795 453.115753 \r\n\" style=\"fill:none;stroke:#1f77b4;stroke-linecap:square;stroke-width:1.5;\"/>\r\n   </g>\r\n   <g id=\"patch_18\">\r\n    <path d=\"M 56.50625 565.918125 \r\nL 56.50625 447.744212 \r\n\" style=\"fill:none;stroke:#000000;stroke-linecap:square;stroke-linejoin:miter;stroke-width:0.8;\"/>\r\n   </g>\r\n   <g id=\"patch_19\">\r\n    <path d=\"M 893.50625 565.918125 \r\nL 893.50625 447.744212 \r\n\" style=\"fill:none;stroke:#000000;stroke-linecap:square;stroke-linejoin:miter;stroke-width:0.8;\"/>\r\n   </g>\r\n   <g id=\"patch_20\">\r\n    <path d=\"M 56.50625 565.918125 \r\nL 893.50625 565.918125 \r\n\" style=\"fill:none;stroke:#000000;stroke-linecap:square;stroke-linejoin:miter;stroke-width:0.8;\"/>\r\n   </g>\r\n   <g id=\"patch_21\">\r\n    <path d=\"M 56.50625 447.744212 \r\nL 893.50625 447.744212 \r\n\" style=\"fill:none;stroke:#000000;stroke-linecap:square;stroke-linejoin:miter;stroke-width:0.8;\"/>\r\n   </g>\r\n   <g id=\"text_33\">\r\n    <!-- Recall vs Number of Latent Features -->\r\n    <g transform=\"translate(365.270938 441.744212)scale(0.12 -0.12)\">\r\n     <use xlink:href=\"#DejaVuSans-82\"/>\r\n     <use x=\"69.419922\" xlink:href=\"#DejaVuSans-101\"/>\r\n     <use x=\"130.943359\" xlink:href=\"#DejaVuSans-99\"/>\r\n     <use x=\"185.923828\" xlink:href=\"#DejaVuSans-97\"/>\r\n     <use x=\"247.203125\" xlink:href=\"#DejaVuSans-108\"/>\r\n     <use x=\"274.986328\" xlink:href=\"#DejaVuSans-108\"/>\r\n     <use x=\"302.769531\" xlink:href=\"#DejaVuSans-32\"/>\r\n     <use x=\"334.556641\" xlink:href=\"#DejaVuSans-118\"/>\r\n     <use x=\"393.736328\" xlink:href=\"#DejaVuSans-115\"/>\r\n     <use x=\"445.835938\" xlink:href=\"#DejaVuSans-32\"/>\r\n     <use x=\"477.623047\" xlink:href=\"#DejaVuSans-78\"/>\r\n     <use x=\"552.427734\" xlink:href=\"#DejaVuSans-117\"/>\r\n     <use x=\"615.806641\" xlink:href=\"#DejaVuSans-109\"/>\r\n     <use x=\"713.21875\" xlink:href=\"#DejaVuSans-98\"/>\r\n     <use x=\"776.695312\" xlink:href=\"#DejaVuSans-101\"/>\r\n     <use x=\"838.21875\" xlink:href=\"#DejaVuSans-114\"/>\r\n     <use x=\"879.332031\" xlink:href=\"#DejaVuSans-32\"/>\r\n     <use x=\"911.119141\" xlink:href=\"#DejaVuSans-111\"/>\r\n     <use x=\"972.300781\" xlink:href=\"#DejaVuSans-102\"/>\r\n     <use x=\"1007.505859\" xlink:href=\"#DejaVuSans-32\"/>\r\n     <use x=\"1039.292969\" xlink:href=\"#DejaVuSans-76\"/>\r\n     <use x=\"1095.005859\" xlink:href=\"#DejaVuSans-97\"/>\r\n     <use x=\"1156.285156\" xlink:href=\"#DejaVuSans-116\"/>\r\n     <use x=\"1195.494141\" xlink:href=\"#DejaVuSans-101\"/>\r\n     <use x=\"1257.017578\" xlink:href=\"#DejaVuSans-110\"/>\r\n     <use x=\"1320.396484\" xlink:href=\"#DejaVuSans-116\"/>\r\n     <use x=\"1359.605469\" xlink:href=\"#DejaVuSans-32\"/>\r\n     <use x=\"1391.392578\" xlink:href=\"#DejaVuSans-70\"/>\r\n     <use x=\"1448.833984\" xlink:href=\"#DejaVuSans-101\"/>\r\n     <use x=\"1510.357422\" xlink:href=\"#DejaVuSans-97\"/>\r\n     <use x=\"1571.636719\" xlink:href=\"#DejaVuSans-116\"/>\r\n     <use x=\"1610.845703\" xlink:href=\"#DejaVuSans-117\"/>\r\n     <use x=\"1674.224609\" xlink:href=\"#DejaVuSans-114\"/>\r\n     <use x=\"1715.306641\" xlink:href=\"#DejaVuSans-101\"/>\r\n     <use x=\"1776.830078\" xlink:href=\"#DejaVuSans-115\"/>\r\n    </g>\r\n   </g>\r\n  </g>\r\n </g>\r\n <defs>\r\n  <clipPath id=\"pbb9ed209f0\">\r\n   <rect height=\"118.173913\" width=\"837\" x=\"56.50625\" y=\"22.318125\"/>\r\n  </clipPath>\r\n  <clipPath id=\"pa11dc92205\">\r\n   <rect height=\"118.173913\" width=\"837\" x=\"56.50625\" y=\"164.126821\"/>\r\n  </clipPath>\r\n  <clipPath id=\"pc0ef737c9f\">\r\n   <rect height=\"118.173913\" width=\"837\" x=\"56.50625\" y=\"305.935516\"/>\r\n  </clipPath>\r\n  <clipPath id=\"pe079ca7c6a\">\r\n   <rect height=\"118.173913\" width=\"837\" x=\"56.50625\" y=\"447.744212\"/>\r\n  </clipPath>\r\n </defs>\r\n</svg>\r\n",
      "text/plain": "<Figure size 1080x720 with 4 Axes>"
     },
     "metadata": {
      "needs_background": "light"
     },
     "output_type": "display_data"
    }
   ],
   "source": [
    "sum_errs = []\n",
    "num_recs = []\n",
    "precisions = []\n",
    "recalls = []\n",
    "\n",
    "for k in num_latent_feats:\n",
    "    recompose, err = factorized_matrix_recomposition(\n",
    "        u_train[train_in_test], \n",
    "        s_train, \n",
    "        vt_train[:, train_col_in_test], \n",
    "        user_item_test[test_in_train].sort_index(), \n",
    "        k=k)\n",
    "    sum_errs.append(err)\n",
    "    num_recs.append(recompose.sum())\n",
    "    \n",
    "    # precision\n",
    "    # number of TPs predicted correctly\n",
    "    tp = ((recompose == 1) & (user_item_test[test_in_train].values == 1)).sum()\n",
    "    # number of positives predicted\n",
    "    positives_predicted = recompose.sum()\n",
    "    precision = tp / positives_predicted\n",
    "    \n",
    "    precisions.append(precision)\n",
    "    \n",
    "    # recall\n",
    "    # total number of TPs\n",
    "    all_tp = (user_item_test[test_in_train].values == 1).sum()\n",
    "    recall = tp / all_tp\n",
    "\n",
    "    recalls.append(recall)\n",
    "    \n",
    "# plot\n",
    "fig, ax = plt.subplots(4, 1, figsize=(15, 10), sharex=True)\n",
    "ax[0].plot(num_latent_feats, 1 - np.array(sum_errs) / recompose.size)\n",
    "ax[1].plot(num_latent_feats, num_recs)\n",
    "ax[2].plot(num_latent_feats, precisions)\n",
    "ax[3].plot(num_latent_feats, recalls)\n",
    "\n",
    "ax[0].set_ylabel('Accuracy')\n",
    "ax[1].set_ylabel('Num Recommendations')\n",
    "ax[0].set_title('Accuracy vs. Number of Latent Features')\n",
    "ax[1].set_title('Num Recommendations Made vs Number of Latent Features')\n",
    "ax[2].set_title('Precision vs Number of Latent Features')\n",
    "ax[2].set_ylabel('Precision')\n",
    "ax[3].set_title('Recall vs Number of Latent Features')\n",
    "ax[3].set_ylabel('Recall')\n",
    "_ = plt.xlabel('Number of Latent Features')"
   ]
  },
  {
   "cell_type": "markdown",
   "metadata": {},
   "source": [
    "The charts above reveal the truth of our model - even though accuracy is very high, > 95%, we do a very poor job of capturing the correct article recommendations. <br>\n",
    "Precision peaks at slightly over 20% with 50 latent features. What this means is that at our best with 50 latent features, only 20% of our predicted positives are true positives. <br>\n",
    "Recall peaks at around 12% with 170 latent features. What this means is that with 170 latent features we only capture 12% of all the true positives. <br>\n",
    "Things don't look so rosy for our matrix factorization!"
   ]
  },
  {
   "cell_type": "markdown",
   "metadata": {
    "collapsed": true
   },
   "source": [
    "`6.` Use the cell below to comment on the results you found in the previous question. Given the circumstances of your results, discuss what you might do to determine if the recommendations you make with any of the above recommendation systems are an improvement to how users currently find articles? "
   ]
  },
  {
   "cell_type": "markdown",
   "metadata": {},
   "source": [
    "For a detailed discussion of previous questions concerning matrix factorization, see above. <br><br>\n",
    "In this project we built several different types of recommendation systems and were able to successfully generate recommendations for users using these systems. <br>\n",
    "The next step to improve recommendations would be to compare and contrast how the recommendation systems work on split train and test data. However, rather than splitting the behavior data in defined chunks, it would make more sense to randomly split into train and test groups to increase the probability of users appearing in both groups. <p>\n",
    "After analyzing the results of the various recommendations systems using accuracy, recall, and precision, amongst other pertinent factors such as ease of deployment, etc., you might choose to combine several systems into one. \n",
    "For example the clustered-article Multi-Armed Bandit can help tackle the problem of cold users by recommending a diverse range of popular content, while also tackling the problem of cold articles by extracting text features from the article and clustering it with similar articles for recommendation. <br> However, you might choose to switch over to a collaborative type recommendation system or matrix factorization system once enough data has been accrued on new users/articles. For example, you might recommend content to users who have read >= 4 articles using a collaborative system, while employing the Bandit for users who have read less. <p>\n",
    "Additionally, you might consider using other data points as ranking for articles instead of number of user interactions, such as publication date, trending popularity, etc. <p>\n",
    "The last step would be to deploy your recommendation system(s) to users in stages in an A/B setup to determine if your system is causing article read rates to increase as you hoped."
   ]
  },
  {
   "cell_type": "code",
   "execution_count": 114,
   "metadata": {},
   "outputs": [
    {
     "data": {
      "text/plain": "0"
     },
     "execution_count": 114,
     "metadata": {},
     "output_type": "execute_result"
    }
   ],
   "source": [
    "from subprocess import call\n",
    "call(['python', '-m', 'nbconvert', 'Recommendations_with_IBM.ipynb'])"
   ]
  },
  {
   "cell_type": "code",
   "execution_count": null,
   "metadata": {},
   "outputs": [],
   "source": []
  }
 ],
 "metadata": {
  "kernelspec": {
   "display_name": "Python 3",
   "language": "python",
   "name": "python3"
  },
  "language_info": {
   "codemirror_mode": {
    "name": "ipython",
    "version": 3
   },
   "file_extension": ".py",
   "mimetype": "text/x-python",
   "name": "python",
   "nbconvert_exporter": "python",
   "pygments_lexer": "ipython3",
   "version": "3.7.1-final"
  }
 },
 "nbformat": 4,
 "nbformat_minor": 2
}